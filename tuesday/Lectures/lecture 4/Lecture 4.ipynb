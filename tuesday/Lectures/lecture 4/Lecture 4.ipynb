{
 "cells": [
  {
   "cell_type": "markdown",
   "metadata": {
    "slideshow": {
     "slide_type": "slide"
    }
   },
   "source": [
    "# Text Clustering\n",
    "&nbsp;\n",
    "\n",
    "\n",
    "Ayoub Bagheri, <a.bagheri@uu.nl>  \n",
    "\n",
    "\n",
    "<img src=\"img/uu_logo.png\" style=\"float: right;\" width=\"100\" height=\"100\">\n"
   ]
  },
  {
   "cell_type": "markdown",
   "metadata": {
    "slideshow": {
     "slide_type": "slide"
    }
   },
   "source": [
    "## Lecture’s Plan\n",
    "&nbsp;\n",
    "\n",
    "1. What is text clustering?\n",
    "2. What are the applications?\n",
    "3. How to cluster text data?\n"
   ]
  },
  {
   "cell_type": "markdown",
   "metadata": {
    "slideshow": {
     "slide_type": "slide"
    }
   },
   "source": [
    "## Unsupervised learning\n",
    "&nbsp;\n",
    "\n",
    "<img src=\"img/page 3.png\">\n",
    "\n"
   ]
  },
  {
   "cell_type": "markdown",
   "metadata": {
    "slideshow": {
     "slide_type": "slide"
    }
   },
   "source": [
    "## Clustering v.s. Classification\n",
    "&nbsp;\n",
    "\n",
    "<img src=\"img/page 4.png\">"
   ]
  },
  {
   "cell_type": "markdown",
   "metadata": {
    "slideshow": {
     "slide_type": "slide"
    }
   },
   "source": [
    "## Clustering\n",
    "&nbsp;\n",
    "\n",
    "- Discover “natural structure” of data\n",
    "    - What is the criterion? \n",
    "    - How to identify them?\n",
    "    - How to evaluate the results?\n",
    "    \n",
    "<img src=\"img/page 5.png\">\n"
   ]
  },
  {
   "cell_type": "markdown",
   "metadata": {
    "slideshow": {
     "slide_type": "slide"
    }
   },
   "source": [
    "## Clustering\n",
    "&nbsp;\n",
    "\n",
    "- Clustering - the process of grouping a set of objects into clusters of similar objects\n",
    "    - Basic criteria\n",
    "        - high intra-cluster similarity\n",
    "        - low inter-cluster similarity\n",
    "    - No (little) supervision signal about the underlying clustering structure\n",
    "    - Need similarity/distance as guidance to form clusters\n"
   ]
  },
  {
   "cell_type": "markdown",
   "metadata": {
    "slideshow": {
     "slide_type": "slide"
    }
   },
   "source": [
    "## Applications of text clustering\n",
    "&nbsp;\n",
    "\n",
    "<div style=\"float:left;width:50%\">\n",
    "    <ul>\n",
    "        <li>Organize document collections</li>\n",
    "        <ul><li>Automatically identify hierarchical/topical relation among documents</li></ul>\n",
    "    </ul>\n",
    "</div>\n",
    "<div style=\"float:right;width:50%\">\n",
    "    <img src=\"img/page 7.png\">\n",
    "</div>"
   ]
  },
  {
   "cell_type": "markdown",
   "metadata": {
    "slideshow": {
     "slide_type": "slide"
    }
   },
   "source": [
    "## Applications of text clustering\n",
    "&nbsp;\n",
    "\n",
    "<div style=\"float:left;width:50%\">\n",
    "    <ul>\n",
    "        <li>Grouping search results</li>\n",
    "        <ul>\n",
    "            <li>Organize documents by topics</li>\n",
    "            <li>Facilitate user browsing</li>\n",
    "        </ul>\n",
    "    </ul>\n",
    "</div>\n",
    "<div style=\"float:right;width:50%\">\n",
    "    <img src=\"img/page 8.png\">\n",
    "</div>"
   ]
  },
  {
   "cell_type": "markdown",
   "metadata": {
    "slideshow": {
     "slide_type": "slide"
    }
   },
   "source": [
    "## Applications of text clustering\n",
    "&nbsp;\n",
    "\n",
    "- Topic modeling\n",
    "    - Grouping words into topics\n",
    "\n",
    "<img src=\"img/page 9.png\">"
   ]
  },
  {
   "cell_type": "markdown",
   "metadata": {
    "slideshow": {
     "slide_type": "slide"
    }
   },
   "source": [
    "# Distance metric"
   ]
  },
  {
   "cell_type": "markdown",
   "metadata": {
    "slideshow": {
     "slide_type": "slide"
    }
   },
   "source": [
    "## Distance metric\n",
    "&nbsp;\n",
    "\n",
    "- Basic properties\n",
    "  \n",
    "  - Positive separation\n",
    "$$𝐷(x,y)>0, \\forall x \\neq y$$\n",
    "$$𝐷(x,y)=0, \\mathrm{i.f.f.}, x=y$$\n",
    "\n",
    "  - Symmetry \n",
    "$$𝐷(x,y)=𝐷(y,x)$$\n",
    "\n",
    "  - Triangle inequality\n",
    "$$𝐷(x,y)≤𝐷(x,z)+𝐷(z,y)$$"
   ]
  },
  {
   "cell_type": "markdown",
   "metadata": {
    "slideshow": {
     "slide_type": "slide"
    }
   },
   "source": [
    "## Typical distance metric\n",
    "&nbsp;\n",
    "\n",
    "- Minkowski metric\n",
    "\n",
    "  - $d(x,y) = \\sqrt[p]{\\sum^V_{i=1}{(x_i-y_i)^p}}$\n",
    "    \n",
    "    - When $p=2$, it is <span style=\"color:red\">Euclidean distance</span>\n",
    "\n",
    "- Cosine metric\n",
    "\n",
    "  - $𝑑(x,y)=1−cosine(x,y)$\n",
    "\n",
    "    - when $|x|^2=|y|^2=1$, $1−cosine(x,y)=\\frac{r^2}{2}$"
   ]
  },
  {
   "cell_type": "markdown",
   "metadata": {
    "slideshow": {
     "slide_type": "slide"
    }
   },
   "source": [
    "## Typical distance metric\n",
    "&nbsp;\n",
    "\n",
    "- Edit distance\n",
    "  \n",
    "  - Count the minimum number of operations required to transform one string into the other\n",
    "    \n",
    "    - Possible operations: insertion, deletion and replacement\n",
    "\n",
    "<div style=\"float:left; width:70%\">\n",
    "    <img src=\"img/page 13.png\" width=\"500\">\n",
    "</div>\n",
    "<div style=\"float:right; width:30%\">\n",
    "    <br> <br> <br> <br> \n",
    "    <p style=\"color:red\">&larr; Can be efficiently solved by dynamic programming\n",
    "    </p>\n",
    "</div>"
   ]
  },
  {
   "cell_type": "markdown",
   "metadata": {
    "slideshow": {
     "slide_type": "slide"
    }
   },
   "source": [
    "## Typical distance metric\n",
    "&nbsp;\n",
    "\n",
    "- Edit distance\n",
    "\n",
    "  - Count the minimum number of operations required to transform one string into the other\n",
    "    \n",
    "    - Possible operations: insertion, deletion and replacement\n",
    "  \n",
    "  - Extent to distance between sentences\n",
    "    \n",
    "    - Word similarity as cost of replacement\n",
    "      \n",
    "      - “terrible” -> “bad”: low cost <span style=\"color:red\">&rarr; Lexicon or distributional semantics</span>\n",
    "      \n",
    "      - “terrible” -> “terrific”: high cost <span style=\"color:red\">&rarr; Lexicon or distributional semantics</span>\n",
    "    \n",
    "    - Preserving word order in distance computation"
   ]
  },
  {
   "cell_type": "markdown",
   "metadata": {
    "slideshow": {
     "slide_type": "slide"
    }
   },
   "source": [
    "# Clustering algorithms"
   ]
  },
  {
   "cell_type": "markdown",
   "metadata": {
    "slideshow": {
     "slide_type": "slide"
    }
   },
   "source": [
    "## Clustering algorithms\n",
    "&nbsp;\n",
    "\n",
    "1. Partitional clustering algorithms\n",
    "    - Partition the instances into different groups\n",
    "    - Flat structure\n",
    "        - Need to specify the number of classes in advance\n"
   ]
  },
  {
   "cell_type": "markdown",
   "metadata": {
    "slideshow": {
     "slide_type": "slide"
    }
   },
   "source": [
    "## Clustering algorithms\n",
    "&nbsp;\n",
    "\n",
    "<ol start=\"2\">\n",
    "  <li>Hierarchical clustering algorithms</li>\n",
    "  <ul>\n",
    "    <li>Create a hierarchical decomposition of objects</li>\n",
    "    <li>Rich internal structure</li>\n",
    "    <ul>\n",
    "      <li>No need to specify the number of clusters</li>\n",
    "      <li>Can be used to organize objects</li>\n",
    "    </ul>\n",
    "  </ul>\n",
    "</ol>"
   ]
  },
  {
   "cell_type": "markdown",
   "metadata": {
    "slideshow": {
     "slide_type": "slide"
    }
   },
   "source": [
    "## Clustering algorithms\n",
    "&nbsp;\n",
    "\n",
    "<ol start=\"3\">\n",
    "  <li>Topic modeling</li>\n",
    "  <ul>\n",
    "    <li>Topic models are a suite of algorithms that uncover the hidden thematic structure in document collections. These algorithms help us develop new ways to search, browse and summarize large archives of texts.</li>\n",
    "    <li>We want to find themes (or topics) in documents</li>\n",
    "    <li>We don’t want to do supervised topic classification – rather not fix topics in advance nor do manual annotation </li>\n",
    "    <li>Need an approach which automatically teases out the topics</li>\n",
    "    <li>This is essentially a clustering problem - can think of both words and documents as being clustered</li>\n",
    "  </ul>\n",
    "</ol>\n"
   ]
  },
  {
   "cell_type": "markdown",
   "metadata": {
    "slideshow": {
     "slide_type": "slide"
    }
   },
   "source": [
    "## Hard vs. soft clustering\n",
    "&nbsp;\n",
    "\n",
    "- Hard clustering: Each document belongs to exactly one cluster\n",
    "    - More common and easier to do\n",
    "- Soft clustering: A document can belong to more than one cluster.\n",
    "    - Makes more sense for applications like creating browsable hierarchies\n",
    "    - You may want to put a pair of sneakers in two clusters: (i) sports apparel and (ii) shoes\n",
    "    - You can only do that with a soft clustering approach.\n"
   ]
  },
  {
   "cell_type": "markdown",
   "metadata": {
    "slideshow": {
     "slide_type": "slide"
    }
   },
   "source": [
    "# Partitioning clustering"
   ]
  },
  {
   "cell_type": "markdown",
   "metadata": {
    "slideshow": {
     "slide_type": "slide"
    }
   },
   "source": [
    "## Partitioning Algorithms\n",
    "&nbsp;\n",
    "\n",
    "- Partitioning method: Construct a partition of <span style=\"color:blue\">$n$</span> documents into a set of <span style=\"color:blue\">$K$</span> clusters\n",
    "- Given: a set of documents and the number <span style=\"color:blue\">$K$</span> \n",
    "- Find: a partition of <span style=\"color:blue\">$K$</span> clusters that optimizes the chosen partitioning criterion\n",
    "\n",
    "  - Globally optimal\n",
    "    - Intractable for many objective functions\n",
    "    - Ergo, exhaustively enumerate all partitions\n",
    "  \n",
    "  - Effective heuristic methods: <em>K</em>-means and <em>K</em>-medoids algorithms"
   ]
  },
  {
   "cell_type": "markdown",
   "metadata": {
    "slideshow": {
     "slide_type": "slide"
    }
   },
   "source": [
    "## Partitioning Algorithms\n",
    "&nbsp;\n",
    "\n",
    "- Typical partitional clustering algorithms\n",
    "  \n",
    "  - <em>k</em>-means clustering\n",
    "    \n",
    "    - Partition data by its closest mean\n",
    "    \n",
    "<img src=\"img/page 22.png\" width=\"500\">"
   ]
  },
  {
   "cell_type": "markdown",
   "metadata": {
    "slideshow": {
     "slide_type": "slide"
    }
   },
   "source": [
    "## Partitioning Algorithms\n",
    "&nbsp;\n",
    "\n",
    "<div style=\"float:left;width:70%\">\n",
    "\n",
    "<ul>\n",
    "    <li>Typical partitional clustering algorithms</li>\n",
    "    <ul>\n",
    "        <li><em>k</em>-means clustering</li>\n",
    "        <ul><li>Partition data by its closest mean</li></ul>\n",
    "        <li>Gaussian Mixture Model</li>\n",
    "        <ul><li>Consider variance within the cluster as well</li></ul>\n",
    "\n",
    "</div>\n",
    "<div style=\"float:right;width:30%\">\n",
    "    <img src=\"img/page 23.png\">\n",
    "</div>"
   ]
  },
  {
   "cell_type": "markdown",
   "metadata": {
    "slideshow": {
     "slide_type": "slide"
    }
   },
   "source": [
    "## <em>K</em>-Means\n",
    "&nbsp;\n",
    "\n",
    "- Assumes documents are real-valued vectors.\n",
    "\n",
    "- Clusters based on <span style=\"font-style:italic;color:red\">centroids</span> (aka the <span style=\"font-style:italic;color:red\">center of gravity</span> or mean) of points in a cluster, $c$:\n",
    "\n",
    "$$\\vec \\mu(c)=\\frac{1}{|c|}\\sum_{\\vec a \\in c}{\\vec x}$$\n",
    "\n",
    "- Reassignment of instances to clusters is based on distance to the current cluster centroids.\n",
    "  \n",
    "  - (Or one can equivalently phrase it in terms of similarities)\n"
   ]
  },
  {
   "cell_type": "markdown",
   "metadata": {
    "slideshow": {
     "slide_type": "slide"
    }
   },
   "source": [
    "## K-Means Algorithm\n",
    "&nbsp;\n",
    "\n",
    "- Select $K$ random docs $\\{s_1, s_2,… s_K\\}$ as seeds.\n",
    "- Until clustering converges (or other stopping criterion):\n",
    "  \n",
    "  - For each doc $d_i$: <br>\n",
    "   \n",
    "    - Assign $d_i$ to the cluster $c_j$ such that $dist(x_i, s_j)$ is minimal.\n",
    "  \n",
    "  - <span style=\"color:DarkCyan\">(Next, update the seeds to the centroid of each cluster)</span>\n",
    "  \n",
    "  - For each cluster $c_j$\n",
    "    - $s_j = \\mu(c_j)$"
   ]
  },
  {
   "cell_type": "markdown",
   "metadata": {
    "slideshow": {
     "slide_type": "slide"
    }
   },
   "source": [
    "## K Means Example (K=2)\n",
    "&nbsp;\n",
    "\n",
    "<img src=\"img/page 26_1.png\">"
   ]
  },
  {
   "cell_type": "markdown",
   "metadata": {
    "slideshow": {
     "slide_type": "subslide"
    }
   },
   "source": [
    "## K Means Example (K=2)\n",
    "&nbsp;\n",
    "\n",
    "<img src=\"img/page 26_2.png\">"
   ]
  },
  {
   "cell_type": "markdown",
   "metadata": {
    "slideshow": {
     "slide_type": "subslide"
    }
   },
   "source": [
    "## K Means Example (K=2)\n",
    "&nbsp;\n",
    "\n",
    "<img src=\"img/page 26_3.png\">"
   ]
  },
  {
   "cell_type": "markdown",
   "metadata": {
    "slideshow": {
     "slide_type": "subslide"
    }
   },
   "source": [
    "## K Means Example (K=2)\n",
    "&nbsp;\n",
    "\n",
    "<img src=\"img/page 26_4.png\">"
   ]
  },
  {
   "cell_type": "markdown",
   "metadata": {
    "slideshow": {
     "slide_type": "subslide"
    }
   },
   "source": [
    "## K Means Example (K=2)\n",
    "&nbsp;\n",
    "\n",
    "<img src=\"img/page 26_5.png\">"
   ]
  },
  {
   "cell_type": "markdown",
   "metadata": {
    "slideshow": {
     "slide_type": "subslide"
    }
   },
   "source": [
    "## K Means Example (K=2)\n",
    "&nbsp;\n",
    "\n",
    "<img src=\"img/page 26_6.png\">"
   ]
  },
  {
   "cell_type": "markdown",
   "metadata": {
    "slideshow": {
     "slide_type": "subslide"
    }
   },
   "source": [
    "## K Means Example (K=2)\n",
    "&nbsp;\n",
    "\n",
    "<img src=\"img/page 26_7.png\">"
   ]
  },
  {
   "cell_type": "markdown",
   "metadata": {
    "slideshow": {
     "slide_type": "subslide"
    }
   },
   "source": [
    "## K Means Example (K=2)\n",
    "&nbsp;\n",
    "\n",
    "<img src=\"img/page 26_8.png\">"
   ]
  },
  {
   "cell_type": "markdown",
   "metadata": {
    "slideshow": {
     "slide_type": "slide"
    }
   },
   "source": [
    "## Termination conditions\n",
    "&nbsp;\n",
    "\n",
    "- Several possibilities, e.g.,\n",
    "  \n",
    "  - A fixed number of iterations.\n",
    "\n",
    "  - Doc partition unchanged.\n",
    "\n",
    "  - Centroid positions don’t change.\n"
   ]
  },
  {
   "cell_type": "markdown",
   "metadata": {
    "slideshow": {
     "slide_type": "slide"
    }
   },
   "source": [
    "## Convergence\n",
    "&nbsp;\n",
    "\n",
    "- Why should the <em>K</em>-means algorithm ever reach a <em>fixed point</em>?\n",
    "\n",
    "  - A state in which clusters don’t change.\n",
    "\n",
    "- <em>K</em>-means is a special case of a general procedure known as the <em>Expectation Maximization (EM) algorithm</em>.\n",
    "\n",
    "  - EM is known to converge.\n",
    "\n",
    "  - Number of iterations could be large.\n",
    "    \n",
    "    - But in practice usually isn’t"
   ]
  },
  {
   "cell_type": "markdown",
   "metadata": {
    "slideshow": {
     "slide_type": "slide"
    }
   },
   "source": [
    "## Seed Choice\n",
    "&nbsp;\n",
    "\n",
    "- Results can vary based on random seed selection.\n",
    "\n",
    "- Some seeds can result in poor convergence rate, or convergence to sub-optimal clusterings.\n",
    "  \n",
    "  - Select good seeds using a heuristic (e.g., doc least similar to any existing mean)\n",
    "  \n",
    "  - <span style=\"color:blue\">Try out multiple starting points</em>\n",
    "  \n",
    "  - Initialize with the results of another method."
   ]
  },
  {
   "cell_type": "markdown",
   "metadata": {
    "slideshow": {
     "slide_type": "slide"
    }
   },
   "source": [
    "## <em>K</em>-means issues, variations, etc.\n",
    "&nbsp;\n",
    "\n",
    "- Recomputing the centroid after every assignment (rather than after all points are re-assigned) can improve speed of convergence of <em>K</em>-means\n",
    "\n",
    "- Assumes clusters are spherical in vector space\n",
    "  \n",
    "  - Sensitive to coordinate changes, weighting etc. \n",
    "\n",
    "- Disjoint and exhaustive\n",
    "  \n",
    "  - Doesn’t have a notion of “outliers” by default\n",
    "  \n",
    "  - But can add outlier filtering"
   ]
  },
  {
   "cell_type": "markdown",
   "metadata": {
    "slideshow": {
     "slide_type": "slide"
    }
   },
   "source": [
    "## MBK\n",
    "&nbsp;"
   ]
  },
  {
   "cell_type": "markdown",
   "metadata": {
    "slideshow": {
     "slide_type": "slide"
    }
   },
   "source": [
    "## DBScan\n",
    "&nbsp;"
   ]
  },
  {
   "cell_type": "markdown",
   "metadata": {
    "slideshow": {
     "slide_type": "slide"
    }
   },
   "source": [
    "# Hierarchical clustering"
   ]
  },
  {
   "cell_type": "markdown",
   "metadata": {
    "slideshow": {
     "slide_type": "slide"
    }
   },
   "source": [
    "## Dendrogram: Hierarchical Clustering\n",
    "&nbsp;\n",
    "\n",
    "- Build a tree-based hierarchical taxonomy (<em>dendrogram</em>) from a set of documents.\n",
    "\n",
    "<center><img src=\"img/page 34.png\"></center>\n",
    "\n",
    "- One approach: recursive application of a partitional clustering algorithm."
   ]
  },
  {
   "cell_type": "markdown",
   "metadata": {
    "slideshow": {
     "slide_type": "slide"
    }
   },
   "source": [
    "## Dendrogram: Hierarchical Clustering\n",
    "&nbsp;\n",
    "\n",
    "<div style=\"float:left;width:50%\">\n",
    "- Clustering obtained by cutting the dendrogram at a desired level: each <b>connected</b> component forms a cluster.\n",
    "</div>\n",
    "<div style=\"float:right;width:50%\">\n",
    "<img src=\"img/page 35.png\">\n",
    "</div>"
   ]
  },
  {
   "cell_type": "markdown",
   "metadata": {
    "slideshow": {
     "slide_type": "slide"
    }
   },
   "source": [
    "## Clustering algorithms\n",
    "&nbsp;\n",
    "\n",
    "- Typical hierarchical clustering algorithms\n",
    "  \n",
    "  - Bottom-up agglomerative clustering\n",
    "    \n",
    "    - Start with individual objects as separated clusters\n",
    "    - Repeatedly merge closest pair of clusters   \n",
    "    \n",
    "<img src=\"img/page 36.png\" width=\"700\">"
   ]
  },
  {
   "cell_type": "markdown",
   "metadata": {
    "slideshow": {
     "slide_type": "slide"
    }
   },
   "source": [
    "## Clustering algorithms\n",
    "&nbsp;\n",
    "\n",
    "- Typical hierarchical clustering algorithms\n",
    "  \n",
    "  - Top-down divisive clustering\n",
    "    \n",
    "    - Start with all data as one cluster\n",
    "    \n",
    "    - Repeatedly splitting the remaining clusters into two\n",
    "\n",
    "<img src=\"img/page 37.png\" width=\"500\">"
   ]
  },
  {
   "cell_type": "markdown",
   "metadata": {
    "slideshow": {
     "slide_type": "slide"
    }
   },
   "source": [
    "## Hierarchical Agglomerative Clustering (HAC)\n",
    "&nbsp;\n",
    "\n",
    "- Starts with each doc in a separate cluster\n",
    "  \n",
    "  - then repeatedly joins the <em><u>closest pair</u></em> of clusters, until there is only one cluster.\n",
    "\n",
    "- The history of merging forms a binary tree or hierarchy."
   ]
  },
  {
   "cell_type": "markdown",
   "metadata": {
    "slideshow": {
     "slide_type": "slide"
    }
   },
   "source": [
    "## Closest pair of clusters\n",
    "&nbsp;\n",
    "\n",
    "- Many variants to defining closest pair of clusters\n",
    "  \n",
    "  - <b>Single-link</b>\n",
    "    - Similarity of the <em>most</em> cosine-similar (single-link)\n",
    "\n",
    "  - <b>Complete-link</b>\n",
    "    - Similarity of the “furthest” points, the <em>least</em> cosine-similar\n",
    "\n",
    "  - <b>Centroid</b>\n",
    "    - Clusters whose centroids (centers of gravity) are the most cosine-similar\n",
    "\n",
    "  - <b>Average-link</b>\n",
    "    - Average cosine between pairs of elements"
   ]
  },
  {
   "cell_type": "markdown",
   "metadata": {
    "slideshow": {
     "slide_type": "slide"
    }
   },
   "source": [
    "## Single Link Agglomerative Clustering\n",
    "&nbsp;\n",
    "\n",
    "- Use maximum similarity of pairs:\n",
    "\n",
    "$$sim(c_i, c_j) = \\max_{x \\in c_i, y\\in c_j}{sim(x,y)}$$\n",
    "\n",
    "- Can result in “straggly” (long and thin) clusters due to chaining effect.\n",
    "\n",
    "- After merging $c_i$ and $c_j$, the similarity of the resulting cluster to another cluster, $c_k$, is:\n",
    "\n",
    "$$sim((c_i \\cup c_j), c_k) = max(sim(c_i, c_k), sim(c_j, c_k))$$"
   ]
  },
  {
   "cell_type": "markdown",
   "metadata": {
    "slideshow": {
     "slide_type": "slide"
    }
   },
   "source": [
    "## Complete Link\n",
    "&nbsp;\n",
    "\n",
    "- Use minimum similarity of pairs:\n",
    "\n",
    "$$sim(c_i, c_j) = \\min_{x \\in c_i, y\\in c_j}{sim(x,y)}$$\n",
    "\n",
    "- Makes “tighter,” spherical clusters that are typically preferable.\n",
    "\n",
    "- After merging $c_i$ and $c_j$, the similarity of the resulting cluster to another cluster, $c_k$, is:\n",
    "\n",
    "$$sim((c_i \\cup c_j), c_k) = min(sim(c_i, c_k), sim(c_j, c_k))$$\n",
    "\n",
    "<img src=\"img/page 41.png\" width=\"700\">"
   ]
  },
  {
   "cell_type": "markdown",
   "metadata": {
    "slideshow": {
     "slide_type": "slide"
    }
   },
   "source": [
    "# Matrix Factorization"
   ]
  },
  {
   "cell_type": "markdown",
   "metadata": {
    "slideshow": {
     "slide_type": "slide"
    }
   },
   "source": [
    "## Dimensionality Reduction and Matrix Factorization\n",
    "&nbsp;\n",
    "\n",
    "$$D \\approx UV^T$$\n",
    "\n",
    "Maximize similarity between entries of $D$ and $UV^T$\n",
    "\n",
    "&nbsp; &nbsp; &nbsp; subject to:\n",
    "    \n",
    "&nbsp; &nbsp; &nbsp; Constraints on $U$ and $V$"
   ]
  },
  {
   "cell_type": "markdown",
   "metadata": {
    "slideshow": {
     "slide_type": "slide"
    }
   },
   "source": [
    "## Singular Value Decomposition\n",
    "&nbsp;\n",
    "\n",
    "<img src=\"img/page 44.png\">"
   ]
  },
  {
   "cell_type": "markdown",
   "metadata": {
    "slideshow": {
     "slide_type": "slide"
    }
   },
   "source": [
    "## Example SVD\n",
    "lexicon: lion, tiger, cheetah, jaguar, porsche, ferrari\n",
    "\n",
    "$$\n",
    "D = \\begin{pmatrix}\n",
    "    & \\text{lion} & \\text{tiger} & \\text{cheetah} & \\text{jaguar} & \\text{porsche} & \\text{ferrari} \\\\\n",
    "   \\text{Document-1} & 2 & 2 & 1 & 2 & 0 & 0 \\\\\n",
    "   \\text{Document-2} & 2 & 3 & 3 & 3 & 0 & 0 \\\\\n",
    "   \\text{Document-3} & 1 & 1 & 1 & 1 & 0 & 0 \\\\\n",
    "   \\text{Document-4} & 2 & 2 & 2 & 3 & 1 & 1 \\\\\n",
    "   \\text{Document-5} & 0 & 0 & 0 & 1 & 1 & 1 \\\\\n",
    "   \\text{Document-6} & 0 & 0 & 0 & 2 & 1 & 2\n",
    "  \\end{pmatrix}\n",
    "$$"
   ]
  },
  {
   "cell_type": "markdown",
   "metadata": {
    "slideshow": {
     "slide_type": "subslide"
    }
   },
   "source": [
    "## Example SVD\n",
    "&nbsp;\n",
    "\n",
    "$$\n",
    "\\begin{align}\n",
    "    D &\\approx Q\\Sigma P^T \\\\\n",
    "    &\\approx \\begin{pmatrix}\n",
    "                -0.41 & 0.17 \\\\\n",
    "                -0.65 & 0.31 \\\\\n",
    "                -0.23 & 0.13 \\\\\n",
    "                -0.56 & -0.20 \\\\\n",
    "                -0.10 & -0.46 \\\\\n",
    "                -0.19 & -0.78\n",
    "             \\end{pmatrix}\n",
    "             \\begin{pmatrix}\n",
    "                8.4 & 0 \\\\\n",
    "                0 & 3.3\n",
    "             \\end{pmatrix}\n",
    "             \\begin{pmatrix}\n",
    "                -0.41 & -0.49 & -0.44 & -0.61 & -0.10 & -0.12 \\\\\n",
    "                0.21 & 0.31 & 0.26 & -0.37 & -0.44 & -0.68\n",
    "             \\end{pmatrix} \\\\\n",
    "    &= \\begin{pmatrix}\n",
    "           1.55 & 1.87 & 1.67 & 1.91 & 0.10 & 0.04 \\\\\n",
    "           2.46 & 2.98 & 2.66 & 2.95 & 0.10 & -0.03 \\\\\n",
    "           0.89 & 1.08 & 0.96 & 1.04 & 0.01 & -0.04 \\\\\n",
    "           1.81 & 2.11 & 1.91 & 3.14 & 0.77 & 1.03 \\\\\n",
    "           0.02 & -0.05 & -0.02 & 1.06 & 0.74 & 1.11 \\\\\n",
    "           0.10 & -0.02 & 0.04 & 1.89 & 1.28 & 1.92\n",
    "       \\end{pmatrix}\n",
    "\\end{align}\n",
    "$$"
   ]
  },
  {
   "cell_type": "markdown",
   "metadata": {
    "slideshow": {
     "slide_type": "slide"
    }
   },
   "source": [
    "## Advantages and Disadvantages of SVD/LSA\n",
    "&nbsp;\n",
    "\n",
    "1. The orthogonal basis representation of SVD is useful for folding in the reduced representation of new documents not included in the data matrix $D$. For example, if $\\vec X$ is a row vector of a new document, then its reduced representation is givenn by the *k*-dimensional vector $\\vec XV$. This type of out-of-sample embedding is harder (albeit possible) with other forms of matrix factorization.\n",
    "\n",
    "2. The SVD solution provides the same error as <em>unconstrained</em> matrix factorization problem. Since most other forms of dimensionality reductiona are constrained matrix factorization problems, one can typically achieve a lower residual error with SVD at the same value of the rank $k$.\n",
    "\n",
    "\n"
   ]
  },
  {
   "cell_type": "markdown",
   "metadata": {
    "slideshow": {
     "slide_type": "subslide"
    }
   },
   "source": [
    "## Advantages and Disadvantages of SVD/LSA\n",
    "&nbsp;\n",
    "\n",
    "<ol start=\"3\">\n",
    "    <li>The topics of a text collection are often highly overlapping in terms of their vocabulary. As a result, the directions represented by the various topics are naturally not orthogonal, which matches poorly with orthogonal basis vectors. SVD does a poor job at revealing the actual semantic topics (or <em>clusters</em>) in the underlying data. Most forms of nonnegative matrix factorization that do not use orthogonal basis vectors are more adept at representing the clustering structure in the underlying data.</li>\n",
    "    <li>The representation provided by SVD is not very interpretable and it is hard to match with the semantic concepts in the collection. A key part of the problem is that the eigenvectors contain both positive and negative components that are hard to interpret.</li>\n",
    "</ol>        "
   ]
  },
  {
   "cell_type": "markdown",
   "metadata": {
    "slideshow": {
     "slide_type": "slide"
    }
   },
   "source": [
    "## Nonnegative Matrix Factorization\n",
    "&nbsp;\n",
    "\n",
    "**lexicon: lion, tiger, cheetah, jaguar, porsche, ferrari**\n",
    "&nbsp;\n",
    "\n",
    "**Cats**: lion, tiger, cheetah, jaguar\n",
    "\n",
    "**Cars**: japuar, porche, ferrari\n",
    "\n",
    "$$\n",
    "D = \\begin{pmatrix}\n",
    "    & \\text{lion} & \\text{tiger} & \\text{cheetah} & \\text{jaguar} & \\text{porsche} & \\text{ferrari} \\\\\n",
    "   \\text{Document-1} & 2 & 2 & 1 & 2 & 0 & 0 \\\\\n",
    "   \\text{Document-2} & 2 & 3 & 3 & 3 & 0 & 0 \\\\\n",
    "   \\text{Document-3} & 1 & 1 & 1 & 1 & 0 & 0 \\\\\n",
    "   \\text{Document-4} & 2 & 2 & 2 & 3 & 1 & 1 \\\\\n",
    "   \\text{Document-5} & 0 & 0 & 0 & 1 & 1 & 1 \\\\\n",
    "   \\text{Document-6} & 0 & 0 & 0 & 2 & 1 & 2\n",
    "  \\end{pmatrix}\n",
    "$$\n"
   ]
  },
  {
   "cell_type": "markdown",
   "metadata": {
    "slideshow": {
     "slide_type": "slide"
    }
   },
   "source": [
    "## Nonnegative Matrix Factorization\n",
    "&nbsp;\n",
    "\n",
    "<img src=\"img/page 48.png\" width=\"500\">"
   ]
  },
  {
   "cell_type": "markdown",
   "metadata": {
    "slideshow": {
     "slide_type": "slide"
    }
   },
   "source": [
    "## Nonnegative Matrix Factorization\n",
    "&nbsp;\n",
    "\n",
    "<img src=\"img/page 49.png\" width=\"700\">"
   ]
  },
  {
   "cell_type": "markdown",
   "metadata": {
    "slideshow": {
     "slide_type": "slide"
    }
   },
   "source": [
    "## Advantages and Disadvantages of Nonnegative Matrix Factorization\n",
    "&nbsp;\n",
    "\n",
    "1. Nonnegativity enables a highly interpretable decomposition because of ability to represent the factorization as a sum of parts.\n",
    "2. The semantic clusters (or topics) are often captured more accurately by allowing non-orthogonality in the basis vectors. This is because semantic topics are often related.\n",
    "3. Nonnegative matrix factorization can better address polysemy than SVD.\n",
    "4. One disadvantage of nonnegative matrix factorization is that it is harder (than SVD) to compute the reduced representations of documents that were not included in the original data matrix $D$. SVD is able to fold in such documents more easily as a simple projection because of its orthogonal basis system."
   ]
  },
  {
   "cell_type": "markdown",
   "metadata": {
    "slideshow": {
     "slide_type": "slide"
    }
   },
   "source": [
    "## Probabilistic Latent Semantic Analysis\n",
    "&nbsp;\n",
    "\n",
    "<img src=\"img/page 51.png\">"
   ]
  },
  {
   "cell_type": "markdown",
   "metadata": {
    "slideshow": {
     "slide_type": "slide"
    }
   },
   "source": [
    "## Probabilistic Latent Semantic Analysis\n",
    "&nbsp;\n",
    "\n",
    "$$\n",
    "\\begin{align}\n",
    "    \\text{Maximize}_{(P,Q,\\Sigma)}&[\\text{Log likelihood of generating }D \\text{ using parameters in matrices }(P,Q,\\Sigma)] \\\\\n",
    "    &= log(\\prod_{i,j}{P(\\text{Adding one occurnce of term }j \\text{ in document }i)^{D_{ij}}}) \\\\\n",
    "    &= \\sum_{i=1}^n\\sum_{j=1}^d{D_{ij}} \\begin{matrix} \\underbrace{ log(P(\\vec X_i, t_j)) } \\\\ \\text{Parametrized by }P,Q,\\Sigma \\end{matrix} \\\\\n",
    "    &\\text{subject to:} \\\\\n",
    "    &P,Q,\\Sigma \\geq 0 \\\\\n",
    "    &\\text{Entries in each column of } P \\text{ sum to 1} \\\\\n",
    "    &\\text{Entries in each column of } Q \\text{ sum to 1} \\\\\n",
    "    &\\Sigma \\text{ is a diagonal matrix that sums to 1}\n",
    "\\end{align}\n",
    "$$\n",
    "\n",
    "<center><img src=\"img/page 52.png\" width=\"500\"></center>"
   ]
  },
  {
   "cell_type": "markdown",
   "metadata": {
    "slideshow": {
     "slide_type": "slide"
    }
   },
   "source": [
    "## Comparison with SVD\n",
    "&nbsp;\n",
    "\n",
    "<img src=\"img/page 53.png\">"
   ]
  },
  {
   "cell_type": "markdown",
   "metadata": {
    "slideshow": {
     "slide_type": "slide"
    }
   },
   "source": [
    "## Example of PLSA\n",
    "&nbsp;\n",
    "\n",
    "<img src=\"img/page 54.png\">"
   ]
  },
  {
   "cell_type": "markdown",
   "metadata": {
    "slideshow": {
     "slide_type": "slide"
    }
   },
   "source": [
    "# Topic Modeling"
   ]
  },
  {
   "cell_type": "markdown",
   "metadata": {
    "slideshow": {
     "slide_type": "slide"
    }
   },
   "source": [
    "## Topic models\n",
    "&nbsp;\n",
    "\n",
    "<div style=\"float:left;width:60%\">\n",
    "<ul>\n",
    "    <li>Three concepts: words, topics, and documents</li>\n",
    "    <li>Documents are a collection of words and have a probability distribution over topics</li>\n",
    "    <li>Topics have a probability distribution over words</li>\n",
    "    <li>Model:</li>\n",
    "    <ul><li>Topics made up of words used to generate documents</li></ul>\n",
    "</div>\n",
    "<div style=\"float:right;width:40%\">\n",
    "    <img src=\"img/page 56.png\">\n",
    "</div>"
   ]
  },
  {
   "cell_type": "markdown",
   "metadata": {
    "slideshow": {
     "slide_type": "slide"
    }
   },
   "source": [
    "## Topic models (lda or gensim)\n",
    "### Reality: Documents observed, infer  topics\n",
    "&nbsp;\n",
    "\n",
    "<center><img src=\"img/page 57.png\" width=\"500\"></center>"
   ]
  },
  {
   "cell_type": "markdown",
   "metadata": {
    "slideshow": {
     "slide_type": "slide"
    }
   },
   "source": [
    "## Probabilistic modeling\n",
    "&nbsp;\n",
    "\n",
    "1. Treat data as observations that arise from a generative probabilistic process that includes hidden variables: For documents, the hidden variables reflect the thematic structure of the collection.\n",
    "\n",
    "2. Infer the hidden structure using posterior inference: What are the topics that describe this collection?\n",
    "\n",
    "3. Situate new data into the estimated model: How does this query or new document fit into the estimated topic structure?"
   ]
  },
  {
   "cell_type": "markdown",
   "metadata": {
    "slideshow": {
     "slide_type": "slide"
    }
   },
   "source": [
    "<img src=\"img/page 59.png\">"
   ]
  },
  {
   "cell_type": "markdown",
   "metadata": {
    "slideshow": {
     "slide_type": "slide"
    }
   },
   "source": [
    "## Intro to Latent Dirichlet Allocation (LDA)\n",
    "&nbsp;\n",
    "\n",
    "- **What is Latent Dirichlet Allocation (LDA)?**: A generative probabilistic model for collections of discrete data such as text corpora. LDA is a three-level hierarchical Bayesian model, in which each item of a collection is modeled as a finite mixture over an underlying set of latent topics. Each observed word originates from a topic that we do not directly observe. Each topic is, in turn, modeled as an infinite mixture over an underlying set of topic probabilities.\n",
    "\n",
    "- **What is used for?**: The fitted model can be used to estimate the similarity between documents as well as between a set of specified keywords using an additional layer of latent variables which are referred to as topics.\n",
    "\n",
    "- **How is it related to text mining and other machine learning techniques?**: Topic models can be seen as classical text mining or natural language processing tools. Fitting topic models based on data structures from the text mining usually done by considering the problem of modeling text corpora and other collections of discrete data. One of the advantages of LDA over related latent variable models is that it provides well-defined inference procedures for previously unseen documents (LSI uses a singular value decomposition)\n"
   ]
  },
  {
   "cell_type": "markdown",
   "metadata": {
    "slideshow": {
     "slide_type": "subslide"
    }
   },
   "source": [
    "## Intro to Latent Dirichlet Allocation (LDA)\n",
    "&nbsp;\n",
    "\n",
    "<img src=\"img/page 60.png\">"
   ]
  },
  {
   "cell_type": "markdown",
   "metadata": {
    "slideshow": {
     "slide_type": "slide"
    }
   },
   "source": [
    "<img src=\"img/page 61.png\">"
   ]
  },
  {
   "cell_type": "markdown",
   "metadata": {
    "slideshow": {
     "slide_type": "slide"
    }
   },
   "source": [
    "<img src=\"img/page 62.png\">"
   ]
  },
  {
   "cell_type": "markdown",
   "metadata": {
    "slideshow": {
     "slide_type": "slide"
    }
   },
   "source": [
    "## The Dirichlet Distribution\n",
    "&nbsp;\n",
    "\n",
    "<div style=\"float:left; width:40%\">\n",
    "<img src=\"img/page 63_1.png\">\n",
    "</div>\n",
    "\n",
    "<div style=\"float:right; width:60%\">\n",
    "<ol>\n",
    "    <li>The Dirichlet distribution is an exponential family distribution over the simplex, i.e., positive vectors that sum to one</li>\n",
    "\n",
    "$$p(\\theta|\\vec a) = \\frac{\\Gamma(\\sum_i{a_i})}{\\prod_i{\\Gamma(\\alpha_i)}}\\prod_i{\\theta_i^{\\alpha_i - 1}}$$\n",
    "\n",
    "    <li>The Dirichlet is <u>conjugate</u> to the multinomial. Given a multinomial\n",
    "observation, the posterior distribution of $\\theta$ is a Dirichlet.</li>\n",
    "\n",
    "    <li>The parameter $\\alpha$ controls the mean shape and sparsity of $\\theta$. Parameter $\\alpha$ is a k-vector with components $\\alpha_i$ >0  </li>\n",
    "\n",
    "    <li>The topic proportions are a K dimensional Dirichlet. The topics are a V dimensional Dirichlet.</li>\n",
    "</ol>\n",
    "</div>\n"
   ]
  },
  {
   "cell_type": "markdown",
   "metadata": {
    "slideshow": {
     "slide_type": "subslide"
    }
   },
   "source": [
    "<img src=\"img/page 63.png\">"
   ]
  },
  {
   "cell_type": "markdown",
   "metadata": {
    "slideshow": {
     "slide_type": "slide"
    }
   },
   "source": [
    "## Geometric Interpretation of LDA\n",
    "&nbsp;\n",
    "\n",
    "<div style=\"float:left; width:45%\">\n",
    "<img src=\"img/page 64_1.png\">\n",
    "</div>\n",
    "\n",
    "<div style=\"float:right; width:55%\">\n",
    "as we draw random variables from theta, I’m going to get distributions over 3 elements. \n",
    "\n",
    "<br>\n",
    "$\\theta$ ~ Dirichlet(1,1,1) = $\\alpha_1$ = $\\alpha_2$ = $\\alpha_3$ = 1, uniform distribution as an example\n",
    "\n",
    "<img src=\"img/page 64_2.png\" width=\"700\">\n",
    "\n",
    "Dirichlet is parameterized by $\\alpha$, so as $\\alpha$ increases the chart gets more peaky.\n",
    "</div>\n"
   ]
  },
  {
   "cell_type": "markdown",
   "metadata": {
    "slideshow": {
     "slide_type": "subslide"
    }
   },
   "source": [
    "<img src=\"img/page 64.png\">"
   ]
  },
  {
   "cell_type": "markdown",
   "metadata": {
    "slideshow": {
     "slide_type": "slide"
    }
   },
   "source": [
    "## Density Example\n",
    "&nbsp;\n",
    "\n",
    "<div style=\"float:left;width:40%\">\n",
    "<img src=\"img/page 65_1.png\">\n",
    "\n",
    "When $\\alpha < 1 (s < k)$, you get sparsity and on the 3 simplex you get a figure with increased probability at the corners.\n",
    "</div>\n",
    "<div style=\"float:right;width:60%\">\n",
    "<span style=\"font-size:20px\">Important piece of info:</span><br>\n",
    "<ol> \n",
    "  <li>The expectations of the posterior (sometimes called M for mean)</li>\n",
    "  <li>The sum of the alphas, which determines the peaky-ness of the Dirichlet </li>\n",
    "  <ul>\n",
    "    <li>If this sum is small, the Dirichlet will be more spread out</li>\n",
    "    <li>If large, the Dirichlet will have more peaks at its expectation (sometimes called S for scaling)</li>\n",
    "  </ul>\n",
    "</ol>\n",
    "<center><img src=\"img/page 65_2.png\" width=\"200\"></center>\n",
    "</div>"
   ]
  },
  {
   "cell_type": "markdown",
   "metadata": {
    "slideshow": {
     "slide_type": "subslide"
    }
   },
   "source": [
    "<img src=\"img/page 65.png\">"
   ]
  },
  {
   "cell_type": "markdown",
   "metadata": {
    "slideshow": {
     "slide_type": "slide"
    }
   },
   "source": [
    "<img src=\"img/page 66.png\">"
   ]
  },
  {
   "cell_type": "markdown",
   "metadata": {
    "slideshow": {
     "slide_type": "slide"
    }
   },
   "source": [
    "<img src=\"img/page 67.png\">"
   ]
  },
  {
   "cell_type": "markdown",
   "metadata": {
    "slideshow": {
     "slide_type": "slide"
    }
   },
   "source": [
    "<img src=\"img/page 68.png\">"
   ]
  },
  {
   "cell_type": "markdown",
   "metadata": {
    "slideshow": {
     "slide_type": "slide"
    }
   },
   "source": [
    "# Cluster Validation"
   ]
  },
  {
   "cell_type": "markdown",
   "metadata": {
    "slideshow": {
     "slide_type": "slide"
    }
   },
   "source": [
    "## Desirable properties of clustering algorithms \n",
    "&nbsp;\n",
    "\n",
    "- Scalability\n",
    "  \n",
    "  - Both in time and space\n",
    "\n",
    "- Ability to deal with various types of data\n",
    "  \n",
    "  - No/less assumption about input data\n",
    "  \n",
    "  - Minimal requirement about domain knowledge\n",
    "\n",
    "- Interpretability and usability"
   ]
  },
  {
   "cell_type": "markdown",
   "metadata": {
    "slideshow": {
     "slide_type": "slide"
    }
   },
   "source": [
    "## Cluster validation\n",
    "&nbsp;\n",
    "\n",
    "- Criteria to determine whether the clusters are meaningful\n",
    "  \n",
    "  - Internal validation\n",
    "    \n",
    "    - Stability and coherence\n",
    "  \n",
    "  - External validation\n",
    "    \n",
    "    - Match with known categories"
   ]
  },
  {
   "cell_type": "markdown",
   "metadata": {
    "slideshow": {
     "slide_type": "slide"
    }
   },
   "source": [
    "## Internal validation\n",
    "&nbsp;\n",
    "\n",
    "- Coherence\n",
    "\n",
    "  - Inter-cluster similarity v.s. intra-cluster similarity\n",
    "  \n",
    "  - Davies–Bouldin index\n",
    "    \n",
    "    - $DB = \\frac{1}{k}\\sum_{i=1}^k{\\underset{j \\neq i}{\\operatorname{max}}{(\\frac{\\sigma_i + \\sigma_j}{d(c_i,c_j)})}}$  <span style=\"color:red\">&larr;</span> <em>Evaluate every pair of clusters</em>\n",
    "\n",
    "      - where $k$ is total number of clusters, $\\sigma_i$ is average distance of all elements in cluster $i$, $d(c_i, c_j)$ is the distance between cluster centroid $c_i$ and $c_j$.\n",
    "\n",
    "<p style=\"color:red\">We prefer smaller DB-index!</p>"
   ]
  },
  {
   "cell_type": "markdown",
   "metadata": {
    "slideshow": {
     "slide_type": "slide"
    }
   },
   "source": [
    "## Internal validation\n",
    "&nbsp;\n",
    "\n",
    "- Coherence\n",
    "  \n",
    "  - Inter-cluster similarity v.s. intra-cluster similarity\n",
    "  \n",
    "  - Dunn index\n",
    "    \n",
    "    - $D = \\frac{ \\underset{1 \\leq i < j \\leq k}{\\operatorname{min}}d(c_i, c_j)}{\\underset{1 \\leq i \\leq k}{\\operatorname{max}} \\sigma_i}$  &nbsp; &nbsp; &nbsp; &nbsp; <span style=\"color:red\">We prefer larger D-index!</span>\n",
    "\n",
    "      - Worst situation analysis\n",
    "\n",
    "- Limitation\n",
    "\n",
    "  - No indication of actual application’s performance\n",
    "  \n",
    "  - Bias towards a specific type of clustering algorithm if that algorithm is designed to optimize a similar metric"
   ]
  },
  {
   "cell_type": "markdown",
   "metadata": {
    "slideshow": {
     "slide_type": "slide"
    }
   },
   "source": [
    "## External validation\n",
    "&nbsp;\n",
    "\n",
    "- Given class label $\\Omega$ (<span style=\"color:blue; font-size: 18px\">Required, might need extra cost</span>) on each instance\n",
    "\n",
    "  - Purity: correctly clustered documents in each cluster\n",
    "    \n",
    "    - $purity(\\Omega,C) = \\frac{1}{N}\\sum_{i=1}^k{\\underset{j}{\\operatorname{max}}|c_i \\cap w_j|}$   <span style=\"color:red; font-size:18px\">&larr; Not a good metric if we assign each document into a single cluster</span>\n",
    "      - where $c_i$ is a set of documents in cluster $i$, and $w_j$ is a set of documents in class $j$\n",
    "      \n",
    "<div style=\"float: left; width:30%\">\n",
    "$$purity(\\Omega, C) = \\\\ \\frac{1}{17}(5 + 4 + 3)$$\n",
    "</div>\n",
    "<div style=\"float: right; width:70%\">\n",
    "<img src=\"img/page 74.png\">\n",
    "</div>"
   ]
  },
  {
   "cell_type": "markdown",
   "metadata": {
    "slideshow": {
     "slide_type": "slide"
    }
   },
   "source": [
    "## External validation\n",
    "&nbsp;\n",
    "\n",
    "- Given class label Ω on each instance\n",
    "  \n",
    "  - Normalized mutual information (NMI)\n",
    "    \n",
    "    - $NMI(\\Omega, C) = \\frac{I(\\Omega, C)}{[H(\\Omega)+H(C)]/2}$ <span style=\"color:red; font-size:18px\">&swarr; Normalization by entropy will penalize too many clusters</span>\n",
    "      - where $I(\\Omega, C) = \\sum_i \\sum_j P(w_i \\cap c_j)log{\\frac{P(w_i \\cap c_j)}{P(w_i)P(c_j)}} \\\\ H(\\Omega) = - \\sum_i{P(w_i) logP(w_i)} \\ \\ \\ \\mathrm{and} \\ \\ \\ H(C) = - \\sum_j{P(c_j)logP(c_j)}$ \n",
    "    \n",
    "    - Indicate the increase of knowledge about classes when we know the clustering results"
   ]
  },
  {
   "cell_type": "markdown",
   "metadata": {
    "slideshow": {
     "slide_type": "slide"
    }
   },
   "source": [
    "## External validation\n",
    "&nbsp;\n",
    "\n",
    "- Given class label $\\Omega$ on each instance\n",
    "\n",
    "  - Rand index\n",
    "    \n",
    "    - Idea: we want to assign two documents to the same cluster if and only if they are from the same class\n",
    "    \n",
    "    - $RI = \\frac{TP + TN}{TP + FP + FN + TN}$ <span style=\"color:red;font-size:18px\">&larr; Essentially it is like classification accuracy</span>\n",
    "    \n",
    "<img src=\"img/page 76.png\">"
   ]
  },
  {
   "cell_type": "markdown",
   "metadata": {
    "slideshow": {
     "slide_type": "slide"
    }
   },
   "source": [
    "## External validation\n",
    "&nbsp;\n",
    "\n",
    "- Given class label $\\Omega$ on each instance\n",
    "  - Rand index\n",
    "    \n",
    "<img src=\"img/page 77.png\">"
   ]
  },
  {
   "cell_type": "markdown",
   "metadata": {
    "slideshow": {
     "slide_type": "slide"
    }
   },
   "source": [
    "## External validation\n",
    "&nbsp;\n",
    "\n",
    "- Given class label $\\Omega$ on each instance\n",
    "  \n",
    "  - Precision/Recall/F-measure\n",
    "     \n",
    "     - Based on the contingency table, we can also define precision/recall/F-measure of clustering quality\n",
    "     \n",
    "<img src=\"img/page 78.png\">"
   ]
  },
  {
   "cell_type": "markdown",
   "metadata": {
    "slideshow": {
     "slide_type": "slide"
    }
   },
   "source": [
    "## Group Average\n",
    "&nbsp;\n",
    "\n",
    "- Similarity of two clusters = average similarity of all pairs within merged cluster.\n",
    "\n",
    "$$sim(c_i, c_j) = \\frac{1}{|c_i \\cup c_j|(|c_i \\cup c_j| - 1)}\\sum_{\\vec x \\in (c_i \\cup c_j)} \\sum_{\\vec y \\in (c_i \\cup c_j): \\vec y \\neq \\vec x}{sim(\\vec x, \\vec y)}$$\n",
    "\n",
    "- Compromise between single and complete link.\n",
    "\n",
    "- Two options:\n",
    " \n",
    "  - Averaged across all ordered pairs in the merged cluster \n",
    " \n",
    "  - Averaged over all pairs between the two original clusters\n",
    "\n",
    "- No clear difference in efficacy"
   ]
  },
  {
   "cell_type": "markdown",
   "metadata": {
    "slideshow": {
     "slide_type": "slide"
    }
   },
   "source": [
    "## Computing Group Average Similarity\n",
    "&nbsp;\n",
    "\n",
    "- Always maintain sum of vectors in each cluster.\n",
    "\n",
    "$$\\vec s(c_j) = \\sum_{\\vec x \\in c_j}{\\vec x}$$\n",
    "- Compute similarity of clusters in constant time:\n",
    "\n",
    "$$sim(c_i, c_j) = \\frac{\\vec s(c_i) + \\vec s(c_j) \\cdot (\\vec s(c_j) + \\vec s(c_j)) - (|c_i| + |c_j|)}{(|c_i| + |c_j|)(|c_i| + |c_j| - 1)}$$"
   ]
  },
  {
   "cell_type": "markdown",
   "metadata": {
    "slideshow": {
     "slide_type": "slide"
    }
   },
   "source": [
    "## What Is A Good Clustering?\n",
    "&nbsp;\n",
    "\n",
    "- Internal criterion: A good clustering will produce high quality clusters in which:\n",
    "\n",
    "  - the <u>intra-class</u> (that is, intra-cluster) similarity is high\n",
    "  \n",
    "  - the <u>inter-class</u> similarity is low\n",
    "\n",
    "  - The measured quality of a clustering depends on both the document representation and the similarity measure used"
   ]
  },
  {
   "cell_type": "markdown",
   "metadata": {
    "slideshow": {
     "slide_type": "slide"
    }
   },
   "source": [
    "## External criteria for clustering quality\n",
    "&nbsp;\n",
    "\n",
    "- Quality measured by its ability to discover some or all of the hidden patterns or latent classes in gold standard data\n",
    "\n",
    "- Assesses a clustering with respect to <u>ground truth</u> … requires <span style=\"color:green; font-style:italic\">labeled data</span>\n",
    "\n",
    "- Assume documents with $C$ gold standard classes, while our clustering algorithms produce $K$ clusters, $\\omega_1$, $\\omega_2$, …, $\\omega_K$  with $n_i$ members."
   ]
  },
  {
   "cell_type": "markdown",
   "metadata": {
    "slideshow": {
     "slide_type": "slide"
    }
   },
   "source": [
    "## External Evaluation of Cluster Quality\n",
    "&nbsp;\n",
    "\n",
    "- Simple measure: <u>purity</u>, the ratio between the dominant class in the cluster $\\pi_i$ and the size of cluster $\\omega_i$\n",
    "\n",
    "$$Purity(\\omega_i) = \\frac{1}{n_i}\\max_j(n_{ij}) \\ \\ \\ j \\in C$$\n",
    "\n",
    "- Biased because having n clusters maximizes purity\n",
    "\n",
    "- Others are entropy of classes in clusters (or mutual information between classes and clusters)"
   ]
  },
  {
   "cell_type": "markdown",
   "metadata": {
    "slideshow": {
     "slide_type": "slide"
    }
   },
   "source": [
    "## Rand index and Cluster F-measure\n",
    "&nbsp;\n",
    "\n",
    "$$RI = \\frac{A + D}{A + B + C + D}$$\n",
    "<center style=\"color:darkred\">Compare with standard Precision and Recall:</center>\n",
    "\n",
    "$$P= \\frac{A}{A + B} \\ \\ \\ \\ \\ \\ P = \\frac{A}{A + C}$$\n",
    "<center style=\"color:darkred\">People also define and use a cluster F-measure, which is probably a better measure</center>"
   ]
  },
  {
   "cell_type": "markdown",
   "metadata": {
    "slideshow": {
     "slide_type": "slide"
    }
   },
   "source": [
    "# Summary "
   ]
  },
  {
   "cell_type": "markdown",
   "metadata": {
    "slideshow": {
     "slide_type": "slide"
    }
   },
   "source": [
    "## Summary: what did we learn?\n",
    "&nbsp;\n",
    "\n",
    "- Text clustering\n",
    "\n",
    "- In clustering, clusters are inferred from the data without human input (unsupervised learning)\n",
    "\n",
    "- However, in practice, it’s a bit less clear: there are many ways of influencing the outcome of clustering: number of clusters, similarity measure, representation of documents\n",
    "\n",
    "- Evaluation\n"
   ]
  },
  {
   "cell_type": "markdown",
   "metadata": {
    "slideshow": {
     "slide_type": "slide"
    }
   },
   "source": [
    "$$\\text {Time for Practical 4!}$$ "
   ]
  }
 ],
 "metadata": {
  "celltoolbar": "Slideshow",
  "kernelspec": {
   "display_name": "Python 3",
   "language": "python",
   "name": "python3"
  },
  "language_info": {
   "codemirror_mode": {
    "name": "ipython",
    "version": 3
   },
   "file_extension": ".py",
   "mimetype": "text/x-python",
   "name": "python",
   "nbconvert_exporter": "python",
   "pygments_lexer": "ipython3",
   "version": "3.8.3"
  }
 },
 "nbformat": 4,
 "nbformat_minor": 4
}
