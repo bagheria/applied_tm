{
  "cells": [
    {
      "cell_type": "markdown",
      "metadata": {
        "id": "atJplQ2k4cnY"
      },
      "source": [
        "# Practical 3: Feature Selection & Dimension Reduction\n",
        "#### Ayoub Bagheri\n",
        "<img src=\"img/uu_logo.png\" alt=\"logo\" align=\"right\" title=\"UU\" width=\"50\" height=\"20\" />\n",
        "\n",
        "#### Applied Text Mining - Utrecht Summer School"
      ]
    },
    {
      "cell_type": "markdown",
      "metadata": {
        "id": "8za2k0zs4cna"
      },
      "source": [
        "In this practical, we are going to learn about feature selection and dimension reduction methods for text data."
      ]
    },
    {
      "cell_type": "markdown",
      "metadata": {
        "id": "VTeveAua4cnb"
      },
      "source": [
        "Today we will use the following libraries. Take care to have them installed!"
      ]
    },
    {
      "cell_type": "code",
      "execution_count": 1,
      "metadata": {
        "id": "NpJqwJsw4cnb"
      },
      "outputs": [],
      "source": [
        "from sklearn.datasets import load_files\n",
        "import pandas as pd\n",
        "import numpy as np\n",
        "from sklearn.feature_extraction.text import CountVectorizer\n",
        "from nltk.tokenize import RegexpTokenizer\n",
        "from sklearn.model_selection import train_test_split\n",
        "from sklearn.feature_selection import SelectKBest, chi2\n",
        "from sklearn.feature_selection import mutual_info_classif\n",
        "from sklearn.svm import LinearSVC\n",
        "from sklearn.feature_selection import SelectFromModel\n",
        "from sklearn.feature_extraction.text import TfidfTransformer\n",
        "from sklearn.ensemble import RandomForestClassifier\n",
        "from sklearn.pipeline import Pipeline\n",
        "from sklearn import metrics\n",
        "from sklearn.naive_bayes import MultinomialNB\n",
        "from sklearn.decomposition import PCA, TruncatedSVD\n",
        "from sklearn.feature_extraction.text import TfidfVectorizer\n",
        "import matplotlib.pyplot as plt"
      ]
    },
    {
      "cell_type": "markdown",
      "metadata": {
        "id": "wojt-qFp4cnc"
      },
      "source": [
        "### Let's get started!"
      ]
    },
    {
      "cell_type": "markdown",
      "metadata": {
        "id": "o_KKtUvZ4cnc"
      },
      "source": [
        "1\\. **Here we are going to use a news article data set, originating from BBC news website. This dataset was provided for benchmarking machine learning algorithms. The BBC data set consists of 2,225 documents and 5 categories: business, entertainment, politics, sport, and tech. Upload the `data.zip` file and extract it using the code below.**"
      ]
    },
    {
      "cell_type": "markdown",
      "metadata": {
        "id": "ZDMZiYoViBLP"
      },
      "source": [
        " **Load the dataset and convert it to a dataframe.**"
      ]
    },
    {
      "cell_type": "markdown",
      "metadata": {
        "id": "RXWG2AVP4cnd"
      },
      "source": [
        "2\\. **Print the unique target names in your data and check the number of articles in each category. Then split your data into training (80%) and test (20%) sets.**"
      ]
    },
    {
      "cell_type": "markdown",
      "metadata": {
        "id": "DYpoW_3f4cng"
      },
      "source": [
        "3\\. **Use the `CountVectorizer` from `sklearn` and convert the text data into a document-term matrix. What is the difference between `CountVectorizer` and `tfidfVectorizer(use_idf=False)`?**"
      ]
    },
    {
      "cell_type": "markdown",
      "metadata": {
        "id": "v7t5LkSl4cng"
      },
      "source": [
        "The only difference is that the `TfidfVectorizer()` returns floats while the `CountVectorizer()` returns ints. And that’s to be expected – as explained in the documentation quoted above, `TfidfVectorizer()` assigns a score while `CountVectorizer()` counts."
      ]
    },
    {
      "cell_type": "markdown",
      "metadata": {
        "id": "uPu5XEe34cnh"
      },
      "source": [
        "4\\. **Print top 20 most frequent words in the training set.**"
      ]
    },
    {
      "cell_type": "markdown",
      "metadata": {
        "id": "9yHg0eY64cnh"
      },
      "source": [
        "### Filter-based feature selection"
      ]
    },
    {
      "cell_type": "markdown",
      "metadata": {
        "id": "KF8tbQcF4cni"
      },
      "source": [
        "5\\. **From the feature selection library in `sklearn` load the `SelectKBest` function and apply it on the BBC dataset using the chi-squared method. Extract top 20 features.**"
      ]
    },
    {
      "cell_type": "markdown",
      "metadata": {
        "id": "cUD238vo4cnj"
      },
      "source": [
        "6\\. **Repeat the analysis in Question 5 with the mutual information feature selection method. Do you get the same list of words as compared to the chi-squared method?**"
      ]
    },
    {
      "cell_type": "markdown",
      "metadata": {
        "id": "BmXdiMJ34cnk"
      },
      "source": [
        "Now you can build a classifier and train it using the output of these feature selection techniques. We are not going to do this right now, but if you are interested you can transform your training and test set using the selected features and continue with your classifier! Here are some tips:"
      ]
    },
    {
      "cell_type": "markdown",
      "metadata": {
        "id": "F842HyA44cnk"
      },
      "source": [
        "### Embedded feature selection"
      ]
    },
    {
      "cell_type": "markdown",
      "metadata": {
        "id": "1L2AMtwA4cnk"
      },
      "source": [
        "7\\. **One of the functions for embedded feature selection is the `SelectFromModel` function in `sklearn`. Use this function with L1 norm SVM and check how many non-zero coefficients left in the model.**"
      ]
    },
    {
      "cell_type": "markdown",
      "metadata": {
        "id": "_KN0MUy14cnl"
      },
      "source": [
        "8\\. **What are the top features according to the SVM model? Tip: Use the function `model.get_support()` to find these features.**"
      ]
    },
    {
      "cell_type": "markdown",
      "metadata": {
        "id": "XeGXNDja4cnm"
      },
      "source": [
        "### Model comparison"
      ]
    },
    {
      "cell_type": "markdown",
      "metadata": {
        "id": "f7O0G3Q_4cnm"
      },
      "source": [
        "9\\. **Create a pipeline with the tfidf representation and a random forest classifier.**"
      ]
    },
    {
      "cell_type": "markdown",
      "metadata": {
        "id": "_67Sq6g-4cnn"
      },
      "source": [
        "10\\. **Fit the pipeline on the training set.**"
      ]
    },
    {
      "cell_type": "markdown",
      "metadata": {
        "id": "6sHbrVWZ4cnn"
      },
      "source": [
        "11\\. **Use the pipeline to predict the outcome variable on your test set. Evaluate the performance of the pipeline using the `classification_report` function on the test subset. How do you interpret your results?**"
      ]
    },
    {
      "cell_type": "markdown",
      "metadata": {
        "id": "OPOas_BP4cnn"
      },
      "source": [
        "12\\. **Create your second pipeline with the tfidf representation and a random forest classifier with the addition of an embedded feature selection using the SVM classification method with L1 penalty. Fit the pipeline on your training set and test it with the test set. How does the performance change?**"
      ]
    },
    {
      "cell_type": "markdown",
      "metadata": {
        "id": "zi97jvvk4cno"
      },
      "source": [
        "13\\. **Create your third and forth pipelines with the tfidf representation, a chi2 feature selection (with 20 and 200 features for `clf3` and `clf4`, respectively), and a random forest classifier.**"
      ]
    },
    {
      "cell_type": "markdown",
      "metadata": {
        "id": "vF1L5Bl64cnq"
      },
      "source": [
        "14\\. **We can change the learner by simply plugging a different classifier object into our pipeline. Create your fifth pipeline with L1 norm SVM for the feature selection method and naive Bayes for the classifier. Compare your results on the test set with the previous pipelines.**"
      ]
    },
    {
      "cell_type": "markdown",
      "metadata": {
        "id": "1tP1kDaf4cnr"
      },
      "source": [
        "### Optional: Dimension reduction"
      ]
    },
    {
      "cell_type": "markdown",
      "metadata": {
        "id": "vW8FLdDF4cnr"
      },
      "source": [
        "15\\. **Dimensionality reduction methods such as PCA and SVD can be used to project the data into a lower dimensional space. If you run PCA with your text data, you might end up with the message:**\n",
        "\n",
        "<blockquote> PCA does not support sparse input. See TruncatedSVD for a possible alternative. </blockquote>\n",
        "\n",
        "**Therefore, we will use the `TruncatedSVD` function from the `sklearn` package and we want to find out how much of the variance in the BBC data set is explained with different components. For this, first create a tfidf matrix and use that to make a co-occurrence matrix.**"
      ]
    },
    {
      "cell_type": "markdown",
      "metadata": {
        "id": "T0GuqXbG4cnr"
      },
      "source": [
        "16\\. **Run the `TruncatedSVD` function with different values for components: 1, 2, 4, 5, 10, 15, 20, 50, 100. Plot the explained variance ratio for each component of Truncated SVD.**"
      ]
    },
    {
      "cell_type": "markdown",
      "metadata": {
        "id": "oDNDDb4k4cns"
      },
      "source": [
        "17\\. **How many components are needed to explain at least 95% of the variance?**"
      ]
    },
    {
      "cell_type": "markdown",
      "metadata": {
        "id": "lz-cGjLY4cns"
      },
      "source": [
        "18\\. **Use these components and train a SVM model on the BBC dataset. Make a pipeline for your model. Compare your results on the test set with the previous pipelines.**"
      ]
    }
  ],
  "metadata": {
    "colab": {
      "provenance": []
    },
    "kernelspec": {
      "display_name": "Python 3 (ipykernel)",
      "language": "python",
      "name": "python3"
    },
    "language_info": {
      "codemirror_mode": {
        "name": "ipython",
        "version": 3
      },
      "file_extension": ".py",
      "mimetype": "text/x-python",
      "name": "python",
      "nbconvert_exporter": "python",
      "pygments_lexer": "ipython3",
      "version": "3.9.10"
    }
  },
  "nbformat": 4,
  "nbformat_minor": 0
}
