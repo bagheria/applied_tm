{
  "cells": [
    {
      "cell_type": "markdown",
      "metadata": {
        "id": "EB_ukytgMJ3e"
      },
      "source": [
        "# Practical 4: Text Clustering and Topic Modeling\n",
        "#### Ayoub Bagheri\n",
        "<img src=\"img/uu_logo.png\" alt=\"logo\" align=\"right\" title=\"UU\" width=\"50\" height=\"20\" />\n",
        "\n",
        "#### Applied Text Mining - Utrecht Summer School"
      ]
    },
    {
      "cell_type": "markdown",
      "metadata": {
        "id": "Z2e5YQ5qMJ3g"
      },
      "source": [
        "In this practical, we are going to apply different clustering algorithms and a topic modeling approach on sport news articles and cluster them into different groups."
      ]
    },
    {
      "cell_type": "markdown",
      "metadata": {
        "id": "-7hS5r12MJ3i"
      },
      "source": [
        "Today we will use the following libraries. Take care to have them installed!"
      ]
    },
    {
      "cell_type": "code",
      "execution_count": 1,
      "metadata": {
        "id": "6-6XC06LMJ3i"
      },
      "outputs": [],
      "source": [
        "from sklearn.datasets import load_files\n",
        "import pandas as pd\n",
        "import numpy as np\n",
        "\n",
        "from sklearn.feature_extraction.text import TfidfVectorizer\n",
        "\n",
        "from sklearn.decomposition import PCA\n",
        "import matplotlib.pyplot as plt\n",
        "\n",
        "from sklearn.cluster import MiniBatchKMeans\n",
        "from sklearn.cluster import AgglomerativeClustering\n",
        "from scipy.cluster.hierarchy import dendrogram\n",
        "\n",
        "from sklearn import metrics\n",
        "\n",
        "from sklearn.decomposition import NMF\n",
        "from sklearn.decomposition import LatentDirichletAllocation\n",
        "\n",
        "# for reproducibility\n",
        "random_state = 321"
      ]
    },
    {
      "cell_type": "markdown",
      "metadata": {
        "id": "Y_p1D58JMJ3j"
      },
      "source": [
        "### Let's get started!"
      ]
    },
    {
      "cell_type": "markdown",
      "metadata": {
        "id": "HF7F1dU5MJ3j"
      },
      "source": [
        "1\\. **Here we are going to use a another set of the BBC news articles, the BBC Sport dataset. This dataset was provided for use as benchmarks for machine learning research. The BBC Sport dataset consists of 737 documents from the BBC Sport website corresponding to sports news articles from 2004-2005 in five topical areas: athletics, cricket, football, rugby, tennis. Upload the `bbcsport-fulltext.zip` file and extract it using the code below. Convert the resulting object to a dataframe.**"
      ]
    },
    {
      "cell_type": "code",
      "source": [
        "from google.colab import files\n",
        "uploaded = files.upload()"
      ],
      "metadata": {
        "colab": {
          "base_uri": "https://localhost:8080/",
          "height": 87
        },
        "id": "cFssnBdysVnh",
        "outputId": "df1c67c6-3df5-4bf4-e215-1e48806677fa"
      },
      "execution_count": 2,
      "outputs": [
        {
          "output_type": "display_data",
          "data": {
            "text/plain": [
              "<IPython.core.display.HTML object>"
            ],
            "text/html": [
              "\n",
              "     <input type=\"file\" id=\"files-4e23be02-2604-48c0-b4a4-deb9c8fa55ab\" name=\"files[]\" multiple disabled\n",
              "        style=\"border:none\" />\n",
              "     <output id=\"result-4e23be02-2604-48c0-b4a4-deb9c8fa55ab\">\n",
              "      Upload widget is only available when the cell has been executed in the\n",
              "      current browser session. Please rerun this cell to enable.\n",
              "      </output>\n",
              "      <script>// Copyright 2017 Google LLC\n",
              "//\n",
              "// Licensed under the Apache License, Version 2.0 (the \"License\");\n",
              "// you may not use this file except in compliance with the License.\n",
              "// You may obtain a copy of the License at\n",
              "//\n",
              "//      http://www.apache.org/licenses/LICENSE-2.0\n",
              "//\n",
              "// Unless required by applicable law or agreed to in writing, software\n",
              "// distributed under the License is distributed on an \"AS IS\" BASIS,\n",
              "// WITHOUT WARRANTIES OR CONDITIONS OF ANY KIND, either express or implied.\n",
              "// See the License for the specific language governing permissions and\n",
              "// limitations under the License.\n",
              "\n",
              "/**\n",
              " * @fileoverview Helpers for google.colab Python module.\n",
              " */\n",
              "(function(scope) {\n",
              "function span(text, styleAttributes = {}) {\n",
              "  const element = document.createElement('span');\n",
              "  element.textContent = text;\n",
              "  for (const key of Object.keys(styleAttributes)) {\n",
              "    element.style[key] = styleAttributes[key];\n",
              "  }\n",
              "  return element;\n",
              "}\n",
              "\n",
              "// Max number of bytes which will be uploaded at a time.\n",
              "const MAX_PAYLOAD_SIZE = 100 * 1024;\n",
              "\n",
              "function _uploadFiles(inputId, outputId) {\n",
              "  const steps = uploadFilesStep(inputId, outputId);\n",
              "  const outputElement = document.getElementById(outputId);\n",
              "  // Cache steps on the outputElement to make it available for the next call\n",
              "  // to uploadFilesContinue from Python.\n",
              "  outputElement.steps = steps;\n",
              "\n",
              "  return _uploadFilesContinue(outputId);\n",
              "}\n",
              "\n",
              "// This is roughly an async generator (not supported in the browser yet),\n",
              "// where there are multiple asynchronous steps and the Python side is going\n",
              "// to poll for completion of each step.\n",
              "// This uses a Promise to block the python side on completion of each step,\n",
              "// then passes the result of the previous step as the input to the next step.\n",
              "function _uploadFilesContinue(outputId) {\n",
              "  const outputElement = document.getElementById(outputId);\n",
              "  const steps = outputElement.steps;\n",
              "\n",
              "  const next = steps.next(outputElement.lastPromiseValue);\n",
              "  return Promise.resolve(next.value.promise).then((value) => {\n",
              "    // Cache the last promise value to make it available to the next\n",
              "    // step of the generator.\n",
              "    outputElement.lastPromiseValue = value;\n",
              "    return next.value.response;\n",
              "  });\n",
              "}\n",
              "\n",
              "/**\n",
              " * Generator function which is called between each async step of the upload\n",
              " * process.\n",
              " * @param {string} inputId Element ID of the input file picker element.\n",
              " * @param {string} outputId Element ID of the output display.\n",
              " * @return {!Iterable<!Object>} Iterable of next steps.\n",
              " */\n",
              "function* uploadFilesStep(inputId, outputId) {\n",
              "  const inputElement = document.getElementById(inputId);\n",
              "  inputElement.disabled = false;\n",
              "\n",
              "  const outputElement = document.getElementById(outputId);\n",
              "  outputElement.innerHTML = '';\n",
              "\n",
              "  const pickedPromise = new Promise((resolve) => {\n",
              "    inputElement.addEventListener('change', (e) => {\n",
              "      resolve(e.target.files);\n",
              "    });\n",
              "  });\n",
              "\n",
              "  const cancel = document.createElement('button');\n",
              "  inputElement.parentElement.appendChild(cancel);\n",
              "  cancel.textContent = 'Cancel upload';\n",
              "  const cancelPromise = new Promise((resolve) => {\n",
              "    cancel.onclick = () => {\n",
              "      resolve(null);\n",
              "    };\n",
              "  });\n",
              "\n",
              "  // Wait for the user to pick the files.\n",
              "  const files = yield {\n",
              "    promise: Promise.race([pickedPromise, cancelPromise]),\n",
              "    response: {\n",
              "      action: 'starting',\n",
              "    }\n",
              "  };\n",
              "\n",
              "  cancel.remove();\n",
              "\n",
              "  // Disable the input element since further picks are not allowed.\n",
              "  inputElement.disabled = true;\n",
              "\n",
              "  if (!files) {\n",
              "    return {\n",
              "      response: {\n",
              "        action: 'complete',\n",
              "      }\n",
              "    };\n",
              "  }\n",
              "\n",
              "  for (const file of files) {\n",
              "    const li = document.createElement('li');\n",
              "    li.append(span(file.name, {fontWeight: 'bold'}));\n",
              "    li.append(span(\n",
              "        `(${file.type || 'n/a'}) - ${file.size} bytes, ` +\n",
              "        `last modified: ${\n",
              "            file.lastModifiedDate ? file.lastModifiedDate.toLocaleDateString() :\n",
              "                                    'n/a'} - `));\n",
              "    const percent = span('0% done');\n",
              "    li.appendChild(percent);\n",
              "\n",
              "    outputElement.appendChild(li);\n",
              "\n",
              "    const fileDataPromise = new Promise((resolve) => {\n",
              "      const reader = new FileReader();\n",
              "      reader.onload = (e) => {\n",
              "        resolve(e.target.result);\n",
              "      };\n",
              "      reader.readAsArrayBuffer(file);\n",
              "    });\n",
              "    // Wait for the data to be ready.\n",
              "    let fileData = yield {\n",
              "      promise: fileDataPromise,\n",
              "      response: {\n",
              "        action: 'continue',\n",
              "      }\n",
              "    };\n",
              "\n",
              "    // Use a chunked sending to avoid message size limits. See b/62115660.\n",
              "    let position = 0;\n",
              "    do {\n",
              "      const length = Math.min(fileData.byteLength - position, MAX_PAYLOAD_SIZE);\n",
              "      const chunk = new Uint8Array(fileData, position, length);\n",
              "      position += length;\n",
              "\n",
              "      const base64 = btoa(String.fromCharCode.apply(null, chunk));\n",
              "      yield {\n",
              "        response: {\n",
              "          action: 'append',\n",
              "          file: file.name,\n",
              "          data: base64,\n",
              "        },\n",
              "      };\n",
              "\n",
              "      let percentDone = fileData.byteLength === 0 ?\n",
              "          100 :\n",
              "          Math.round((position / fileData.byteLength) * 100);\n",
              "      percent.textContent = `${percentDone}% done`;\n",
              "\n",
              "    } while (position < fileData.byteLength);\n",
              "  }\n",
              "\n",
              "  // All done.\n",
              "  yield {\n",
              "    response: {\n",
              "      action: 'complete',\n",
              "    }\n",
              "  };\n",
              "}\n",
              "\n",
              "scope.google = scope.google || {};\n",
              "scope.google.colab = scope.google.colab || {};\n",
              "scope.google.colab._files = {\n",
              "  _uploadFiles,\n",
              "  _uploadFilesContinue,\n",
              "};\n",
              "})(self);\n",
              "</script> "
            ]
          },
          "metadata": {}
        },
        {
          "output_type": "stream",
          "name": "stdout",
          "text": [
            "Saving bbcsport-fulltext.zip to bbcsport-fulltext.zip\n"
          ]
        }
      ]
    },
    {
      "cell_type": "code",
      "execution_count": 3,
      "metadata": {
        "id": "db5J6UdIMJ3k"
      },
      "outputs": [],
      "source": [
        "%%capture\n",
        "!unzip /content/bbcsport-fulltext.zip"
      ]
    },
    {
      "cell_type": "code",
      "source": [
        "data = load_files('/content/bbcsport-fulltext/bbcsport', encoding=\"utf-8\", decode_error=\"replace\", random_state=random_state)\n",
        "df = pd.DataFrame(list(zip(data['data'], data['target'])), columns=['text', 'label'])\n",
        "df.head()"
      ],
      "metadata": {
        "colab": {
          "base_uri": "https://localhost:8080/",
          "height": 221
        },
        "id": "0qeB1IkQrwKi",
        "outputId": "62b87e42-85eb-4980-8ffe-7a35e653b5f7"
      },
      "execution_count": 4,
      "outputs": [
        {
          "output_type": "execute_result",
          "data": {
            "text/plain": [
              "                                                text  label\n",
              "0  Scotland v Italy (Sat)\\n\\nMurrayfield, Edinbur...      3\n",
              "1  Wales silent on Grand Slam talk\\n\\nRhys Willia...      3\n",
              "2  Arsenal 1-1 Sheff Utd\\n\\nAndy Gray's 90th-minu...      2\n",
              "3  Cole refuses to blame van Persie\\n\\nAshley Col...      2\n",
              "4  Van Nistelrooy hungry for return\\n\\nManchester...      2"
            ],
            "text/html": [
              "\n",
              "\n",
              "  <div id=\"df-771d8f54-553a-4871-be44-e789079ed5c5\">\n",
              "    <div class=\"colab-df-container\">\n",
              "      <div>\n",
              "<style scoped>\n",
              "    .dataframe tbody tr th:only-of-type {\n",
              "        vertical-align: middle;\n",
              "    }\n",
              "\n",
              "    .dataframe tbody tr th {\n",
              "        vertical-align: top;\n",
              "    }\n",
              "\n",
              "    .dataframe thead th {\n",
              "        text-align: right;\n",
              "    }\n",
              "</style>\n",
              "<table border=\"1\" class=\"dataframe\">\n",
              "  <thead>\n",
              "    <tr style=\"text-align: right;\">\n",
              "      <th></th>\n",
              "      <th>text</th>\n",
              "      <th>label</th>\n",
              "    </tr>\n",
              "  </thead>\n",
              "  <tbody>\n",
              "    <tr>\n",
              "      <th>0</th>\n",
              "      <td>Scotland v Italy (Sat)\\n\\nMurrayfield, Edinbur...</td>\n",
              "      <td>3</td>\n",
              "    </tr>\n",
              "    <tr>\n",
              "      <th>1</th>\n",
              "      <td>Wales silent on Grand Slam talk\\n\\nRhys Willia...</td>\n",
              "      <td>3</td>\n",
              "    </tr>\n",
              "    <tr>\n",
              "      <th>2</th>\n",
              "      <td>Arsenal 1-1 Sheff Utd\\n\\nAndy Gray's 90th-minu...</td>\n",
              "      <td>2</td>\n",
              "    </tr>\n",
              "    <tr>\n",
              "      <th>3</th>\n",
              "      <td>Cole refuses to blame van Persie\\n\\nAshley Col...</td>\n",
              "      <td>2</td>\n",
              "    </tr>\n",
              "    <tr>\n",
              "      <th>4</th>\n",
              "      <td>Van Nistelrooy hungry for return\\n\\nManchester...</td>\n",
              "      <td>2</td>\n",
              "    </tr>\n",
              "  </tbody>\n",
              "</table>\n",
              "</div>\n",
              "      <button class=\"colab-df-convert\" onclick=\"convertToInteractive('df-771d8f54-553a-4871-be44-e789079ed5c5')\"\n",
              "              title=\"Convert this dataframe to an interactive table.\"\n",
              "              style=\"display:none;\">\n",
              "\n",
              "  <svg xmlns=\"http://www.w3.org/2000/svg\" height=\"24px\"viewBox=\"0 0 24 24\"\n",
              "       width=\"24px\">\n",
              "    <path d=\"M0 0h24v24H0V0z\" fill=\"none\"/>\n",
              "    <path d=\"M18.56 5.44l.94 2.06.94-2.06 2.06-.94-2.06-.94-.94-2.06-.94 2.06-2.06.94zm-11 1L8.5 8.5l.94-2.06 2.06-.94-2.06-.94L8.5 2.5l-.94 2.06-2.06.94zm10 10l.94 2.06.94-2.06 2.06-.94-2.06-.94-.94-2.06-.94 2.06-2.06.94z\"/><path d=\"M17.41 7.96l-1.37-1.37c-.4-.4-.92-.59-1.43-.59-.52 0-1.04.2-1.43.59L10.3 9.45l-7.72 7.72c-.78.78-.78 2.05 0 2.83L4 21.41c.39.39.9.59 1.41.59.51 0 1.02-.2 1.41-.59l7.78-7.78 2.81-2.81c.8-.78.8-2.07 0-2.86zM5.41 20L4 18.59l7.72-7.72 1.47 1.35L5.41 20z\"/>\n",
              "  </svg>\n",
              "      </button>\n",
              "\n",
              "\n",
              "\n",
              "    <div id=\"df-746927e6-a64f-46df-8aa3-7aebba832998\">\n",
              "      <button class=\"colab-df-quickchart\" onclick=\"quickchart('df-746927e6-a64f-46df-8aa3-7aebba832998')\"\n",
              "              title=\"Suggest charts.\"\n",
              "              style=\"display:none;\">\n",
              "\n",
              "<svg xmlns=\"http://www.w3.org/2000/svg\" height=\"24px\"viewBox=\"0 0 24 24\"\n",
              "     width=\"24px\">\n",
              "    <g>\n",
              "        <path d=\"M19 3H5c-1.1 0-2 .9-2 2v14c0 1.1.9 2 2 2h14c1.1 0 2-.9 2-2V5c0-1.1-.9-2-2-2zM9 17H7v-7h2v7zm4 0h-2V7h2v10zm4 0h-2v-4h2v4z\"/>\n",
              "    </g>\n",
              "</svg>\n",
              "      </button>\n",
              "    </div>\n",
              "\n",
              "<style>\n",
              "  .colab-df-quickchart {\n",
              "    background-color: #E8F0FE;\n",
              "    border: none;\n",
              "    border-radius: 50%;\n",
              "    cursor: pointer;\n",
              "    display: none;\n",
              "    fill: #1967D2;\n",
              "    height: 32px;\n",
              "    padding: 0 0 0 0;\n",
              "    width: 32px;\n",
              "  }\n",
              "\n",
              "  .colab-df-quickchart:hover {\n",
              "    background-color: #E2EBFA;\n",
              "    box-shadow: 0px 1px 2px rgba(60, 64, 67, 0.3), 0px 1px 3px 1px rgba(60, 64, 67, 0.15);\n",
              "    fill: #174EA6;\n",
              "  }\n",
              "\n",
              "  [theme=dark] .colab-df-quickchart {\n",
              "    background-color: #3B4455;\n",
              "    fill: #D2E3FC;\n",
              "  }\n",
              "\n",
              "  [theme=dark] .colab-df-quickchart:hover {\n",
              "    background-color: #434B5C;\n",
              "    box-shadow: 0px 1px 3px 1px rgba(0, 0, 0, 0.15);\n",
              "    filter: drop-shadow(0px 1px 2px rgba(0, 0, 0, 0.3));\n",
              "    fill: #FFFFFF;\n",
              "  }\n",
              "</style>\n",
              "\n",
              "    <script>\n",
              "      async function quickchart(key) {\n",
              "        const containerElement = document.querySelector('#' + key);\n",
              "        const charts = await google.colab.kernel.invokeFunction(\n",
              "            'suggestCharts', [key], {});\n",
              "      }\n",
              "    </script>\n",
              "\n",
              "      <script>\n",
              "\n",
              "function displayQuickchartButton(domScope) {\n",
              "  let quickchartButtonEl =\n",
              "    domScope.querySelector('#df-746927e6-a64f-46df-8aa3-7aebba832998 button.colab-df-quickchart');\n",
              "  quickchartButtonEl.style.display =\n",
              "    google.colab.kernel.accessAllowed ? 'block' : 'none';\n",
              "}\n",
              "\n",
              "        displayQuickchartButton(document);\n",
              "      </script>\n",
              "      <style>\n",
              "    .colab-df-container {\n",
              "      display:flex;\n",
              "      flex-wrap:wrap;\n",
              "      gap: 12px;\n",
              "    }\n",
              "\n",
              "    .colab-df-convert {\n",
              "      background-color: #E8F0FE;\n",
              "      border: none;\n",
              "      border-radius: 50%;\n",
              "      cursor: pointer;\n",
              "      display: none;\n",
              "      fill: #1967D2;\n",
              "      height: 32px;\n",
              "      padding: 0 0 0 0;\n",
              "      width: 32px;\n",
              "    }\n",
              "\n",
              "    .colab-df-convert:hover {\n",
              "      background-color: #E2EBFA;\n",
              "      box-shadow: 0px 1px 2px rgba(60, 64, 67, 0.3), 0px 1px 3px 1px rgba(60, 64, 67, 0.15);\n",
              "      fill: #174EA6;\n",
              "    }\n",
              "\n",
              "    [theme=dark] .colab-df-convert {\n",
              "      background-color: #3B4455;\n",
              "      fill: #D2E3FC;\n",
              "    }\n",
              "\n",
              "    [theme=dark] .colab-df-convert:hover {\n",
              "      background-color: #434B5C;\n",
              "      box-shadow: 0px 1px 3px 1px rgba(0, 0, 0, 0.15);\n",
              "      filter: drop-shadow(0px 1px 2px rgba(0, 0, 0, 0.3));\n",
              "      fill: #FFFFFF;\n",
              "    }\n",
              "  </style>\n",
              "\n",
              "      <script>\n",
              "        const buttonEl =\n",
              "          document.querySelector('#df-771d8f54-553a-4871-be44-e789079ed5c5 button.colab-df-convert');\n",
              "        buttonEl.style.display =\n",
              "          google.colab.kernel.accessAllowed ? 'block' : 'none';\n",
              "\n",
              "        async function convertToInteractive(key) {\n",
              "          const element = document.querySelector('#df-771d8f54-553a-4871-be44-e789079ed5c5');\n",
              "          const dataTable =\n",
              "            await google.colab.kernel.invokeFunction('convertToInteractive',\n",
              "                                                     [key], {});\n",
              "          if (!dataTable) return;\n",
              "\n",
              "          const docLinkHtml = 'Like what you see? Visit the ' +\n",
              "            '<a target=\"_blank\" href=https://colab.research.google.com/notebooks/data_table.ipynb>data table notebook</a>'\n",
              "            + ' to learn more about interactive tables.';\n",
              "          element.innerHTML = '';\n",
              "          dataTable['output_type'] = 'display_data';\n",
              "          await google.colab.output.renderOutput(dataTable, element);\n",
              "          const docLink = document.createElement('div');\n",
              "          docLink.innerHTML = docLinkHtml;\n",
              "          element.appendChild(docLink);\n",
              "        }\n",
              "      </script>\n",
              "    </div>\n",
              "  </div>\n"
            ]
          },
          "metadata": {},
          "execution_count": 4
        }
      ]
    },
    {
      "cell_type": "code",
      "execution_count": 5,
      "metadata": {
        "colab": {
          "base_uri": "https://localhost:8080/"
        },
        "id": "KFL0L_54MJ3l",
        "outputId": "54c31804-90be-4358-c7b1-e059db62ea44"
      },
      "outputs": [
        {
          "output_type": "stream",
          "name": "stdout",
          "text": [
            "{'athletics': 101, 'cricket': 124, 'football': 265, 'rugby': 147, 'tennis': 100}\n"
          ]
        }
      ],
      "source": [
        "labels, counts = np.unique(df['label'], return_counts=True)\n",
        "print(dict(zip(data.target_names, counts)))"
      ]
    },
    {
      "cell_type": "markdown",
      "metadata": {
        "id": "rlpK7vbqMJ3m"
      },
      "source": [
        "2\\. **For text clustering and topic modeling, we will ignore the outcome variable (labels) but we will use them while evaluating models. Create a copied dataframe removing the outcome variable.**"
      ]
    },
    {
      "cell_type": "code",
      "execution_count": 6,
      "metadata": {
        "id": "9wWjcLpQMJ3m",
        "outputId": "f031cb22-5318-41c4-e105-08540dbd8470",
        "colab": {
          "base_uri": "https://localhost:8080/",
          "height": 221
        }
      },
      "outputs": [
        {
          "output_type": "execute_result",
          "data": {
            "text/plain": [
              "                                                text\n",
              "0  Scotland v Italy (Sat)\\n\\nMurrayfield, Edinbur...\n",
              "1  Wales silent on Grand Slam talk\\n\\nRhys Willia...\n",
              "2  Arsenal 1-1 Sheff Utd\\n\\nAndy Gray's 90th-minu...\n",
              "3  Cole refuses to blame van Persie\\n\\nAshley Col...\n",
              "4  Van Nistelrooy hungry for return\\n\\nManchester..."
            ],
            "text/html": [
              "\n",
              "\n",
              "  <div id=\"df-5ba42276-2f7a-4861-83f2-40a17d581877\">\n",
              "    <div class=\"colab-df-container\">\n",
              "      <div>\n",
              "<style scoped>\n",
              "    .dataframe tbody tr th:only-of-type {\n",
              "        vertical-align: middle;\n",
              "    }\n",
              "\n",
              "    .dataframe tbody tr th {\n",
              "        vertical-align: top;\n",
              "    }\n",
              "\n",
              "    .dataframe thead th {\n",
              "        text-align: right;\n",
              "    }\n",
              "</style>\n",
              "<table border=\"1\" class=\"dataframe\">\n",
              "  <thead>\n",
              "    <tr style=\"text-align: right;\">\n",
              "      <th></th>\n",
              "      <th>text</th>\n",
              "    </tr>\n",
              "  </thead>\n",
              "  <tbody>\n",
              "    <tr>\n",
              "      <th>0</th>\n",
              "      <td>Scotland v Italy (Sat)\\n\\nMurrayfield, Edinbur...</td>\n",
              "    </tr>\n",
              "    <tr>\n",
              "      <th>1</th>\n",
              "      <td>Wales silent on Grand Slam talk\\n\\nRhys Willia...</td>\n",
              "    </tr>\n",
              "    <tr>\n",
              "      <th>2</th>\n",
              "      <td>Arsenal 1-1 Sheff Utd\\n\\nAndy Gray's 90th-minu...</td>\n",
              "    </tr>\n",
              "    <tr>\n",
              "      <th>3</th>\n",
              "      <td>Cole refuses to blame van Persie\\n\\nAshley Col...</td>\n",
              "    </tr>\n",
              "    <tr>\n",
              "      <th>4</th>\n",
              "      <td>Van Nistelrooy hungry for return\\n\\nManchester...</td>\n",
              "    </tr>\n",
              "  </tbody>\n",
              "</table>\n",
              "</div>\n",
              "      <button class=\"colab-df-convert\" onclick=\"convertToInteractive('df-5ba42276-2f7a-4861-83f2-40a17d581877')\"\n",
              "              title=\"Convert this dataframe to an interactive table.\"\n",
              "              style=\"display:none;\">\n",
              "\n",
              "  <svg xmlns=\"http://www.w3.org/2000/svg\" height=\"24px\"viewBox=\"0 0 24 24\"\n",
              "       width=\"24px\">\n",
              "    <path d=\"M0 0h24v24H0V0z\" fill=\"none\"/>\n",
              "    <path d=\"M18.56 5.44l.94 2.06.94-2.06 2.06-.94-2.06-.94-.94-2.06-.94 2.06-2.06.94zm-11 1L8.5 8.5l.94-2.06 2.06-.94-2.06-.94L8.5 2.5l-.94 2.06-2.06.94zm10 10l.94 2.06.94-2.06 2.06-.94-2.06-.94-.94-2.06-.94 2.06-2.06.94z\"/><path d=\"M17.41 7.96l-1.37-1.37c-.4-.4-.92-.59-1.43-.59-.52 0-1.04.2-1.43.59L10.3 9.45l-7.72 7.72c-.78.78-.78 2.05 0 2.83L4 21.41c.39.39.9.59 1.41.59.51 0 1.02-.2 1.41-.59l7.78-7.78 2.81-2.81c.8-.78.8-2.07 0-2.86zM5.41 20L4 18.59l7.72-7.72 1.47 1.35L5.41 20z\"/>\n",
              "  </svg>\n",
              "      </button>\n",
              "\n",
              "\n",
              "\n",
              "    <div id=\"df-059f6866-5d83-46be-b243-60184856c6cc\">\n",
              "      <button class=\"colab-df-quickchart\" onclick=\"quickchart('df-059f6866-5d83-46be-b243-60184856c6cc')\"\n",
              "              title=\"Suggest charts.\"\n",
              "              style=\"display:none;\">\n",
              "\n",
              "<svg xmlns=\"http://www.w3.org/2000/svg\" height=\"24px\"viewBox=\"0 0 24 24\"\n",
              "     width=\"24px\">\n",
              "    <g>\n",
              "        <path d=\"M19 3H5c-1.1 0-2 .9-2 2v14c0 1.1.9 2 2 2h14c1.1 0 2-.9 2-2V5c0-1.1-.9-2-2-2zM9 17H7v-7h2v7zm4 0h-2V7h2v10zm4 0h-2v-4h2v4z\"/>\n",
              "    </g>\n",
              "</svg>\n",
              "      </button>\n",
              "    </div>\n",
              "\n",
              "<style>\n",
              "  .colab-df-quickchart {\n",
              "    background-color: #E8F0FE;\n",
              "    border: none;\n",
              "    border-radius: 50%;\n",
              "    cursor: pointer;\n",
              "    display: none;\n",
              "    fill: #1967D2;\n",
              "    height: 32px;\n",
              "    padding: 0 0 0 0;\n",
              "    width: 32px;\n",
              "  }\n",
              "\n",
              "  .colab-df-quickchart:hover {\n",
              "    background-color: #E2EBFA;\n",
              "    box-shadow: 0px 1px 2px rgba(60, 64, 67, 0.3), 0px 1px 3px 1px rgba(60, 64, 67, 0.15);\n",
              "    fill: #174EA6;\n",
              "  }\n",
              "\n",
              "  [theme=dark] .colab-df-quickchart {\n",
              "    background-color: #3B4455;\n",
              "    fill: #D2E3FC;\n",
              "  }\n",
              "\n",
              "  [theme=dark] .colab-df-quickchart:hover {\n",
              "    background-color: #434B5C;\n",
              "    box-shadow: 0px 1px 3px 1px rgba(0, 0, 0, 0.15);\n",
              "    filter: drop-shadow(0px 1px 2px rgba(0, 0, 0, 0.3));\n",
              "    fill: #FFFFFF;\n",
              "  }\n",
              "</style>\n",
              "\n",
              "    <script>\n",
              "      async function quickchart(key) {\n",
              "        const containerElement = document.querySelector('#' + key);\n",
              "        const charts = await google.colab.kernel.invokeFunction(\n",
              "            'suggestCharts', [key], {});\n",
              "      }\n",
              "    </script>\n",
              "\n",
              "      <script>\n",
              "\n",
              "function displayQuickchartButton(domScope) {\n",
              "  let quickchartButtonEl =\n",
              "    domScope.querySelector('#df-059f6866-5d83-46be-b243-60184856c6cc button.colab-df-quickchart');\n",
              "  quickchartButtonEl.style.display =\n",
              "    google.colab.kernel.accessAllowed ? 'block' : 'none';\n",
              "}\n",
              "\n",
              "        displayQuickchartButton(document);\n",
              "      </script>\n",
              "      <style>\n",
              "    .colab-df-container {\n",
              "      display:flex;\n",
              "      flex-wrap:wrap;\n",
              "      gap: 12px;\n",
              "    }\n",
              "\n",
              "    .colab-df-convert {\n",
              "      background-color: #E8F0FE;\n",
              "      border: none;\n",
              "      border-radius: 50%;\n",
              "      cursor: pointer;\n",
              "      display: none;\n",
              "      fill: #1967D2;\n",
              "      height: 32px;\n",
              "      padding: 0 0 0 0;\n",
              "      width: 32px;\n",
              "    }\n",
              "\n",
              "    .colab-df-convert:hover {\n",
              "      background-color: #E2EBFA;\n",
              "      box-shadow: 0px 1px 2px rgba(60, 64, 67, 0.3), 0px 1px 3px 1px rgba(60, 64, 67, 0.15);\n",
              "      fill: #174EA6;\n",
              "    }\n",
              "\n",
              "    [theme=dark] .colab-df-convert {\n",
              "      background-color: #3B4455;\n",
              "      fill: #D2E3FC;\n",
              "    }\n",
              "\n",
              "    [theme=dark] .colab-df-convert:hover {\n",
              "      background-color: #434B5C;\n",
              "      box-shadow: 0px 1px 3px 1px rgba(0, 0, 0, 0.15);\n",
              "      filter: drop-shadow(0px 1px 2px rgba(0, 0, 0, 0.3));\n",
              "      fill: #FFFFFF;\n",
              "    }\n",
              "  </style>\n",
              "\n",
              "      <script>\n",
              "        const buttonEl =\n",
              "          document.querySelector('#df-5ba42276-2f7a-4861-83f2-40a17d581877 button.colab-df-convert');\n",
              "        buttonEl.style.display =\n",
              "          google.colab.kernel.accessAllowed ? 'block' : 'none';\n",
              "\n",
              "        async function convertToInteractive(key) {\n",
              "          const element = document.querySelector('#df-5ba42276-2f7a-4861-83f2-40a17d581877');\n",
              "          const dataTable =\n",
              "            await google.colab.kernel.invokeFunction('convertToInteractive',\n",
              "                                                     [key], {});\n",
              "          if (!dataTable) return;\n",
              "\n",
              "          const docLinkHtml = 'Like what you see? Visit the ' +\n",
              "            '<a target=\"_blank\" href=https://colab.research.google.com/notebooks/data_table.ipynb>data table notebook</a>'\n",
              "            + ' to learn more about interactive tables.';\n",
              "          element.innerHTML = '';\n",
              "          dataTable['output_type'] = 'display_data';\n",
              "          await google.colab.output.renderOutput(dataTable, element);\n",
              "          const docLink = document.createElement('div');\n",
              "          docLink.innerHTML = docLinkHtml;\n",
              "          element.appendChild(docLink);\n",
              "        }\n",
              "      </script>\n",
              "    </div>\n",
              "  </div>\n"
            ]
          },
          "metadata": {},
          "execution_count": 6
        }
      ],
      "source": [
        "bbcsport_text = pd.DataFrame(df['text'])\n",
        "bbcsport_text.head()"
      ]
    },
    {
      "cell_type": "markdown",
      "metadata": {
        "id": "6ZpnZU-SMJ3n"
      },
      "source": [
        "3\\. **Apply the following pre-processing steps and convert the data to a document-term matrix with term frequencies:**\n",
        "- convert to lowercase\n",
        "- remove stopwords\n",
        "- remove numbers\n",
        "- extract uni- and bi-grams\n",
        "- remove terms that occur in less than 2 documents\n",
        "- remove one-letter terms, e.g.'a', or 's'"
      ]
    },
    {
      "cell_type": "code",
      "execution_count": 7,
      "metadata": {
        "id": "mnCtRALiMJ3n",
        "outputId": "f7bb732d-caef-41a2-8478-ed0ba6bd0322",
        "colab": {
          "base_uri": "https://localhost:8080/"
        }
      },
      "outputs": [
        {
          "output_type": "execute_result",
          "data": {
            "text/plain": [
              "(737, 21604)"
            ]
          },
          "metadata": {},
          "execution_count": 7
        }
      ],
      "source": [
        "tfidf_vectorizer = TfidfVectorizer(stop_words='english',\n",
        "                                   lowercase=True,\n",
        "                                   min_df=2,\n",
        "                                   ngram_range=(1,2),\n",
        "                                   token_pattern=r'(?u)\\b[A-Za-z][A-Za-z]+\\b')\n",
        "tfidf_vectorizer.fit(df.text.values)\n",
        "tfidf_matrix = tfidf_vectorizer.transform(df.text.values)\n",
        "tfidf_matrix.shape"
      ]
    },
    {
      "cell_type": "code",
      "execution_count": null,
      "metadata": {
        "id": "jAD2-LM5MJ3o"
      },
      "outputs": [],
      "source": [
        "# You can check the vocabulary of your vectorizer with the following line\n",
        "# tfidf_vectorizer.vocabulary_"
      ]
    },
    {
      "cell_type": "markdown",
      "metadata": {
        "id": "bJm9SSQDMJ3o"
      },
      "source": [
        "### K-Means clustering"
      ]
    },
    {
      "cell_type": "markdown",
      "metadata": {
        "id": "6sxdIGvfMJ3o"
      },
      "source": [
        "4\\. **Use the MiniBatchKMeans function from the sklearn package, and a K-Means clustering algorithm with 5 clusters.**"
      ]
    },
    {
      "cell_type": "code",
      "execution_count": 8,
      "metadata": {
        "id": "kqZAEMh1MJ3p",
        "outputId": "e466411c-6a3d-48aa-e1e6-89f5ce9acc00",
        "colab": {
          "base_uri": "https://localhost:8080/",
          "height": 79
        }
      },
      "outputs": [
        {
          "output_type": "execute_result",
          "data": {
            "text/plain": [
              "MiniBatchKMeans(n_clusters=5, n_init=3, random_state=321)"
            ],
            "text/html": [
              "<style>#sk-container-id-1 {color: black;background-color: white;}#sk-container-id-1 pre{padding: 0;}#sk-container-id-1 div.sk-toggleable {background-color: white;}#sk-container-id-1 label.sk-toggleable__label {cursor: pointer;display: block;width: 100%;margin-bottom: 0;padding: 0.3em;box-sizing: border-box;text-align: center;}#sk-container-id-1 label.sk-toggleable__label-arrow:before {content: \"▸\";float: left;margin-right: 0.25em;color: #696969;}#sk-container-id-1 label.sk-toggleable__label-arrow:hover:before {color: black;}#sk-container-id-1 div.sk-estimator:hover label.sk-toggleable__label-arrow:before {color: black;}#sk-container-id-1 div.sk-toggleable__content {max-height: 0;max-width: 0;overflow: hidden;text-align: left;background-color: #f0f8ff;}#sk-container-id-1 div.sk-toggleable__content pre {margin: 0.2em;color: black;border-radius: 0.25em;background-color: #f0f8ff;}#sk-container-id-1 input.sk-toggleable__control:checked~div.sk-toggleable__content {max-height: 200px;max-width: 100%;overflow: auto;}#sk-container-id-1 input.sk-toggleable__control:checked~label.sk-toggleable__label-arrow:before {content: \"▾\";}#sk-container-id-1 div.sk-estimator input.sk-toggleable__control:checked~label.sk-toggleable__label {background-color: #d4ebff;}#sk-container-id-1 div.sk-label input.sk-toggleable__control:checked~label.sk-toggleable__label {background-color: #d4ebff;}#sk-container-id-1 input.sk-hidden--visually {border: 0;clip: rect(1px 1px 1px 1px);clip: rect(1px, 1px, 1px, 1px);height: 1px;margin: -1px;overflow: hidden;padding: 0;position: absolute;width: 1px;}#sk-container-id-1 div.sk-estimator {font-family: monospace;background-color: #f0f8ff;border: 1px dotted black;border-radius: 0.25em;box-sizing: border-box;margin-bottom: 0.5em;}#sk-container-id-1 div.sk-estimator:hover {background-color: #d4ebff;}#sk-container-id-1 div.sk-parallel-item::after {content: \"\";width: 100%;border-bottom: 1px solid gray;flex-grow: 1;}#sk-container-id-1 div.sk-label:hover label.sk-toggleable__label {background-color: #d4ebff;}#sk-container-id-1 div.sk-serial::before {content: \"\";position: absolute;border-left: 1px solid gray;box-sizing: border-box;top: 0;bottom: 0;left: 50%;z-index: 0;}#sk-container-id-1 div.sk-serial {display: flex;flex-direction: column;align-items: center;background-color: white;padding-right: 0.2em;padding-left: 0.2em;position: relative;}#sk-container-id-1 div.sk-item {position: relative;z-index: 1;}#sk-container-id-1 div.sk-parallel {display: flex;align-items: stretch;justify-content: center;background-color: white;position: relative;}#sk-container-id-1 div.sk-item::before, #sk-container-id-1 div.sk-parallel-item::before {content: \"\";position: absolute;border-left: 1px solid gray;box-sizing: border-box;top: 0;bottom: 0;left: 50%;z-index: -1;}#sk-container-id-1 div.sk-parallel-item {display: flex;flex-direction: column;z-index: 1;position: relative;background-color: white;}#sk-container-id-1 div.sk-parallel-item:first-child::after {align-self: flex-end;width: 50%;}#sk-container-id-1 div.sk-parallel-item:last-child::after {align-self: flex-start;width: 50%;}#sk-container-id-1 div.sk-parallel-item:only-child::after {width: 0;}#sk-container-id-1 div.sk-dashed-wrapped {border: 1px dashed gray;margin: 0 0.4em 0.5em 0.4em;box-sizing: border-box;padding-bottom: 0.4em;background-color: white;}#sk-container-id-1 div.sk-label label {font-family: monospace;font-weight: bold;display: inline-block;line-height: 1.2em;}#sk-container-id-1 div.sk-label-container {text-align: center;}#sk-container-id-1 div.sk-container {/* jupyter's `normalize.less` sets `[hidden] { display: none; }` but bootstrap.min.css set `[hidden] { display: none !important; }` so we also need the `!important` here to be able to override the default hidden behavior on the sphinx rendered scikit-learn.org. See: https://github.com/scikit-learn/scikit-learn/issues/21755 */display: inline-block !important;position: relative;}#sk-container-id-1 div.sk-text-repr-fallback {display: none;}</style><div id=\"sk-container-id-1\" class=\"sk-top-container\"><div class=\"sk-text-repr-fallback\"><pre>MiniBatchKMeans(n_clusters=5, n_init=3, random_state=321)</pre><b>In a Jupyter environment, please rerun this cell to show the HTML representation or trust the notebook. <br />On GitHub, the HTML representation is unable to render, please try loading this page with nbviewer.org.</b></div><div class=\"sk-container\" hidden><div class=\"sk-item\"><div class=\"sk-estimator sk-toggleable\"><input class=\"sk-toggleable__control sk-hidden--visually\" id=\"sk-estimator-id-1\" type=\"checkbox\" checked><label for=\"sk-estimator-id-1\" class=\"sk-toggleable__label sk-toggleable__label-arrow\">MiniBatchKMeans</label><div class=\"sk-toggleable__content\"><pre>MiniBatchKMeans(n_clusters=5, n_init=3, random_state=321)</pre></div></div></div></div></div>"
            ]
          },
          "metadata": {},
          "execution_count": 8
        }
      ],
      "source": [
        "n_clusters = 5\n",
        "cls = MiniBatchKMeans(n_clusters=n_clusters, random_state=random_state, n_init = 3)\n",
        "cls.fit(tfidf_matrix)"
      ]
    },
    {
      "cell_type": "markdown",
      "metadata": {
        "id": "PcNZMv0zMJ3p"
      },
      "source": [
        "5\\. **What are the top terms in each cluster?**"
      ]
    },
    {
      "cell_type": "code",
      "execution_count": 9,
      "metadata": {
        "id": "mtvxJ2QIMJ3p",
        "outputId": "98766f3e-8699-4ab6-8684-8d730fdc832b",
        "colab": {
          "base_uri": "https://localhost:8080/"
        }
      },
      "outputs": [
        {
          "output_type": "stream",
          "name": "stdout",
          "text": [
            "Top terms per cluster:\n",
            "Cluster 0: cricket/ test/ pakistan/ day/ series/ india/ england/ australia/ south/ south africa/\n",
            "Cluster 1: chelsea/ club/ arsenal/ united/ said/ league/ liverpool/ cup/ game/ manager/\n",
            "Cluster 2: olympic/ race/ indoor/ world/ champion/ athens/ holmes/ european/ athletics/ year/\n",
            "Cluster 3: seed/ open/ federer/ set/ hewitt/ australian/ roddick/ henman/ final/ win/\n",
            "Cluster 4: england/ wales/ ireland/ rugby/ nations/ robinson/ france/ half/ scotland/ lions/\n"
          ]
        }
      ],
      "source": [
        "print(\"Top terms per cluster:\")\n",
        "\n",
        "order_centroids = cls.cluster_centers_.argsort()[:, ::-1]\n",
        "terms = tfidf_vectorizer.get_feature_names_out()\n",
        "for i in range(n_clusters):\n",
        "    print(\"Cluster %d:\" % i, end='')\n",
        "    for ind in order_centroids[i, :10]:\n",
        "        print(' %s/' % terms[ind], end='')\n",
        "    print()\n",
        "# https://scikit-learn.org/stable/auto_examples/text/plot_document_clustering.html"
      ]
    },
    {
      "cell_type": "markdown",
      "metadata": {
        "id": "I0c_3kx3MJ3p"
      },
      "source": [
        "Based on these 10 top terms we can manually label our clustering output as:\n",
        "- cluster 0: cricket\n",
        "- cluster 1: tennis\n",
        "- cluster 2: football\n",
        "- cluster 3: athletics\n",
        "- cluster 4: rugby"
      ]
    },
    {
      "cell_type": "markdown",
      "metadata": {
        "id": "kyxclqc2MJ3q"
      },
      "source": [
        "6\\. **Visualize the output of the K-Means clustering: first apply a PCA method to transform the high-dimensional feature space into 2 dimensions, and then plot the points using a scatter plot.**"
      ]
    },
    {
      "cell_type": "code",
      "execution_count": 10,
      "metadata": {
        "id": "0BMomIN2MJ3q",
        "outputId": "6e6ee482-55ab-44d7-e6b7-4e427d34f835",
        "colab": {
          "base_uri": "https://localhost:8080/",
          "height": 451
        }
      },
      "outputs": [
        {
          "output_type": "execute_result",
          "data": {
            "text/plain": [
              "<matplotlib.collections.PathCollection at 0x780b98ab6800>"
            ]
          },
          "metadata": {},
          "execution_count": 10
        },
        {
          "output_type": "display_data",
          "data": {
            "text/plain": [
              "<Figure size 640x480 with 1 Axes>"
            ],
            "image/png": "[encoded data removed]"
          },
          "metadata": {}
        }
      ],
      "source": [
        "# reduce the features to 2D\n",
        "pca = PCA(n_components=2, random_state=random_state)\n",
        "reduced_features = pca.fit_transform(tfidf_matrix.toarray())\n",
        "\n",
        "# reduce the cluster centers to 2D\n",
        "reduced_cluster_centers = pca.transform(cls.cluster_centers_)\n",
        "\n",
        "plt.scatter(reduced_features[:,0], reduced_features[:,1], c=cls.predict(tfidf_matrix))\n",
        "plt.scatter(reduced_cluster_centers[:, 0], reduced_cluster_centers[:,1], marker='x', s=150, c='b')"
      ]
    },
    {
      "cell_type": "markdown",
      "metadata": {
        "id": "uq5vCl9MMJ3q"
      },
      "source": [
        "7\\. **Evaluate the quality of the K-Means clustering with the `sklearn` metrics for clustering: `homogeneity_score`, `completeness_score`, `v_measure_score`, `adjusted_rand_score`, `silhouette_score`.**"
      ]
    },
    {
      "cell_type": "markdown",
      "metadata": {
        "id": "jJXqzb7mMJ3q"
      },
      "source": [
        "Evaluation for unsupervised learning algorithms is a bit difficult and requires human judgement but there are some metrics which you might use. There are two kinds of metrics you can use depending on whether or not you have the labels.\n",
        "\n",
        "If you have a labelled dataset you can use metrics that give you an idea of how good your clustering model is. For this purpose you can use the `sklearn.metrics` module, for example `homogeneity_score` is one of the possible metrics. As per the documentation, the score ranges between 0 and 1 where 1 stands for perfectly homogeneous labeling.\n",
        "\n",
        "If you do not have labels for your dataset, then you can still evaluate your clustering model with some metrics. One of them is the `silhouette_score`. From the `sklearn`'s documentation: The Silhouette Coefficient is calculated using the mean intra-cluster distance (a) and the mean nearest-cluster distance (b) for each sample. The Silhouette Coefficient for a sample is (b - a) / max(a,b). To clarify, b is the distance between a sample and the nearest cluster that the sample is not a part of. The best value is 1 and the worst value is -1. Values near 0 indicate overlapping clusters. Negative values generally indicate that a sample has been assigned to the wrong cluster, as a different cluster is more similar."
      ]
    },
    {
      "cell_type": "code",
      "execution_count": 11,
      "metadata": {
        "id": "nWbVXLlsMJ3r",
        "outputId": "8e96ea3e-28f4-41c7-81d6-79bf6c56777e",
        "colab": {
          "base_uri": "https://localhost:8080/"
        }
      },
      "outputs": [
        {
          "output_type": "stream",
          "name": "stdout",
          "text": [
            "Homogeneity: 0.840\n",
            "Completeness: 0.845\n",
            "V-measure: 0.842\n",
            "Adjusted Rand-Index: 0.867\n",
            "Silhouette Coefficient: 0.017\n"
          ]
        }
      ],
      "source": [
        "print(\"Homogeneity: %0.3f\" % metrics.homogeneity_score(data.target, cls.labels_))\n",
        "print(\"Completeness: %0.3f\" % metrics.completeness_score(data.target, cls.labels_))\n",
        "print(\"V-measure: %0.3f\" % metrics.v_measure_score(data.target, cls.labels_))\n",
        "print(\"Adjusted Rand-Index: %.3f\"\n",
        "      % metrics.adjusted_rand_score(data.target, cls.labels_))\n",
        "print(\"Silhouette Coefficient: %0.3f\"\n",
        "      % metrics.silhouette_score(tfidf_matrix, cls.labels_, sample_size=1000))"
      ]
    },
    {
      "cell_type": "markdown",
      "metadata": {
        "id": "doUmqEeCMJ3r"
      },
      "source": [
        "8\\. **Apply the K-Means clustering method on a range of 3 to 7 clusters, and calculate the squared loss obtained in each clustering. Apply the Elbow method to find the optimal k. (Tip: use the `cls.inertia_` for the squared loss)**"
      ]
    },
    {
      "cell_type": "code",
      "execution_count": 12,
      "metadata": {
        "id": "UYShDntOMJ3r"
      },
      "outputs": [],
      "source": [
        "num_clus = [x for x in range(3, 7)]\n",
        "squared_errors = []\n",
        "for cluster in num_clus:\n",
        "    cls = MiniBatchKMeans(n_clusters=cluster, random_state=random_state, n_init = 3)\n",
        "    cls.fit(tfidf_matrix) # Train Clusters\n",
        "    squared_errors.append(cls.inertia_) # Appending the squared loss obtained in the list"
      ]
    },
    {
      "cell_type": "code",
      "execution_count": 13,
      "metadata": {
        "scrolled": true,
        "id": "h9Z8P-3HMJ3r",
        "outputId": "8f3b193b-bce4-4e35-8bfc-1ebe5d98d675",
        "colab": {
          "base_uri": "https://localhost:8080/",
          "height": 514
        }
      },
      "outputs": [
        {
          "output_type": "display_data",
          "data": {
            "text/plain": [
              "<Figure size 640x480 with 1 Axes>"
            ],
            "image/png": "[encoded data removed]"
          },
          "metadata": {}
        },
        {
          "output_type": "stream",
          "name": "stdout",
          "text": [
            "The optimal number of clusters obtained is -  5\n",
            "The loss for optimal cluster is -  691.075753072733\n"
          ]
        }
      ],
      "source": [
        "# https://www.kaggle.com/karthik3890/text-clustering\n",
        "# Choosing the best cluster using Elbow Method.\n",
        "# source credit,few parts of min squred loss info is taken from different parts of the stakoverflow answers.\n",
        "# this is used to understand to find the optimal clusters in differen way rather than used in BOW, TFIDF\n",
        "\n",
        "num_clus = [x for x in range(3, 7)]\n",
        "squared_errors = []\n",
        "for cluster in num_clus:\n",
        "    cls = MiniBatchKMeans(n_clusters=cluster, random_state=random_state, n_init = 3)\n",
        "    cls.fit(tfidf_matrix) # Train Clusters\n",
        "    squared_errors.append(cls.inertia_) # Appending the squared loss obtained in the list\n",
        "\n",
        "optimal_clusters = np.argmin(squared_errors) + 2 # As argmin return the index of minimum loss.\n",
        "plt.plot(num_clus, squared_errors)\n",
        "plt.title(\"Elbow Curve to find the no. of clusters.\")\n",
        "plt.xlabel(\"Number of clusters.\")\n",
        "plt.ylabel(\"Squared Loss.\")\n",
        "xy = (optimal_clusters, min(squared_errors))\n",
        "plt.annotate('(%s, %s)' % xy, xy = xy, textcoords='data')\n",
        "plt.show()\n",
        "\n",
        "print (\"The optimal number of clusters obtained is - \", optimal_clusters)\n",
        "print (\"The loss for optimal cluster is - \", min(squared_errors))"
      ]
    },
    {
      "cell_type": "markdown",
      "metadata": {
        "id": "jy9tSwvXMJ3s"
      },
      "source": [
        "9\\. **Use the following two news articles as your test data, and predict cluster labels for your new dataset with the best value for K and the K-Means algorithm.**"
      ]
    },
    {
      "cell_type": "code",
      "execution_count": 14,
      "metadata": {
        "id": "CEOiENjEMJ3s"
      },
      "outputs": [],
      "source": [
        "documents = ['Frank de Boer out as Oranje manager after early Euro 2020 exit Dutch men’s football team coach.',\n",
        "             'The time has come for Nadal to be selective in the events that he should and should not play. This is where he can start the difficulty. After a rigorous participation of the clay season, Rafael Nadal definitely wants to conserve his energies for as long as possible.']"
      ]
    },
    {
      "cell_type": "code",
      "execution_count": 15,
      "metadata": {
        "id": "NHwTJgvhMJ3s",
        "outputId": "7232d4f6-dc79-4486-b801-fa99d24461ff",
        "colab": {
          "base_uri": "https://localhost:8080/",
          "height": 79
        }
      },
      "outputs": [
        {
          "output_type": "execute_result",
          "data": {
            "text/plain": [
              "MiniBatchKMeans(n_clusters=5, n_init=3, random_state=321)"
            ],
            "text/html": [
              "<style>#sk-container-id-2 {color: black;background-color: white;}#sk-container-id-2 pre{padding: 0;}#sk-container-id-2 div.sk-toggleable {background-color: white;}#sk-container-id-2 label.sk-toggleable__label {cursor: pointer;display: block;width: 100%;margin-bottom: 0;padding: 0.3em;box-sizing: border-box;text-align: center;}#sk-container-id-2 label.sk-toggleable__label-arrow:before {content: \"▸\";float: left;margin-right: 0.25em;color: #696969;}#sk-container-id-2 label.sk-toggleable__label-arrow:hover:before {color: black;}#sk-container-id-2 div.sk-estimator:hover label.sk-toggleable__label-arrow:before {color: black;}#sk-container-id-2 div.sk-toggleable__content {max-height: 0;max-width: 0;overflow: hidden;text-align: left;background-color: #f0f8ff;}#sk-container-id-2 div.sk-toggleable__content pre {margin: 0.2em;color: black;border-radius: 0.25em;background-color: #f0f8ff;}#sk-container-id-2 input.sk-toggleable__control:checked~div.sk-toggleable__content {max-height: 200px;max-width: 100%;overflow: auto;}#sk-container-id-2 input.sk-toggleable__control:checked~label.sk-toggleable__label-arrow:before {content: \"▾\";}#sk-container-id-2 div.sk-estimator input.sk-toggleable__control:checked~label.sk-toggleable__label {background-color: #d4ebff;}#sk-container-id-2 div.sk-label input.sk-toggleable__control:checked~label.sk-toggleable__label {background-color: #d4ebff;}#sk-container-id-2 input.sk-hidden--visually {border: 0;clip: rect(1px 1px 1px 1px);clip: rect(1px, 1px, 1px, 1px);height: 1px;margin: -1px;overflow: hidden;padding: 0;position: absolute;width: 1px;}#sk-container-id-2 div.sk-estimator {font-family: monospace;background-color: #f0f8ff;border: 1px dotted black;border-radius: 0.25em;box-sizing: border-box;margin-bottom: 0.5em;}#sk-container-id-2 div.sk-estimator:hover {background-color: #d4ebff;}#sk-container-id-2 div.sk-parallel-item::after {content: \"\";width: 100%;border-bottom: 1px solid gray;flex-grow: 1;}#sk-container-id-2 div.sk-label:hover label.sk-toggleable__label {background-color: #d4ebff;}#sk-container-id-2 div.sk-serial::before {content: \"\";position: absolute;border-left: 1px solid gray;box-sizing: border-box;top: 0;bottom: 0;left: 50%;z-index: 0;}#sk-container-id-2 div.sk-serial {display: flex;flex-direction: column;align-items: center;background-color: white;padding-right: 0.2em;padding-left: 0.2em;position: relative;}#sk-container-id-2 div.sk-item {position: relative;z-index: 1;}#sk-container-id-2 div.sk-parallel {display: flex;align-items: stretch;justify-content: center;background-color: white;position: relative;}#sk-container-id-2 div.sk-item::before, #sk-container-id-2 div.sk-parallel-item::before {content: \"\";position: absolute;border-left: 1px solid gray;box-sizing: border-box;top: 0;bottom: 0;left: 50%;z-index: -1;}#sk-container-id-2 div.sk-parallel-item {display: flex;flex-direction: column;z-index: 1;position: relative;background-color: white;}#sk-container-id-2 div.sk-parallel-item:first-child::after {align-self: flex-end;width: 50%;}#sk-container-id-2 div.sk-parallel-item:last-child::after {align-self: flex-start;width: 50%;}#sk-container-id-2 div.sk-parallel-item:only-child::after {width: 0;}#sk-container-id-2 div.sk-dashed-wrapped {border: 1px dashed gray;margin: 0 0.4em 0.5em 0.4em;box-sizing: border-box;padding-bottom: 0.4em;background-color: white;}#sk-container-id-2 div.sk-label label {font-family: monospace;font-weight: bold;display: inline-block;line-height: 1.2em;}#sk-container-id-2 div.sk-label-container {text-align: center;}#sk-container-id-2 div.sk-container {/* jupyter's `normalize.less` sets `[hidden] { display: none; }` but bootstrap.min.css set `[hidden] { display: none !important; }` so we also need the `!important` here to be able to override the default hidden behavior on the sphinx rendered scikit-learn.org. See: https://github.com/scikit-learn/scikit-learn/issues/21755 */display: inline-block !important;position: relative;}#sk-container-id-2 div.sk-text-repr-fallback {display: none;}</style><div id=\"sk-container-id-2\" class=\"sk-top-container\"><div class=\"sk-text-repr-fallback\"><pre>MiniBatchKMeans(n_clusters=5, n_init=3, random_state=321)</pre><b>In a Jupyter environment, please rerun this cell to show the HTML representation or trust the notebook. <br />On GitHub, the HTML representation is unable to render, please try loading this page with nbviewer.org.</b></div><div class=\"sk-container\" hidden><div class=\"sk-item\"><div class=\"sk-estimator sk-toggleable\"><input class=\"sk-toggleable__control sk-hidden--visually\" id=\"sk-estimator-id-2\" type=\"checkbox\" checked><label for=\"sk-estimator-id-2\" class=\"sk-toggleable__label sk-toggleable__label-arrow\">MiniBatchKMeans</label><div class=\"sk-toggleable__content\"><pre>MiniBatchKMeans(n_clusters=5, n_init=3, random_state=321)</pre></div></div></div></div></div>"
            ]
          },
          "metadata": {},
          "execution_count": 15
        }
      ],
      "source": [
        "n_clusters = 5\n",
        "cls = MiniBatchKMeans(n_clusters=n_clusters, random_state=random_state, n_init = 3)\n",
        "cls.fit(tfidf_matrix)"
      ]
    },
    {
      "cell_type": "code",
      "execution_count": 16,
      "metadata": {
        "id": "0AzyXeCmMJ3s",
        "outputId": "88f17be6-6f4e-4dcb-931f-3ecd6cb4391d",
        "colab": {
          "base_uri": "https://localhost:8080/"
        }
      },
      "outputs": [
        {
          "output_type": "execute_result",
          "data": {
            "text/plain": [
              "(2, 21604)"
            ]
          },
          "metadata": {},
          "execution_count": 16
        }
      ],
      "source": [
        "tfidf_test = tfidf_vectorizer.transform(documents)\n",
        "tfidf_test.shape"
      ]
    },
    {
      "cell_type": "code",
      "execution_count": 17,
      "metadata": {
        "id": "d0vNvhvZMJ3s",
        "outputId": "6014130e-4651-44b6-d5a9-75f4a88b7c41",
        "colab": {
          "base_uri": "https://localhost:8080/"
        }
      },
      "outputs": [
        {
          "output_type": "stream",
          "name": "stdout",
          "text": [
            "[1 1]\n"
          ]
        }
      ],
      "source": [
        "print(cls.predict(tfidf_test))"
      ]
    },
    {
      "cell_type": "markdown",
      "metadata": {
        "id": "R5DR-hCqMJ3t"
      },
      "source": [
        "### Hierarchical clustering"
      ]
    },
    {
      "cell_type": "markdown",
      "metadata": {
        "id": "HjW8yG3sMJ3t"
      },
      "source": [
        "10\\. **Hierarchical clustering is a type of unsupervised machine learning algorithm used to cluster unlabeled data points. Similar to the K-Means clustering, hierarchical clustering groups the data points with similar characteristics together. Apply a hierarchical clustering with the ward linkage on the BBC Sport dataset. Fit the model with 5 clusters and check the predicted labels.**"
      ]
    },
    {
      "cell_type": "code",
      "execution_count": 18,
      "metadata": {
        "id": "IYqgO8qHMJ3t"
      },
      "outputs": [],
      "source": [
        "cls2 = AgglomerativeClustering(n_clusters=5, metric='euclidean', linkage='ward')\n",
        "cls2 = cls2.fit(tfidf_matrix.toarray())"
      ]
    },
    {
      "cell_type": "code",
      "execution_count": 19,
      "metadata": {
        "id": "Inw5MGkbMJ3t",
        "outputId": "115fb760-e334-43a1-8377-0b8691c5f486",
        "colab": {
          "base_uri": "https://localhost:8080/"
        }
      },
      "outputs": [
        {
          "output_type": "execute_result",
          "data": {
            "text/plain": [
              "array([4, 4, 2, 2, 2, 4, 0, 0, 2, 2, 0, 1, 2, 2, 2, 2, 2, 2, 2, 4, 1, 2,\n",
              "       1, 1, 2, 2, 2, 2, 1, 0, 2, 2, 2, 2, 0, 0, 4, 1, 0, 2, 2, 2, 0, 2,\n",
              "       2, 1, 2, 2, 4, 0, 1, 0, 4, 2, 2, 1, 2, 1, 0, 2, 4, 0, 0, 0, 1, 2,\n",
              "       2, 0, 0, 2, 1, 4, 2, 2, 0, 1, 2, 2, 0, 4, 4, 1, 2, 1, 2, 1, 2, 1,\n",
              "       2, 1, 0, 0, 1, 0, 2, 3, 4, 0, 1, 4, 2, 0, 0, 4, 2, 2, 4, 4, 2, 2,\n",
              "       1, 0, 4, 4, 2, 0, 0, 0, 2, 4, 1, 2, 2, 1, 4, 2, 2, 2, 0, 0, 1, 1,\n",
              "       4, 4, 2, 1, 2, 2, 0, 0, 2, 3, 2, 0, 2, 2, 2, 1, 2, 0, 0, 2, 2, 0,\n",
              "       4, 2, 1, 2, 4, 2, 2, 2, 2, 4, 2, 4, 0, 0, 4, 2, 2, 2, 1, 2, 1, 1,\n",
              "       2, 2, 2, 2, 2, 0, 4, 0, 4, 1, 1, 0, 0, 4, 2, 2, 1, 1, 4, 2, 1, 2,\n",
              "       2, 0, 4, 2, 0, 2, 4, 4, 1, 0, 1, 2, 1, 0, 0, 0, 0, 2, 4, 3, 2, 2,\n",
              "       0, 4, 1, 1, 1, 2, 2, 1, 1, 4, 1, 4, 2, 1, 2, 2, 2, 1, 4, 1, 2, 2,\n",
              "       2, 2, 2, 4, 2, 0, 1, 4, 4, 1, 0, 2, 2, 2, 2, 2, 4, 2, 2, 2, 2, 0,\n",
              "       2, 0, 1, 0, 0, 0, 0, 2, 4, 2, 2, 2, 1, 4, 1, 0, 2, 4, 0, 2, 1, 0,\n",
              "       0, 0, 4, 2, 2, 0, 2, 0, 0, 2, 4, 2, 0, 0, 4, 2, 1, 2, 4, 2, 0, 1,\n",
              "       2, 2, 4, 0, 0, 0, 2, 0, 2, 2, 2, 1, 4, 4, 0, 3, 2, 2, 2, 2, 0, 2,\n",
              "       2, 2, 2, 0, 2, 2, 2, 2, 2, 0, 0, 0, 2, 4, 2, 0, 4, 2, 2, 4, 1, 0,\n",
              "       0, 4, 4, 0, 1, 2, 2, 2, 2, 0, 2, 2, 4, 2, 2, 4, 0, 0, 0, 2, 1, 2,\n",
              "       2, 2, 2, 2, 0, 2, 1, 2, 4, 0, 0, 2, 0, 4, 2, 2, 1, 4, 1, 4, 2, 4,\n",
              "       2, 4, 2, 4, 0, 2, 4, 1, 0, 4, 2, 2, 2, 1, 1, 2, 0, 2, 4, 0, 2, 1,\n",
              "       2, 0, 0, 2, 1, 0, 2, 0, 2, 2, 2, 2, 3, 2, 4, 2, 4, 2, 2, 0, 2, 4,\n",
              "       1, 2, 0, 0, 1, 2, 2, 4, 4, 2, 0, 2, 0, 2, 1, 0, 1, 0, 3, 4, 1, 2,\n",
              "       2, 2, 1, 2, 1, 0, 2, 0, 2, 0, 0, 1, 2, 2, 0, 2, 4, 2, 0, 2, 2, 2,\n",
              "       0, 2, 0, 2, 2, 2, 4, 2, 0, 1, 0, 2, 1, 4, 3, 1, 2, 2, 2, 4, 2, 2,\n",
              "       2, 0, 2, 2, 1, 1, 3, 0, 1, 2, 2, 4, 0, 2, 2, 4, 4, 4, 1, 0, 4, 2,\n",
              "       2, 1, 2, 1, 2, 2, 4, 4, 4, 2, 1, 3, 0, 2, 0, 2, 0, 1, 4, 0, 1, 0,\n",
              "       2, 1, 3, 2, 4, 4, 0, 2, 2, 2, 0, 2, 0, 2, 0, 2, 2, 0, 2, 1, 2, 2,\n",
              "       0, 2, 1, 2, 4, 1, 4, 2, 2, 4, 0, 2, 0, 1, 2, 4, 2, 4, 2, 2, 4, 2,\n",
              "       0, 2, 1, 4, 2, 2, 1, 2, 1, 0, 4, 1, 0, 2, 3, 1, 0, 2, 2, 2, 0, 2,\n",
              "       1, 2, 1, 0, 1, 1, 1, 4, 1, 2, 2, 0, 1, 4, 2, 2, 0, 2, 1, 0, 3, 2,\n",
              "       1, 1, 0, 0, 0, 2, 2, 0, 2, 0, 2, 2, 2, 2, 2, 1, 2, 1, 2, 0, 2, 4,\n",
              "       2, 4, 3, 0, 0, 0, 2, 0, 0, 4, 4, 4, 4, 0, 2, 2, 2, 0, 1, 0, 2, 1,\n",
              "       4, 1, 2, 4, 0, 2, 2, 0, 1, 2, 0, 2, 0, 2, 1, 1, 2, 1, 4, 3, 2, 0,\n",
              "       4, 2, 4, 4, 2, 0, 1, 0, 0, 2, 2, 0, 2, 2, 2, 0, 2, 2, 2, 1, 1, 0,\n",
              "       1, 1, 4, 2, 2, 2, 1, 2, 0, 1, 4])"
            ]
          },
          "metadata": {},
          "execution_count": 19
        }
      ],
      "source": [
        "cls2.labels_"
      ]
    },
    {
      "cell_type": "markdown",
      "metadata": {
        "id": "fN4sZYsOMJ3t"
      },
      "source": [
        "11\\. **Plot a dendrogram for your hierarchical clustering model using the function below. To do this, you need to fit the model again without assigning the number of clusters.**"
      ]
    },
    {
      "cell_type": "code",
      "execution_count": 20,
      "metadata": {
        "id": "mPbbQJZGMJ3u"
      },
      "outputs": [],
      "source": [
        "def plot_dendrogram(model, **kwargs):\n",
        "    # Create linkage matrix and then plot the dendrogram\n",
        "\n",
        "    # create the counts of samples under each node\n",
        "    counts = np.zeros(model.children_.shape[0])\n",
        "    n_samples = len(model.labels_)\n",
        "    for i, merge in enumerate(model.children_):\n",
        "        current_count = 0\n",
        "        for child_idx in merge:\n",
        "            if child_idx < n_samples:\n",
        "                current_count += 1  # leaf node\n",
        "            else:\n",
        "                current_count += counts[child_idx - n_samples]\n",
        "        counts[i] = current_count\n",
        "\n",
        "    linkage_matrix = np.column_stack([model.children_, model.distances_,\n",
        "                                      counts]).astype(float)\n",
        "\n",
        "    # Plot the corresponding dendrogram\n",
        "    dendrogram(linkage_matrix, **kwargs)"
      ]
    },
    {
      "cell_type": "code",
      "execution_count": 21,
      "metadata": {
        "id": "77z1rLO5MJ3u",
        "outputId": "7660fa30-d9af-4afe-adb1-0f9054131e9a",
        "colab": {
          "base_uri": "https://localhost:8080/",
          "height": 480
        }
      },
      "outputs": [
        {
          "output_type": "display_data",
          "data": {
            "text/plain": [
              "<Figure size 640x480 with 1 Axes>"
            ],
            "image/png": "[encoded data removed]"
          },
          "metadata": {}
        }
      ],
      "source": [
        "# setting distance_threshold=0 ensures we compute the full tree.\n",
        "cls2 = AgglomerativeClustering(n_clusters=None, metric='euclidean', linkage='ward', distance_threshold=0)\n",
        "cls2 = cls2.fit(tfidf_matrix.toarray())\n",
        "\n",
        "plt.title('Hierarchical Clustering Dendrogram')\n",
        "# plot the top three levels of the dendrogram\n",
        "plot_dendrogram(cls2, truncate_mode='level', p=5)\n",
        "plt.xlabel(\"Number of points in node (or index of point if no parenthesis).\")\n",
        "plt.show()"
      ]
    },
    {
      "cell_type": "code",
      "execution_count": 22,
      "metadata": {
        "scrolled": true,
        "id": "0w7TUbG-MJ3u",
        "colab": {
          "base_uri": "https://localhost:8080/",
          "height": 621
        },
        "outputId": "3f9ff433-26e4-403b-c547-300f25e16868"
      },
      "outputs": [
        {
          "output_type": "display_data",
          "data": {
            "text/plain": [
              "<Figure size 1000x700 with 1 Axes>"
            ],
            "image/png": "[encoded data removed]"
          },
          "metadata": {}
        }
      ],
      "source": [
        "# here is another way of plotting the hc using the scipy library\n",
        "import scipy.cluster.hierarchy as shc\n",
        "plt.figure(figsize=(10, 7))\n",
        "plt.title(\"Tfidf dendogram for hierarchical clustering\")\n",
        "dend = shc.dendrogram(shc.linkage(tfidf_matrix.toarray(), method='ward'))"
      ]
    },
    {
      "cell_type": "markdown",
      "metadata": {
        "id": "WsQebCcuMJ3u"
      },
      "source": [
        "### Topic modeling"
      ]
    },
    {
      "cell_type": "markdown",
      "metadata": {
        "id": "WaDRCjQqMJ3u"
      },
      "source": [
        "Topic modeling is another unsupervised method for text mining applications where we want to get an idea of what topics we have in our dataset. A topic is a collection of words that describe the overall theme. For example, in case of news articles, you might think of topics as the categories in the dataset. Just like clustering algorithms, there are some algorithms that need you to specify the number of topics you want to extract from the dataset and some that automatically determine the number of topics. Here, we are going to use the Latent Dirichlet Allocation (LDA) method for topic modeling. You can check sklearn's documentation for more details about LDA from the `sklearn.decomposition` module."
      ]
    },
    {
      "cell_type": "markdown",
      "metadata": {
        "id": "nOE5yIi5MJ3u"
      },
      "source": [
        "12\\. **One of the mainly used approaches for topic modeling is Latent Dirichlet Allocation (LDA). The LDA is based upon two general assumptions:**\n",
        "\n",
        "- Documents exhibit multiple topics\n",
        "- A topic is a distribution over a fixed vocabulary\n",
        "\n",
        "**Train a LDA model from the `sklearn` package for topic modeling with 5 components.****"
      ]
    },
    {
      "cell_type": "code",
      "execution_count": 23,
      "metadata": {
        "id": "PTQdcxUJMJ3v",
        "outputId": "a8b9383d-4a50-4f27-ed18-ef54094d7c13",
        "colab": {
          "base_uri": "https://localhost:8080/",
          "height": 79
        }
      },
      "outputs": [
        {
          "output_type": "execute_result",
          "data": {
            "text/plain": [
              "LatentDirichletAllocation(evaluate_every=10, n_components=5, random_state=321)"
            ],
            "text/html": [
              "<style>#sk-container-id-3 {color: black;background-color: white;}#sk-container-id-3 pre{padding: 0;}#sk-container-id-3 div.sk-toggleable {background-color: white;}#sk-container-id-3 label.sk-toggleable__label {cursor: pointer;display: block;width: 100%;margin-bottom: 0;padding: 0.3em;box-sizing: border-box;text-align: center;}#sk-container-id-3 label.sk-toggleable__label-arrow:before {content: \"▸\";float: left;margin-right: 0.25em;color: #696969;}#sk-container-id-3 label.sk-toggleable__label-arrow:hover:before {color: black;}#sk-container-id-3 div.sk-estimator:hover label.sk-toggleable__label-arrow:before {color: black;}#sk-container-id-3 div.sk-toggleable__content {max-height: 0;max-width: 0;overflow: hidden;text-align: left;background-color: #f0f8ff;}#sk-container-id-3 div.sk-toggleable__content pre {margin: 0.2em;color: black;border-radius: 0.25em;background-color: #f0f8ff;}#sk-container-id-3 input.sk-toggleable__control:checked~div.sk-toggleable__content {max-height: 200px;max-width: 100%;overflow: auto;}#sk-container-id-3 input.sk-toggleable__control:checked~label.sk-toggleable__label-arrow:before {content: \"▾\";}#sk-container-id-3 div.sk-estimator input.sk-toggleable__control:checked~label.sk-toggleable__label {background-color: #d4ebff;}#sk-container-id-3 div.sk-label input.sk-toggleable__control:checked~label.sk-toggleable__label {background-color: #d4ebff;}#sk-container-id-3 input.sk-hidden--visually {border: 0;clip: rect(1px 1px 1px 1px);clip: rect(1px, 1px, 1px, 1px);height: 1px;margin: -1px;overflow: hidden;padding: 0;position: absolute;width: 1px;}#sk-container-id-3 div.sk-estimator {font-family: monospace;background-color: #f0f8ff;border: 1px dotted black;border-radius: 0.25em;box-sizing: border-box;margin-bottom: 0.5em;}#sk-container-id-3 div.sk-estimator:hover {background-color: #d4ebff;}#sk-container-id-3 div.sk-parallel-item::after {content: \"\";width: 100%;border-bottom: 1px solid gray;flex-grow: 1;}#sk-container-id-3 div.sk-label:hover label.sk-toggleable__label {background-color: #d4ebff;}#sk-container-id-3 div.sk-serial::before {content: \"\";position: absolute;border-left: 1px solid gray;box-sizing: border-box;top: 0;bottom: 0;left: 50%;z-index: 0;}#sk-container-id-3 div.sk-serial {display: flex;flex-direction: column;align-items: center;background-color: white;padding-right: 0.2em;padding-left: 0.2em;position: relative;}#sk-container-id-3 div.sk-item {position: relative;z-index: 1;}#sk-container-id-3 div.sk-parallel {display: flex;align-items: stretch;justify-content: center;background-color: white;position: relative;}#sk-container-id-3 div.sk-item::before, #sk-container-id-3 div.sk-parallel-item::before {content: \"\";position: absolute;border-left: 1px solid gray;box-sizing: border-box;top: 0;bottom: 0;left: 50%;z-index: -1;}#sk-container-id-3 div.sk-parallel-item {display: flex;flex-direction: column;z-index: 1;position: relative;background-color: white;}#sk-container-id-3 div.sk-parallel-item:first-child::after {align-self: flex-end;width: 50%;}#sk-container-id-3 div.sk-parallel-item:last-child::after {align-self: flex-start;width: 50%;}#sk-container-id-3 div.sk-parallel-item:only-child::after {width: 0;}#sk-container-id-3 div.sk-dashed-wrapped {border: 1px dashed gray;margin: 0 0.4em 0.5em 0.4em;box-sizing: border-box;padding-bottom: 0.4em;background-color: white;}#sk-container-id-3 div.sk-label label {font-family: monospace;font-weight: bold;display: inline-block;line-height: 1.2em;}#sk-container-id-3 div.sk-label-container {text-align: center;}#sk-container-id-3 div.sk-container {/* jupyter's `normalize.less` sets `[hidden] { display: none; }` but bootstrap.min.css set `[hidden] { display: none !important; }` so we also need the `!important` here to be able to override the default hidden behavior on the sphinx rendered scikit-learn.org. See: https://github.com/scikit-learn/scikit-learn/issues/21755 */display: inline-block !important;position: relative;}#sk-container-id-3 div.sk-text-repr-fallback {display: none;}</style><div id=\"sk-container-id-3\" class=\"sk-top-container\"><div class=\"sk-text-repr-fallback\"><pre>LatentDirichletAllocation(evaluate_every=10, n_components=5, random_state=321)</pre><b>In a Jupyter environment, please rerun this cell to show the HTML representation or trust the notebook. <br />On GitHub, the HTML representation is unable to render, please try loading this page with nbviewer.org.</b></div><div class=\"sk-container\" hidden><div class=\"sk-item\"><div class=\"sk-estimator sk-toggleable\"><input class=\"sk-toggleable__control sk-hidden--visually\" id=\"sk-estimator-id-3\" type=\"checkbox\" checked><label for=\"sk-estimator-id-3\" class=\"sk-toggleable__label sk-toggleable__label-arrow\">LatentDirichletAllocation</label><div class=\"sk-toggleable__content\"><pre>LatentDirichletAllocation(evaluate_every=10, n_components=5, random_state=321)</pre></div></div></div></div></div>"
            ]
          },
          "metadata": {},
          "execution_count": 23
        }
      ],
      "source": [
        "LDA = LatentDirichletAllocation(n_components=5, random_state=321, evaluate_every=10)\n",
        "LDA.fit(tfidf_matrix)"
      ]
    },
    {
      "cell_type": "markdown",
      "metadata": {
        "id": "UAZvpTaeMJ3v"
      },
      "source": [
        "We used LDA to create topics along with the probability distribution for each word in our vocabulary for each topic. The parameter `n_components` specifies the number of categories, or topics, that we want our text to be divided into."
      ]
    },
    {
      "cell_type": "markdown",
      "metadata": {
        "id": "fg-Ty2hDMJ3v"
      },
      "source": [
        "13\\. **Print the 10 words with highest probabilities for all the five topics.**"
      ]
    },
    {
      "cell_type": "code",
      "execution_count": 24,
      "metadata": {
        "id": "Si0tSd59MJ3v",
        "outputId": "4ba52535-e019-4051-961d-a5451201f5c7",
        "colab": {
          "base_uri": "https://localhost:8080/"
        }
      },
      "outputs": [
        {
          "output_type": "stream",
          "name": "stdout",
          "text": [
            "Top 10 words for topic #0:\n",
            "['play', 'cup', 'players', 'team', 'win', 'world', 'year', 'game', 'england', 'said']\n",
            "\n",
            "\n",
            "Top 10 words for topic #1:\n",
            "['maurice', 'holmes', 'capriati', 'mauresmo', 'isinbayeva', 'sharapova', 'greene', 'lewis francis', 'francis', 'mirza']\n",
            "\n",
            "\n",
            "Top 10 words for topic #2:\n",
            "['gregory lamboley', 'imanol', 'half replacement', 'valbon', 'harinordoquy', 'stade', 'bortolami', 'bourgoin', 'toulousain', 'stade toulousain']\n",
            "\n",
            "\n",
            "Top 10 words for topic #3:\n",
            "['tribunal', 'charges', 'balco', 'conte', 'drugs', 'doping', 'thanou', 'greek', 'iaaf', 'kenteris']\n",
            "\n",
            "\n",
            "Top 10 words for topic #4:\n",
            "['money women', 'rod', 'aus', 'ind', 'pattaya', 'prize money', 'kafer', 'martinez', 'umaga', 'hingis']\n",
            "\n",
            "\n"
          ]
        }
      ],
      "source": [
        "for i,topic in enumerate(LDA.components_):\n",
        "    print(f'Top 10 words for topic #{i}:')\n",
        "    print([tfidf_vectorizer.get_feature_names_out()[i] for i in topic.argsort()[-10:]])\n",
        "    print('\\n')"
      ]
    },
    {
      "cell_type": "markdown",
      "metadata": {
        "id": "9H14AbtBMJ3v"
      },
      "source": [
        "You can also use the following function for this purpose:"
      ]
    },
    {
      "cell_type": "code",
      "execution_count": 25,
      "metadata": {
        "id": "xKlyxLFwMJ3v"
      },
      "outputs": [],
      "source": [
        "def display_topics(model, feature_names, no_top_words):\n",
        "    topic_dict = {}\n",
        "    for topic_idx, topic in enumerate(model.components_):\n",
        "        topic_dict[\"Topic %d words\" % (topic_idx)]= ['{}'.format(feature_names[i])\n",
        "                        for i in topic.argsort()[:-no_top_words - 1:-1]]\n",
        "        topic_dict[\"Topic %d weights\" % (topic_idx)]= ['{:.1f}'.format(topic[i])\n",
        "                        for i in topic.argsort()[:-no_top_words - 1:-1]]\n",
        "    return pd.DataFrame(topic_dict)"
      ]
    },
    {
      "cell_type": "code",
      "execution_count": 26,
      "metadata": {
        "id": "ihdu7XlSMJ3w",
        "outputId": "632825a5-9e15-4d4c-c526-1daee3afdd8f",
        "colab": {
          "base_uri": "https://localhost:8080/",
          "height": 271
        }
      },
      "outputs": [
        {
          "output_type": "execute_result",
          "data": {
            "text/plain": [
              "  Topic 0 words Topic 0 weights  Topic 1 words Topic 1 weights  \\\n",
              "0          said            21.1          mirza             2.2   \n",
              "1       england            18.2        francis             2.0   \n",
              "2          game            13.8  lewis francis             2.0   \n",
              "3          year            13.6         greene             1.7   \n",
              "\n",
              "      Topic 2 words Topic 2 weights Topic 3 words Topic 3 weights  \\\n",
              "0  stade toulousain             1.0      kenteris             3.5   \n",
              "1        toulousain             1.0          iaaf             3.1   \n",
              "2          bourgoin             0.6         greek             3.1   \n",
              "3         bortolami             0.6        thanou             3.1   \n",
              "\n",
              "  Topic 4 words Topic 4 weights  \n",
              "0        hingis             1.0  \n",
              "1         umaga             1.0  \n",
              "2      martinez             0.9  \n",
              "3         kafer             0.8  "
            ],
            "text/html": [
              "\n",
              "\n",
              "  <div id=\"df-b0e855ac-5c92-4cc1-a0b5-723a276d7f55\">\n",
              "    <div class=\"colab-df-container\">\n",
              "      <div>\n",
              "<style scoped>\n",
              "    .dataframe tbody tr th:only-of-type {\n",
              "        vertical-align: middle;\n",
              "    }\n",
              "\n",
              "    .dataframe tbody tr th {\n",
              "        vertical-align: top;\n",
              "    }\n",
              "\n",
              "    .dataframe thead th {\n",
              "        text-align: right;\n",
              "    }\n",
              "</style>\n",
              "<table border=\"1\" class=\"dataframe\">\n",
              "  <thead>\n",
              "    <tr style=\"text-align: right;\">\n",
              "      <th></th>\n",
              "      <th>Topic 0 words</th>\n",
              "      <th>Topic 0 weights</th>\n",
              "      <th>Topic 1 words</th>\n",
              "      <th>Topic 1 weights</th>\n",
              "      <th>Topic 2 words</th>\n",
              "      <th>Topic 2 weights</th>\n",
              "      <th>Topic 3 words</th>\n",
              "      <th>Topic 3 weights</th>\n",
              "      <th>Topic 4 words</th>\n",
              "      <th>Topic 4 weights</th>\n",
              "    </tr>\n",
              "  </thead>\n",
              "  <tbody>\n",
              "    <tr>\n",
              "      <th>0</th>\n",
              "      <td>said</td>\n",
              "      <td>21.1</td>\n",
              "      <td>mirza</td>\n",
              "      <td>2.2</td>\n",
              "      <td>stade toulousain</td>\n",
              "      <td>1.0</td>\n",
              "      <td>kenteris</td>\n",
              "      <td>3.5</td>\n",
              "      <td>hingis</td>\n",
              "      <td>1.0</td>\n",
              "    </tr>\n",
              "    <tr>\n",
              "      <th>1</th>\n",
              "      <td>england</td>\n",
              "      <td>18.2</td>\n",
              "      <td>francis</td>\n",
              "      <td>2.0</td>\n",
              "      <td>toulousain</td>\n",
              "      <td>1.0</td>\n",
              "      <td>iaaf</td>\n",
              "      <td>3.1</td>\n",
              "      <td>umaga</td>\n",
              "      <td>1.0</td>\n",
              "    </tr>\n",
              "    <tr>\n",
              "      <th>2</th>\n",
              "      <td>game</td>\n",
              "      <td>13.8</td>\n",
              "      <td>lewis francis</td>\n",
              "      <td>2.0</td>\n",
              "      <td>bourgoin</td>\n",
              "      <td>0.6</td>\n",
              "      <td>greek</td>\n",
              "      <td>3.1</td>\n",
              "      <td>martinez</td>\n",
              "      <td>0.9</td>\n",
              "    </tr>\n",
              "    <tr>\n",
              "      <th>3</th>\n",
              "      <td>year</td>\n",
              "      <td>13.6</td>\n",
              "      <td>greene</td>\n",
              "      <td>1.7</td>\n",
              "      <td>bortolami</td>\n",
              "      <td>0.6</td>\n",
              "      <td>thanou</td>\n",
              "      <td>3.1</td>\n",
              "      <td>kafer</td>\n",
              "      <td>0.8</td>\n",
              "    </tr>\n",
              "  </tbody>\n",
              "</table>\n",
              "</div>\n",
              "      <button class=\"colab-df-convert\" onclick=\"convertToInteractive('df-b0e855ac-5c92-4cc1-a0b5-723a276d7f55')\"\n",
              "              title=\"Convert this dataframe to an interactive table.\"\n",
              "              style=\"display:none;\">\n",
              "\n",
              "  <svg xmlns=\"http://www.w3.org/2000/svg\" height=\"24px\"viewBox=\"0 0 24 24\"\n",
              "       width=\"24px\">\n",
              "    <path d=\"M0 0h24v24H0V0z\" fill=\"none\"/>\n",
              "    <path d=\"M18.56 5.44l.94 2.06.94-2.06 2.06-.94-2.06-.94-.94-2.06-.94 2.06-2.06.94zm-11 1L8.5 8.5l.94-2.06 2.06-.94-2.06-.94L8.5 2.5l-.94 2.06-2.06.94zm10 10l.94 2.06.94-2.06 2.06-.94-2.06-.94-.94-2.06-.94 2.06-2.06.94z\"/><path d=\"M17.41 7.96l-1.37-1.37c-.4-.4-.92-.59-1.43-.59-.52 0-1.04.2-1.43.59L10.3 9.45l-7.72 7.72c-.78.78-.78 2.05 0 2.83L4 21.41c.39.39.9.59 1.41.59.51 0 1.02-.2 1.41-.59l7.78-7.78 2.81-2.81c.8-.78.8-2.07 0-2.86zM5.41 20L4 18.59l7.72-7.72 1.47 1.35L5.41 20z\"/>\n",
              "  </svg>\n",
              "      </button>\n",
              "\n",
              "\n",
              "\n",
              "    <div id=\"df-fe9211f9-4093-4d24-9e56-0834c0238515\">\n",
              "      <button class=\"colab-df-quickchart\" onclick=\"quickchart('df-fe9211f9-4093-4d24-9e56-0834c0238515')\"\n",
              "              title=\"Suggest charts.\"\n",
              "              style=\"display:none;\">\n",
              "\n",
              "<svg xmlns=\"http://www.w3.org/2000/svg\" height=\"24px\"viewBox=\"0 0 24 24\"\n",
              "     width=\"24px\">\n",
              "    <g>\n",
              "        <path d=\"M19 3H5c-1.1 0-2 .9-2 2v14c0 1.1.9 2 2 2h14c1.1 0 2-.9 2-2V5c0-1.1-.9-2-2-2zM9 17H7v-7h2v7zm4 0h-2V7h2v10zm4 0h-2v-4h2v4z\"/>\n",
              "    </g>\n",
              "</svg>\n",
              "      </button>\n",
              "    </div>\n",
              "\n",
              "<style>\n",
              "  .colab-df-quickchart {\n",
              "    background-color: #E8F0FE;\n",
              "    border: none;\n",
              "    border-radius: 50%;\n",
              "    cursor: pointer;\n",
              "    display: none;\n",
              "    fill: #1967D2;\n",
              "    height: 32px;\n",
              "    padding: 0 0 0 0;\n",
              "    width: 32px;\n",
              "  }\n",
              "\n",
              "  .colab-df-quickchart:hover {\n",
              "    background-color: #E2EBFA;\n",
              "    box-shadow: 0px 1px 2px rgba(60, 64, 67, 0.3), 0px 1px 3px 1px rgba(60, 64, 67, 0.15);\n",
              "    fill: #174EA6;\n",
              "  }\n",
              "\n",
              "  [theme=dark] .colab-df-quickchart {\n",
              "    background-color: #3B4455;\n",
              "    fill: #D2E3FC;\n",
              "  }\n",
              "\n",
              "  [theme=dark] .colab-df-quickchart:hover {\n",
              "    background-color: #434B5C;\n",
              "    box-shadow: 0px 1px 3px 1px rgba(0, 0, 0, 0.15);\n",
              "    filter: drop-shadow(0px 1px 2px rgba(0, 0, 0, 0.3));\n",
              "    fill: #FFFFFF;\n",
              "  }\n",
              "</style>\n",
              "\n",
              "    <script>\n",
              "      async function quickchart(key) {\n",
              "        const containerElement = document.querySelector('#' + key);\n",
              "        const charts = await google.colab.kernel.invokeFunction(\n",
              "            'suggestCharts', [key], {});\n",
              "      }\n",
              "    </script>\n",
              "\n",
              "      <script>\n",
              "\n",
              "function displayQuickchartButton(domScope) {\n",
              "  let quickchartButtonEl =\n",
              "    domScope.querySelector('#df-fe9211f9-4093-4d24-9e56-0834c0238515 button.colab-df-quickchart');\n",
              "  quickchartButtonEl.style.display =\n",
              "    google.colab.kernel.accessAllowed ? 'block' : 'none';\n",
              "}\n",
              "\n",
              "        displayQuickchartButton(document);\n",
              "      </script>\n",
              "      <style>\n",
              "    .colab-df-container {\n",
              "      display:flex;\n",
              "      flex-wrap:wrap;\n",
              "      gap: 12px;\n",
              "    }\n",
              "\n",
              "    .colab-df-convert {\n",
              "      background-color: #E8F0FE;\n",
              "      border: none;\n",
              "      border-radius: 50%;\n",
              "      cursor: pointer;\n",
              "      display: none;\n",
              "      fill: #1967D2;\n",
              "      height: 32px;\n",
              "      padding: 0 0 0 0;\n",
              "      width: 32px;\n",
              "    }\n",
              "\n",
              "    .colab-df-convert:hover {\n",
              "      background-color: #E2EBFA;\n",
              "      box-shadow: 0px 1px 2px rgba(60, 64, 67, 0.3), 0px 1px 3px 1px rgba(60, 64, 67, 0.15);\n",
              "      fill: #174EA6;\n",
              "    }\n",
              "\n",
              "    [theme=dark] .colab-df-convert {\n",
              "      background-color: #3B4455;\n",
              "      fill: #D2E3FC;\n",
              "    }\n",
              "\n",
              "    [theme=dark] .colab-df-convert:hover {\n",
              "      background-color: #434B5C;\n",
              "      box-shadow: 0px 1px 3px 1px rgba(0, 0, 0, 0.15);\n",
              "      filter: drop-shadow(0px 1px 2px rgba(0, 0, 0, 0.3));\n",
              "      fill: #FFFFFF;\n",
              "    }\n",
              "  </style>\n",
              "\n",
              "      <script>\n",
              "        const buttonEl =\n",
              "          document.querySelector('#df-b0e855ac-5c92-4cc1-a0b5-723a276d7f55 button.colab-df-convert');\n",
              "        buttonEl.style.display =\n",
              "          google.colab.kernel.accessAllowed ? 'block' : 'none';\n",
              "\n",
              "        async function convertToInteractive(key) {\n",
              "          const element = document.querySelector('#df-b0e855ac-5c92-4cc1-a0b5-723a276d7f55');\n",
              "          const dataTable =\n",
              "            await google.colab.kernel.invokeFunction('convertToInteractive',\n",
              "                                                     [key], {});\n",
              "          if (!dataTable) return;\n",
              "\n",
              "          const docLinkHtml = 'Like what you see? Visit the ' +\n",
              "            '<a target=\"_blank\" href=https://colab.research.google.com/notebooks/data_table.ipynb>data table notebook</a>'\n",
              "            + ' to learn more about interactive tables.';\n",
              "          element.innerHTML = '';\n",
              "          dataTable['output_type'] = 'display_data';\n",
              "          await google.colab.output.renderOutput(dataTable, element);\n",
              "          const docLink = document.createElement('div');\n",
              "          docLink.innerHTML = docLinkHtml;\n",
              "          element.appendChild(docLink);\n",
              "        }\n",
              "      </script>\n",
              "    </div>\n",
              "  </div>\n"
            ]
          },
          "metadata": {},
          "execution_count": 26
        }
      ],
      "source": [
        "no_top_words = 10\n",
        "display_topics(LDA, tfidf_vectorizer.get_feature_names_out(), no_top_words=4)"
      ]
    },
    {
      "cell_type": "markdown",
      "metadata": {
        "id": "GQx4WBe4MJ3w"
      },
      "source": [
        "14\\. **Transform the learned topics into your data. Check the shape of the output. What can be the use of this output?**"
      ]
    },
    {
      "cell_type": "code",
      "execution_count": 27,
      "metadata": {
        "id": "Szbh41MOMJ3w",
        "outputId": "c116d5a8-bd41-45f4-908e-651acc0a0a6b",
        "colab": {
          "base_uri": "https://localhost:8080/"
        }
      },
      "outputs": [
        {
          "output_type": "execute_result",
          "data": {
            "text/plain": [
              "(737, 5)"
            ]
          },
          "metadata": {},
          "execution_count": 27
        }
      ],
      "source": [
        "topic_values = LDA.transform(tfidf_matrix)\n",
        "topic_values.shape"
      ]
    },
    {
      "cell_type": "code",
      "execution_count": 28,
      "metadata": {
        "id": "a19b3fdbMJ3w",
        "outputId": "38c6ec04-101d-48a7-f540-eaefa164a927",
        "colab": {
          "base_uri": "https://localhost:8080/"
        }
      },
      "outputs": [
        {
          "output_type": "execute_result",
          "data": {
            "text/plain": [
              "array([[0.95297704, 0.01175449, 0.01175873, 0.01175444, 0.01175529],\n",
              "       [0.94455696, 0.01385469, 0.01387983, 0.0138542 , 0.01385432],\n",
              "       [0.94949035, 0.01264149, 0.01261802, 0.01263226, 0.01261788],\n",
              "       ...,\n",
              "       [0.92571628, 0.01857336, 0.01856985, 0.01857083, 0.01856967],\n",
              "       [0.4823713 , 0.48677254, 0.01028672, 0.01028405, 0.0102854 ],\n",
              "       [0.363303  , 0.01191515, 0.60094594, 0.01191983, 0.01191608]])"
            ]
          },
          "metadata": {},
          "execution_count": 28
        }
      ],
      "source": [
        "topic_values"
      ]
    },
    {
      "cell_type": "markdown",
      "metadata": {
        "id": "18CguCjoMJ3w"
      },
      "source": [
        "This output can be used as our new observations and features for further tasks."
      ]
    },
    {
      "cell_type": "markdown",
      "metadata": {
        "id": "y2jyh0V_MJ3x"
      },
      "source": [
        "15\\. **Use the `score` function for LDA to calculate the log likelihood for your data. Compare two LDA models with 5 and 10 topics.**"
      ]
    },
    {
      "cell_type": "code",
      "execution_count": 29,
      "metadata": {
        "id": "qI4eYnAPMJ3x",
        "outputId": "df05377f-7cc5-4ba1-e003-a21deed3a1b0",
        "colab": {
          "base_uri": "https://localhost:8080/"
        }
      },
      "outputs": [
        {
          "output_type": "stream",
          "name": "stdout",
          "text": [
            "The log likelihood for the LDA model with 5 topics: -91498.09007139162\n",
            "The log likelihood for the LDA model with 10 topics: -106388.86181536067\n"
          ]
        }
      ],
      "source": [
        "LDA10 = LatentDirichletAllocation(n_components=10, random_state=321, evaluate_every=10)\n",
        "LDA10.fit(tfidf_matrix)\n",
        "print(\"The log likelihood for the LDA model with 5 topics:\", LDA.score(tfidf_matrix))\n",
        "print(\"The log likelihood for the LDA model with 10 topics:\", LDA10.score(tfidf_matrix))"
      ]
    },
    {
      "cell_type": "markdown",
      "metadata": {
        "id": "3VOm1V5HMJ3x"
      },
      "source": [
        "Many procedures use the log of the likelihood, rather than the likelihood itself, because it is easier to work with. The log likelihood (i.e., the log of the likelihood) will always be negative, with higher values (closer to zero) indicating a better fitting model. Here this belongs to the model with 5 topics."
      ]
    }
  ],
  "metadata": {
    "kernelspec": {
      "display_name": "Python 3 (ipykernel)",
      "language": "python",
      "name": "python3"
    },
    "language_info": {
      "codemirror_mode": {
        "name": "ipython",
        "version": 3
      },
      "file_extension": ".py",
      "mimetype": "text/x-python",
      "name": "python",
      "nbconvert_exporter": "python",
      "pygments_lexer": "ipython3",
      "version": "3.9.10"
    },
    "colab": {
      "provenance": []
    }
  },
  "nbformat": 4,
  "nbformat_minor": 0
}