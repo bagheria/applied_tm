{
 "cells": [
  {
   "cell_type": "markdown",
   "metadata": {},
   "source": [
    "# Practical 10: Neural Machine Translation\n",
    "#### Ayoub Bagheri\n",
    "<img src=\"img/uu_logo.png\" alt=\"logo\" align=\"right\" title=\"UU\" width=\"50\" height=\"20\" />\n",
    "\n",
    "#### Applied Text Mining - Utrecht Summer School"
   ]
  },
  {
   "cell_type": "markdown",
   "metadata": {},
   "source": [
    "You made it! It is the last practical of the Applied Text Mining course. \n",
    "\n",
    "In this practical, we will create models for neural machine translation. Today we are curious to see how a simple deep learning-based model translates a sentence into its counterpart. See these examples:\n",
    "\n",
    "<img src=\"img/translation_example.png\" />\n",
    "\n",
    "<img src=\"img/translation_example2.png\" />\n",
    "\n",
    "The aim of this practical is to convert a Dutch sentence to its English counterpart using a Neural Machine Translation (NMT) system. We will implement this task by building a simple Sequence-to-Sequence model (a special class of Recurrent Neural Network architectures) with the help of Keras library."
   ]
  },
  {
   "cell_type": "markdown",
   "metadata": {},
   "source": [
    "Today we will use the following libraries. Take care to have them installed!"
   ]
  },
  {
   "cell_type": "code",
   "execution_count": 1,
   "metadata": {},
   "outputs": [],
   "source": [
    "import string\n",
    "import re\n",
    "import statistics\n",
    "from numpy import array, argmax, random, take\n",
    "import pandas as pd\n",
    "from keras.models import Sequential\n",
    "from keras.layers import Dense, LSTM, Embedding, Bidirectional, RepeatVector, TimeDistributed\n",
    "from keras.preprocessing.text import Tokenizer\n",
    "from keras.callbacks import ModelCheckpoint\n",
    "from keras.preprocessing.sequence import pad_sequences\n",
    "from keras.models import load_model\n",
    "from keras import optimizers\n",
    "import matplotlib.pyplot as plt\n",
    "from sklearn.model_selection import train_test_split\n",
    "# matplotlib inline\n",
    "pd.set_option('display.max_colwidth', 200)"
   ]
  },
  {
   "cell_type": "markdown",
   "metadata": {},
   "source": [
    "### Let's get started!"
   ]
  },
  {
   "cell_type": "markdown",
   "metadata": {},
   "source": [
    "1\\. **In this practical we will use a data set of tab-delimited Bilingual Sentence Pairs from http://www.manythings.org/anki/. Use the following two functions (read_text and to_lines) and read the nld.txt data set (also provided in the course webpage next to the practial link). This data set contains phrases in Dutch with their translation in English. Convert the text sequences to an array and check the first items in your array.**"
   ]
  },
  {
   "cell_type": "code",
   "execution_count": 2,
   "metadata": {},
   "outputs": [],
   "source": [
    "# function to read raw text file\n",
    "def read_text(filename):\n",
    "    # open the file\n",
    "    file = open(filename, mode='rt', encoding='utf-8')\n",
    "    # read all text\n",
    "    text = file.read()\n",
    "    file.close()\n",
    "    return text"
   ]
  },
  {
   "cell_type": "code",
   "execution_count": 3,
   "metadata": {},
   "outputs": [],
   "source": [
    "# split a text into sentences\n",
    "def to_lines(text):\n",
    "    sents = text.strip().split('\\n')\n",
    "    sents = [i.split('\\t') for i in sents]\n",
    "    return sents"
   ]
  },
  {
   "cell_type": "code",
   "execution_count": 4,
   "metadata": {},
   "outputs": [],
   "source": [
    "data = read_text(\"nld-eng/nld.txt\")\n",
    "nld_eng = to_lines(data)\n",
    "nld_eng = array(nld_eng)"
   ]
  },
  {
   "cell_type": "code",
   "execution_count": 5,
   "metadata": {},
   "outputs": [
    {
     "data": {
      "text/plain": [
       "(54972, 3)"
      ]
     },
     "execution_count": 5,
     "metadata": {},
     "output_type": "execute_result"
    }
   ],
   "source": [
    "nld_eng.shape"
   ]
  },
  {
   "cell_type": "code",
   "execution_count": 6,
   "metadata": {},
   "outputs": [
    {
     "data": {
      "text/plain": [
       "array([['Go.', 'Lopen!',\n",
       "        'CC-BY 2.0 (France) Attribution: tatoeba.org #2877272 (CM) & #7764436 (LinguisticFusion)'],\n",
       "       ['Go.', 'Vooruit.',\n",
       "        'CC-BY 2.0 (France) Attribution: tatoeba.org #2877272 (CM) & #7915821 (Elsofie)'],\n",
       "       ['Hi.', 'Hoi.',\n",
       "        'CC-BY 2.0 (France) Attribution: tatoeba.org #538123 (CM) & #537889 (Dorenda)'],\n",
       "       ...,\n",
       "       ['Always use distilled water in steam irons because using ordinary water will cause a mineral build-up over time that will clog the steam holes.',\n",
       "        'Gebruik altijd gedistilleerd water in stoomstrijkijzers, want gewoon water zorgt voor mineraalophoping dat de stoomgaatjes na verloop van tijd verstopt.',\n",
       "        'CC-BY 2.0 (France) Attribution: tatoeba.org #3020388 (Delian) & #3037091 (Citrine)'],\n",
       "       [\"If you translate from your second language into your own native language, rather than the other way around, you're less likely to make mistakes.\",\n",
       "        'Als je vanuit je tweede taal naar je eigen moedertaal vertaalt, in plaats van andersom, maak je minder snel fouten.',\n",
       "        'CC-BY 2.0 (France) Attribution: tatoeba.org #1230823 (CK) & #8627687 (MarijnKp)'],\n",
       "       [\"If someone who doesn't know your background says that you sound like a native speaker, it means they probably noticed something about your speaking that made them realize you weren't a native speaker. In other words, you don't really sound like a native speaker.\",\n",
       "        'Als iemand die je achtergrond niet kent zegt dat je klinkt als een moedertaalspreker betekent dat dat diegene waarschijnlijk iets in je spreken opgemerkt heeft dat hem deed realiseren dat je geen moedertaalspreker bent. Met andere woorden, je klinkt niet echt als een moedertaalspreker.',\n",
       "        'CC-BY 2.0 (France) Attribution: tatoeba.org #953936 (CK) & #1056762 (ReneeMona)']],\n",
       "      dtype='<U286')"
      ]
     },
     "execution_count": 6,
     "metadata": {},
     "output_type": "execute_result"
    }
   ],
   "source": [
    "nld_eng"
   ]
  },
  {
   "cell_type": "markdown",
   "metadata": {},
   "source": [
    "Using a code like nld_eng = nld_eng[:1000,:], you can use a subset of data, for example the first 1000 sentence pairs, to reduce the training time of the model. Be aware that you will lose the performance."
   ]
  },
  {
   "cell_type": "markdown",
   "metadata": {},
   "source": [
    "# Pre-processing"
   ]
  },
  {
   "cell_type": "markdown",
   "metadata": {},
   "source": [
    "2\\. **Use the maketrans() function to remove punctuations from the nld_enp object. The maketrans() function is a function from the library str that is used to construct a transition table, i.e that it specifies a list of characters that need to be replaced in a string or the characters that need to be deleted from the string. To use this transition table, you can use the translate() function and apply that on a string. It is also possible to use these functions to remove the punctuations. Similar to the example below, apply the maketrans() function to remove punctuations from the nld_eng array.**"
   ]
  },
  {
   "cell_type": "code",
   "execution_count": 7,
   "metadata": {},
   "outputs": [
    {
     "name": "stdout",
     "output_type": "stream",
     "text": [
      "The string before translating is : text mining\n",
      "The string after translating is : woow dining\n"
     ]
    }
   ],
   "source": [
    "### Here you see an example on how to use the maketrans() function ###\n",
    "# specify the list of characters that need to be replaced\n",
    "str1 = \"mtex\"\n",
    "\n",
    "# specify the list of characters with which the characters need to be replaced\n",
    "str2 = \"dwoo\"\n",
    "\n",
    "# specify the list of characters that needs to be deleted\n",
    "str3 = \"u\"\n",
    "\n",
    "# target string \n",
    "temp_str = \"text mining\"\n",
    "\n",
    "# using maketrans() to construct a translate table\n",
    "table = temp_str.maketrans(str1, str2, str3)\n",
    "  \n",
    "# Printing original string \n",
    "print (\"The string before translating is : \", end =\"\")\n",
    "print (temp_str)\n",
    "  \n",
    "# using translate() to make translations.\n",
    "print (\"The string after translating is : \", end =\"\")\n",
    "print (temp_str.translate(table))"
   ]
  },
  {
   "cell_type": "markdown",
   "metadata": {},
   "source": [
    "Note that it is possible to replace one character with two or more. You need to supply a dict as argument to maketrans()."
   ]
  },
  {
   "cell_type": "code",
   "execution_count": 8,
   "metadata": {},
   "outputs": [],
   "source": [
    "nld_eng[:,0] = [s.translate(str.maketrans('', '', string.punctuation)) for s in nld_eng[:,0]]\n",
    "nld_eng[:,1] = [s.translate(str.maketrans('', '', string.punctuation)) for s in nld_eng[:,1]]"
   ]
  },
  {
   "cell_type": "code",
   "execution_count": 9,
   "metadata": {},
   "outputs": [
    {
     "data": {
      "text/plain": [
       "array([['Go', 'Lopen',\n",
       "        'CC-BY 2.0 (France) Attribution: tatoeba.org #2877272 (CM) & #7764436 (LinguisticFusion)'],\n",
       "       ['Go', 'Vooruit',\n",
       "        'CC-BY 2.0 (France) Attribution: tatoeba.org #2877272 (CM) & #7915821 (Elsofie)'],\n",
       "       ['Hi', 'Hoi',\n",
       "        'CC-BY 2.0 (France) Attribution: tatoeba.org #538123 (CM) & #537889 (Dorenda)'],\n",
       "       ...,\n",
       "       ['Always use distilled water in steam irons because using ordinary water will cause a mineral buildup over time that will clog the steam holes',\n",
       "        'Gebruik altijd gedistilleerd water in stoomstrijkijzers want gewoon water zorgt voor mineraalophoping dat de stoomgaatjes na verloop van tijd verstopt',\n",
       "        'CC-BY 2.0 (France) Attribution: tatoeba.org #3020388 (Delian) & #3037091 (Citrine)'],\n",
       "       ['If you translate from your second language into your own native language rather than the other way around youre less likely to make mistakes',\n",
       "        'Als je vanuit je tweede taal naar je eigen moedertaal vertaalt in plaats van andersom maak je minder snel fouten',\n",
       "        'CC-BY 2.0 (France) Attribution: tatoeba.org #1230823 (CK) & #8627687 (MarijnKp)'],\n",
       "       ['If someone who doesnt know your background says that you sound like a native speaker it means they probably noticed something about your speaking that made them realize you werent a native speaker In other words you dont really sound like a native speaker',\n",
       "        'Als iemand die je achtergrond niet kent zegt dat je klinkt als een moedertaalspreker betekent dat dat diegene waarschijnlijk iets in je spreken opgemerkt heeft dat hem deed realiseren dat je geen moedertaalspreker bent Met andere woorden je klinkt niet echt als een moedertaalspreker',\n",
       "        'CC-BY 2.0 (France) Attribution: tatoeba.org #953936 (CK) & #1056762 (ReneeMona)']],\n",
       "      dtype='<U286')"
      ]
     },
     "execution_count": 9,
     "metadata": {},
     "output_type": "execute_result"
    }
   ],
   "source": [
    "nld_eng"
   ]
  },
  {
   "cell_type": "markdown",
   "metadata": {},
   "source": [
    "3\\. **Convert all words into their lowercase.**"
   ]
  },
  {
   "cell_type": "code",
   "execution_count": 10,
   "metadata": {},
   "outputs": [],
   "source": [
    "# convert to lowercase\n",
    "for i in range(len(nld_eng)):\n",
    "    nld_eng[i,0] = nld_eng[i,0].lower()    \n",
    "    nld_eng[i,1] = nld_eng[i,1].lower()"
   ]
  },
  {
   "cell_type": "code",
   "execution_count": 11,
   "metadata": {},
   "outputs": [
    {
     "data": {
      "text/plain": [
       "array([['go', 'lopen',\n",
       "        'CC-BY 2.0 (France) Attribution: tatoeba.org #2877272 (CM) & #7764436 (LinguisticFusion)'],\n",
       "       ['go', 'vooruit',\n",
       "        'CC-BY 2.0 (France) Attribution: tatoeba.org #2877272 (CM) & #7915821 (Elsofie)'],\n",
       "       ['hi', 'hoi',\n",
       "        'CC-BY 2.0 (France) Attribution: tatoeba.org #538123 (CM) & #537889 (Dorenda)'],\n",
       "       ...,\n",
       "       ['always use distilled water in steam irons because using ordinary water will cause a mineral buildup over time that will clog the steam holes',\n",
       "        'gebruik altijd gedistilleerd water in stoomstrijkijzers want gewoon water zorgt voor mineraalophoping dat de stoomgaatjes na verloop van tijd verstopt',\n",
       "        'CC-BY 2.0 (France) Attribution: tatoeba.org #3020388 (Delian) & #3037091 (Citrine)'],\n",
       "       ['if you translate from your second language into your own native language rather than the other way around youre less likely to make mistakes',\n",
       "        'als je vanuit je tweede taal naar je eigen moedertaal vertaalt in plaats van andersom maak je minder snel fouten',\n",
       "        'CC-BY 2.0 (France) Attribution: tatoeba.org #1230823 (CK) & #8627687 (MarijnKp)'],\n",
       "       ['if someone who doesnt know your background says that you sound like a native speaker it means they probably noticed something about your speaking that made them realize you werent a native speaker in other words you dont really sound like a native speaker',\n",
       "        'als iemand die je achtergrond niet kent zegt dat je klinkt als een moedertaalspreker betekent dat dat diegene waarschijnlijk iets in je spreken opgemerkt heeft dat hem deed realiseren dat je geen moedertaalspreker bent met andere woorden je klinkt niet echt als een moedertaalspreker',\n",
       "        'CC-BY 2.0 (France) Attribution: tatoeba.org #953936 (CK) & #1056762 (ReneeMona)']],\n",
       "      dtype='<U286')"
      ]
     },
     "execution_count": 11,
     "metadata": {},
     "output_type": "execute_result"
    }
   ],
   "source": [
    "nld_eng"
   ]
  },
  {
   "cell_type": "markdown",
   "metadata": {},
   "source": [
    "# Text to Sequence"
   ]
  },
  {
   "cell_type": "markdown",
   "metadata": {},
   "source": [
    "4\\. **What is the maximum length of a sentence in each of the Dutch and English sets? What about the average length?**"
   ]
  },
  {
   "cell_type": "code",
   "execution_count": 12,
   "metadata": {},
   "outputs": [],
   "source": [
    "# empty lists\n",
    "eng_l = []\n",
    "nld_l = []\n",
    "# populate the lists with sentence lengths\n",
    "for i in nld_eng[:,0]:\n",
    "    eng_l.append(len(i.split()))\n",
    "\n",
    "for i in nld_eng[:,1]:\n",
    "    nld_l.append(len(i.split()))"
   ]
  },
  {
   "cell_type": "code",
   "execution_count": 13,
   "metadata": {},
   "outputs": [
    {
     "data": {
      "image/png": "[encoded data removed]",
      "text/plain": [
       "<Figure size 432x288 with 2 Axes>"
      ]
     },
     "metadata": {
      "needs_background": "light"
     },
     "output_type": "display_data"
    }
   ],
   "source": [
    "length_df = pd.DataFrame({'eng':eng_l, 'nld':nld_l})\n",
    "length_df.hist(bins = 30)\n",
    "plt.show()"
   ]
  },
  {
   "cell_type": "code",
   "execution_count": 14,
   "metadata": {},
   "outputs": [
    {
     "data": {
      "text/plain": [
       "44"
      ]
     },
     "execution_count": 14,
     "metadata": {},
     "output_type": "execute_result"
    }
   ],
   "source": [
    "max(eng_l)"
   ]
  },
  {
   "cell_type": "code",
   "execution_count": 15,
   "metadata": {},
   "outputs": [
    {
     "data": {
      "text/plain": [
       "44"
      ]
     },
     "execution_count": 15,
     "metadata": {},
     "output_type": "execute_result"
    }
   ],
   "source": [
    "max(nld_l)"
   ]
  },
  {
   "cell_type": "code",
   "execution_count": 16,
   "metadata": {},
   "outputs": [
    {
     "data": {
      "text/plain": [
       "list"
      ]
     },
     "execution_count": 16,
     "metadata": {},
     "output_type": "execute_result"
    }
   ],
   "source": [
    "type(nld_l)"
   ]
  },
  {
   "cell_type": "code",
   "execution_count": 17,
   "metadata": {},
   "outputs": [
    {
     "data": {
      "text/plain": [
       "5.853307138179437"
      ]
     },
     "execution_count": 17,
     "metadata": {},
     "output_type": "execute_result"
    }
   ],
   "source": [
    "statistics.mean(nld_l)"
   ]
  },
  {
   "cell_type": "code",
   "execution_count": 18,
   "metadata": {},
   "outputs": [
    {
     "data": {
      "text/plain": [
       "5.619569962890199"
      ]
     },
     "execution_count": 18,
     "metadata": {},
     "output_type": "execute_result"
    }
   ],
   "source": [
    "statistics.mean(eng_l)"
   ]
  },
  {
   "cell_type": "markdown",
   "metadata": {},
   "source": [
    "Coincidentally the maximum length of the Dutch sentences and that of the English phrases is equal to 44."
   ]
  },
  {
   "cell_type": "markdown",
   "metadata": {},
   "source": [
    "5\\. **Use the train_test_split function from sklearn to split the data set into training (80%) and test (20%) sets.**"
   ]
  },
  {
   "cell_type": "code",
   "execution_count": 19,
   "metadata": {},
   "outputs": [],
   "source": [
    "train, test = train_test_split(nld_eng, test_size=0.2, random_state=321)"
   ]
  },
  {
   "cell_type": "markdown",
   "metadata": {},
   "source": [
    "6\\. **Time to tokenize the sentences. Use the Tokenizer function from Keras and fit the sentences. Find out about the vocabulary size for the Dutch and English sets.**"
   ]
  },
  {
   "cell_type": "code",
   "execution_count": 20,
   "metadata": {},
   "outputs": [
    {
     "name": "stdout",
     "output_type": "stream",
     "text": [
      "English Vocabulary Size: 9073\n"
     ]
    }
   ],
   "source": [
    "# prepare english tokenizer\n",
    "eng_tokenizer = Tokenizer()\n",
    "eng_tokenizer.fit_on_texts(nld_eng[:, 0])\n",
    "eng_vocab_size = len(eng_tokenizer.word_index) + 1\n",
    "print('English Vocabulary Size: %d' % eng_vocab_size)"
   ]
  },
  {
   "cell_type": "code",
   "execution_count": 21,
   "metadata": {},
   "outputs": [
    {
     "name": "stdout",
     "output_type": "stream",
     "text": [
      "Dutch Vocabulary Size: 12794\n"
     ]
    }
   ],
   "source": [
    "# prepare Dutch tokenizer\n",
    "nld_tokenizer = Tokenizer()\n",
    "nld_tokenizer.fit_on_texts(nld_eng[:, 1])\n",
    "nld_vocab_size = len(nld_tokenizer.word_index) + 1\n",
    "print('Dutch Vocabulary Size: %d' % nld_vocab_size)\n",
    "# print('Dutch Vocabulary Size:', nld_vocab_size)"
   ]
  },
  {
   "cell_type": "markdown",
   "metadata": {},
   "source": [
    "7\\. **Write a function to convert tokens into sequences using an argument for maximum sentence length. Other input arguments to this function are tokenizer and sentences, and its output will be sequences of tokens.**"
   ]
  },
  {
   "cell_type": "code",
   "execution_count": 22,
   "metadata": {},
   "outputs": [],
   "source": [
    "# encode and pad sequences\n",
    "def encode_sequences(tokenizer, maximum_length, sentences):\n",
    "    # integer encode sequences\n",
    "    seq = tokenizer.texts_to_sequences(sentences)\n",
    "    # pad sequences with 0 values\n",
    "    seq = pad_sequences(seq, maxlen=maximum_length, padding='post')\n",
    "    return seq"
   ]
  },
  {
   "cell_type": "markdown",
   "metadata": {},
   "source": [
    "8\\. **Convert your tokenized training data into sequences. Use a maximum length of 20 and name the dataframes train_X and train_Y.**"
   ]
  },
  {
   "cell_type": "code",
   "execution_count": 23,
   "metadata": {},
   "outputs": [],
   "source": [
    "eng_length = 40\n",
    "nld_length = 40\n",
    "# prepare training data\n",
    "train_X = encode_sequences(nld_tokenizer, nld_length, train[:, 1])\n",
    "train_Y = encode_sequences(eng_tokenizer, eng_length, train[:, 0])"
   ]
  },
  {
   "cell_type": "markdown",
   "metadata": {},
   "source": [
    "9\\. **In the same way, convert your tokenized test data into sequences and name the dataframs test_X and test_Y.**"
   ]
  },
  {
   "cell_type": "code",
   "execution_count": 24,
   "metadata": {},
   "outputs": [],
   "source": [
    "# prepare test data\n",
    "test_X = encode_sequences(nld_tokenizer, nld_length, test[:, 1])\n",
    "test_Y = encode_sequences(eng_tokenizer, eng_length, test[:, 0])"
   ]
  },
  {
   "cell_type": "markdown",
   "metadata": {},
   "source": [
    "# Neural Network Model"
   ]
  },
  {
   "cell_type": "markdown",
   "metadata": {},
   "source": [
    "10\\. **Define a Sequence-to-Sequence (Seq2Seq) model architecture using an embedding layer as input layer, an LSTM layer as  encoder and another LSTM layer followed by a Dense layer as decoder. Make this a function and name it build_model(). Define different input arguments for your function including the embedding_size and the number of LSTM units.**"
   ]
  },
  {
   "cell_type": "code",
   "execution_count": 25,
   "metadata": {},
   "outputs": [],
   "source": [
    "# build NMT model\n",
    "def build_model(in_vocab, out_vocab, in_timesteps, out_timesteps, embedding_size, LSTMunits):\n",
    "    model = Sequential()\n",
    "    model.add(Embedding(in_vocab, embedding_size, input_length=in_timesteps, mask_zero=True))\n",
    "    model.add(LSTM(LSTMunits))\n",
    "    model.add(RepeatVector(out_timesteps))\n",
    "    model.add(LSTM(LSTMunits, return_sequences=True))\n",
    "    model.add(Dense(out_vocab, activation='softmax'))\n",
    "    return model"
   ]
  },
  {
   "cell_type": "markdown",
   "metadata": {},
   "source": [
    "11\\. **Create a model by calling the function with embedding_size of 300 and 512 units for the LSTM layers.**"
   ]
  },
  {
   "cell_type": "code",
   "execution_count": 26,
   "metadata": {},
   "outputs": [],
   "source": [
    "model = build_model(nld_vocab_size, \n",
    "                    eng_vocab_size, \n",
    "                    nld_length, \n",
    "                    eng_length, \n",
    "                    300, \n",
    "                    512)"
   ]
  },
  {
   "cell_type": "markdown",
   "metadata": {},
   "source": [
    "12\\. **Compile the model with the RMSprop optimizer and sparse_categorical_crossentropy for loss.**"
   ]
  },
  {
   "cell_type": "code",
   "execution_count": 27,
   "metadata": {},
   "outputs": [
    {
     "name": "stdout",
     "output_type": "stream",
     "text": [
      "Model: \"sequential\"\n",
      "_________________________________________________________________\n",
      "Layer (type)                 Output Shape              Param #   \n",
      "=================================================================\n",
      "embedding (Embedding)        (None, 40, 300)           3838200   \n",
      "_________________________________________________________________\n",
      "lstm (LSTM)                  (None, 512)               1665024   \n",
      "_________________________________________________________________\n",
      "repeat_vector (RepeatVector) (None, 40, 512)           0         \n",
      "_________________________________________________________________\n",
      "lstm_1 (LSTM)                (None, 40, 512)           2099200   \n",
      "_________________________________________________________________\n",
      "dense (Dense)                (None, 40, 9073)          4654449   \n",
      "=================================================================\n",
      "Total params: 12,256,873\n",
      "Trainable params: 12,256,873\n",
      "Non-trainable params: 0\n",
      "_________________________________________________________________\n"
     ]
    }
   ],
   "source": [
    "model.compile(optimizer=optimizers.RMSprop(lr=0.001), \n",
    "              loss='sparse_categorical_crossentropy',\n",
    "              metrics=['accuracy'])\n",
    "model.summary()"
   ]
  },
  {
   "cell_type": "markdown",
   "metadata": {},
   "source": [
    "Note that we have used 'sparse_categorical_crossentropy' as the loss function as it allows us to use the target sequence as it is instead of one-hot encoded format. One-hot encoding the target sequences with such a huge vocabulary might consume your system's entire memory."
   ]
  },
  {
   "cell_type": "markdown",
   "metadata": {},
   "source": [
    "13\\. **Fit the model with your desired number of epochs (e.g. 1 :)), validation_split of 0.2, and batch_size of 128. You can use smaller values for the number of LSTM units (100) and embedding size (50) if it takes a lot of time to run.**"
   ]
  },
  {
   "cell_type": "code",
   "execution_count": 28,
   "metadata": {},
   "outputs": [],
   "source": [
    "# history = model.fit(train_X, train_Y.reshape(train_Y.shape[0], train_Y.shape[1], 1), \n",
    "#                    epochs=2, \n",
    "#                    batch_size=128, \n",
    "#                    validation_split = 0.2,\n",
    "#                    verbose=1)"
   ]
  },
  {
   "cell_type": "markdown",
   "metadata": {},
   "source": [
    "With ModelCheckpoint you can save your best model during the training. We used this option of Keras to run our neural translator for 15 epochs and save the model for your use."
   ]
  },
  {
   "cell_type": "code",
   "execution_count": 29,
   "metadata": {},
   "outputs": [
    {
     "name": "stdout",
     "output_type": "stream",
     "text": [
      "Epoch 1/15\n",
      "275/275 [==============================] - ETA: 0s - loss: 1.0358 - accuracy: 0.8638\n",
      "Epoch 00001: val_loss improved from inf to 0.89008, saving model to model.15Epochs\n",
      "WARNING:tensorflow:From c:\\programdata\\miniconda3\\lib\\site-packages\\tensorflow\\python\\ops\\resource_variable_ops.py:1817: calling BaseResourceVariable.__init__ (from tensorflow.python.ops.resource_variable_ops) with constraint is deprecated and will be removed in a future version.\n",
      "Instructions for updating:\n",
      "If using Keras pass *_constraint arguments to layers.\n",
      "INFO:tensorflow:Assets written to: model.15Epochs\\assets\n",
      "275/275 [==============================] - 662s 2s/step - loss: 1.0358 - accuracy: 0.8638 - val_loss: 0.8901 - val_accuracy: 0.8688\n",
      "Epoch 2/15\n",
      "275/275 [==============================] - ETA: 0s - loss: 0.8327 - accuracy: 0.8756\n",
      "Epoch 00002: val_loss improved from 0.89008 to 0.79787, saving model to model.15Epochs\n",
      "INFO:tensorflow:Assets written to: model.15Epochs\\assets\n",
      "275/275 [==============================] - 691s 3s/step - loss: 0.8327 - accuracy: 0.8756 - val_loss: 0.7979 - val_accuracy: 0.8799\n",
      "Epoch 3/15\n",
      "275/275 [==============================] - ETA: 0s - loss: 0.7589 - accuracy: 0.8841\n",
      "Epoch 00003: val_loss improved from 0.79787 to 0.75407, saving model to model.15Epochs\n",
      "INFO:tensorflow:Assets written to: model.15Epochs\\assets\n",
      "275/275 [==============================] - 708s 3s/step - loss: 0.7589 - accuracy: 0.8841 - val_loss: 0.7541 - val_accuracy: 0.8871\n",
      "Epoch 4/15\n",
      "275/275 [==============================] - ETA: 0s - loss: 0.6980 - accuracy: 0.8914\n",
      "Epoch 00004: val_loss improved from 0.75407 to 0.69438, saving model to model.15Epochs\n",
      "INFO:tensorflow:Assets written to: model.15Epochs\\assets\n",
      "275/275 [==============================] - 769s 3s/step - loss: 0.6980 - accuracy: 0.8914 - val_loss: 0.6944 - val_accuracy: 0.8930\n",
      "Epoch 5/15\n",
      "275/275 [==============================] - ETA: 0s - loss: 0.6487 - accuracy: 0.8966\n",
      "Epoch 00005: val_loss improved from 0.69438 to 0.66017, saving model to model.15Epochs\n",
      "INFO:tensorflow:Assets written to: model.15Epochs\\assets\n",
      "275/275 [==============================] - 789s 3s/step - loss: 0.6487 - accuracy: 0.8966 - val_loss: 0.6602 - val_accuracy: 0.8972\n",
      "Epoch 6/15\n",
      "275/275 [==============================] - ETA: 0s - loss: 0.6044 - accuracy: 0.9013\n",
      "Epoch 00006: val_loss improved from 0.66017 to 0.62693, saving model to model.15Epochs\n",
      "INFO:tensorflow:Assets written to: model.15Epochs\\assets\n",
      "275/275 [==============================] - 776s 3s/step - loss: 0.6044 - accuracy: 0.9013 - val_loss: 0.6269 - val_accuracy: 0.9006\n",
      "Epoch 7/15\n",
      "275/275 [==============================] - ETA: 0s - loss: 0.5637 - accuracy: 0.9053\n",
      "Epoch 00007: val_loss improved from 0.62693 to 0.60318, saving model to model.15Epochs\n",
      "INFO:tensorflow:Assets written to: model.15Epochs\\assets\n",
      "275/275 [==============================] - 770s 3s/step - loss: 0.5637 - accuracy: 0.9053 - val_loss: 0.6032 - val_accuracy: 0.9033\n",
      "Epoch 8/15\n",
      "275/275 [==============================] - ETA: 0s - loss: 0.5271 - accuracy: 0.9090\n",
      "Epoch 00008: val_loss improved from 0.60318 to 0.58197, saving model to model.15Epochs\n",
      "INFO:tensorflow:Assets written to: model.15Epochs\\assets\n",
      "275/275 [==============================] - 765s 3s/step - loss: 0.5271 - accuracy: 0.9090 - val_loss: 0.5820 - val_accuracy: 0.9054\n",
      "Epoch 9/15\n",
      "275/275 [==============================] - ETA: 0s - loss: 0.4937 - accuracy: 0.9128\n",
      "Epoch 00009: val_loss improved from 0.58197 to 0.56812, saving model to model.15Epochs\n",
      "INFO:tensorflow:Assets written to: model.15Epochs\\assets\n",
      "275/275 [==============================] - 1005s 4s/step - loss: 0.4937 - accuracy: 0.9128 - val_loss: 0.5681 - val_accuracy: 0.9074\n",
      "Epoch 10/15\n",
      "275/275 [==============================] - ETA: 0s - loss: 0.4634 - accuracy: 0.9163\n",
      "Epoch 00010: val_loss improved from 0.56812 to 0.55173, saving model to model.15Epochs\n",
      "INFO:tensorflow:Assets written to: model.15Epochs\\assets\n",
      "275/275 [==============================] - 1010s 4s/step - loss: 0.4634 - accuracy: 0.9163 - val_loss: 0.5517 - val_accuracy: 0.9094\n",
      "Epoch 11/15\n",
      "275/275 [==============================] - ETA: 0s - loss: 0.4352 - accuracy: 0.9195\n",
      "Epoch 00011: val_loss improved from 0.55173 to 0.53879, saving model to model.15Epochs\n",
      "INFO:tensorflow:Assets written to: model.15Epochs\\assets\n",
      "275/275 [==============================] - 1046s 4s/step - loss: 0.4352 - accuracy: 0.9195 - val_loss: 0.5388 - val_accuracy: 0.9103\n",
      "Epoch 12/15\n",
      "275/275 [==============================] - ETA: 0s - loss: 0.4089 - accuracy: 0.9229\n",
      "Epoch 00012: val_loss improved from 0.53879 to 0.53323, saving model to model.15Epochs\n",
      "INFO:tensorflow:Assets written to: model.15Epochs\\assets\n",
      "275/275 [==============================] - 1036s 4s/step - loss: 0.4089 - accuracy: 0.9229 - val_loss: 0.5332 - val_accuracy: 0.9116\n",
      "Epoch 13/15\n",
      "275/275 [==============================] - ETA: 0s - loss: 0.3835 - accuracy: 0.9264\n",
      "Epoch 00013: val_loss improved from 0.53323 to 0.52817, saving model to model.15Epochs\n",
      "INFO:tensorflow:Assets written to: model.15Epochs\\assets\n",
      "275/275 [==============================] - 1049s 4s/step - loss: 0.3835 - accuracy: 0.9264 - val_loss: 0.5282 - val_accuracy: 0.9121\n",
      "Epoch 14/15\n",
      "275/275 [==============================] - ETA: 0s - loss: 0.3601 - accuracy: 0.9299\n",
      "Epoch 00014: val_loss improved from 0.52817 to 0.52340, saving model to model.15Epochs\n",
      "INFO:tensorflow:Assets written to: model.15Epochs\\assets\n",
      "275/275 [==============================] - 1055s 4s/step - loss: 0.3601 - accuracy: 0.9299 - val_loss: 0.5234 - val_accuracy: 0.9136\n",
      "Epoch 15/15\n",
      "275/275 [==============================] - ETA: 0s - loss: 0.3382 - accuracy: 0.9330\n",
      "Epoch 00015: val_loss improved from 0.52340 to 0.52015, saving model to model.15Epochs\n",
      "INFO:tensorflow:Assets written to: model.15Epochs\\assets\n",
      "275/275 [==============================] - 1095s 4s/step - loss: 0.3382 - accuracy: 0.9330 - val_loss: 0.5201 - val_accuracy: 0.9139\n"
     ]
    }
   ],
   "source": [
    "filename = 'model.15Epochs'\n",
    "checkpoint = ModelCheckpoint(filename, \n",
    "                             monitor='val_loss', \n",
    "                             verbose=1, \n",
    "                             save_best_only=True, \n",
    "                             mode='min')\n",
    "\n",
    "history = model.fit(train_X, train_Y.reshape(train_Y.shape[0], train_Y.shape[1], 1),\n",
    "                    epochs=15,\n",
    "                    batch_size=128, \n",
    "                    validation_split = 0.2,\n",
    "                    callbacks=[checkpoint],\n",
    "                    verbose=1)"
   ]
  },
  {
   "cell_type": "markdown",
   "metadata": {},
   "source": [
    "14\\. **Plot the accuracy and loss of your model for the training and validations sets.**"
   ]
  },
  {
   "cell_type": "markdown",
   "metadata": {},
   "source": [
    "We will use the plot_history function from the previous practical:"
   ]
  },
  {
   "cell_type": "code",
   "execution_count": 30,
   "metadata": {},
   "outputs": [],
   "source": [
    "plt.style.use('ggplot')\n",
    "def plot_history(history, val=0):\n",
    "    acc = history.history['accuracy']\n",
    "    if val == 1:\n",
    "        val_acc = history.history['val_accuracy'] # we can add a validation set in our fit function with nn\n",
    "    loss = history.history['loss']\n",
    "    if val == 1:\n",
    "        val_loss = history.history['val_loss']\n",
    "    x = range(1, len(acc) + 1)\n",
    "\n",
    "    plt.figure(figsize=(12, 5))\n",
    "    plt.subplot(1, 2, 1)\n",
    "    plt.plot(x, acc, 'b', label='Training accuracy')\n",
    "    if val == 1:\n",
    "        plt.plot(x, val_acc, 'r', label='Validation accuracy')\n",
    "    plt.ylabel('accuracy')\n",
    "    plt.xlabel('epoch')\n",
    "    plt.title('Accuracy')\n",
    "    plt.legend()\n",
    "    plt.subplot(1, 2, 2)\n",
    "    plt.plot(x, loss, 'b', label='Training loss')\n",
    "    if val == 1:\n",
    "        plt.plot(x, val_loss, 'r', label='Validation loss')\n",
    "    plt.ylabel('loss')\n",
    "    plt.xlabel('epoch')\n",
    "    plt.title('Loss')\n",
    "    plt.legend()"
   ]
  },
  {
   "cell_type": "code",
   "execution_count": 31,
   "metadata": {},
   "outputs": [
    {
     "data": {
      "image/png": "[encoded data removed]",
      "text/plain": [
       "<Figure size 864x360 with 2 Axes>"
      ]
     },
     "metadata": {},
     "output_type": "display_data"
    }
   ],
   "source": [
    "plot_history(history, val=1)"
   ]
  },
  {
   "cell_type": "markdown",
   "metadata": {},
   "source": [
    "You can also use the following code without the plot_history function:"
   ]
  },
  {
   "cell_type": "code",
   "execution_count": 32,
   "metadata": {},
   "outputs": [
    {
     "data": {
      "image/png": "[encoded data removed]",
      "text/plain": [
       "<Figure size 432x288 with 1 Axes>"
      ]
     },
     "metadata": {},
     "output_type": "display_data"
    }
   ],
   "source": [
    "plt.plot(history.history['loss'])\n",
    "plt.plot(history.history['val_loss'])\n",
    "plt.legend(['train','validation'])\n",
    "plt.show()"
   ]
  },
  {
   "cell_type": "markdown",
   "metadata": {},
   "source": [
    "15\\. **Predict translations for the test set.**"
   ]
  },
  {
   "cell_type": "markdown",
   "metadata": {},
   "source": [
    "You can continue using your model or you can use the following code to load the trained model with 10 epochs. Remember that our chosen architecture for a deep learning encoder-decoder translation model is a very simple architecture."
   ]
  },
  {
   "cell_type": "code",
   "execution_count": 33,
   "metadata": {},
   "outputs": [],
   "source": [
    "# model = load_model('model.15Epochs')"
   ]
  },
  {
   "cell_type": "code",
   "execution_count": 34,
   "metadata": {},
   "outputs": [
    {
     "name": "stdout",
     "output_type": "stream",
     "text": [
      "WARNING:tensorflow:From <ipython-input-34-4097ca6b98b5>:1: Sequential.predict_classes (from tensorflow.python.keras.engine.sequential) is deprecated and will be removed after 2021-01-01.\n",
      "Instructions for updating:\n",
      "Please use instead:* `np.argmax(model.predict(x), axis=-1)`,   if your model does multi-class classification   (e.g. if it uses a `softmax` last-layer activation).* `(model.predict(x) > 0.5).astype(\"int32\")`,   if your model does binary classification   (e.g. if it uses a `sigmoid` last-layer activation).\n"
     ]
    }
   ],
   "source": [
    "preds = model.predict_classes(test_X.reshape((test_X.shape[0],test_X.shape[1])))"
   ]
  },
  {
   "cell_type": "code",
   "execution_count": 35,
   "metadata": {},
   "outputs": [
    {
     "data": {
      "text/plain": [
       "array([[   6, 1044,  330, ...,    0,    0,    0],\n",
       "       [   2,  184,   23, ...,    0,    0,    0],\n",
       "       [   2,  416,    7, ...,    0,    0,    0],\n",
       "       ...,\n",
       "       [   4,   49,  365, ...,    0,    0,    0],\n",
       "       [ 120,  143,  486, ...,    0,    0,    0],\n",
       "       [   3,   35,   19, ...,    0,    0,    0]], dtype=int64)"
      ]
     },
     "execution_count": 35,
     "metadata": {},
     "output_type": "execute_result"
    }
   ],
   "source": [
    "preds"
   ]
  },
  {
   "cell_type": "markdown",
   "metadata": {},
   "source": [
    "As you noticed preds are only indices of words, so we need to convert them to words to be able to read them."
   ]
  },
  {
   "cell_type": "markdown",
   "metadata": {},
   "source": [
    "16\\. **Use the sequences_to_texts function to convert an index to a word on your predictions.**"
   ]
  },
  {
   "cell_type": "code",
   "execution_count": 36,
   "metadata": {},
   "outputs": [],
   "source": [
    "preds_text = eng_tokenizer.sequences_to_texts(preds)"
   ]
  },
  {
   "cell_type": "code",
   "execution_count": 1,
   "metadata": {},
   "outputs": [],
   "source": [
    "# preds_text"
   ]
  },
  {
   "cell_type": "markdown",
   "metadata": {},
   "source": [
    "17\\. **Create a new dataframe with three columns where you show the input Dutch text of the test set, the actual output, and your predictions. Use the sample() function with your dataframe to randomly check some of the lines.**"
   ]
  },
  {
   "cell_type": "code",
   "execution_count": 44,
   "metadata": {},
   "outputs": [],
   "source": [
    "pred_df = pd.DataFrame({'input' : test[:, 1], 'actual output' : test[:,0], 'predicted output' : preds_text})"
   ]
  },
  {
   "cell_type": "code",
   "execution_count": 39,
   "metadata": {},
   "outputs": [],
   "source": [
    "#pd.set_option('display.max_colwidth', 50)"
   ]
  },
  {
   "cell_type": "code",
   "execution_count": 45,
   "metadata": {},
   "outputs": [
    {
     "data": {
      "text/html": [
       "<div>\n",
       "<style scoped>\n",
       "    .dataframe tbody tr th:only-of-type {\n",
       "        vertical-align: middle;\n",
       "    }\n",
       "\n",
       "    .dataframe tbody tr th {\n",
       "        vertical-align: top;\n",
       "    }\n",
       "\n",
       "    .dataframe thead th {\n",
       "        text-align: right;\n",
       "    }\n",
       "</style>\n",
       "<table border=\"1\" class=\"dataframe\">\n",
       "  <thead>\n",
       "    <tr style=\"text-align: right;\">\n",
       "      <th></th>\n",
       "      <th>input</th>\n",
       "      <th>actual output</th>\n",
       "      <th>predicted output</th>\n",
       "    </tr>\n",
       "  </thead>\n",
       "  <tbody>\n",
       "    <tr>\n",
       "      <th>0</th>\n",
       "      <td>een aap beklimt een hoge boom</td>\n",
       "      <td>a monkey is climbing up a tall tree</td>\n",
       "      <td>a earthquake wearing a a a</td>\n",
       "    </tr>\n",
       "    <tr>\n",
       "      <th>1</th>\n",
       "      <td>de vredesonderhandelingen beginnen deze week</td>\n",
       "      <td>the peace talks begin this week</td>\n",
       "      <td>the children for week</td>\n",
       "    </tr>\n",
       "    <tr>\n",
       "      <th>2</th>\n",
       "      <td>het licht is groen</td>\n",
       "      <td>the light is green</td>\n",
       "      <td>the light is green</td>\n",
       "    </tr>\n",
       "    <tr>\n",
       "      <th>3</th>\n",
       "      <td>krijgt u genoeg zuurstof</td>\n",
       "      <td>are you getting enough oxygen</td>\n",
       "      <td>are you enough enough</td>\n",
       "    </tr>\n",
       "    <tr>\n",
       "      <th>4</th>\n",
       "      <td>zijn ze in leven</td>\n",
       "      <td>are they alive</td>\n",
       "      <td>are we in</td>\n",
       "    </tr>\n",
       "    <tr>\n",
       "      <th>5</th>\n",
       "      <td>veel mooie bloemen bloeien in de lente</td>\n",
       "      <td>many pretty flowers bloom in the spring</td>\n",
       "      <td>many flowers are made in are</td>\n",
       "    </tr>\n",
       "    <tr>\n",
       "      <th>6</th>\n",
       "      <td>onbevoegden zijn niet toegestaan op het terrein</td>\n",
       "      <td>no unauthorised persons will be permitted inside the perimeter</td>\n",
       "      <td>dont not not on the the</td>\n",
       "    </tr>\n",
       "    <tr>\n",
       "      <th>7</th>\n",
       "      <td>ik weet dat ik het erin heb gestopt</td>\n",
       "      <td>i know i packed it</td>\n",
       "      <td>i know i see it</td>\n",
       "    </tr>\n",
       "    <tr>\n",
       "      <th>8</th>\n",
       "      <td>het water stijgt</td>\n",
       "      <td>the water is rising</td>\n",
       "      <td>the ship is is</td>\n",
       "    </tr>\n",
       "    <tr>\n",
       "      <th>9</th>\n",
       "      <td>het is iets wat ze altijd wilden doen</td>\n",
       "      <td>its something they always wanted to do</td>\n",
       "      <td>its is something i can to do</td>\n",
       "    </tr>\n",
       "    <tr>\n",
       "      <th>10</th>\n",
       "      <td>ze is net twintig geworden</td>\n",
       "      <td>she has just turned twenty</td>\n",
       "      <td>she just just been</td>\n",
       "    </tr>\n",
       "    <tr>\n",
       "      <th>11</th>\n",
       "      <td>in de zomer draag ik shirts met korte mouwen</td>\n",
       "      <td>in the summer i wear shortsleeved shirts</td>\n",
       "      <td>i in i i in very</td>\n",
       "    </tr>\n",
       "    <tr>\n",
       "      <th>12</th>\n",
       "      <td>je kunt erop vertrouwen dat hij zijn woord zal houden</td>\n",
       "      <td>you can trust him to keep his word</td>\n",
       "      <td>you can know him to his his</td>\n",
       "    </tr>\n",
       "    <tr>\n",
       "      <th>13</th>\n",
       "      <td>zullen we lopen of met de auto gaan</td>\n",
       "      <td>shall we walk or drive</td>\n",
       "      <td>will we go to the the bus</td>\n",
       "    </tr>\n",
       "    <tr>\n",
       "      <th>14</th>\n",
       "      <td>laten we honkbal spelen</td>\n",
       "      <td>lets play baseball</td>\n",
       "      <td>lets play baseball</td>\n",
       "    </tr>\n",
       "  </tbody>\n",
       "</table>\n",
       "</div>"
      ],
      "text/plain": [
       "                                                    input  \\\n",
       "0                           een aap beklimt een hoge boom   \n",
       "1            de vredesonderhandelingen beginnen deze week   \n",
       "2                                      het licht is groen   \n",
       "3                                krijgt u genoeg zuurstof   \n",
       "4                                        zijn ze in leven   \n",
       "5                  veel mooie bloemen bloeien in de lente   \n",
       "6         onbevoegden zijn niet toegestaan op het terrein   \n",
       "7                     ik weet dat ik het erin heb gestopt   \n",
       "8                                        het water stijgt   \n",
       "9                   het is iets wat ze altijd wilden doen   \n",
       "10                             ze is net twintig geworden   \n",
       "11           in de zomer draag ik shirts met korte mouwen   \n",
       "12  je kunt erop vertrouwen dat hij zijn woord zal houden   \n",
       "13                    zullen we lopen of met de auto gaan   \n",
       "14                                laten we honkbal spelen   \n",
       "\n",
       "                                                     actual output  \\\n",
       "0                              a monkey is climbing up a tall tree   \n",
       "1                                  the peace talks begin this week   \n",
       "2                                               the light is green   \n",
       "3                                    are you getting enough oxygen   \n",
       "4                                                   are they alive   \n",
       "5                          many pretty flowers bloom in the spring   \n",
       "6   no unauthorised persons will be permitted inside the perimeter   \n",
       "7                                               i know i packed it   \n",
       "8                                              the water is rising   \n",
       "9                           its something they always wanted to do   \n",
       "10                                      she has just turned twenty   \n",
       "11                        in the summer i wear shortsleeved shirts   \n",
       "12                              you can trust him to keep his word   \n",
       "13                                          shall we walk or drive   \n",
       "14                                              lets play baseball   \n",
       "\n",
       "                predicted output  \n",
       "0     a earthquake wearing a a a  \n",
       "1          the children for week  \n",
       "2             the light is green  \n",
       "3          are you enough enough  \n",
       "4                      are we in  \n",
       "5   many flowers are made in are  \n",
       "6        dont not not on the the  \n",
       "7                i know i see it  \n",
       "8                 the ship is is  \n",
       "9   its is something i can to do  \n",
       "10            she just just been  \n",
       "11              i in i i in very  \n",
       "12   you can know him to his his  \n",
       "13     will we go to the the bus  \n",
       "14            lets play baseball  "
      ]
     },
     "execution_count": 45,
     "metadata": {},
     "output_type": "execute_result"
    }
   ],
   "source": [
    "pred_df.head(15)"
   ]
  },
  {
   "cell_type": "code",
   "execution_count": 41,
   "metadata": {},
   "outputs": [
    {
     "data": {
      "text/html": [
       "<div>\n",
       "<style scoped>\n",
       "    .dataframe tbody tr th:only-of-type {\n",
       "        vertical-align: middle;\n",
       "    }\n",
       "\n",
       "    .dataframe tbody tr th {\n",
       "        vertical-align: top;\n",
       "    }\n",
       "\n",
       "    .dataframe thead th {\n",
       "        text-align: right;\n",
       "    }\n",
       "</style>\n",
       "<table border=\"1\" class=\"dataframe\">\n",
       "  <thead>\n",
       "    <tr style=\"text-align: right;\">\n",
       "      <th></th>\n",
       "      <th>actual</th>\n",
       "      <th>predicted</th>\n",
       "    </tr>\n",
       "  </thead>\n",
       "  <tbody>\n",
       "    <tr>\n",
       "      <th>0</th>\n",
       "      <td>a monkey is climbing up a tall tree</td>\n",
       "      <td>a earthquake wearing a a a</td>\n",
       "    </tr>\n",
       "    <tr>\n",
       "      <th>1</th>\n",
       "      <td>the peace talks begin this week</td>\n",
       "      <td>the children for week</td>\n",
       "    </tr>\n",
       "    <tr>\n",
       "      <th>2</th>\n",
       "      <td>the light is green</td>\n",
       "      <td>the light is green</td>\n",
       "    </tr>\n",
       "    <tr>\n",
       "      <th>3</th>\n",
       "      <td>are you getting enough oxygen</td>\n",
       "      <td>are you enough enough</td>\n",
       "    </tr>\n",
       "    <tr>\n",
       "      <th>4</th>\n",
       "      <td>are they alive</td>\n",
       "      <td>are we in</td>\n",
       "    </tr>\n",
       "    <tr>\n",
       "      <th>...</th>\n",
       "      <td>...</td>\n",
       "      <td>...</td>\n",
       "    </tr>\n",
       "    <tr>\n",
       "      <th>10990</th>\n",
       "      <td>i like dogs</td>\n",
       "      <td>i love dogs</td>\n",
       "    </tr>\n",
       "    <tr>\n",
       "      <th>10991</th>\n",
       "      <td>i noticed you didnt finish your dinner</td>\n",
       "      <td>i didnt you you your your your</td>\n",
       "    </tr>\n",
       "    <tr>\n",
       "      <th>10992</th>\n",
       "      <td>tom didnt even know who mary was</td>\n",
       "      <td>tom didnt even know mary was was</td>\n",
       "    </tr>\n",
       "    <tr>\n",
       "      <th>10993</th>\n",
       "      <td>few people are able to understand his theories</td>\n",
       "      <td>some people decided people is are are are</td>\n",
       "    </tr>\n",
       "    <tr>\n",
       "      <th>10994</th>\n",
       "      <td>you can leave me alone</td>\n",
       "      <td>you can me me</td>\n",
       "    </tr>\n",
       "  </tbody>\n",
       "</table>\n",
       "<p>10995 rows × 2 columns</p>\n",
       "</div>"
      ],
      "text/plain": [
       "                                               actual  \\\n",
       "0                 a monkey is climbing up a tall tree   \n",
       "1                     the peace talks begin this week   \n",
       "2                                  the light is green   \n",
       "3                       are you getting enough oxygen   \n",
       "4                                      are they alive   \n",
       "...                                               ...   \n",
       "10990                                     i like dogs   \n",
       "10991          i noticed you didnt finish your dinner   \n",
       "10992                tom didnt even know who mary was   \n",
       "10993  few people are able to understand his theories   \n",
       "10994                          you can leave me alone   \n",
       "\n",
       "                                       predicted  \n",
       "0                     a earthquake wearing a a a  \n",
       "1                          the children for week  \n",
       "2                             the light is green  \n",
       "3                          are you enough enough  \n",
       "4                                      are we in  \n",
       "...                                          ...  \n",
       "10990                                i love dogs  \n",
       "10991             i didnt you you your your your  \n",
       "10992           tom didnt even know mary was was  \n",
       "10993  some people decided people is are are are  \n",
       "10994                              you can me me  \n",
       "\n",
       "[10995 rows x 2 columns]"
      ]
     },
     "execution_count": 41,
     "metadata": {},
     "output_type": "execute_result"
    }
   ],
   "source": [
    "pred_df"
   ]
  },
  {
   "cell_type": "code",
   "execution_count": 46,
   "metadata": {},
   "outputs": [
    {
     "data": {
      "text/html": [
       "<div>\n",
       "<style scoped>\n",
       "    .dataframe tbody tr th:only-of-type {\n",
       "        vertical-align: middle;\n",
       "    }\n",
       "\n",
       "    .dataframe tbody tr th {\n",
       "        vertical-align: top;\n",
       "    }\n",
       "\n",
       "    .dataframe thead th {\n",
       "        text-align: right;\n",
       "    }\n",
       "</style>\n",
       "<table border=\"1\" class=\"dataframe\">\n",
       "  <thead>\n",
       "    <tr style=\"text-align: right;\">\n",
       "      <th></th>\n",
       "      <th>input</th>\n",
       "      <th>actual output</th>\n",
       "      <th>predicted output</th>\n",
       "    </tr>\n",
       "  </thead>\n",
       "  <tbody>\n",
       "    <tr>\n",
       "      <th>4236</th>\n",
       "      <td>wat heb je besloten</td>\n",
       "      <td>what have you decided</td>\n",
       "      <td>what did you</td>\n",
       "    </tr>\n",
       "    <tr>\n",
       "      <th>3325</th>\n",
       "      <td>hij keek neer op de vallei onder hem</td>\n",
       "      <td>he looked down at the valley below</td>\n",
       "      <td>he looked out out the the</td>\n",
       "    </tr>\n",
       "    <tr>\n",
       "      <th>2855</th>\n",
       "      <td>ik denk dat dat aan tom verteld moet worden</td>\n",
       "      <td>i think tom needs to be told that</td>\n",
       "      <td>i think tom should to to</td>\n",
       "    </tr>\n",
       "    <tr>\n",
       "      <th>3365</th>\n",
       "      <td>tom heeft een hekel aan klerken</td>\n",
       "      <td>tom hates clerks</td>\n",
       "      <td>tom hates hates</td>\n",
       "    </tr>\n",
       "    <tr>\n",
       "      <th>916</th>\n",
       "      <td>het werd in olie gebakken</td>\n",
       "      <td>that was cooked in oil</td>\n",
       "      <td>it was in in</td>\n",
       "    </tr>\n",
       "    <tr>\n",
       "      <th>9413</th>\n",
       "      <td>waarom zijn jullie getrouwd</td>\n",
       "      <td>why are you married</td>\n",
       "      <td>why are you married</td>\n",
       "    </tr>\n",
       "    <tr>\n",
       "      <th>8726</th>\n",
       "      <td>de politiemannen arresteerden de inbreker</td>\n",
       "      <td>the policemen arrested the burglar</td>\n",
       "      <td>the moon says the means</td>\n",
       "    </tr>\n",
       "    <tr>\n",
       "      <th>3322</th>\n",
       "      <td>ik zal terug zijn om 230</td>\n",
       "      <td>ill be back at 230</td>\n",
       "      <td>ill be back by</td>\n",
       "    </tr>\n",
       "    <tr>\n",
       "      <th>6718</th>\n",
       "      <td>ik kan me niet herinneren wat tom deed</td>\n",
       "      <td>i dont remember what tom did</td>\n",
       "      <td>i cant remember what did did</td>\n",
       "    </tr>\n",
       "    <tr>\n",
       "      <th>10403</th>\n",
       "      <td>zij stierven op het slachtveld</td>\n",
       "      <td>they died on the battlefield</td>\n",
       "      <td>she is on the south</td>\n",
       "    </tr>\n",
       "    <tr>\n",
       "      <th>2019</th>\n",
       "      <td>ik hou van wiskunde</td>\n",
       "      <td>i like math</td>\n",
       "      <td>i love math</td>\n",
       "    </tr>\n",
       "    <tr>\n",
       "      <th>3495</th>\n",
       "      <td>we hebben een half dozijn eieren</td>\n",
       "      <td>we have half a dozen eggs</td>\n",
       "      <td>we have a eggs eggs</td>\n",
       "    </tr>\n",
       "    <tr>\n",
       "      <th>6171</th>\n",
       "      <td>tom bezocht het rijksmuseum toen hij in amsterdam was</td>\n",
       "      <td>tom visited the national museum when he was in amsterdam</td>\n",
       "      <td>tom ran in when when he he in in</td>\n",
       "    </tr>\n",
       "    <tr>\n",
       "      <th>2982</th>\n",
       "      <td>goeiemorgen allemaal</td>\n",
       "      <td>good morning everybody</td>\n",
       "      <td>good are</td>\n",
       "    </tr>\n",
       "    <tr>\n",
       "      <th>4825</th>\n",
       "      <td>dat was nog maar het begin</td>\n",
       "      <td>that was only the beginning</td>\n",
       "      <td>it was just but</td>\n",
       "    </tr>\n",
       "  </tbody>\n",
       "</table>\n",
       "</div>"
      ],
      "text/plain": [
       "                                                       input  \\\n",
       "4236                                     wat heb je besloten   \n",
       "3325                    hij keek neer op de vallei onder hem   \n",
       "2855             ik denk dat dat aan tom verteld moet worden   \n",
       "3365                         tom heeft een hekel aan klerken   \n",
       "916                                het werd in olie gebakken   \n",
       "9413                             waarom zijn jullie getrouwd   \n",
       "8726               de politiemannen arresteerden de inbreker   \n",
       "3322                                ik zal terug zijn om 230   \n",
       "6718                  ik kan me niet herinneren wat tom deed   \n",
       "10403                         zij stierven op het slachtveld   \n",
       "2019                                     ik hou van wiskunde   \n",
       "3495                        we hebben een half dozijn eieren   \n",
       "6171   tom bezocht het rijksmuseum toen hij in amsterdam was   \n",
       "2982                                    goeiemorgen allemaal   \n",
       "4825                              dat was nog maar het begin   \n",
       "\n",
       "                                                  actual output  \\\n",
       "4236                                      what have you decided   \n",
       "3325                         he looked down at the valley below   \n",
       "2855                          i think tom needs to be told that   \n",
       "3365                                           tom hates clerks   \n",
       "916                                      that was cooked in oil   \n",
       "9413                                        why are you married   \n",
       "8726                         the policemen arrested the burglar   \n",
       "3322                                         ill be back at 230   \n",
       "6718                               i dont remember what tom did   \n",
       "10403                              they died on the battlefield   \n",
       "2019                                                i like math   \n",
       "3495                                  we have half a dozen eggs   \n",
       "6171   tom visited the national museum when he was in amsterdam   \n",
       "2982                                     good morning everybody   \n",
       "4825                                that was only the beginning   \n",
       "\n",
       "                       predicted output  \n",
       "4236                       what did you  \n",
       "3325          he looked out out the the  \n",
       "2855           i think tom should to to  \n",
       "3365                    tom hates hates  \n",
       "916                        it was in in  \n",
       "9413                why are you married  \n",
       "8726            the moon says the means  \n",
       "3322                     ill be back by  \n",
       "6718       i cant remember what did did  \n",
       "10403               she is on the south  \n",
       "2019                        i love math  \n",
       "3495                we have a eggs eggs  \n",
       "6171   tom ran in when when he he in in  \n",
       "2982                           good are  \n",
       "4825                    it was just but  "
      ]
     },
     "execution_count": 46,
     "metadata": {},
     "output_type": "execute_result"
    }
   ],
   "source": [
    "pred_df.sample(15)"
   ]
  },
  {
   "cell_type": "markdown",
   "metadata": {},
   "source": [
    "**Tatoeba.org (https://tatoeba.org/en/downloads) has a large database of example sentences translated into many languages by volunteers. To have a better data for your neural machine translator you can use this tool to generate and download customized sentence pairs. For example it has more than one million sentence pairs translated from Dutch to English. This time, try to tune the hyperparameters and add an attention layer after the dense layer.**"
   ]
  }
 ],
 "metadata": {
  "kernelspec": {
   "display_name": "Python 3 (ipykernel)",
   "language": "python",
   "name": "python3"
  },
  "language_info": {
   "codemirror_mode": {
    "name": "ipython",
    "version": 3
   },
   "file_extension": ".py",
   "mimetype": "text/x-python",
   "name": "python",
   "nbconvert_exporter": "python",
   "pygments_lexer": "ipython3",
   "version": "3.9.10"
  }
 },
 "nbformat": 4,
 "nbformat_minor": 4
}
