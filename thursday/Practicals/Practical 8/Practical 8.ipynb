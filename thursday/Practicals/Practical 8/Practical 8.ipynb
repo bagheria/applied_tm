{
 "cells": [
  {
   "cell_type": "markdown",
   "metadata": {
    "id": "VrLjvC7qcTJx"
   },
   "source": [
    "# Practical 8: Sentiment Analysis\n",
    "#### Pablo Mosteiro (modified from a version by Ayoub Bagheri)\n",
    "<img src=\"img/uu_logo.png\" alt=\"logo\" align=\"right\" title=\"UU\" width=\"50\" height=\"20\" />\n",
    "\n",
    "#### Applied Text Mining - Utrecht Summer School"
   ]
  },
  {
   "cell_type": "markdown",
   "metadata": {
    "id": "ktivQwfGcTJz"
   },
   "source": [
    "In this practical, we will apply both dictionary- and deep learning-based sentiment analysis approaches on the IMDB sentiment classification task."
   ]
  },
  {
   "cell_type": "markdown",
   "metadata": {
    "id": "dDDoqYsDcTJz"
   },
   "source": [
    "We are going to use the following libraries. Take care to have them installed!"
   ]
  },
  {
   "cell_type": "code",
   "execution_count": null,
   "metadata": {
    "id": "wPGX1eS1cTJz"
   },
   "outputs": [],
   "source": [
    "import numpy as np\n",
    "import pandas as pd\n",
    "\n",
    "import tensorflow as tf\n",
    "import tensorflow_hub as hub\n",
    "import tensorflow_datasets as tfds\n",
    "\n",
    "from vaderSentiment.vaderSentiment import SentimentIntensityAnalyzer\n",
    "from sklearn import metrics"
   ]
  },
  {
   "cell_type": "markdown",
   "metadata": {
    "id": "6QJ-g4NEcTJ0"
   },
   "source": [
    "### Let's get started!"
   ]
  },
  {
   "cell_type": "markdown",
   "metadata": {
    "id": "ms13EFlgcTJ0"
   },
   "source": [
    "Here we are going to classify movie reviews as positive or negative using the text of the review. We will use the IMDB dataset that contains the text of 50,000 movie reviews from the Internet Movie Database ([IMDb](https://www.imdb.com/)). These are split into 25,000 reviews for training and 25,000 reviews for testing. The training and test sets are balanced, meaning they contain an equal number of positive and negative reviews.\n"
   ]
  },
  {
   "cell_type": "markdown",
   "metadata": {
    "id": "5N0rng_rcTJ1"
   },
   "source": [
    "1\\. **The IMDB dataset is available on TensorFlow datasets. Use the following code to download the IMDB dataset.**"
   ]
  },
  {
   "cell_type": "code",
   "execution_count": null,
   "metadata": {
    "id": "IzQPZQthcTJ1"
   },
   "outputs": [],
   "source": [
    "# Split the training set into 60% and 40% to end up with 15,000 examples\n",
    "# for training, 10,000 examples for validation and 25,000 examples for testing.\n",
    "train_data, validation_data, test_data = tfds.load(\n",
    "    name=\"imdb_reviews\",\n",
    "    split=('train[:60%]', 'train[60%:]', 'test'),\n",
    "    as_supervised=True)"
   ]
  },
  {
   "cell_type": "markdown",
   "metadata": {
    "id": "aDqxf-39cTJ1"
   },
   "source": [
    "2\\. **Use the following code to explore the data and print the first 4 examples.**"
   ]
  },
  {
   "cell_type": "code",
   "execution_count": null,
   "metadata": {
    "colab": {
     "base_uri": "https://localhost:8080/"
    },
    "id": "L-fvSrxbcTJ3",
    "outputId": "f4bb9c76-9527-4296-b1ee-716dcc1f0c64"
   },
   "outputs": [],
   "source": [
    "train_examples_batch, train_labels_batch = next(iter(train_data.batch(4)))\n",
    "train_examples_batch"
   ]
  },
  {
   "cell_type": "code",
   "execution_count": null,
   "metadata": {
    "colab": {
     "base_uri": "https://localhost:8080/"
    },
    "id": "xS5BrKi_cTJ3",
    "outputId": "0aba2619-0be1-4f64-e339-8e30355c8043"
   },
   "outputs": [],
   "source": [
    "train_labels_batch"
   ]
  },
  {
   "cell_type": "markdown",
   "metadata": {
    "id": "_lxNuPGpcTJ3"
   },
   "source": [
    "The label is an integer value of either 0 or 1, where 0 is a negative review, and 1 is a positive review."
   ]
  },
  {
   "cell_type": "markdown",
   "metadata": {
    "id": "Uif-EDumcTJ3"
   },
   "source": [
    "# Lexicon-based sentiment analysis"
   ]
  },
  {
   "cell_type": "markdown",
   "metadata": {
    "id": "ydzj1nrMcTJ4"
   },
   "source": [
    "Vader (Valence Aware Dictionary and sEntiment Reasoner) is a lexicon and rule-based sentiment analysis tool that is specifically attuned to sentiments expressed in social media, and works well on texts from other domains.\n",
    "\n",
    "The [VADER lexicon](https://www.kaggle.com/datasets/nltkdata/vader-lexicon) is an empirically validated by multiple independent human judges, VADER incorporates a \"gold-standard\" sentiment lexicon that is especially attuned to microblog-like contexts.\n",
    "\n",
    "It has some  advantages:\n",
    "- Unsupervised\n",
    "- Fast and deployable\n",
    "- Reasonable performance even without preprocessing\n",
    "\n",
    "However, there are some disadvantages:\n",
    "- It is a rule-based approach, meaning it utilizes a list of predefined polarity scores for each word\n",
    "- It cannot exceed beyond a certain performance compared to state-of-the-art NLP approaches"
   ]
  },
  {
   "cell_type": "markdown",
   "metadata": {
    "id": "s_cSPOYMcTJ4"
   },
   "source": [
    "3\\. **Create a Vader analyzer using the `SentimentIntensityAnalyzer` function, and look at the polarity scores of some example sentences.**"
   ]
  },
  {
   "cell_type": "code",
   "execution_count": null,
   "metadata": {
    "colab": {
     "base_uri": "https://localhost:8080/"
    },
    "id": "-fwPTq5TcTJ4",
    "outputId": "58afff82-6767-4235-b513-2d8e9832afc9"
   },
   "outputs": [],
   "source": [
    "analyzer = SentimentIntensityAnalyzer()\n",
    "print(analyzer.polarity_scores(\"you cannot be negative\"))"
   ]
  },
  {
   "cell_type": "markdown",
   "metadata": {
    "id": "O8rqhCIscTJ4"
   },
   "source": [
    "The output is 50% positive ad 50% neutral. The compound score is 0.4585."
   ]
  },
  {
   "cell_type": "markdown",
   "metadata": {
    "id": "hl-kbZ9vcTJ5"
   },
   "source": [
    "4\\. **Calculate the compound sentiment scores of the first 1,000 training data. Convert the final scores to 0 (negative) and 1 (positive).**"
   ]
  },
  {
   "cell_type": "code",
   "execution_count": null,
   "metadata": {
    "id": "EmYq0zVLcTJ5"
   },
   "outputs": [],
   "source": [
    "train_examples_batch, train_labels_batch = next(iter(train_data.batch(1000)))"
   ]
  },
  {
   "cell_type": "code",
   "execution_count": null,
   "metadata": {
    "id": "LN0TlnldcTJ5"
   },
   "outputs": [],
   "source": [
    "score = [0 for x in range(1000)]\n",
    "for i in range(1000):\n",
    "    text = train_examples_batch.numpy()[i].decode(\"utf-8\")\n",
    "    sent = analyzer.polarity_scores(text)['compound']\n",
    "    if(sent > 0):\n",
    "        score[i] = 1"
   ]
  },
  {
   "cell_type": "markdown",
   "metadata": {
    "id": "MPGahJ2BcTJ5"
   },
   "source": [
    "5\\. **Evaluate the performance of the predicted sentiment socres using the `classification_report` function. How do you analyze your results?**"
   ]
  },
  {
   "cell_type": "code",
   "execution_count": null,
   "metadata": {
    "colab": {
     "base_uri": "https://localhost:8080/"
    },
    "id": "GfaTnMdbcTJ5",
    "outputId": "4f161a71-10bc-4e33-84a2-f35e63b5a377"
   },
   "outputs": [],
   "source": [
    "print(metrics.classification_report(train_labels_batch, score, target_names=['negative', 'positive']))"
   ]
  },
  {
   "cell_type": "markdown",
   "metadata": {
    "id": "WBL9q1xpcTJ6"
   },
   "source": [
    "# Deep learning-based sentiment analysis"
   ]
  },
  {
   "cell_type": "markdown",
   "metadata": {
    "id": "LLbXDwihcTJ6"
   },
   "source": [
    "In this part of the practical, we are going to use pre-trained word embedding models from TensorFlow Hub (https://tfhub.dev/) to do sentiment classification on movie reviews. TensorFlow Hub is a repository of trained machine learning models."
   ]
  },
  {
   "cell_type": "markdown",
   "metadata": {
    "id": "8GO1sNQ5cTJ6"
   },
   "source": [
    "6\\. **Use a pre-trained model from TensorFlow Hub called `\"google/nnlm-en-dim50/2\"`, and create a Keras embedding layer that uses this model to embed the sentences, and try it out on a couple of input examples.**"
   ]
  },
  {
   "cell_type": "code",
   "execution_count": null,
   "metadata": {
    "colab": {
     "base_uri": "https://localhost:8080/"
    },
    "id": "rXn9LSZPcTJ6",
    "outputId": "83aa03ca-a154-4d74-bc1c-c2839de67b1a"
   },
   "outputs": [],
   "source": [
    "# Token based text embedding trained on English Google News 7B corpus.\n",
    "embedding = \"https://tfhub.dev/google/nnlm-en-dim50/2\"\n",
    "\n",
    "hub_layer = hub.KerasLayer(embedding, input_shape=[],\n",
    "                           dtype=tf.string, trainable=True)\n",
    "hub_layer(train_examples_batch[:3])"
   ]
  },
  {
   "cell_type": "markdown",
   "metadata": {
    "id": "S-zUJjRscTJ6"
   },
   "source": [
    "Here you see that no matter the length of the input text, the output shape of the embeddings is: (`num_examples`, `embedding_dimension`)."
   ]
  },
  {
   "cell_type": "markdown",
   "metadata": {
    "id": "l4PlGrEncTJ6"
   },
   "source": [
    "7\\. **Build a deep learning model using the embedding layer and one hidden layer.**"
   ]
  },
  {
   "cell_type": "code",
   "execution_count": null,
   "metadata": {
    "colab": {
     "base_uri": "https://localhost:8080/"
    },
    "id": "zLP-Ak7tcTJ7",
    "outputId": "865bbacd-6ed3-4f13-b94b-89da54527491"
   },
   "outputs": [],
   "source": [
    "model = tf.keras.Sequential()\n",
    "model.add(hub_layer)\n",
    "model.add(tf.keras.layers.Dense(16, activation='relu'))\n",
    "model.add(tf.keras.layers.Dense(1))\n",
    "\n",
    "model.summary()"
   ]
  },
  {
   "cell_type": "markdown",
   "metadata": {
    "id": "Cw_r7D6CcTJ7"
   },
   "source": [
    "8\\. **Compile and train the model for 10 epochs in batches of 512 samples.**"
   ]
  },
  {
   "cell_type": "code",
   "execution_count": null,
   "metadata": {
    "id": "yEimXgMGcTJ7"
   },
   "outputs": [],
   "source": [
    "model.compile(optimizer='adam',\n",
    "              loss='binary_crossentropy',\n",
    "              metrics=['accuracy'])"
   ]
  },
  {
   "cell_type": "code",
   "execution_count": null,
   "metadata": {
    "colab": {
     "base_uri": "https://localhost:8080/"
    },
    "id": "oSwwYuUecTJ7",
    "outputId": "14406ad7-072b-4a4f-fb27-196380cd8e7e"
   },
   "outputs": [],
   "source": [
    "history = model.fit(train_data.shuffle(10000).batch(512),\n",
    "                    epochs=10,\n",
    "                    validation_data=validation_data.batch(512),\n",
    "                    verbose=1)"
   ]
  },
  {
   "cell_type": "markdown",
   "metadata": {
    "id": "M3tzILuYcTJ7"
   },
   "source": [
    "9\\. **Evaluate the model on the test set.**"
   ]
  },
  {
   "cell_type": "code",
   "execution_count": null,
   "metadata": {
    "colab": {
     "base_uri": "https://localhost:8080/"
    },
    "id": "95DJphgxcTJ8",
    "outputId": "e98eb84f-b05d-48f2-e7bd-2b125ff1623c"
   },
   "outputs": [],
   "source": [
    "results = model.evaluate(test_data.batch(512), verbose=2)\n",
    "\n",
    "for name, value in zip(model.metrics_names, results):\n",
    "  print(\"%s: %.3f\" % (name, value))"
   ]
  },
  {
   "cell_type": "markdown",
   "metadata": {
    "id": "uTeh1U34cTJ8"
   },
   "source": [
    "This fairly simple approach achieves an accuracy of about 85%."
   ]
  },
  {
   "cell_type": "markdown",
   "metadata": {
    "id": "5AYCPG3RcTJ8"
   },
   "source": [
    "10\\. **For your next experiment load a more complex pretrained word embedding for the embedding layer. Train and evaluate your model.**"
   ]
  },
  {
   "cell_type": "code",
   "execution_count": null,
   "metadata": {
    "id": "41kIee_NcTJ8"
   },
   "outputs": [],
   "source": [
    "embedding = \"https://tfhub.dev/google/nnlm-en-dim128-with-normalization/2\"\n",
    "hub_layer = hub.KerasLayer(embedding, input_shape=[],\n",
    "                           dtype=tf.string, trainable=True)\n",
    "# hub_layer(train_examples_batch[:3])"
   ]
  },
  {
   "cell_type": "markdown",
   "metadata": {
    "id": "Lqg31nuecTJ8"
   },
   "source": [
    "Here we tried google/nnlm-en-dim128-with-normalization/2 - trained with the same NNLM (Neural Network Language Model) architecture on the same data as google/nnlm-en-dim50/2, but with a larger embedding dimension. Larger dimensional embeddings can improve on your task but it may take longer to train your model. This new model has additional text normalization such as removing punctuation. This can help if the text in your task contains additional characters or punctuation. You can try more pretrained embeddings from [TensorFlow Hub](https://tfhub.dev/s), for example BERT, but rememeber that these are huge models and need a lot of training time.\n",
    "\n",
    "In Practical 10, you will fine-tune and fit BERT!"
   ]
  },
  {
   "cell_type": "code",
   "execution_count": null,
   "metadata": {
    "colab": {
     "base_uri": "https://localhost:8080/"
    },
    "id": "yR40oehEcTJ8",
    "outputId": "ae566a79-7583-4518-8aed-75ab84b638e7"
   },
   "outputs": [],
   "source": [
    "model = tf.keras.Sequential()\n",
    "model.add(hub_layer)\n",
    "model.add(tf.keras.layers.Dense(16, activation='relu'))\n",
    "model.add(tf.keras.layers.Dense(1))\n",
    "\n",
    "model.summary()"
   ]
  },
  {
   "cell_type": "code",
   "execution_count": null,
   "metadata": {
    "id": "b6VlMa1PcTJ9",
    "scrolled": true
   },
   "outputs": [],
   "source": [
    "model.compile(optimizer='adam',\n",
    "              loss='binary_crossentropy',\n",
    "              metrics=['accuracy'])"
   ]
  },
  {
   "cell_type": "code",
   "execution_count": null,
   "metadata": {
    "colab": {
     "base_uri": "https://localhost:8080/"
    },
    "id": "-9ddoik1cTJ9",
    "outputId": "b2a60882-b4b1-484f-9682-9ffd48d6b1eb",
    "scrolled": true
   },
   "outputs": [],
   "source": [
    "history = model.fit(train_data.shuffle(10000).batch(512),\n",
    "                    epochs=10,\n",
    "                    validation_data=validation_data.batch(512),\n",
    "                    verbose=1)"
   ]
  },
  {
   "cell_type": "code",
   "execution_count": null,
   "metadata": {
    "colab": {
     "base_uri": "https://localhost:8080/"
    },
    "id": "5VEQ8xF8cTJ9",
    "outputId": "eec5b1c1-ee6b-446e-f1bd-e386b070c669"
   },
   "outputs": [],
   "source": [
    "results = model.evaluate(test_data.batch(512), verbose=2)\n",
    "\n",
    "for name, value in zip(model.metrics_names, results):\n",
    "  print(\"%s: %.3f\" % (name, value))"
   ]
  }
 ],
 "metadata": {
  "colab": {
   "provenance": []
  },
  "kernelspec": {
   "display_name": "Python 3 (ipykernel)",
   "language": "python",
   "name": "python3"
  },
  "language_info": {
   "codemirror_mode": {
    "name": "ipython",
    "version": 3
   },
   "file_extension": ".py",
   "mimetype": "text/x-python",
   "name": "python",
   "nbconvert_exporter": "python",
   "pygments_lexer": "ipython3",
   "version": "3.11.9"
  }
 },
 "nbformat": 4,
 "nbformat_minor": 4
}
