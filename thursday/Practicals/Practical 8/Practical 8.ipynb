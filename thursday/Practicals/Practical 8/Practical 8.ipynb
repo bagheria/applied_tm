{
 "cells": [
  {
   "cell_type": "markdown",
   "metadata": {
    "id": "VrLjvC7qcTJx"
   },
   "source": [
    "# Practical 8: Sentiment Analysis\n",
    "#### Ayoub Bagheri\n",
    "<img src=\"img/uu_logo.png\" alt=\"logo\" align=\"right\" title=\"UU\" width=\"50\" height=\"20\" />\n",
    "\n",
    "#### Applied Text Mining - Utrecht Summer School"
   ]
  },
  {
   "cell_type": "markdown",
   "metadata": {
    "id": "ktivQwfGcTJz"
   },
   "source": [
    "In this practical, we will apply both dictionary- and deep learning-based sentiment analysis approaches on the IMDB sentiment classification task."
   ]
  },
  {
   "cell_type": "markdown",
   "metadata": {
    "id": "dDDoqYsDcTJz"
   },
   "source": [
    "We are going to use the following libraries. Take care to have them installed!"
   ]
  },
  {
   "cell_type": "code",
   "execution_count": 20,
   "metadata": {
    "id": "wPGX1eS1cTJz"
   },
   "outputs": [],
   "source": [
    "import numpy as np\n",
    "import pandas as pd\n",
    "\n",
    "import tensorflow as tf\n",
    "import tensorflow_hub as hub\n",
    "import tensorflow_datasets as tfds\n",
    "\n",
    "#!pip install -q vaderSentiment\n",
    "from vaderSentiment.vaderSentiment import SentimentIntensityAnalyzer\n",
    "from sklearn import metrics"
   ]
  },
  {
   "cell_type": "markdown",
   "metadata": {
    "id": "6QJ-g4NEcTJ0"
   },
   "source": [
    "### Let's get started!"
   ]
  },
  {
   "cell_type": "markdown",
   "metadata": {
    "id": "ms13EFlgcTJ0"
   },
   "source": [
    "Here we are going to classify movie reviews as positive or negative using the text of the review. We will use the IMDB dataset that contains the text of 50,000 movie reviews from the Internet Movie Database ([IMDb](https://www.imdb.com/)). These are split into 25,000 reviews for training and 25,000 reviews for testing. The training and test sets are balanced, meaning they contain an equal number of positive and negative reviews.\n"
   ]
  },
  {
   "cell_type": "markdown",
   "metadata": {
    "id": "5N0rng_rcTJ1"
   },
   "source": [
    "1\\. **The IMDB dataset is available on TensorFlow datasets. Use the following code to download the IMDB dataset.**"
   ]
  },
  {
   "cell_type": "code",
   "execution_count": null,
   "metadata": {
    "id": "IzQPZQthcTJ1"
   },
   "outputs": [],
   "source": [
    "# Split the training set into 60% and 40% to end up with 15,000 examples\n",
    "# for training, 10,000 examples for validation and 25,000 examples for testing.\n",
    "train_data, validation_data, test_data = tfds.load(\n",
    "    name=\"imdb_reviews\",\n",
    "    split=('train[:60%]', 'train[60%:]', 'test'),\n",
    "    as_supervised=True)"
   ]
  },
  {
   "cell_type": "markdown",
   "metadata": {
    "id": "aDqxf-39cTJ1"
   },
   "source": [
    "2\\. **Use the following code to explore the data and print the first 4 examples.**"
   ]
  },
  {
   "cell_type": "code",
   "execution_count": 3,
   "metadata": {
    "colab": {
     "base_uri": "https://localhost:8080/"
    },
    "id": "L-fvSrxbcTJ3",
    "outputId": "f4bb9c76-9527-4296-b1ee-716dcc1f0c64"
   },
   "outputs": [
    {
     "data": {
      "text/plain": [
       "<tf.Tensor: shape=(4,), dtype=string, numpy=\n",
       "array([b\"This was an absolutely terrible movie. Don't be lured in by Christopher Walken or Michael Ironside. Both are great actors, but this must simply be their worst role in history. Even their great acting could not redeem this movie's ridiculous storyline. This movie is an early nineties US propaganda piece. The most pathetic scenes were those when the Columbian rebels were making their cases for revolutions. Maria Conchita Alonso appeared phony, and her pseudo-love affair with Walken was nothing but a pathetic emotional plug in a movie that was devoid of any real meaning. I am disappointed that there are movies like this, ruining actor's like Christopher Walken's good name. I could barely sit through it.\",\n",
       "       b'I have been known to fall asleep during films, but this is usually due to a combination of things including, really tired, being warm and comfortable on the sette and having just eaten a lot. However on this occasion I fell asleep because the film was rubbish. The plot development was constant. Constantly slow and boring. Things seemed to happen, but with no explanation of what was causing them or why. I admit, I may have missed part of the film, but i watched the majority of it and everything just seemed to happen of its own accord without any real concern for anything else. I cant recommend this film at all.',\n",
       "       b'Mann photographs the Alberta Rocky Mountains in a superb fashion, and Jimmy Stewart and Walter Brennan give enjoyable performances as they always seem to do. <br /><br />But come on Hollywood - a Mountie telling the people of Dawson City, Yukon to elect themselves a marshal (yes a marshal!) and to enforce the law themselves, then gunfighters battling it out on the streets for control of the town? <br /><br />Nothing even remotely resembling that happened on the Canadian side of the border during the Klondike gold rush. Mr. Mann and company appear to have mistaken Dawson City for Deadwood, the Canadian North for the American Wild West.<br /><br />Canadian viewers be prepared for a Reefer Madness type of enjoyable howl with this ludicrous plot, or, to shake your head in disgust.',\n",
       "       b'This is the kind of film for a snowy Sunday afternoon when the rest of the world can go ahead with its own business as you descend into a big arm-chair and mellow for a couple of hours. Wonderful performances from Cher and Nicolas Cage (as always) gently row the plot along. There are no rapids to cross, no dangerous waters, just a warm and witty paddle through New York life at its best. A family film in every sense and one that deserves the praise it received.'],\n",
       "      dtype=object)>"
      ]
     },
     "execution_count": 3,
     "metadata": {},
     "output_type": "execute_result"
    }
   ],
   "source": [
    "train_examples_batch, train_labels_batch = next(iter(train_data.batch(4)))\n",
    "train_examples_batch"
   ]
  },
  {
   "cell_type": "code",
   "execution_count": 4,
   "metadata": {
    "colab": {
     "base_uri": "https://localhost:8080/"
    },
    "id": "xS5BrKi_cTJ3",
    "outputId": "0aba2619-0be1-4f64-e339-8e30355c8043"
   },
   "outputs": [
    {
     "data": {
      "text/plain": [
       "<tf.Tensor: shape=(4,), dtype=int64, numpy=array([0, 0, 0, 1])>"
      ]
     },
     "execution_count": 4,
     "metadata": {},
     "output_type": "execute_result"
    }
   ],
   "source": [
    "train_labels_batch"
   ]
  },
  {
   "cell_type": "markdown",
   "metadata": {
    "id": "_lxNuPGpcTJ3"
   },
   "source": [
    "The label is an integer value of either 0 or 1, where 0 is a negative review, and 1 is a positive review."
   ]
  },
  {
   "cell_type": "markdown",
   "metadata": {
    "id": "Uif-EDumcTJ3"
   },
   "source": [
    "# Lexicon-based sentiment analysis"
   ]
  },
  {
   "cell_type": "markdown",
   "metadata": {
    "id": "ydzj1nrMcTJ4"
   },
   "source": [
    "Vader (Valence Aware Dictionary and sEntiment Reasoner) is a lexicon and rule-based sentiment analysis tool that is specifically attuned to sentiments expressed in social media, and works well on texts from other domains.\n",
    "\n",
    "The [VADER lexicon](https://www.kaggle.com/datasets/nltkdata/vader-lexicon) is an empirically validated by multiple independent human judges, VADER incorporates a \"gold-standard\" sentiment lexicon that is especially attuned to microblog-like contexts.\n",
    "\n",
    "It has some  advantages:\n",
    "- Unsupervised\n",
    "- Fast and deployable\n",
    "- Reasonable performance even without preprocessing\n",
    "\n",
    "However, there are some disadvantages:\n",
    "- It is a rule-based approach, meaning it utilizes a list of predefined polarity scores for each word\n",
    "- It cannot exceed beyond a certain performance compared to state-of-the-art NLP approaches"
   ]
  },
  {
   "cell_type": "markdown",
   "metadata": {
    "id": "s_cSPOYMcTJ4"
   },
   "source": [
    "3\\. **Create a Vader analyzer using the `SentimentIntensityAnalyzer` function, and look at the polarity scores of some example sentences.**"
   ]
  },
  {
   "cell_type": "code",
   "execution_count": 5,
   "metadata": {
    "colab": {
     "base_uri": "https://localhost:8080/"
    },
    "id": "-fwPTq5TcTJ4",
    "outputId": "58afff82-6767-4235-b513-2d8e9832afc9"
   },
   "outputs": [
    {
     "name": "stdout",
     "output_type": "stream",
     "text": [
      "{'neg': 0.0, 'neu': 0.5, 'pos': 0.5, 'compound': 0.4585}\n"
     ]
    }
   ],
   "source": [
    "analyzer = SentimentIntensityAnalyzer()\n",
    "print(analyzer.polarity_scores(\"you cannot be negative\"))"
   ]
  },
  {
   "cell_type": "markdown",
   "metadata": {
    "id": "O8rqhCIscTJ4"
   },
   "source": [
    "The output is 50% positive ad 50% neutral. The compound score is 0.4585."
   ]
  },
  {
   "cell_type": "markdown",
   "metadata": {
    "id": "hl-kbZ9vcTJ5"
   },
   "source": [
    "4\\. **Calculate the compound sentiment scores of the first 1,000 training data. Convert the final scores to 0 (negative) and 1 (positive).**"
   ]
  },
  {
   "cell_type": "code",
   "execution_count": 6,
   "metadata": {
    "id": "EmYq0zVLcTJ5"
   },
   "outputs": [],
   "source": [
    "train_examples_batch, train_labels_batch = next(iter(train_data.batch(1000)))"
   ]
  },
  {
   "cell_type": "code",
   "execution_count": 7,
   "metadata": {
    "id": "LN0TlnldcTJ5"
   },
   "outputs": [],
   "source": [
    "score = [0 for x in range(1000)]\n",
    "for i in range(1000):\n",
    "    text = train_examples_batch.numpy()[i].decode(\"utf-8\")\n",
    "    sent = analyzer.polarity_scores(text)['compound']\n",
    "    if(sent > 0):\n",
    "        score[i] = 1"
   ]
  },
  {
   "cell_type": "markdown",
   "metadata": {
    "id": "MPGahJ2BcTJ5"
   },
   "source": [
    "5\\. **Evaluate the performance of the predicted sentiment socres using the `classification_report` function. How do you analyze your results?**"
   ]
  },
  {
   "cell_type": "code",
   "execution_count": 8,
   "metadata": {
    "colab": {
     "base_uri": "https://localhost:8080/"
    },
    "id": "GfaTnMdbcTJ5",
    "outputId": "4f161a71-10bc-4e33-84a2-f35e63b5a377"
   },
   "outputs": [
    {
     "name": "stdout",
     "output_type": "stream",
     "text": [
      "              precision    recall  f1-score   support\n",
      "\n",
      "    negative       0.78      0.53      0.63       490\n",
      "    positive       0.66      0.85      0.74       510\n",
      "\n",
      "    accuracy                           0.70      1000\n",
      "   macro avg       0.72      0.69      0.69      1000\n",
      "weighted avg       0.71      0.70      0.69      1000\n",
      "\n"
     ]
    }
   ],
   "source": [
    "print(metrics.classification_report(train_labels_batch, score, target_names=['negative', 'positive']))"
   ]
  },
  {
   "cell_type": "markdown",
   "metadata": {
    "id": "WBL9q1xpcTJ6"
   },
   "source": [
    "# Deep learning-based sentiment analysis"
   ]
  },
  {
   "cell_type": "markdown",
   "metadata": {
    "id": "LLbXDwihcTJ6"
   },
   "source": [
    "In this part of the practical, we are going to use pre-trained word embedding models from TensorFlow Hub (https://tfhub.dev/) to do sentiment classification on movie reviews. TensorFlow Hub is a repository of trained machine learning models."
   ]
  },
  {
   "cell_type": "markdown",
   "metadata": {
    "id": "8GO1sNQ5cTJ6"
   },
   "source": [
    "6\\. **Use a pre-trained model from TensorFlow Hub called `\"google/nnlm-en-dim50/2\"`, and create a Keras embedding layer that uses this model to embed the sentences, and try it out on a couple of input examples.**"
   ]
  },
  {
   "cell_type": "code",
   "execution_count": 9,
   "metadata": {
    "colab": {
     "base_uri": "https://localhost:8080/"
    },
    "id": "rXn9LSZPcTJ6",
    "outputId": "83aa03ca-a154-4d74-bc1c-c2839de67b1a"
   },
   "outputs": [
    {
     "data": {
      "text/plain": [
       "<tf.Tensor: shape=(3, 50), dtype=float32, numpy=\n",
       "array([[ 0.5423195 , -0.0119017 ,  0.06337538,  0.06862972, -0.16776837,\n",
       "        -0.10581174,  0.16865303, -0.04998824, -0.31148055,  0.07910346,\n",
       "         0.15442263,  0.01488662,  0.03930153,  0.19772711, -0.12215476,\n",
       "        -0.04120981, -0.2704109 , -0.21922152,  0.26517662, -0.80739075,\n",
       "         0.25833532, -0.3100421 ,  0.28683215,  0.1943387 , -0.29036492,\n",
       "         0.03862849, -0.7844411 , -0.0479324 ,  0.4110299 , -0.36388892,\n",
       "        -0.58034706,  0.30269456,  0.3630897 , -0.15227164, -0.44391504,\n",
       "         0.19462997,  0.19528408,  0.05666234,  0.2890704 , -0.28468323,\n",
       "        -0.00531206,  0.0571938 , -0.3201318 , -0.04418665, -0.08550783,\n",
       "        -0.55847436, -0.23336391, -0.20782952, -0.03543064, -0.17533456],\n",
       "       [ 0.56338924, -0.12339553, -0.10862679,  0.7753425 , -0.07667089,\n",
       "        -0.15752277,  0.01872335, -0.08169781, -0.3521876 ,  0.4637341 ,\n",
       "        -0.08492756,  0.07166859, -0.00670817,  0.12686075, -0.19326553,\n",
       "        -0.52626437, -0.3295823 ,  0.14394785,  0.09043556, -0.5417555 ,\n",
       "         0.02468163, -0.15456742,  0.68333143,  0.09068331, -0.45327246,\n",
       "         0.23180096, -0.8615696 ,  0.34480393,  0.12838456, -0.58759046,\n",
       "        -0.4071231 ,  0.23061076,  0.48426893, -0.27128142, -0.5380916 ,\n",
       "         0.47016326,  0.22572741, -0.00830663,  0.2846242 , -0.304985  ,\n",
       "         0.04400365,  0.25025874,  0.14867121,  0.40717036, -0.15422426,\n",
       "        -0.06878027, -0.40825695, -0.3149215 ,  0.09283665, -0.20183425],\n",
       "       [ 0.7456154 ,  0.21256861,  0.14400336,  0.5233862 ,  0.11032254,\n",
       "         0.00902788, -0.3667802 , -0.08938274, -0.24165542,  0.33384594,\n",
       "        -0.11194605, -0.01460047, -0.0071645 ,  0.19562712,  0.00685216,\n",
       "        -0.24886718, -0.42796347,  0.18620004, -0.05241098, -0.66462487,\n",
       "         0.13449019, -0.22205497,  0.08633006,  0.43685386,  0.2972681 ,\n",
       "         0.36140734, -0.7196889 ,  0.05291241, -0.14316116, -0.1573394 ,\n",
       "        -0.15056328, -0.05988009, -0.08178931, -0.15569411, -0.09303783,\n",
       "        -0.18971172,  0.07620788, -0.02541647, -0.27134508, -0.3392682 ,\n",
       "        -0.10296468, -0.27275252, -0.34078008,  0.20083304, -0.26644835,\n",
       "         0.00655449, -0.05141488, -0.04261917, -0.45413622,  0.20023568]],\n",
       "      dtype=float32)>"
      ]
     },
     "execution_count": 9,
     "metadata": {},
     "output_type": "execute_result"
    }
   ],
   "source": [
    "# Token based text embedding trained on English Google News 7B corpus.\n",
    "embedding = \"https://tfhub.dev/google/nnlm-en-dim50/2\"\n",
    "\n",
    "hub_layer = hub.KerasLayer(embedding, input_shape=[],\n",
    "                           dtype=tf.string, trainable=True)\n",
    "hub_layer(train_examples_batch[:3])"
   ]
  },
  {
   "cell_type": "markdown",
   "metadata": {
    "id": "S-zUJjRscTJ6"
   },
   "source": [
    "Here you see that no matter the length of the input text, the output shape of the embeddings is: (`num_examples`, `embedding_dimension`)."
   ]
  },
  {
   "cell_type": "markdown",
   "metadata": {
    "id": "l4PlGrEncTJ6"
   },
   "source": [
    "7\\. **Build a deep learning model using the embedding layer and one hidden layer.**"
   ]
  },
  {
   "cell_type": "code",
   "execution_count": 10,
   "metadata": {
    "colab": {
     "base_uri": "https://localhost:8080/"
    },
    "id": "zLP-Ak7tcTJ7",
    "outputId": "865bbacd-6ed3-4f13-b94b-89da54527491"
   },
   "outputs": [
    {
     "name": "stdout",
     "output_type": "stream",
     "text": [
      "Model: \"sequential\"\n",
      "_________________________________________________________________\n",
      " Layer (type)                Output Shape              Param #   \n",
      "=================================================================\n",
      " keras_layer (KerasLayer)    (None, 50)                48190600  \n",
      "                                                                 \n",
      " dense (Dense)               (None, 16)                816       \n",
      "                                                                 \n",
      " dense_1 (Dense)             (None, 1)                 17        \n",
      "                                                                 \n",
      "=================================================================\n",
      "Total params: 48,191,433\n",
      "Trainable params: 48,191,433\n",
      "Non-trainable params: 0\n",
      "_________________________________________________________________\n"
     ]
    }
   ],
   "source": [
    "model = tf.keras.Sequential()\n",
    "model.add(hub_layer)\n",
    "model.add(tf.keras.layers.Dense(16, activation='relu'))\n",
    "model.add(tf.keras.layers.Dense(1))\n",
    "\n",
    "model.summary()"
   ]
  },
  {
   "cell_type": "markdown",
   "metadata": {
    "id": "Cw_r7D6CcTJ7"
   },
   "source": [
    "8\\. **Compile and train the model for 10 epochs in batches of 512 samples.**"
   ]
  },
  {
   "cell_type": "code",
   "execution_count": 11,
   "metadata": {
    "id": "yEimXgMGcTJ7"
   },
   "outputs": [],
   "source": [
    "model.compile(optimizer='adam',\n",
    "              loss='binary_crossentropy',\n",
    "              metrics=['accuracy'])"
   ]
  },
  {
   "cell_type": "code",
   "execution_count": 12,
   "metadata": {
    "colab": {
     "base_uri": "https://localhost:8080/"
    },
    "id": "oSwwYuUecTJ7",
    "outputId": "14406ad7-072b-4a4f-fb27-196380cd8e7e"
   },
   "outputs": [
    {
     "name": "stdout",
     "output_type": "stream",
     "text": [
      "Epoch 1/10\n",
      "30/30 [==============================] - 44s 1s/step - loss: 0.8458 - accuracy: 0.5589 - val_loss: 0.6438 - val_accuracy: 0.6516\n",
      "Epoch 2/10\n",
      "30/30 [==============================] - 43s 1s/step - loss: 0.5294 - accuracy: 0.7449 - val_loss: 0.5426 - val_accuracy: 0.7504\n",
      "Epoch 3/10\n",
      "30/30 [==============================] - 42s 1s/step - loss: 0.3954 - accuracy: 0.8300 - val_loss: 0.4921 - val_accuracy: 0.8039\n",
      "Epoch 4/10\n",
      "30/30 [==============================] - 42s 1s/step - loss: 0.3034 - accuracy: 0.8844 - val_loss: 0.4856 - val_accuracy: 0.8276\n",
      "Epoch 5/10\n",
      "30/30 [==============================] - 42s 1s/step - loss: 0.2345 - accuracy: 0.9137 - val_loss: 0.4677 - val_accuracy: 0.8436\n",
      "Epoch 6/10\n",
      "30/30 [==============================] - 42s 1s/step - loss: 0.1836 - accuracy: 0.9366 - val_loss: 0.4757 - val_accuracy: 0.8530\n",
      "Epoch 7/10\n",
      "30/30 [==============================] - 56s 2s/step - loss: 0.1437 - accuracy: 0.9558 - val_loss: 0.4887 - val_accuracy: 0.8583\n",
      "Epoch 8/10\n",
      "30/30 [==============================] - 43s 1s/step - loss: 0.1130 - accuracy: 0.9669 - val_loss: 0.5123 - val_accuracy: 0.8618\n",
      "Epoch 9/10\n",
      "30/30 [==============================] - 43s 1s/step - loss: 0.0870 - accuracy: 0.9775 - val_loss: 0.5251 - val_accuracy: 0.8660\n",
      "Epoch 10/10\n",
      "30/30 [==============================] - 43s 1s/step - loss: 0.0658 - accuracy: 0.9835 - val_loss: 0.5554 - val_accuracy: 0.8660\n"
     ]
    }
   ],
   "source": [
    "history = model.fit(train_data.shuffle(10000).batch(512),\n",
    "                    epochs=10,\n",
    "                    validation_data=validation_data.batch(512),\n",
    "                    verbose=1)"
   ]
  },
  {
   "cell_type": "markdown",
   "metadata": {
    "id": "M3tzILuYcTJ7"
   },
   "source": [
    "9\\. **Evaluate the model on the test set.**"
   ]
  },
  {
   "cell_type": "code",
   "execution_count": 13,
   "metadata": {
    "colab": {
     "base_uri": "https://localhost:8080/"
    },
    "id": "95DJphgxcTJ8",
    "outputId": "e98eb84f-b05d-48f2-e7bd-2b125ff1623c"
   },
   "outputs": [
    {
     "name": "stdout",
     "output_type": "stream",
     "text": [
      "49/49 - 10s - loss: 0.5737 - accuracy: 0.8468 - 10s/epoch - 197ms/step\n",
      "loss: 0.574\n",
      "accuracy: 0.847\n"
     ]
    }
   ],
   "source": [
    "results = model.evaluate(test_data.batch(512), verbose=2)\n",
    "\n",
    "for name, value in zip(model.metrics_names, results):\n",
    "  print(\"%s: %.3f\" % (name, value))"
   ]
  },
  {
   "cell_type": "markdown",
   "metadata": {
    "id": "uTeh1U34cTJ8"
   },
   "source": [
    "This fairly simple approach achieves an accuracy of about 85%."
   ]
  },
  {
   "cell_type": "markdown",
   "metadata": {
    "id": "5AYCPG3RcTJ8"
   },
   "source": [
    "10\\. **For your next experiment load a more complex pretrained word embedding for the embedding layer. Train and evaluate your model.**"
   ]
  },
  {
   "cell_type": "code",
   "execution_count": 14,
   "metadata": {
    "id": "41kIee_NcTJ8"
   },
   "outputs": [],
   "source": [
    "embedding = \"https://tfhub.dev/google/nnlm-en-dim128-with-normalization/2\"\n",
    "hub_layer = hub.KerasLayer(embedding, input_shape=[],\n",
    "                           dtype=tf.string, trainable=True)\n",
    "# hub_layer(train_examples_batch[:3])"
   ]
  },
  {
   "cell_type": "markdown",
   "metadata": {
    "id": "Lqg31nuecTJ8"
   },
   "source": [
    "Here we tried google/nnlm-en-dim128-with-normalization/2 - trained with the same NNLM (Neural Network Language Model) architecture on the same data as google/nnlm-en-dim50/2, but with a larger embedding dimension. Larger dimensional embeddings can improve on your task but it may take longer to train your model. This new model has additional text normalization such as removing punctuation. This can help if the text in your task contains additional characters or punctuation. You can try more pretrained embeddings from [TensorFlow Hub](https://tfhub.dev/s), for example BERT, but rememeber that these are huge models and need a lot of training time.\n",
    "\n",
    "In Practical 10, you will fine-tune and fit BERT!"
   ]
  },
  {
   "cell_type": "code",
   "execution_count": 15,
   "metadata": {
    "colab": {
     "base_uri": "https://localhost:8080/"
    },
    "id": "yR40oehEcTJ8",
    "outputId": "ae566a79-7583-4518-8aed-75ab84b638e7"
   },
   "outputs": [
    {
     "name": "stdout",
     "output_type": "stream",
     "text": [
      "Model: \"sequential_1\"\n",
      "_________________________________________________________________\n",
      " Layer (type)                Output Shape              Param #   \n",
      "=================================================================\n",
      " keras_layer_1 (KerasLayer)  (None, 128)               124642688 \n",
      "                                                                 \n",
      " dense_2 (Dense)             (None, 16)                2064      \n",
      "                                                                 \n",
      " dense_3 (Dense)             (None, 1)                 17        \n",
      "                                                                 \n",
      "=================================================================\n",
      "Total params: 124,644,769\n",
      "Trainable params: 124,644,769\n",
      "Non-trainable params: 0\n",
      "_________________________________________________________________\n"
     ]
    }
   ],
   "source": [
    "model = tf.keras.Sequential()\n",
    "model.add(hub_layer)\n",
    "model.add(tf.keras.layers.Dense(16, activation='relu'))\n",
    "model.add(tf.keras.layers.Dense(1))\n",
    "\n",
    "model.summary()"
   ]
  },
  {
   "cell_type": "code",
   "execution_count": 16,
   "metadata": {
    "id": "b6VlMa1PcTJ9",
    "scrolled": true
   },
   "outputs": [],
   "source": [
    "model.compile(optimizer='adam',\n",
    "              loss='binary_crossentropy',\n",
    "              metrics=['accuracy'])"
   ]
  },
  {
   "cell_type": "code",
   "execution_count": 17,
   "metadata": {
    "colab": {
     "base_uri": "https://localhost:8080/"
    },
    "id": "-9ddoik1cTJ9",
    "outputId": "b2a60882-b4b1-484f-9682-9ffd48d6b1eb",
    "scrolled": true
   },
   "outputs": [
    {
     "name": "stdout",
     "output_type": "stream",
     "text": [
      "Epoch 1/10\n",
      "30/30 [==============================] - 102s 3s/step - loss: 1.5566 - accuracy: 0.5389 - val_loss: 0.7083 - val_accuracy: 0.5945\n",
      "Epoch 2/10\n",
      "30/30 [==============================] - 101s 3s/step - loss: 0.5828 - accuracy: 0.6949 - val_loss: 0.5918 - val_accuracy: 0.7227\n",
      "Epoch 3/10\n",
      "30/30 [==============================] - 113s 4s/step - loss: 0.3984 - accuracy: 0.8423 - val_loss: 0.4974 - val_accuracy: 0.8013\n",
      "Epoch 4/10\n",
      "30/30 [==============================] - 103s 3s/step - loss: 0.2586 - accuracy: 0.9127 - val_loss: 0.4536 - val_accuracy: 0.8386\n",
      "Epoch 5/10\n",
      "30/30 [==============================] - 101s 3s/step - loss: 0.1699 - accuracy: 0.9471 - val_loss: 0.4851 - val_accuracy: 0.8606\n",
      "Epoch 6/10\n",
      "30/30 [==============================] - 103s 3s/step - loss: 0.1106 - accuracy: 0.9691 - val_loss: 0.4975 - val_accuracy: 0.8720\n",
      "Epoch 7/10\n",
      "30/30 [==============================] - 104s 3s/step - loss: 0.0751 - accuracy: 0.9830 - val_loss: 0.5257 - val_accuracy: 0.8744\n",
      "Epoch 8/10\n",
      "30/30 [==============================] - 113s 4s/step - loss: 0.0538 - accuracy: 0.9910 - val_loss: 0.5552 - val_accuracy: 0.8751\n",
      "Epoch 9/10\n",
      "30/30 [==============================] - 103s 3s/step - loss: 0.0408 - accuracy: 0.9945 - val_loss: 0.5888 - val_accuracy: 0.8751\n",
      "Epoch 10/10\n",
      "30/30 [==============================] - 101s 3s/step - loss: 0.0325 - accuracy: 0.9967 - val_loss: 0.6171 - val_accuracy: 0.8740\n"
     ]
    }
   ],
   "source": [
    "history = model.fit(train_data.shuffle(10000).batch(512),\n",
    "                    epochs=10,\n",
    "                    validation_data=validation_data.batch(512),\n",
    "                    verbose=1)"
   ]
  },
  {
   "cell_type": "code",
   "execution_count": 18,
   "metadata": {
    "colab": {
     "base_uri": "https://localhost:8080/"
    },
    "id": "5VEQ8xF8cTJ9",
    "outputId": "eec5b1c1-ee6b-446e-f1bd-e386b070c669"
   },
   "outputs": [
    {
     "name": "stdout",
     "output_type": "stream",
     "text": [
      "49/49 - 21s - loss: 0.7258 - accuracy: 0.8456 - 21s/epoch - 430ms/step\n",
      "loss: 0.726\n",
      "accuracy: 0.846\n"
     ]
    }
   ],
   "source": [
    "results = model.evaluate(test_data.batch(512), verbose=2)\n",
    "\n",
    "for name, value in zip(model.metrics_names, results):\n",
    "  print(\"%s: %.3f\" % (name, value))"
   ]
  }
 ],
 "metadata": {
  "colab": {
   "provenance": []
  },
  "kernelspec": {
   "display_name": "Python 3 (ipykernel)",
   "language": "python",
   "name": "python3"
  },
  "language_info": {
   "codemirror_mode": {
    "name": "ipython",
    "version": 3
   },
   "file_extension": ".py",
   "mimetype": "text/x-python",
   "name": "python",
   "nbconvert_exporter": "python",
   "pygments_lexer": "ipython3",
   "version": "3.9.10"
  }
 },
 "nbformat": 4,
 "nbformat_minor": 1
}
