{
 "cells": [
  {
   "cell_type": "markdown",
   "id": "1a948675",
   "metadata": {},
   "source": [
    "# Impractical 8: Applications of Text Mining & NLP \n",
    "#### Javier Garcia-Bernardo\n",
    "<img src=\"img/uu_logo.png\" alt=\"logo\" align=\"right\" title=\"UU\" width=\"50\" height=\"20\" />\n",
    "\n",
    "#### Applied Text Mining - Utrecht Summer School"
   ]
  },
  {
   "cell_type": "markdown",
   "id": "80cdc131",
   "metadata": {},
   "source": [
    "In this practical you will be answering a research question or solving a problem. For that you will create a pipeline for classification or clustering.\n",
    "\n",
    "All the data is processed and can be found on the github repository.\n",
    "\n",
    "\n",
    "Here are some proposed research questions:\n",
    "\n",
    "### Classification\n",
    "#### RQ1: Identification of fake news, hate speech or spam + Interpretability of results:\n",
    "- Data: https://www.kaggle.com/datasets/clmentbisaillon/fake-and-real-news-dataset or https://github.com/aitor-garcia-p/hate-speech-dataset (https://paperswithcode.com/dataset/hate-speech) or https://archive.ics.uci.edu/ml/datasets/YouTube+Spam+Collection\n",
    "- Goal: Evaluate performance of different methods and interpret the results using LIME\n",
    "\n",
    "#### RQ2: Evaluate the importance of metadata. Create a classification system to identify the movie genre using and excluding metadata:\n",
    "- Data:  https://www.kaggle.com/datasets/jrobischon/wikipedia-movie-plots \n",
    "- Options: \n",
    "    * Create two classifications systems, one using only metadata, one using only text. Stack them to create the best model: https://scikit-learn.org/stable/modules/generated/sklearn.ensemble.StackingClassifier.html\n",
    "    * Use the functional API of Keras to create one model that handles both types of inputs: https://pyimagesearch.com/2019/02/04/keras-multiple-inputs-and-mixed-data/\n",
    "- Goal: Evaluate performance and interpret the results using LIME\n",
    "\n",
    "\n",
    "### Clustering:\n",
    "#### RQ3: Create a recommendation system for movies based on their plot:\n",
    "- Data: https://www.kaggle.com/datasets/jrobischon/wikipedia-movie-plots\n",
    "- Output: What are the closest movies to \"The Shawshank Redemption\", \"Goodfellas\", and \"Harry Potter and the Sorcerer's Stone\"?\n",
    "\n",
    "####  RQ4: Cluster headlines using word embeddings:\n",
    "- Data: https://www.ims.uni-stuttgart.de/en/research/resources/corpora/goodnewseveryone/ (https://aclanthology.org/2020.lrec-1.194.pdf)\n",
    "- Do the clusters correlate to emotions or media sources?\n",
    "\n",
    "    \n",
    "You can come up with your own research question using any dataset on text analysis, e.g. from:\n",
    "* UCI repository: https://archive.ics.uci.edu/ml/datasets.php?format=&task=&att=&area=&numAtt=&numIns=&type=text&sort=nameUp&view=table\n",
    "* Papers with code repository: https://paperswithcode.com/datasets?mod=texts&page=1\n",
    "* Kaggle (code examples are often included): https://www.kaggle.com/datasets?tags=13204-NLP\n",
    "(but given the time restrictions, choosing one of the above is recommended)\n"
   ]
  },
  {
   "cell_type": "code",
   "execution_count": 1,
   "id": "d9595948",
   "metadata": {},
   "outputs": [],
   "source": [
    "# path to the data\n",
    "path_data = \"./data/\"\n",
    "\n",
    "# How to read data (We cleaned it for you)\n",
    "# data_rq1_fake = pd.read_csv(f\"{path_data}/rq1_fake_news.csv.gzip\",sep=\"\\t\",compression=\"gzip\")\n",
    "# data_rq1_hate_speech = pd.read_csv(f\"{path_data}/rq1_hate_speech.csv.gzip\",sep=\"\\t\",compression=\"gzip\")\n",
    "# data_rq1_youtube = pd.read_csv(f\"{path_data}/rq1_youtube.csv.gzip\",sep=\"\\t\",compression=\"gzip\")\n",
    "# data_rq2_3 = pd.read_csv(f\"{path_data}/rq2_3_wiki_movie_plots.csv.gzip\",sep=\"\\t\",compression=\"gzip\")\n",
    "# data_rq4 = pd.read_csv(f\"{path_data}/rq4_gne-release-v1.0.csv.gzip\",sep=\"\\t\",compression=\"gzip\")\n",
    "# data_rq1_fake.shape, data_rq1_hate_speech.shape, data_rq1_youtube.shape, data_rq2_3.shape, data_rq4.shape"
   ]
  },
  {
   "cell_type": "code",
   "execution_count": 82,
   "id": "cab3d41b",
   "metadata": {},
   "outputs": [],
   "source": [
    "# Data wrangling\n",
    "import pandas as pd\n",
    "import numpy as np\n",
    "\n",
    "# Machine learning tools \n",
    "from sklearn.model_selection import train_test_split\n",
    "from sklearn.feature_extraction.text import TfidfVectorizer\n",
    "from sklearn.pipeline import Pipeline\n",
    "from sklearn.model_selection import GridSearchCV, RandomizedSearchCV\n",
    "from sklearn.linear_model import LogisticRegression\n",
    "\n",
    "\n",
    "# Interpretable AI\n",
    "#!pip install lime\n",
    "from lime.lime_text import LimeTextExplainer"
   ]
  }
 ],
 "metadata": {
  "kernelspec": {
   "display_name": "Python 3 (ipykernel)",
   "language": "python",
   "name": "python3"
  },
  "language_info": {
   "codemirror_mode": {
    "name": "ipython",
    "version": 3
   },
   "file_extension": ".py",
   "mimetype": "text/x-python",
   "name": "python",
   "nbconvert_exporter": "python",
   "pygments_lexer": "ipython3",
   "version": "3.9.10"
  }
 },
 "nbformat": 4,
 "nbformat_minor": 5
}
