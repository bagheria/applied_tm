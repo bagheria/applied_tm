{
 "cells": [
  {
   "cell_type": "markdown",
   "metadata": {},
   "source": [
    "# Neural Machine Translation\n",
    "#### Applied Text Mining - Utrecht Summer School"
   ]
  },
  {
   "cell_type": "markdown",
   "metadata": {},
   "source": [
    "Welcome to the seventh practical of the course “Applied Text Mining”. \n",
    "\n",
    "In this practical, we will create models for neural machine translation. Today we are curious to see how a simple deep learning based model translates a sentence into its counterpart. See these examples:\n",
    "\n",
    "<img src=\"translation_example.png\">\n",
    "\n",
    "<img src=\"translation_example2.png\">\n",
    "\n",
    "The objective from this practical is to convert a Dutch sentence to its English counterpart using a Neural Machine Translation (NMT) system. We will implement this task by building a simple Sequence-to-Sequence model with the help of Keras library."
   ]
  },
  {
   "cell_type": "markdown",
   "metadata": {},
   "source": [
    "Today we will use the following libraries. Take care to have them installed!"
   ]
  },
  {
   "cell_type": "code",
   "execution_count": 2,
   "metadata": {},
   "outputs": [],
   "source": [
    "import string\n",
    "import re\n",
    "from numpy import array, argmax, random, take\n",
    "import pandas as pd\n",
    "from keras.models import Sequential\n",
    "from keras.layers import Dense, LSTM, Embedding, Bidirectional, RepeatVector, TimeDistributed\n",
    "from keras.preprocessing.text import Tokenizer\n",
    "from keras.callbacks import ModelCheckpoint\n",
    "from keras.preprocessing.sequence import pad_sequences\n",
    "from keras.models import load_model\n",
    "from keras import optimizers\n",
    "import matplotlib.pyplot as plt\n",
    "# matplotlib inline\n",
    "pd.set_option('display.max_colwidth', 200)"
   ]
  },
  {
   "cell_type": "markdown",
   "metadata": {},
   "source": [
    "### Let's get started!"
   ]
  },
  {
   "cell_type": "markdown",
   "metadata": {},
   "source": [
    "1\\. **.**"
   ]
  },
  {
   "cell_type": "code",
   "execution_count": 3,
   "metadata": {},
   "outputs": [],
   "source": [
    "# function to read raw text file\n",
    "def read_text(filename):\n",
    "    # open the file\n",
    "    file = open(filename, mode='rt', encoding='utf-8')\n",
    "    # read all text\n",
    "    text = file.read()\n",
    "    file.close()\n",
    "    return text"
   ]
  },
  {
   "cell_type": "markdown",
   "metadata": {},
   "source": [
    "2\\. **.**"
   ]
  },
  {
   "cell_type": "code",
   "execution_count": 4,
   "metadata": {},
   "outputs": [],
   "source": [
    "# split a text into sentences\n",
    "def to_lines(text):\n",
    "    sents = text.strip().split('\\n')\n",
    "    sents = [i.split('\\t') for i in sents]\n",
    "    return sents"
   ]
  },
  {
   "cell_type": "markdown",
   "metadata": {},
   "source": [
    "3\\. **.**"
   ]
  },
  {
   "cell_type": "code",
   "execution_count": 46,
   "metadata": {},
   "outputs": [],
   "source": [
    "data = read_text(\"nld-eng/nld.txt\")\n",
    "nld_eng = to_lines(data)\n",
    "nld_eng = array(nld_eng)"
   ]
  },
  {
   "cell_type": "code",
   "execution_count": 47,
   "metadata": {},
   "outputs": [
    {
     "data": {
      "text/plain": [
       "(54972, 3)"
      ]
     },
     "execution_count": 47,
     "metadata": {},
     "output_type": "execute_result"
    }
   ],
   "source": [
    "nld_eng.shape"
   ]
  },
  {
   "cell_type": "code",
   "execution_count": 10,
   "metadata": {},
   "outputs": [],
   "source": [
    "nld_eng = nld_eng[:5000,:]"
   ]
  },
  {
   "cell_type": "code",
   "execution_count": 11,
   "metadata": {},
   "outputs": [
    {
     "data": {
      "text/plain": [
       "array([['Go.', 'Lopen!',\n",
       "        'CC-BY 2.0 (France) Attribution: tatoeba.org #2877272 (CM) & #7764436 (LinguisticFusion)'],\n",
       "       ['Go.', 'Vooruit.',\n",
       "        'CC-BY 2.0 (France) Attribution: tatoeba.org #2877272 (CM) & #7915821 (Elsofie)'],\n",
       "       ['Hi.', 'Hoi.',\n",
       "        'CC-BY 2.0 (France) Attribution: tatoeba.org #538123 (CM) & #537889 (Dorenda)'],\n",
       "       ...,\n",
       "       ['Did you find it?', 'Heb je het gevonden?',\n",
       "        'CC-BY 2.0 (France) Attribution: tatoeba.org #3333986 (CK) & #9333148 (megamanenm)'],\n",
       "       ['Did you find it?', 'Heb jij het gevonden?',\n",
       "        'CC-BY 2.0 (France) Attribution: tatoeba.org #3333986 (CK) & #9333150 (megamanenm)'],\n",
       "       ['Did you get wet?', 'Bent u nat geworden?',\n",
       "        'CC-BY 2.0 (France) Attribution: tatoeba.org #5853263 (CK) & #8538509 (simonbr)']],\n",
       "      dtype='<U286')"
      ]
     },
     "execution_count": 11,
     "metadata": {},
     "output_type": "execute_result"
    }
   ],
   "source": [
    "nld_eng"
   ]
  },
  {
   "cell_type": "code",
   "execution_count": 48,
   "metadata": {},
   "outputs": [],
   "source": [
    "nld_eng[:,0] = [s.translate(str.maketrans('', '', string.punctuation)) for s in nld_eng[:,0]]\n",
    "nld_eng[:,1] = [s.translate(str.maketrans('', '', string.punctuation)) for s in nld_eng[:,1]]"
   ]
  },
  {
   "cell_type": "code",
   "execution_count": 49,
   "metadata": {},
   "outputs": [
    {
     "data": {
      "text/plain": [
       "array([['Go', 'Lopen',\n",
       "        'CC-BY 2.0 (France) Attribution: tatoeba.org #2877272 (CM) & #7764436 (LinguisticFusion)'],\n",
       "       ['Go', 'Vooruit',\n",
       "        'CC-BY 2.0 (France) Attribution: tatoeba.org #2877272 (CM) & #7915821 (Elsofie)'],\n",
       "       ['Hi', 'Hoi',\n",
       "        'CC-BY 2.0 (France) Attribution: tatoeba.org #538123 (CM) & #537889 (Dorenda)'],\n",
       "       ...,\n",
       "       ['Always use distilled water in steam irons because using ordinary water will cause a mineral buildup over time that will clog the steam holes',\n",
       "        'Gebruik altijd gedistilleerd water in stoomstrijkijzers want gewoon water zorgt voor mineraalophoping dat de stoomgaatjes na verloop van tijd verstopt',\n",
       "        'CC-BY 2.0 (France) Attribution: tatoeba.org #3020388 (Delian) & #3037091 (Citrine)'],\n",
       "       ['If you translate from your second language into your own native language rather than the other way around youre less likely to make mistakes',\n",
       "        'Als je vanuit je tweede taal naar je eigen moedertaal vertaalt in plaats van andersom maak je minder snel fouten',\n",
       "        'CC-BY 2.0 (France) Attribution: tatoeba.org #1230823 (CK) & #8627687 (MarijnKp)'],\n",
       "       ['If someone who doesnt know your background says that you sound like a native speaker it means they probably noticed something about your speaking that made them realize you werent a native speaker In other words you dont really sound like a native speaker',\n",
       "        'Als iemand die je achtergrond niet kent zegt dat je klinkt als een moedertaalspreker betekent dat dat diegene waarschijnlijk iets in je spreken opgemerkt heeft dat hem deed realiseren dat je geen moedertaalspreker bent Met andere woorden je klinkt niet echt als een moedertaalspreker',\n",
       "        'CC-BY 2.0 (France) Attribution: tatoeba.org #953936 (CK) & #1056762 (ReneeMona)']],\n",
       "      dtype='<U286')"
      ]
     },
     "execution_count": 49,
     "metadata": {},
     "output_type": "execute_result"
    }
   ],
   "source": [
    "nld_eng"
   ]
  },
  {
   "cell_type": "code",
   "execution_count": 50,
   "metadata": {},
   "outputs": [],
   "source": [
    "# convert to lowercase\n",
    "for i in range(len(nld_eng)):\n",
    "    nld_eng[i,0] = nld_eng[i,0].lower()    \n",
    "    nld_eng[i,1] = nld_eng[i,1].lower()"
   ]
  },
  {
   "cell_type": "code",
   "execution_count": 51,
   "metadata": {},
   "outputs": [
    {
     "data": {
      "text/plain": [
       "array([['go', 'lopen',\n",
       "        'CC-BY 2.0 (France) Attribution: tatoeba.org #2877272 (CM) & #7764436 (LinguisticFusion)'],\n",
       "       ['go', 'vooruit',\n",
       "        'CC-BY 2.0 (France) Attribution: tatoeba.org #2877272 (CM) & #7915821 (Elsofie)'],\n",
       "       ['hi', 'hoi',\n",
       "        'CC-BY 2.0 (France) Attribution: tatoeba.org #538123 (CM) & #537889 (Dorenda)'],\n",
       "       ...,\n",
       "       ['always use distilled water in steam irons because using ordinary water will cause a mineral buildup over time that will clog the steam holes',\n",
       "        'gebruik altijd gedistilleerd water in stoomstrijkijzers want gewoon water zorgt voor mineraalophoping dat de stoomgaatjes na verloop van tijd verstopt',\n",
       "        'CC-BY 2.0 (France) Attribution: tatoeba.org #3020388 (Delian) & #3037091 (Citrine)'],\n",
       "       ['if you translate from your second language into your own native language rather than the other way around youre less likely to make mistakes',\n",
       "        'als je vanuit je tweede taal naar je eigen moedertaal vertaalt in plaats van andersom maak je minder snel fouten',\n",
       "        'CC-BY 2.0 (France) Attribution: tatoeba.org #1230823 (CK) & #8627687 (MarijnKp)'],\n",
       "       ['if someone who doesnt know your background says that you sound like a native speaker it means they probably noticed something about your speaking that made them realize you werent a native speaker in other words you dont really sound like a native speaker',\n",
       "        'als iemand die je achtergrond niet kent zegt dat je klinkt als een moedertaalspreker betekent dat dat diegene waarschijnlijk iets in je spreken opgemerkt heeft dat hem deed realiseren dat je geen moedertaalspreker bent met andere woorden je klinkt niet echt als een moedertaalspreker',\n",
       "        'CC-BY 2.0 (France) Attribution: tatoeba.org #953936 (CK) & #1056762 (ReneeMona)']],\n",
       "      dtype='<U286')"
      ]
     },
     "execution_count": 51,
     "metadata": {},
     "output_type": "execute_result"
    }
   ],
   "source": [
    "nld_eng"
   ]
  },
  {
   "cell_type": "code",
   "execution_count": 52,
   "metadata": {},
   "outputs": [],
   "source": [
    "# empty lists\n",
    "eng_l = []\n",
    "nld_l = []\n",
    "\n",
    "# populate the lists with sentence lengths\n",
    "for i in nld_eng[:,0]:\n",
    "    eng_l.append(len(i.split()))\n",
    "\n",
    "for i in nld_eng[:,1]:\n",
    "    nld_l.append(len(i.split()))"
   ]
  },
  {
   "cell_type": "code",
   "execution_count": 53,
   "metadata": {},
   "outputs": [
    {
     "data": {
      "image/png": "[encoded data removed]",
      "text/plain": [
       "<Figure size 432x288 with 2 Axes>"
      ]
     },
     "metadata": {
      "needs_background": "light"
     },
     "output_type": "display_data"
    }
   ],
   "source": [
    "length_df = pd.DataFrame({'eng':eng_l, 'nld':nld_l})\n",
    "length_df.hist(bins = 30)\n",
    "plt.show()"
   ]
  },
  {
   "cell_type": "code",
   "execution_count": 54,
   "metadata": {},
   "outputs": [
    {
     "data": {
      "text/plain": [
       "44"
      ]
     },
     "execution_count": 54,
     "metadata": {},
     "output_type": "execute_result"
    }
   ],
   "source": [
    "max(eng_l)"
   ]
  },
  {
   "cell_type": "code",
   "execution_count": 55,
   "metadata": {},
   "outputs": [
    {
     "data": {
      "text/plain": [
       "44"
      ]
     },
     "execution_count": 55,
     "metadata": {},
     "output_type": "execute_result"
    }
   ],
   "source": [
    "max(nld_l)"
   ]
  },
  {
   "cell_type": "code",
   "execution_count": 62,
   "metadata": {},
   "outputs": [
    {
     "data": {
      "text/plain": [
       "5.853307138179437"
      ]
     },
     "execution_count": 62,
     "metadata": {},
     "output_type": "execute_result"
    }
   ],
   "source": [
    "type(nld_l)\n",
    "import statistics\n",
    "statistics.mean(nld_l)"
   ]
  },
  {
   "cell_type": "code",
   "execution_count": 63,
   "metadata": {},
   "outputs": [
    {
     "data": {
      "text/plain": [
       "5.619569962890199"
      ]
     },
     "execution_count": 63,
     "metadata": {},
     "output_type": "execute_result"
    }
   ],
   "source": [
    "statistics.mean(eng_l)"
   ]
  },
  {
   "cell_type": "markdown",
   "metadata": {},
   "source": [
    "The maximum length of the Dutch sentences is 12 and that of the English phrases is 5."
   ]
  },
  {
   "cell_type": "code",
   "execution_count": 56,
   "metadata": {},
   "outputs": [],
   "source": [
    "# function to build a tokenizer\n",
    "def tokenization(lines):\n",
    "    tokenizer = Tokenizer()\n",
    "    tokenizer.fit_on_texts(lines)\n",
    "    return tokenizer"
   ]
  },
  {
   "cell_type": "code",
   "execution_count": 64,
   "metadata": {},
   "outputs": [
    {
     "name": "stdout",
     "output_type": "stream",
     "text": [
      "English Vocabulary Size: 9073\n"
     ]
    }
   ],
   "source": [
    "# prepare english tokenizer\n",
    "eng_tokenizer = tokenization(nld_eng[:, 0])\n",
    "eng_vocab_size = len(eng_tokenizer.word_index) + 1\n",
    "\n",
    "eng_length = 6\n",
    "print('English Vocabulary Size: %d' % eng_vocab_size)"
   ]
  },
  {
   "cell_type": "code",
   "execution_count": 65,
   "metadata": {},
   "outputs": [
    {
     "name": "stdout",
     "output_type": "stream",
     "text": [
      "Deutch Vocabulary Size: 12794\n"
     ]
    }
   ],
   "source": [
    "# prepare Dutch tokenizer\n",
    "nld_tokenizer = tokenization(nld_eng[:, 1])\n",
    "nld_vocab_size = len(nld_tokenizer.word_index) + 1\n",
    "\n",
    "nld_length = 6\n",
    "print('Deutch Vocabulary Size: %d' % nld_vocab_size)"
   ]
  },
  {
   "cell_type": "code",
   "execution_count": 66,
   "metadata": {},
   "outputs": [],
   "source": [
    "# encode and pad sequences\n",
    "def encode_sequences(tokenizer, length, lines):\n",
    "    # integer encode sequences\n",
    "    seq = tokenizer.texts_to_sequences(lines)\n",
    "    # pad sequences with 0 values\n",
    "    seq = pad_sequences(seq, maxlen=length, padding='post')\n",
    "    return seq"
   ]
  },
  {
   "cell_type": "code",
   "execution_count": 67,
   "metadata": {},
   "outputs": [],
   "source": [
    "from sklearn.model_selection import train_test_split\n",
    "train, test = train_test_split(nld_eng, test_size=0.2, random_state = 12)"
   ]
  },
  {
   "cell_type": "code",
   "execution_count": 68,
   "metadata": {},
   "outputs": [],
   "source": [
    "# prepare training data\n",
    "trainX = encode_sequences(nld_tokenizer, nld_length, train[:, 1])\n",
    "trainY = encode_sequences(eng_tokenizer, eng_length, train[:, 0])"
   ]
  },
  {
   "cell_type": "code",
   "execution_count": 69,
   "metadata": {},
   "outputs": [],
   "source": [
    "# prepare validation data\n",
    "testX = encode_sequences(nld_tokenizer, nld_length, test[:, 1])\n",
    "testY = encode_sequences(eng_tokenizer, eng_length, test[:, 0])"
   ]
  },
  {
   "cell_type": "code",
   "execution_count": 70,
   "metadata": {},
   "outputs": [],
   "source": [
    "# build NMT model\n",
    "def build_model(in_vocab, out_vocab, in_timesteps, out_timesteps, units):\n",
    "    model = Sequential()\n",
    "    model.add(Embedding(in_vocab, units, input_length=in_timesteps, mask_zero=True))\n",
    "    model.add(LSTM(units))\n",
    "    model.add(RepeatVector(out_timesteps))\n",
    "    model.add(LSTM(units, return_sequences=True))\n",
    "    model.add(Dense(out_vocab, activation='softmax'))\n",
    "    return model"
   ]
  },
  {
   "cell_type": "code",
   "execution_count": 71,
   "metadata": {},
   "outputs": [],
   "source": [
    "model = build_model(nld_vocab_size, eng_vocab_size, nld_length, eng_length, 512)\n",
    "rms = optimizers.RMSprop(lr=0.001)\n",
    "model.compile(optimizer=rms, loss='sparse_categorical_crossentropy')"
   ]
  },
  {
   "cell_type": "code",
   "execution_count": 72,
   "metadata": {},
   "outputs": [
    {
     "name": "stdout",
     "output_type": "stream",
     "text": [
      "Epoch 1/10\n",
      "69/69 [==============================] - ETA: 0s - loss: 5.7361\n",
      "Epoch 00001: val_loss improved from inf to 5.32297, saving model to model.h1.09_jul_21\n",
      "INFO:tensorflow:Assets written to: model.h1.09_jul_21\\assets\n",
      "69/69 [==============================] - 101s 1s/step - loss: 5.7361 - val_loss: 5.3230\n",
      "Epoch 2/10\n",
      "69/69 [==============================] - ETA: 0s - loss: 5.2138\n",
      "Epoch 00002: val_loss improved from 5.32297 to 5.18957, saving model to model.h1.09_jul_21\n",
      "INFO:tensorflow:Assets written to: model.h1.09_jul_21\\assets\n",
      "69/69 [==============================] - 111s 2s/step - loss: 5.2138 - val_loss: 5.1896\n",
      "Epoch 3/10\n",
      "69/69 [==============================] - ETA: 0s - loss: 5.0032\n",
      "Epoch 00003: val_loss improved from 5.18957 to 5.04063, saving model to model.h1.09_jul_21\n",
      "INFO:tensorflow:Assets written to: model.h1.09_jul_21\\assets\n",
      "69/69 [==============================] - 112s 2s/step - loss: 5.0032 - val_loss: 5.0406\n",
      "Epoch 4/10\n",
      "69/69 [==============================] - ETA: 0s - loss: 4.7860\n",
      "Epoch 00004: val_loss improved from 5.04063 to 4.84828, saving model to model.h1.09_jul_21\n",
      "INFO:tensorflow:Assets written to: model.h1.09_jul_21\\assets\n",
      "69/69 [==============================] - 113s 2s/step - loss: 4.7860 - val_loss: 4.8483\n",
      "Epoch 5/10\n",
      "69/69 [==============================] - ETA: 0s - loss: 4.5822\n",
      "Epoch 00005: val_loss improved from 4.84828 to 4.65718, saving model to model.h1.09_jul_21\n",
      "INFO:tensorflow:Assets written to: model.h1.09_jul_21\\assets\n",
      "69/69 [==============================] - 124s 2s/step - loss: 4.5822 - val_loss: 4.6572\n",
      "Epoch 6/10\n",
      "69/69 [==============================] - ETA: 0s - loss: 4.3581\n",
      "Epoch 00006: val_loss improved from 4.65718 to 4.49669, saving model to model.h1.09_jul_21\n",
      "INFO:tensorflow:Assets written to: model.h1.09_jul_21\\assets\n",
      "69/69 [==============================] - 145s 2s/step - loss: 4.3581 - val_loss: 4.4967\n",
      "Epoch 7/10\n",
      "69/69 [==============================] - ETA: 0s - loss: 4.1461\n",
      "Epoch 00007: val_loss improved from 4.49669 to 4.34277, saving model to model.h1.09_jul_21\n",
      "INFO:tensorflow:Assets written to: model.h1.09_jul_21\\assets\n",
      "69/69 [==============================] - 144s 2s/step - loss: 4.1461 - val_loss: 4.3428\n",
      "Epoch 8/10\n",
      "69/69 [==============================] - ETA: 0s - loss: 3.9429\n",
      "Epoch 00008: val_loss improved from 4.34277 to 4.21160, saving model to model.h1.09_jul_21\n",
      "INFO:tensorflow:Assets written to: model.h1.09_jul_21\\assets\n",
      "69/69 [==============================] - 140s 2s/step - loss: 3.9429 - val_loss: 4.2116\n",
      "Epoch 9/10\n",
      "69/69 [==============================] - ETA: 0s - loss: 3.7427\n",
      "Epoch 00009: val_loss improved from 4.21160 to 4.06054, saving model to model.h1.09_jul_21\n",
      "INFO:tensorflow:Assets written to: model.h1.09_jul_21\\assets\n",
      "69/69 [==============================] - 135s 2s/step - loss: 3.7427 - val_loss: 4.0605\n",
      "Epoch 10/10\n",
      "69/69 [==============================] - ETA: 0s - loss: 3.5505\n",
      "Epoch 00010: val_loss improved from 4.06054 to 3.92364, saving model to model.h1.09_jul_21\n",
      "INFO:tensorflow:Assets written to: model.h1.09_jul_21\\assets\n",
      "69/69 [==============================] - 150s 2s/step - loss: 3.5505 - val_loss: 3.9236\n"
     ]
    }
   ],
   "source": [
    "filename = 'model.h1.09_jun_21'\n",
    "checkpoint = ModelCheckpoint(filename, monitor='val_loss', verbose=1, save_best_only=True, mode='min')\n",
    "\n",
    "history = model.fit(trainX, trainY.reshape(trainY.shape[0], trainY.shape[1], 1), \n",
    "          epochs=30, batch_size=128, \n",
    "          validation_split = 0.2,\n",
    "          callbacks=[checkpoint], verbose=1)"
   ]
  },
  {
   "cell_type": "code",
   "execution_count": 73,
   "metadata": {},
   "outputs": [
    {
     "data": {
      "image/png": "[encoded data removed]",
      "text/plain": [
       "<Figure size 432x288 with 1 Axes>"
      ]
     },
     "metadata": {
      "needs_background": "light"
     },
     "output_type": "display_data"
    }
   ],
   "source": [
    "plt.plot(history.history['loss'])\n",
    "plt.plot(history.history['val_loss'])\n",
    "plt.legend(['train','validation'])\n",
    "plt.show()"
   ]
  },
  {
   "cell_type": "code",
   "execution_count": null,
   "metadata": {},
   "outputs": [],
   "source": []
  },
  {
   "cell_type": "code",
   "execution_count": 74,
   "metadata": {},
   "outputs": [],
   "source": [
    "model = load_model('model.h1.09_jun_21')\n",
    "preds = model.predict_classes(testX.reshape((testX.shape[0],testX.shape[1])))"
   ]
  },
  {
   "cell_type": "code",
   "execution_count": 75,
   "metadata": {},
   "outputs": [],
   "source": [
    "def get_word(n, tokenizer):\n",
    "    for word, index in tokenizer.word_index.items():\n",
    "        if index == n:\n",
    "            return word\n",
    "    return None"
   ]
  },
  {
   "cell_type": "code",
   "execution_count": 76,
   "metadata": {},
   "outputs": [],
   "source": [
    "# convert predictions into text (English)\n",
    "preds_text = []\n",
    "for i in preds:\n",
    "    temp = []\n",
    "    for j in range(len(i)):\n",
    "        t = get_word(i[j], eng_tokenizer)\n",
    "        if j > 0:\n",
    "            if (t == get_word(i[j-1], eng_tokenizer)) or (t == None):\n",
    "                temp.append('')\n",
    "            else:\n",
    "                temp.append(t)\n",
    "             \n",
    "        else:\n",
    "            if(t == None):\n",
    "                temp.append('')\n",
    "            else:\n",
    "                temp.append(t)            \n",
    "        \n",
    "    preds_text.append(' '.join(temp))"
   ]
  },
  {
   "cell_type": "code",
   "execution_count": 77,
   "metadata": {},
   "outputs": [],
   "source": [
    "pred_df = pd.DataFrame({'actual' : test[:,0], 'predicted' : preds_text})\n"
   ]
  },
  {
   "cell_type": "code",
   "execution_count": 78,
   "metadata": {},
   "outputs": [],
   "source": [
    "pd.set_option('display.max_colwidth', 50)\n"
   ]
  },
  {
   "cell_type": "code",
   "execution_count": 79,
   "metadata": {},
   "outputs": [
    {
     "data": {
      "text/html": [
       "<div>\n",
       "<style scoped>\n",
       "    .dataframe tbody tr th:only-of-type {\n",
       "        vertical-align: middle;\n",
       "    }\n",
       "\n",
       "    .dataframe tbody tr th {\n",
       "        vertical-align: top;\n",
       "    }\n",
       "\n",
       "    .dataframe thead th {\n",
       "        text-align: right;\n",
       "    }\n",
       "</style>\n",
       "<table border=\"1\" class=\"dataframe\">\n",
       "  <thead>\n",
       "    <tr style=\"text-align: right;\">\n",
       "      <th></th>\n",
       "      <th>actual</th>\n",
       "      <th>predicted</th>\n",
       "    </tr>\n",
       "  </thead>\n",
       "  <tbody>\n",
       "    <tr>\n",
       "      <th>0</th>\n",
       "      <td>i must refuse</td>\n",
       "      <td>i have to a</td>\n",
       "    </tr>\n",
       "    <tr>\n",
       "      <th>1</th>\n",
       "      <td>they are singers</td>\n",
       "      <td>theyre they</td>\n",
       "    </tr>\n",
       "    <tr>\n",
       "      <th>2</th>\n",
       "      <td>who switched off the light</td>\n",
       "      <td>they the</td>\n",
       "    </tr>\n",
       "    <tr>\n",
       "      <th>3</th>\n",
       "      <td>tom was really different</td>\n",
       "      <td>tom is have</td>\n",
       "    </tr>\n",
       "    <tr>\n",
       "      <th>4</th>\n",
       "      <td>do you need anything</td>\n",
       "      <td>do you need</td>\n",
       "    </tr>\n",
       "    <tr>\n",
       "      <th>5</th>\n",
       "      <td>im fixing the clock</td>\n",
       "      <td>i opened the</td>\n",
       "    </tr>\n",
       "    <tr>\n",
       "      <th>6</th>\n",
       "      <td>i cant tell you when tom will get here</td>\n",
       "      <td>tom  to   us</td>\n",
       "    </tr>\n",
       "    <tr>\n",
       "      <th>7</th>\n",
       "      <td>he solved the problem with ease</td>\n",
       "      <td>the are  in</td>\n",
       "    </tr>\n",
       "    <tr>\n",
       "      <th>8</th>\n",
       "      <td>im not suicidal</td>\n",
       "      <td>i dont have a</td>\n",
       "    </tr>\n",
       "    <tr>\n",
       "      <th>9</th>\n",
       "      <td>please take another one</td>\n",
       "      <td>please a</td>\n",
       "    </tr>\n",
       "    <tr>\n",
       "      <th>10</th>\n",
       "      <td>go ahead and ask tom</td>\n",
       "      <td>that tom</td>\n",
       "    </tr>\n",
       "    <tr>\n",
       "      <th>11</th>\n",
       "      <td>do you want us to leave the room</td>\n",
       "      <td>you   the</td>\n",
       "    </tr>\n",
       "    <tr>\n",
       "      <th>12</th>\n",
       "      <td>you may have read this book already</td>\n",
       "      <td>i you have this</td>\n",
       "    </tr>\n",
       "    <tr>\n",
       "      <th>13</th>\n",
       "      <td>i have been to the us twice</td>\n",
       "      <td>the  at in the month</td>\n",
       "    </tr>\n",
       "    <tr>\n",
       "      <th>14</th>\n",
       "      <td>according to the tv it will rain tomorrow</td>\n",
       "      <td>the  will to</td>\n",
       "    </tr>\n",
       "  </tbody>\n",
       "</table>\n",
       "</div>"
      ],
      "text/plain": [
       "                                       actual             predicted\n",
       "0                               i must refuse         i have to a  \n",
       "1                            they are singers       theyre they    \n",
       "2                  who switched off the light          they the    \n",
       "3                    tom was really different        tom is have   \n",
       "4                        do you need anything        do you need   \n",
       "5                         im fixing the clock       i opened the   \n",
       "6      i cant tell you when tom will get here          tom  to   us\n",
       "7             he solved the problem with ease         the are  in  \n",
       "8                             im not suicidal       i dont have a  \n",
       "9                     please take another one          please a    \n",
       "10                       go ahead and ask tom          that tom    \n",
       "11           do you want us to leave the room           you   the  \n",
       "12        you may have read this book already     i you have this  \n",
       "13                i have been to the us twice  the  at in the month\n",
       "14  according to the tv it will rain tomorrow        the  will to  "
      ]
     },
     "execution_count": 79,
     "metadata": {},
     "output_type": "execute_result"
    }
   ],
   "source": [
    "pred_df.head(15)\n"
   ]
  },
  {
   "cell_type": "code",
   "execution_count": 80,
   "metadata": {},
   "outputs": [
    {
     "data": {
      "text/html": [
       "<div>\n",
       "<style scoped>\n",
       "    .dataframe tbody tr th:only-of-type {\n",
       "        vertical-align: middle;\n",
       "    }\n",
       "\n",
       "    .dataframe tbody tr th {\n",
       "        vertical-align: top;\n",
       "    }\n",
       "\n",
       "    .dataframe thead th {\n",
       "        text-align: right;\n",
       "    }\n",
       "</style>\n",
       "<table border=\"1\" class=\"dataframe\">\n",
       "  <thead>\n",
       "    <tr style=\"text-align: right;\">\n",
       "      <th></th>\n",
       "      <th>actual</th>\n",
       "      <th>predicted</th>\n",
       "    </tr>\n",
       "  </thead>\n",
       "  <tbody>\n",
       "    <tr>\n",
       "      <th>0</th>\n",
       "      <td>i must refuse</td>\n",
       "      <td>i have to a</td>\n",
       "    </tr>\n",
       "    <tr>\n",
       "      <th>1</th>\n",
       "      <td>they are singers</td>\n",
       "      <td>theyre they</td>\n",
       "    </tr>\n",
       "    <tr>\n",
       "      <th>2</th>\n",
       "      <td>who switched off the light</td>\n",
       "      <td>they the</td>\n",
       "    </tr>\n",
       "    <tr>\n",
       "      <th>3</th>\n",
       "      <td>tom was really different</td>\n",
       "      <td>tom is have</td>\n",
       "    </tr>\n",
       "    <tr>\n",
       "      <th>4</th>\n",
       "      <td>do you need anything</td>\n",
       "      <td>do you need</td>\n",
       "    </tr>\n",
       "    <tr>\n",
       "      <th>...</th>\n",
       "      <td>...</td>\n",
       "      <td>...</td>\n",
       "    </tr>\n",
       "    <tr>\n",
       "      <th>10990</th>\n",
       "      <td>i told you it was too soon</td>\n",
       "      <td>you   to the it</td>\n",
       "    </tr>\n",
       "    <tr>\n",
       "      <th>10991</th>\n",
       "      <td>whose book is this</td>\n",
       "      <td>this  is this</td>\n",
       "    </tr>\n",
       "    <tr>\n",
       "      <th>10992</th>\n",
       "      <td>get out</td>\n",
       "      <td>get</td>\n",
       "    </tr>\n",
       "    <tr>\n",
       "      <th>10993</th>\n",
       "      <td>how did your interview go</td>\n",
       "      <td>how did you  this</td>\n",
       "    </tr>\n",
       "    <tr>\n",
       "      <th>10994</th>\n",
       "      <td>is eating healthy more expensive</td>\n",
       "      <td>the is to   me</td>\n",
       "    </tr>\n",
       "  </tbody>\n",
       "</table>\n",
       "<p>10995 rows × 2 columns</p>\n",
       "</div>"
      ],
      "text/plain": [
       "                                 actual           predicted\n",
       "0                         i must refuse       i have to a  \n",
       "1                      they are singers     theyre they    \n",
       "2            who switched off the light        they the    \n",
       "3              tom was really different      tom is have   \n",
       "4                  do you need anything      do you need   \n",
       "...                                 ...                 ...\n",
       "10990        i told you it was too soon     you   to the it\n",
       "10991                whose book is this     this  is this  \n",
       "10992                           get out            get     \n",
       "10993         how did your interview go  how did you  this \n",
       "10994  is eating healthy more expensive      the is to   me\n",
       "\n",
       "[10995 rows x 2 columns]"
      ]
     },
     "execution_count": 80,
     "metadata": {},
     "output_type": "execute_result"
    }
   ],
   "source": [
    "pred_df\n"
   ]
  },
  {
   "cell_type": "code",
   "execution_count": 81,
   "metadata": {},
   "outputs": [
    {
     "data": {
      "text/html": [
       "<div>\n",
       "<style scoped>\n",
       "    .dataframe tbody tr th:only-of-type {\n",
       "        vertical-align: middle;\n",
       "    }\n",
       "\n",
       "    .dataframe tbody tr th {\n",
       "        vertical-align: top;\n",
       "    }\n",
       "\n",
       "    .dataframe thead th {\n",
       "        text-align: right;\n",
       "    }\n",
       "</style>\n",
       "<table border=\"1\" class=\"dataframe\">\n",
       "  <thead>\n",
       "    <tr style=\"text-align: right;\">\n",
       "      <th></th>\n",
       "      <th>actual</th>\n",
       "      <th>predicted</th>\n",
       "    </tr>\n",
       "  </thead>\n",
       "  <tbody>\n",
       "    <tr>\n",
       "      <th>1542</th>\n",
       "      <td>luckily the weather turned out fine</td>\n",
       "      <td>dont  to</td>\n",
       "    </tr>\n",
       "    <tr>\n",
       "      <th>2595</th>\n",
       "      <td>have you lost weight</td>\n",
       "      <td>do you like</td>\n",
       "    </tr>\n",
       "    <tr>\n",
       "      <th>1315</th>\n",
       "      <td>unfortunately she lives abroad</td>\n",
       "      <td>he was  in</td>\n",
       "    </tr>\n",
       "    <tr>\n",
       "      <th>9048</th>\n",
       "      <td>there was a pretty girl with black hair in the...</td>\n",
       "      <td>in a in  the days</td>\n",
       "    </tr>\n",
       "    <tr>\n",
       "      <th>6782</th>\n",
       "      <td>thats the way it goes</td>\n",
       "      <td>is</td>\n",
       "    </tr>\n",
       "    <tr>\n",
       "      <th>8634</th>\n",
       "      <td>i think i was the one who suggested that</td>\n",
       "      <td>the   was</td>\n",
       "    </tr>\n",
       "    <tr>\n",
       "      <th>2541</th>\n",
       "      <td>he cured my illness</td>\n",
       "      <td>he was my</td>\n",
       "    </tr>\n",
       "    <tr>\n",
       "      <th>2409</th>\n",
       "      <td>dont forget to tip the waiter</td>\n",
       "      <td>the   to</td>\n",
       "    </tr>\n",
       "    <tr>\n",
       "      <th>6093</th>\n",
       "      <td>is that a cow or a buffalo</td>\n",
       "      <td>my a  my  car</td>\n",
       "    </tr>\n",
       "    <tr>\n",
       "      <th>6187</th>\n",
       "      <td>tom probably doesnt know where mary is going t...</td>\n",
       "      <td>i when  to  him</td>\n",
       "    </tr>\n",
       "    <tr>\n",
       "      <th>9973</th>\n",
       "      <td>tom sold three refrigerators today</td>\n",
       "      <td>tom has three the years</td>\n",
       "    </tr>\n",
       "    <tr>\n",
       "      <th>3245</th>\n",
       "      <td>i like eating cake</td>\n",
       "      <td>i dont a</td>\n",
       "    </tr>\n",
       "    <tr>\n",
       "      <th>10853</th>\n",
       "      <td>youre timid</td>\n",
       "      <td>youre</td>\n",
       "    </tr>\n",
       "    <tr>\n",
       "      <th>5554</th>\n",
       "      <td>personal computers are very useful</td>\n",
       "      <td>his  are is very</td>\n",
       "    </tr>\n",
       "    <tr>\n",
       "      <th>2397</th>\n",
       "      <td>tom worked</td>\n",
       "      <td>tom is</td>\n",
       "    </tr>\n",
       "  </tbody>\n",
       "</table>\n",
       "</div>"
      ],
      "text/plain": [
       "                                                  actual  \\\n",
       "1542                 luckily the weather turned out fine   \n",
       "2595                                have you lost weight   \n",
       "1315                      unfortunately she lives abroad   \n",
       "9048   there was a pretty girl with black hair in the...   \n",
       "6782                               thats the way it goes   \n",
       "8634            i think i was the one who suggested that   \n",
       "2541                                 he cured my illness   \n",
       "2409                       dont forget to tip the waiter   \n",
       "6093                          is that a cow or a buffalo   \n",
       "6187   tom probably doesnt know where mary is going t...   \n",
       "9973                  tom sold three refrigerators today   \n",
       "3245                                  i like eating cake   \n",
       "10853                                        youre timid   \n",
       "5554                  personal computers are very useful   \n",
       "2397                                          tom worked   \n",
       "\n",
       "                      predicted  \n",
       "1542                dont  to     \n",
       "2595             do you like     \n",
       "1315               he was  in    \n",
       "9048          in a in  the days  \n",
       "6782                    is       \n",
       "8634                the   was    \n",
       "2541               he was my     \n",
       "2409                 the   to    \n",
       "6093              my a  my  car  \n",
       "6187            i when  to  him  \n",
       "9973   tom has three the years   \n",
       "3245                i dont a     \n",
       "10853                youre       \n",
       "5554          his  are is very   \n",
       "2397                 tom is      "
      ]
     },
     "execution_count": 81,
     "metadata": {},
     "output_type": "execute_result"
    }
   ],
   "source": [
    "pred_df.sample(15)\n"
   ]
  },
  {
   "cell_type": "code",
   "execution_count": null,
   "metadata": {},
   "outputs": [],
   "source": []
  }
 ],
 "metadata": {
  "kernelspec": {
   "display_name": "Python 3",
   "language": "python",
   "name": "python3"
  },
  "language_info": {
   "codemirror_mode": {
    "name": "ipython",
    "version": 3
   },
   "file_extension": ".py",
   "mimetype": "text/x-python",
   "name": "python",
   "nbconvert_exporter": "python",
   "pygments_lexer": "ipython3",
   "version": "3.7.4"
  }
 },
 "nbformat": 4,
 "nbformat_minor": 4
}
