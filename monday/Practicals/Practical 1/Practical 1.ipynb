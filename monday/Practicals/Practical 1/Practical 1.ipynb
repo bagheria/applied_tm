{
 "cells": [
  {
   "cell_type": "markdown",
   "metadata": {},
   "source": [
    "# Practical 1: Text Pre-processing\n",
    "#### Ayoub Bagheri\n",
    "<img src=\"img/uu_logo.png\" alt=\"logo\" align=\"right\" title=\"UU\" width=\"50\" height=\"20\" />\n",
    "\n",
    "\n",
    "#### Applied Text Mining - Utrecht Summer School"
   ]
  },
  {
   "cell_type": "markdown",
   "metadata": {},
   "source": [
    "In this practical, we are first going to get acquainted with Python in Google Colab, then we will do some text preprocessing! Are you looking for Python documentation to refresh you knowledge of programming? If so, you can check https://docs.python.org/3/reference/"
   ]
  },
  {
   "cell_type": "markdown",
   "metadata": {},
   "source": [
    "Google Colaboratory, or \"Colab\" for short, allows you to write and execute Python in your browser, with:\n",
    "* Zero configuration required\n",
    "* Free access to GPUs\n",
    "* Easy sharing\n",
    "\n",
    "Colab notebooks are Jupyter notebooks that are hosted by Colab. Here you can find links to more detailed introductions to Colab: https://colab.research.google.com/notebooks/intro.ipynb"
   ]
  },
  {
   "cell_type": "markdown",
   "metadata": {},
   "source": [
    "### Let's get started!"
   ]
  },
  {
   "cell_type": "markdown",
   "metadata": {},
   "source": [
    "### Pre-processing simple texts"
   ]
  },
  {
   "cell_type": "markdown",
   "metadata": {},
   "source": [
    "1\\. **Open Colab and create a new empty notebook to work with Python 3!**"
   ]
  },
  {
   "cell_type": "markdown",
   "metadata": {},
   "source": [
    "Go to https://colab.research.google.com/ and login with your account. Then click on \"File $\\rightarrow$ New notebook\"."
   ]
  },
  {
   "cell_type": "markdown",
   "metadata": {},
   "source": [
    "2\\. **Text is also known as a string variable, or as an array of characters. Create a variable _a_ with the text value of \"Hello @Text Mining World! I'm here to learn everything, right?\", and then print it!**"
   ]
  },
  {
   "cell_type": "code",
   "execution_count": 1,
   "metadata": {},
   "outputs": [
    {
     "data": {
      "text/plain": [
       "\"Hello @Text Mining World! I'm here to learn everything, right?\""
      ]
     },
     "execution_count": 1,
     "metadata": {},
     "output_type": "execute_result"
    }
   ],
   "source": [
    "a = \"Hello @Text Mining World! I'm here to learn everything, right?\"\n",
    "a"
   ]
  },
  {
   "cell_type": "markdown",
   "metadata": {},
   "source": [
    "3\\. **Since this is an array, print the first and last character of your variable.**"
   ]
  },
  {
   "cell_type": "code",
   "execution_count": 2,
   "metadata": {},
   "outputs": [
    {
     "name": "stdout",
     "output_type": "stream",
     "text": [
      "H\n",
      "?\n",
      "Length of your string is:  62\n",
      "?\n"
     ]
    }
   ],
   "source": [
    "print(a[0]) # if you do not use the print function, it will print only the last argumnet in the cell\n",
    "print(a[61])\n",
    "l = len(a)\n",
    "print(\"Length of your string is: \", l)\n",
    "print(a[l-1])"
   ]
  },
  {
   "cell_type": "markdown",
   "metadata": {},
   "source": [
    "4\\. **Use _\"!pip install\"_ command and install the packages: nltk, spacy, gensim, string, numpy.**\n",
    "\n",
    "Generally, you only need to install each package once on your computer and load it again, however, in Colab you may need to reinstall a package once you are reconnecting to the network.\n",
    "\n",
    "NB: nltk comes with many corpora, toy grammars, trained models, etc. A complete list is posted at: http://nltk.org/nltk_data/\n",
    "To install the data, after installing nltk, use nltk’s data downloader as \"nltk.download()\"."
   ]
  },
  {
   "cell_type": "markdown",
   "metadata": {},
   "source": [
    "NB: If you want to stop your code in Jupyter and it does not stop from running:\n",
    "- raise SystemExit(\"Stop right there!\")\n",
    "- Or: One simple trick to get rid of this problem, is to press \"ctrl+a\" to select all the code of that particular cell you want to stop the execution of and press \"ctrl+x\" to cut the entire cell code. Now the cell is empty and just the empty cell is executed."
   ]
  },
  {
   "cell_type": "code",
   "execution_count": 3,
   "metadata": {},
   "outputs": [
    {
     "name": "stdout",
     "output_type": "stream",
     "text": [
      "Requirement already satisfied: numpy in c:\\programdata\\miniconda3\\lib\\site-packages (1.18.1)\n"
     ]
    },
    {
     "name": "stderr",
     "output_type": "stream",
     "text": [
      "ERROR: Could not find a version that satisfies the requirement string (from versions: none)\n",
      "ERROR: No matching distribution found for string\n"
     ]
    },
    {
     "name": "stdout",
     "output_type": "stream",
     "text": [
      "Requirement already satisfied: nltk in c:\\programdata\\miniconda3\\lib\\site-packages (3.5)\n",
      "Requirement already satisfied: tqdm in c:\\programdata\\miniconda3\\lib\\site-packages (from nltk) (4.36.1)\n",
      "Requirement already satisfied: click in c:\\programdata\\miniconda3\\lib\\site-packages (from nltk) (7.1.2)\n",
      "Requirement already satisfied: regex in c:\\programdata\\miniconda3\\lib\\site-packages (from nltk) (2020.11.13)\n",
      "Requirement already satisfied: joblib in c:\\programdata\\miniconda3\\lib\\site-packages (from nltk) (0.14.1)\n",
      "Requirement already satisfied: gensim in c:\\programdata\\miniconda3\\lib\\site-packages (3.8.3)\n",
      "Requirement already satisfied: Cython==0.29.14 in c:\\programdata\\miniconda3\\lib\\site-packages (from gensim) (0.29.14)\n",
      "Requirement already satisfied: six>=1.5.0 in c:\\programdata\\miniconda3\\lib\\site-packages (from gensim) (1.12.0)\n",
      "Requirement already satisfied: smart-open>=1.8.1 in c:\\programdata\\miniconda3\\lib\\site-packages (from gensim) (5.1.0)\n",
      "Requirement already satisfied: scipy>=0.18.1 in c:\\programdata\\miniconda3\\lib\\site-packages (from gensim) (1.4.1)\n",
      "Requirement already satisfied: numpy>=1.11.3 in c:\\programdata\\miniconda3\\lib\\site-packages (from gensim) (1.18.1)\n",
      "Collecting spacy\n",
      "  Using cached https://files.pythonhosted.org/packages/04/11/09c1fcbd0ef9741142f4a990406a2adddbc9f951163b49cbd7170bb539be/spacy-3.1.1-cp37-cp37m-win_amd64.whl\n",
      "Requirement already satisfied: murmurhash<1.1.0,>=0.28.0 in c:\\programdata\\miniconda3\\lib\\site-packages (from spacy) (1.0.5)\n",
      "Requirement already satisfied: wasabi<1.1.0,>=0.8.1 in c:\\programdata\\miniconda3\\lib\\site-packages (from spacy) (0.8.2)\n",
      "Requirement already satisfied: requests<3.0.0,>=2.13.0 in c:\\programdata\\miniconda3\\lib\\site-packages (from spacy) (2.22.0)\n",
      "Requirement already satisfied: srsly<3.0.0,>=2.4.1 in c:\\programdata\\miniconda3\\lib\\site-packages (from spacy) (2.4.1)\n",
      "Requirement already satisfied: blis<0.8.0,>=0.4.0 in c:\\programdata\\miniconda3\\lib\\site-packages (from spacy) (0.7.4)\n",
      "Requirement already satisfied: spacy-legacy<3.1.0,>=3.0.7 in c:\\programdata\\miniconda3\\lib\\site-packages (from spacy) (3.0.8)\n",
      "Requirement already satisfied: setuptools in c:\\programdata\\miniconda3\\lib\\site-packages (from spacy) (41.4.0)\n",
      "Collecting tqdm<5.0.0,>=4.38.0\n",
      "  Using cached https://files.pythonhosted.org/packages/7a/ec/f8ff3ccfc4e59ce619a66a0bf29dc3b49c2e8c07de29d572e191c006eaa2/tqdm-4.61.2-py2.py3-none-any.whl\n",
      "Requirement already satisfied: pathy>=0.3.5 in c:\\programdata\\miniconda3\\lib\\site-packages (from spacy) (0.6.0)\n",
      "Requirement already satisfied: cymem<2.1.0,>=2.0.2 in c:\\programdata\\miniconda3\\lib\\site-packages (from spacy) (2.0.5)\n",
      "Requirement already satisfied: packaging>=20.0 in c:\\programdata\\miniconda3\\lib\\site-packages (from spacy) (21.0)\n",
      "Requirement already satisfied: numpy>=1.15.0 in c:\\programdata\\miniconda3\\lib\\site-packages (from spacy) (1.18.1)\n",
      "Requirement already satisfied: pydantic!=1.8,!=1.8.1,<1.9.0,>=1.7.4 in c:\\programdata\\miniconda3\\lib\\site-packages (from spacy) (1.8.2)\n",
      "Requirement already satisfied: preshed<3.1.0,>=3.0.2 in c:\\programdata\\miniconda3\\lib\\site-packages (from spacy) (3.0.5)\n",
      "Requirement already satisfied: catalogue<2.1.0,>=2.0.4 in c:\\programdata\\miniconda3\\lib\\site-packages (from spacy) (2.0.4)\n",
      "Requirement already satisfied: thinc<8.1.0,>=8.0.8 in c:\\programdata\\miniconda3\\lib\\site-packages (from spacy) (8.0.8)\n",
      "Requirement already satisfied: typer<0.4.0,>=0.3.0 in c:\\programdata\\miniconda3\\lib\\site-packages (from spacy) (0.3.2)\n",
      "Requirement already satisfied: jinja2 in c:\\programdata\\miniconda3\\lib\\site-packages (from spacy) (2.11.1)\n",
      "Requirement already satisfied: typing-extensions<4.0.0.0,>=3.7.4; python_version < \"3.8\" in c:\\programdata\\miniconda3\\lib\\site-packages (from spacy) (3.7.4.3)\n",
      "Requirement already satisfied: chardet<3.1.0,>=3.0.2 in c:\\programdata\\miniconda3\\lib\\site-packages (from requests<3.0.0,>=2.13.0->spacy) (3.0.4)\n",
      "Requirement already satisfied: urllib3!=1.25.0,!=1.25.1,<1.26,>=1.21.1 in c:\\programdata\\miniconda3\\lib\\site-packages (from requests<3.0.0,>=2.13.0->spacy) (1.24.2)\n",
      "Requirement already satisfied: idna<2.9,>=2.5 in c:\\programdata\\miniconda3\\lib\\site-packages (from requests<3.0.0,>=2.13.0->spacy) (2.8)\n",
      "Requirement already satisfied: certifi>=2017.4.17 in c:\\programdata\\miniconda3\\lib\\site-packages (from requests<3.0.0,>=2.13.0->spacy) (2019.11.28)\n",
      "Requirement already satisfied: colorama; platform_system == \"Windows\" in c:\\programdata\\miniconda3\\lib\\site-packages (from tqdm<5.0.0,>=4.38.0->spacy) (0.4.3)\n",
      "Requirement already satisfied: smart-open<6.0.0,>=5.0.0 in c:\\programdata\\miniconda3\\lib\\site-packages (from pathy>=0.3.5->spacy) (5.1.0)\n",
      "Requirement already satisfied: pyparsing>=2.0.2 in c:\\programdata\\miniconda3\\lib\\site-packages (from packaging>=20.0->spacy) (2.4.6)\n",
      "Requirement already satisfied: zipp>=0.5; python_version < \"3.8\" in c:\\programdata\\miniconda3\\lib\\site-packages (from catalogue<2.1.0,>=2.0.4->spacy) (3.1.0)\n",
      "Requirement already satisfied: click<7.2.0,>=7.1.1 in c:\\programdata\\miniconda3\\lib\\site-packages (from typer<0.4.0,>=0.3.0->spacy) (7.1.2)\n",
      "Requirement already satisfied: MarkupSafe>=0.23 in c:\\programdata\\miniconda3\\lib\\site-packages (from jinja2->spacy) (1.1.1)\n",
      "Installing collected packages: tqdm, spacy\n",
      "  Found existing installation: tqdm 4.36.1\n",
      "    Uninstalling tqdm-4.36.1:\n"
     ]
    },
    {
     "name": "stderr",
     "output_type": "stream",
     "text": [
      "ERROR: Could not install packages due to an EnvironmentError: [WinError 5] Access is denied: 'c:\\\\programdata\\\\miniconda3\\\\lib\\\\site-packages\\\\tqdm-4.36.1.dist-info\\\\entry_points.txt'\n",
      "Consider using the `--user` option or check the permissions.\n",
      "\n"
     ]
    }
   ],
   "source": [
    "!pip install numpy\n",
    "!pip install string\n",
    "!pip install nltk\n",
    "!pip install gensim\n",
    "!pip install spacy"
   ]
  },
  {
   "cell_type": "markdown",
   "metadata": {},
   "source": [
    "5\\. **Import (load) the nltk package and use the function _lower_ to convert the characters in string _a_ to their lowercase form and save it into a new variable _b_.**"
   ]
  },
  {
   "cell_type": "code",
   "execution_count": 4,
   "metadata": {
    "scrolled": true
   },
   "outputs": [
    {
     "data": {
      "text/plain": [
       "\"hello @text mining world! i'm here to learn everything, right?\""
      ]
     },
     "execution_count": 4,
     "metadata": {},
     "output_type": "execute_result"
    }
   ],
   "source": [
    "import nltk\n",
    "# nltk.download()\n",
    "b = a.lower()\n",
    "b"
   ]
  },
  {
   "cell_type": "markdown",
   "metadata": {},
   "source": [
    "6\\. **Use the _string_ package to print the list of punctuations.**\n",
    "\n",
    "Punctuations can separate characters, words, phrases, or sentences. In some applications they are very important to the task at hand, in others they are redundant and should be removed!"
   ]
  },
  {
   "cell_type": "code",
   "execution_count": 5,
   "metadata": {},
   "outputs": [
    {
     "name": "stdout",
     "output_type": "stream",
     "text": [
      "!\"#$%&'()*+,-./:;<=>?@[\\]^_`{|}~\n"
     ]
    }
   ],
   "source": [
    "import string\n",
    "print(string.punctuation)"
   ]
  },
  {
   "cell_type": "markdown",
   "metadata": {},
   "source": [
    "7\\. **Use the punctuation list to remove the punctuations from the lowercase form of our example string _a_. Name your variable _c_.**"
   ]
  },
  {
   "cell_type": "code",
   "execution_count": 6,
   "metadata": {},
   "outputs": [
    {
     "name": "stdout",
     "output_type": "stream",
     "text": [
      "hello text mining world im here to learn everything right\n"
     ]
    }
   ],
   "source": [
    "# Remmebr there are many ways to remove punctuations! This is only one of them:\n",
    "c = \"\".join([char for char in b if char not in string.punctuation])\n",
    "print(c)"
   ]
  },
  {
   "cell_type": "markdown",
   "metadata": {},
   "source": [
    "8\\. **Use _word_tokenize_ function from _nltk_ and tokenize string _b_. Compare that with the tokenization of string _c_.**"
   ]
  },
  {
   "cell_type": "code",
   "execution_count": 7,
   "metadata": {},
   "outputs": [
    {
     "name": "stdout",
     "output_type": "stream",
     "text": [
      "['hello', '@', 'text', 'mining', 'world', '!', 'i', \"'m\", 'here', 'to', 'learn', 'everything', ',', 'right', '?']\n",
      "['hello', 'text', 'mining', 'world', 'im', 'here', 'to', 'learn', 'everything', 'right']\n"
     ]
    }
   ],
   "source": [
    "from nltk.tokenize import word_tokenize\n",
    "print(word_tokenize(b))\n",
    "print(word_tokenize(c))\n",
    "# You might need to download Punkt Tokenizer Models\n",
    "# In this case, run the code nltk.download('punkt')"
   ]
  },
  {
   "cell_type": "markdown",
   "metadata": {},
   "source": [
    "We see that the main difference is in punctuations, however, we also see that some words are now combined togehter in the tokenization of string c."
   ]
  },
  {
   "cell_type": "markdown",
   "metadata": {},
   "source": [
    "9\\. **Use the function _Regexptokenizer_ from _nltk_ to tokenize string _b_ whilst removing punctuations. This way you will avoid unnecessary concatenations.**"
   ]
  },
  {
   "cell_type": "code",
   "execution_count": 8,
   "metadata": {
    "scrolled": true
   },
   "outputs": [
    {
     "data": {
      "text/plain": [
       "['hello',\n",
       " 'text',\n",
       " 'mining',\n",
       " 'world',\n",
       " 'i',\n",
       " 'm',\n",
       " 'here',\n",
       " 'to',\n",
       " 'learn',\n",
       " 'everything',\n",
       " 'right']"
      ]
     },
     "execution_count": 8,
     "metadata": {},
     "output_type": "execute_result"
    }
   ],
   "source": [
    "from nltk.tokenize import RegexpTokenizer\n",
    "\n",
    "tokenizer = RegexpTokenizer(r'\\w+')\n",
    "tokenizer.tokenize(b)"
   ]
  },
  {
   "cell_type": "markdown",
   "metadata": {},
   "source": [
    "With this tokenizer, you get the same output as with tokenizing the string c."
   ]
  },
  {
   "cell_type": "markdown",
   "metadata": {},
   "source": [
    "10\\. **Use _sent_tokenize_ function from the _nltk_ package and split string _b_ into sentences. Compare that with the sentence tokenization of string _c_.**"
   ]
  },
  {
   "cell_type": "code",
   "execution_count": 9,
   "metadata": {},
   "outputs": [
    {
     "name": "stdout",
     "output_type": "stream",
     "text": [
      "['hello @text mining world!', \"i'm here to learn everything, right?\"]\n",
      "['hello text mining world im here to learn everything right']\n"
     ]
    }
   ],
   "source": [
    "from nltk.tokenize import sent_tokenize\n",
    "print(sent_tokenize(b))\n",
    "print(sent_tokenize(c))"
   ]
  },
  {
   "cell_type": "markdown",
   "metadata": {},
   "source": [
    "An obvious question in your mind would be why sentence tokenization is needed when we have the option of word tokenization. Imagine you need to count average words per sentence, how you will calculate? For accomplishing such a task, you need both NLTK sentence tokenizer as well as NLTK word tokenizer to calculate the ratio. Such output serves as an important feature for machine training as the answer would be numeric."
   ]
  },
  {
   "cell_type": "markdown",
   "metadata": {},
   "source": [
    "### Pre-processing a text corpus (data set)"
   ]
  },
  {
   "cell_type": "markdown",
   "metadata": {},
   "source": [
    "Pre-processing a data set is similar to pre-processing simple text strings. First, we need to get some data. For this, we can use our own data set, or we can scrape data from web or use social media APIs. There are also some websites with publicly available data sets:\n",
    "- CLARIN Resource Families: https://www.clarin.eu/portal\n",
    "- UCI Machine Learning Repository: https://archive.ics.uci.edu/ml/datasets.php?format=&task=&att=&area=&numAtt=&numIns=&type=text&sort=nameUp&view=table\n",
    "- Kaggle: https://www.kaggle.com/"
   ]
  },
  {
   "cell_type": "markdown",
   "metadata": {},
   "source": [
    "Here, we want to analyze and pre-process the Taylor Swift song lyrics data from all her albums. We downloaded this data set from the Kaggle website and put that already in the data folder. Here is the link to the original data set: https://www.kaggle.com/PromptCloudHQ/taylor-swift-song-lyrics-from-all-the-albums"
   ]
  },
  {
   "cell_type": "markdown",
   "metadata": {},
   "source": [
    "11\\. **Read the “taylor_swift.csv” data set from the data folder. Check the head and tail functions with your dataframe.**"
   ]
  },
  {
   "cell_type": "code",
   "execution_count": 10,
   "metadata": {},
   "outputs": [],
   "source": [
    "import pandas as pd \n",
    "ts_lyrics = pd.read_csv(\"data/taylor_swift_lyrics.csv\")"
   ]
  },
  {
   "cell_type": "code",
   "execution_count": 11,
   "metadata": {},
   "outputs": [
    {
     "data": {
      "text/html": [
       "<div>\n",
       "<style scoped>\n",
       "    .dataframe tbody tr th:only-of-type {\n",
       "        vertical-align: middle;\n",
       "    }\n",
       "\n",
       "    .dataframe tbody tr th {\n",
       "        vertical-align: top;\n",
       "    }\n",
       "\n",
       "    .dataframe thead th {\n",
       "        text-align: right;\n",
       "    }\n",
       "</style>\n",
       "<table border=\"1\" class=\"dataframe\">\n",
       "  <thead>\n",
       "    <tr style=\"text-align: right;\">\n",
       "      <th></th>\n",
       "      <th>Artist</th>\n",
       "      <th>Album</th>\n",
       "      <th>Title</th>\n",
       "      <th>Lyrics</th>\n",
       "    </tr>\n",
       "  </thead>\n",
       "  <tbody>\n",
       "    <tr>\n",
       "      <th>0</th>\n",
       "      <td>Taylor Swift</td>\n",
       "      <td>Taylor Swift</td>\n",
       "      <td>Tim McGraw</td>\n",
       "      <td>He said the way my blue eyes shinx\\nPut those ...</td>\n",
       "    </tr>\n",
       "    <tr>\n",
       "      <th>1</th>\n",
       "      <td>Taylor Swift</td>\n",
       "      <td>Taylor Swift</td>\n",
       "      <td>Picture to Burn</td>\n",
       "      <td>State the obvious, I didn't get my perfect fan...</td>\n",
       "    </tr>\n",
       "    <tr>\n",
       "      <th>2</th>\n",
       "      <td>Taylor Swift</td>\n",
       "      <td>Taylor Swift</td>\n",
       "      <td>Teardrops on my Guitar</td>\n",
       "      <td>Drew looks at me,\\nI fake a smile so he won't ...</td>\n",
       "    </tr>\n",
       "    <tr>\n",
       "      <th>3</th>\n",
       "      <td>Taylor Swift</td>\n",
       "      <td>Taylor Swift</td>\n",
       "      <td>A Place in This World</td>\n",
       "      <td>I don't know what I want, so don't ask me\\n'Ca...</td>\n",
       "    </tr>\n",
       "    <tr>\n",
       "      <th>4</th>\n",
       "      <td>Taylor Swift</td>\n",
       "      <td>Taylor Swift</td>\n",
       "      <td>Cold As You</td>\n",
       "      <td>You have a way of coming easily to me\\nAnd whe...</td>\n",
       "    </tr>\n",
       "  </tbody>\n",
       "</table>\n",
       "</div>"
      ],
      "text/plain": [
       "         Artist           Album                   Title   \\\n",
       "0  Taylor Swift   Taylor Swift                Tim McGraw   \n",
       "1  Taylor Swift   Taylor Swift           Picture to Burn   \n",
       "2  Taylor Swift   Taylor Swift   Teardrops on my Guitar    \n",
       "3  Taylor Swift   Taylor Swift    A Place in This World    \n",
       "4  Taylor Swift   Taylor Swift              Cold As You    \n",
       "\n",
       "                                              Lyrics  \n",
       "0  He said the way my blue eyes shinx\\nPut those ...  \n",
       "1  State the obvious, I didn't get my perfect fan...  \n",
       "2  Drew looks at me,\\nI fake a smile so he won't ...  \n",
       "3  I don't know what I want, so don't ask me\\n'Ca...  \n",
       "4  You have a way of coming easily to me\\nAnd whe...  "
      ]
     },
     "execution_count": 11,
     "metadata": {},
     "output_type": "execute_result"
    }
   ],
   "source": [
    "ts_lyrics.head()"
   ]
  },
  {
   "cell_type": "code",
   "execution_count": 12,
   "metadata": {},
   "outputs": [
    {
     "data": {
      "text/html": [
       "<div>\n",
       "<style scoped>\n",
       "    .dataframe tbody tr th:only-of-type {\n",
       "        vertical-align: middle;\n",
       "    }\n",
       "\n",
       "    .dataframe tbody tr th {\n",
       "        vertical-align: top;\n",
       "    }\n",
       "\n",
       "    .dataframe thead th {\n",
       "        text-align: right;\n",
       "    }\n",
       "</style>\n",
       "<table border=\"1\" class=\"dataframe\">\n",
       "  <thead>\n",
       "    <tr style=\"text-align: right;\">\n",
       "      <th></th>\n",
       "      <th>Artist</th>\n",
       "      <th>Album</th>\n",
       "      <th>Title</th>\n",
       "      <th>Lyrics</th>\n",
       "    </tr>\n",
       "  </thead>\n",
       "  <tbody>\n",
       "    <tr>\n",
       "      <th>127</th>\n",
       "      <td>Taylor Swift</td>\n",
       "      <td>folklore</td>\n",
       "      <td>mad woman</td>\n",
       "      <td>What did you think I'd say to that?\\nDoes a sc...</td>\n",
       "    </tr>\n",
       "    <tr>\n",
       "      <th>128</th>\n",
       "      <td>Taylor Swift</td>\n",
       "      <td>folklore</td>\n",
       "      <td>epiphany</td>\n",
       "      <td>Keep your helmet\\nKeep your life, son\\nJust a ...</td>\n",
       "    </tr>\n",
       "    <tr>\n",
       "      <th>129</th>\n",
       "      <td>Taylor Swift</td>\n",
       "      <td>folklore</td>\n",
       "      <td>betty</td>\n",
       "      <td>Betty, I won't make assumptions about why you ...</td>\n",
       "    </tr>\n",
       "    <tr>\n",
       "      <th>130</th>\n",
       "      <td>Taylor Swift</td>\n",
       "      <td>folklore</td>\n",
       "      <td>peace</td>\n",
       "      <td>Our coming of age has come and gone\\nSuddenly ...</td>\n",
       "    </tr>\n",
       "    <tr>\n",
       "      <th>131</th>\n",
       "      <td>Taylor Swift</td>\n",
       "      <td>folklore</td>\n",
       "      <td>hoax</td>\n",
       "      <td>My only one\\nMy smoking gun\\nMy eclipsed sun\\n...</td>\n",
       "    </tr>\n",
       "  </tbody>\n",
       "</table>\n",
       "</div>"
      ],
      "text/plain": [
       "           Artist       Album     Title   \\\n",
       "127  Taylor Swift   folklore   mad woman   \n",
       "128  Taylor Swift   folklore    epiphany   \n",
       "129  Taylor Swift   folklore       betty   \n",
       "130  Taylor Swift   folklore       peace   \n",
       "131  Taylor Swift   folklore        hoax   \n",
       "\n",
       "                                                Lyrics  \n",
       "127  What did you think I'd say to that?\\nDoes a sc...  \n",
       "128  Keep your helmet\\nKeep your life, son\\nJust a ...  \n",
       "129  Betty, I won't make assumptions about why you ...  \n",
       "130  Our coming of age has come and gone\\nSuddenly ...  \n",
       "131  My only one\\nMy smoking gun\\nMy eclipsed sun\\n...  "
      ]
     },
     "execution_count": 12,
     "metadata": {},
     "output_type": "execute_result"
    }
   ],
   "source": [
    "ts_lyrics.tail()"
   ]
  },
  {
   "cell_type": "code",
   "execution_count": 13,
   "metadata": {},
   "outputs": [
    {
     "data": {
      "text/plain": [
       "Artist                                         Taylor Swift \n",
       "Album                                          Taylor Swift \n",
       "Title                                             Tim McGraw\n",
       "Lyrics     He said the way my blue eyes shinx\\nPut those ...\n",
       "Name: 0, dtype: object"
      ]
     },
     "execution_count": 13,
     "metadata": {},
     "output_type": "execute_result"
    }
   ],
   "source": [
    "ts_lyrics.iloc[0]"
   ]
  },
  {
   "cell_type": "code",
   "execution_count": 14,
   "metadata": {},
   "outputs": [
    {
     "data": {
      "text/html": [
       "<div>\n",
       "<style scoped>\n",
       "    .dataframe tbody tr th:only-of-type {\n",
       "        vertical-align: middle;\n",
       "    }\n",
       "\n",
       "    .dataframe tbody tr th {\n",
       "        vertical-align: top;\n",
       "    }\n",
       "\n",
       "    .dataframe thead th {\n",
       "        text-align: right;\n",
       "    }\n",
       "</style>\n",
       "<table border=\"1\" class=\"dataframe\">\n",
       "  <thead>\n",
       "    <tr style=\"text-align: right;\">\n",
       "      <th></th>\n",
       "      <th>Artist</th>\n",
       "      <th>Album</th>\n",
       "      <th>Title</th>\n",
       "      <th>Lyrics</th>\n",
       "    </tr>\n",
       "  </thead>\n",
       "  <tbody>\n",
       "    <tr>\n",
       "      <th>0</th>\n",
       "      <td>Taylor Swift</td>\n",
       "      <td>Taylor Swift</td>\n",
       "      <td>Tim McGraw</td>\n",
       "      <td>He said the way my blue eyes shinx\\nPut those ...</td>\n",
       "    </tr>\n",
       "  </tbody>\n",
       "</table>\n",
       "</div>"
      ],
      "text/plain": [
       "         Artist           Album      Title   \\\n",
       "0  Taylor Swift   Taylor Swift   Tim McGraw   \n",
       "\n",
       "                                              Lyrics  \n",
       "0  He said the way my blue eyes shinx\\nPut those ...  "
      ]
     },
     "execution_count": 14,
     "metadata": {},
     "output_type": "execute_result"
    }
   ],
   "source": [
    "ts_lyrics.head(1)"
   ]
  },
  {
   "cell_type": "markdown",
   "metadata": {},
   "source": [
    "12\\. **Add a new column to the dataframe and name it _Preprocessed_ _Lyrics_ , then fill the column out with the preprocessed text including the steps in this and the following questions. First replace the '\\n' notations with a space character.**"
   ]
  },
  {
   "cell_type": "code",
   "execution_count": 15,
   "metadata": {},
   "outputs": [
    {
     "data": {
      "text/html": [
       "<div>\n",
       "<style scoped>\n",
       "    .dataframe tbody tr th:only-of-type {\n",
       "        vertical-align: middle;\n",
       "    }\n",
       "\n",
       "    .dataframe tbody tr th {\n",
       "        vertical-align: top;\n",
       "    }\n",
       "\n",
       "    .dataframe thead th {\n",
       "        text-align: right;\n",
       "    }\n",
       "</style>\n",
       "<table border=\"1\" class=\"dataframe\">\n",
       "  <thead>\n",
       "    <tr style=\"text-align: right;\">\n",
       "      <th></th>\n",
       "      <th>Artist</th>\n",
       "      <th>Album</th>\n",
       "      <th>Title</th>\n",
       "      <th>Lyrics</th>\n",
       "      <th>Preprocessed Lyrics</th>\n",
       "    </tr>\n",
       "  </thead>\n",
       "  <tbody>\n",
       "    <tr>\n",
       "      <th>0</th>\n",
       "      <td>Taylor Swift</td>\n",
       "      <td>Taylor Swift</td>\n",
       "      <td>Tim McGraw</td>\n",
       "      <td>He said the way my blue eyes shinx\\nPut those ...</td>\n",
       "      <td>He said the way my blue eyes shinx Put those G...</td>\n",
       "    </tr>\n",
       "    <tr>\n",
       "      <th>1</th>\n",
       "      <td>Taylor Swift</td>\n",
       "      <td>Taylor Swift</td>\n",
       "      <td>Picture to Burn</td>\n",
       "      <td>State the obvious, I didn't get my perfect fan...</td>\n",
       "      <td>State the obvious, I didn't get my perfect fan...</td>\n",
       "    </tr>\n",
       "    <tr>\n",
       "      <th>2</th>\n",
       "      <td>Taylor Swift</td>\n",
       "      <td>Taylor Swift</td>\n",
       "      <td>Teardrops on my Guitar</td>\n",
       "      <td>Drew looks at me,\\nI fake a smile so he won't ...</td>\n",
       "      <td>Drew looks at me, I fake a smile so he won't s...</td>\n",
       "    </tr>\n",
       "    <tr>\n",
       "      <th>3</th>\n",
       "      <td>Taylor Swift</td>\n",
       "      <td>Taylor Swift</td>\n",
       "      <td>A Place in This World</td>\n",
       "      <td>I don't know what I want, so don't ask me\\n'Ca...</td>\n",
       "      <td>I don't know what I want, so don't ask me 'Cau...</td>\n",
       "    </tr>\n",
       "    <tr>\n",
       "      <th>4</th>\n",
       "      <td>Taylor Swift</td>\n",
       "      <td>Taylor Swift</td>\n",
       "      <td>Cold As You</td>\n",
       "      <td>You have a way of coming easily to me\\nAnd whe...</td>\n",
       "      <td>You have a way of coming easily to me And when...</td>\n",
       "    </tr>\n",
       "  </tbody>\n",
       "</table>\n",
       "</div>"
      ],
      "text/plain": [
       "         Artist           Album                   Title   \\\n",
       "0  Taylor Swift   Taylor Swift                Tim McGraw   \n",
       "1  Taylor Swift   Taylor Swift           Picture to Burn   \n",
       "2  Taylor Swift   Taylor Swift   Teardrops on my Guitar    \n",
       "3  Taylor Swift   Taylor Swift    A Place in This World    \n",
       "4  Taylor Swift   Taylor Swift              Cold As You    \n",
       "\n",
       "                                              Lyrics  \\\n",
       "0  He said the way my blue eyes shinx\\nPut those ...   \n",
       "1  State the obvious, I didn't get my perfect fan...   \n",
       "2  Drew looks at me,\\nI fake a smile so he won't ...   \n",
       "3  I don't know what I want, so don't ask me\\n'Ca...   \n",
       "4  You have a way of coming easily to me\\nAnd whe...   \n",
       "\n",
       "                                 Preprocessed Lyrics  \n",
       "0  He said the way my blue eyes shinx Put those G...  \n",
       "1  State the obvious, I didn't get my perfect fan...  \n",
       "2  Drew looks at me, I fake a smile so he won't s...  \n",
       "3  I don't know what I want, so don't ask me 'Cau...  \n",
       "4  You have a way of coming easily to me And when...  "
      ]
     },
     "execution_count": 15,
     "metadata": {},
     "output_type": "execute_result"
    }
   ],
   "source": [
    "import re\n",
    "def remove_linebreaks(text):\n",
    "    \"\"\"custom function to remove the line breaks\"\"\"\n",
    "    return re.sub(r'\\n', ' ', text)\n",
    "\n",
    "ts_lyrics[\"Preprocessed Lyrics\"] = ts_lyrics[\"Lyrics\"].apply(lambda text: remove_linebreaks(text))\n",
    "ts_lyrics.head()"
   ]
  },
  {
   "cell_type": "markdown",
   "metadata": {},
   "source": [
    "13\\. **Write another custom function to remove the punctuations. You can use the previous method or make use of the function maketrans from the string package.**"
   ]
  },
  {
   "cell_type": "code",
   "execution_count": 16,
   "metadata": {},
   "outputs": [
    {
     "data": {
      "text/html": [
       "<div>\n",
       "<style scoped>\n",
       "    .dataframe tbody tr th:only-of-type {\n",
       "        vertical-align: middle;\n",
       "    }\n",
       "\n",
       "    .dataframe tbody tr th {\n",
       "        vertical-align: top;\n",
       "    }\n",
       "\n",
       "    .dataframe thead th {\n",
       "        text-align: right;\n",
       "    }\n",
       "</style>\n",
       "<table border=\"1\" class=\"dataframe\">\n",
       "  <thead>\n",
       "    <tr style=\"text-align: right;\">\n",
       "      <th></th>\n",
       "      <th>Artist</th>\n",
       "      <th>Album</th>\n",
       "      <th>Title</th>\n",
       "      <th>Lyrics</th>\n",
       "      <th>Preprocessed Lyrics</th>\n",
       "    </tr>\n",
       "  </thead>\n",
       "  <tbody>\n",
       "    <tr>\n",
       "      <th>0</th>\n",
       "      <td>Taylor Swift</td>\n",
       "      <td>Taylor Swift</td>\n",
       "      <td>Tim McGraw</td>\n",
       "      <td>He said the way my blue eyes shinx\\nPut those ...</td>\n",
       "      <td>He said the way my blue eyes shinx Put those G...</td>\n",
       "    </tr>\n",
       "    <tr>\n",
       "      <th>1</th>\n",
       "      <td>Taylor Swift</td>\n",
       "      <td>Taylor Swift</td>\n",
       "      <td>Picture to Burn</td>\n",
       "      <td>State the obvious, I didn't get my perfect fan...</td>\n",
       "      <td>State the obvious I didnt get my perfect fanta...</td>\n",
       "    </tr>\n",
       "    <tr>\n",
       "      <th>2</th>\n",
       "      <td>Taylor Swift</td>\n",
       "      <td>Taylor Swift</td>\n",
       "      <td>Teardrops on my Guitar</td>\n",
       "      <td>Drew looks at me,\\nI fake a smile so he won't ...</td>\n",
       "      <td>Drew looks at me I fake a smile so he wont see...</td>\n",
       "    </tr>\n",
       "    <tr>\n",
       "      <th>3</th>\n",
       "      <td>Taylor Swift</td>\n",
       "      <td>Taylor Swift</td>\n",
       "      <td>A Place in This World</td>\n",
       "      <td>I don't know what I want, so don't ask me\\n'Ca...</td>\n",
       "      <td>I dont know what I want so dont ask me Cause I...</td>\n",
       "    </tr>\n",
       "    <tr>\n",
       "      <th>4</th>\n",
       "      <td>Taylor Swift</td>\n",
       "      <td>Taylor Swift</td>\n",
       "      <td>Cold As You</td>\n",
       "      <td>You have a way of coming easily to me\\nAnd whe...</td>\n",
       "      <td>You have a way of coming easily to me And when...</td>\n",
       "    </tr>\n",
       "  </tbody>\n",
       "</table>\n",
       "</div>"
      ],
      "text/plain": [
       "         Artist           Album                   Title   \\\n",
       "0  Taylor Swift   Taylor Swift                Tim McGraw   \n",
       "1  Taylor Swift   Taylor Swift           Picture to Burn   \n",
       "2  Taylor Swift   Taylor Swift   Teardrops on my Guitar    \n",
       "3  Taylor Swift   Taylor Swift    A Place in This World    \n",
       "4  Taylor Swift   Taylor Swift              Cold As You    \n",
       "\n",
       "                                              Lyrics  \\\n",
       "0  He said the way my blue eyes shinx\\nPut those ...   \n",
       "1  State the obvious, I didn't get my perfect fan...   \n",
       "2  Drew looks at me,\\nI fake a smile so he won't ...   \n",
       "3  I don't know what I want, so don't ask me\\n'Ca...   \n",
       "4  You have a way of coming easily to me\\nAnd whe...   \n",
       "\n",
       "                                 Preprocessed Lyrics  \n",
       "0  He said the way my blue eyes shinx Put those G...  \n",
       "1  State the obvious I didnt get my perfect fanta...  \n",
       "2  Drew looks at me I fake a smile so he wont see...  \n",
       "3  I dont know what I want so dont ask me Cause I...  \n",
       "4  You have a way of coming easily to me And when...  "
      ]
     },
     "execution_count": 16,
     "metadata": {},
     "output_type": "execute_result"
    }
   ],
   "source": [
    "def remove_punctuation(text):\n",
    "    \"\"\"custom function to remove the punctuation\"\"\"\n",
    "    return text.translate(str.maketrans('', '', string.punctuation))\n",
    "\n",
    "ts_lyrics[\"Preprocessed Lyrics\"] = ts_lyrics[\"Preprocessed Lyrics\"].apply(lambda text: remove_punctuation(text))\n",
    "ts_lyrics.head()\n"
   ]
  },
  {
   "cell_type": "markdown",
   "metadata": {},
   "source": [
    "14\\. **Change all the characters to their lower forms. Think about why and when we need this step in our analysis.**"
   ]
  },
  {
   "cell_type": "code",
   "execution_count": 17,
   "metadata": {},
   "outputs": [
    {
     "data": {
      "text/html": [
       "<div>\n",
       "<style scoped>\n",
       "    .dataframe tbody tr th:only-of-type {\n",
       "        vertical-align: middle;\n",
       "    }\n",
       "\n",
       "    .dataframe tbody tr th {\n",
       "        vertical-align: top;\n",
       "    }\n",
       "\n",
       "    .dataframe thead th {\n",
       "        text-align: right;\n",
       "    }\n",
       "</style>\n",
       "<table border=\"1\" class=\"dataframe\">\n",
       "  <thead>\n",
       "    <tr style=\"text-align: right;\">\n",
       "      <th></th>\n",
       "      <th>Artist</th>\n",
       "      <th>Album</th>\n",
       "      <th>Title</th>\n",
       "      <th>Lyrics</th>\n",
       "      <th>Preprocessed Lyrics</th>\n",
       "    </tr>\n",
       "  </thead>\n",
       "  <tbody>\n",
       "    <tr>\n",
       "      <th>0</th>\n",
       "      <td>Taylor Swift</td>\n",
       "      <td>Taylor Swift</td>\n",
       "      <td>Tim McGraw</td>\n",
       "      <td>He said the way my blue eyes shinx\\nPut those ...</td>\n",
       "      <td>he said the way my blue eyes shinx put those g...</td>\n",
       "    </tr>\n",
       "    <tr>\n",
       "      <th>1</th>\n",
       "      <td>Taylor Swift</td>\n",
       "      <td>Taylor Swift</td>\n",
       "      <td>Picture to Burn</td>\n",
       "      <td>State the obvious, I didn't get my perfect fan...</td>\n",
       "      <td>state the obvious i didnt get my perfect fanta...</td>\n",
       "    </tr>\n",
       "    <tr>\n",
       "      <th>2</th>\n",
       "      <td>Taylor Swift</td>\n",
       "      <td>Taylor Swift</td>\n",
       "      <td>Teardrops on my Guitar</td>\n",
       "      <td>Drew looks at me,\\nI fake a smile so he won't ...</td>\n",
       "      <td>drew looks at me i fake a smile so he wont see...</td>\n",
       "    </tr>\n",
       "    <tr>\n",
       "      <th>3</th>\n",
       "      <td>Taylor Swift</td>\n",
       "      <td>Taylor Swift</td>\n",
       "      <td>A Place in This World</td>\n",
       "      <td>I don't know what I want, so don't ask me\\n'Ca...</td>\n",
       "      <td>i dont know what i want so dont ask me cause i...</td>\n",
       "    </tr>\n",
       "    <tr>\n",
       "      <th>4</th>\n",
       "      <td>Taylor Swift</td>\n",
       "      <td>Taylor Swift</td>\n",
       "      <td>Cold As You</td>\n",
       "      <td>You have a way of coming easily to me\\nAnd whe...</td>\n",
       "      <td>you have a way of coming easily to me and when...</td>\n",
       "    </tr>\n",
       "  </tbody>\n",
       "</table>\n",
       "</div>"
      ],
      "text/plain": [
       "         Artist           Album                   Title   \\\n",
       "0  Taylor Swift   Taylor Swift                Tim McGraw   \n",
       "1  Taylor Swift   Taylor Swift           Picture to Burn   \n",
       "2  Taylor Swift   Taylor Swift   Teardrops on my Guitar    \n",
       "3  Taylor Swift   Taylor Swift    A Place in This World    \n",
       "4  Taylor Swift   Taylor Swift              Cold As You    \n",
       "\n",
       "                                              Lyrics  \\\n",
       "0  He said the way my blue eyes shinx\\nPut those ...   \n",
       "1  State the obvious, I didn't get my perfect fan...   \n",
       "2  Drew looks at me,\\nI fake a smile so he won't ...   \n",
       "3  I don't know what I want, so don't ask me\\n'Ca...   \n",
       "4  You have a way of coming easily to me\\nAnd whe...   \n",
       "\n",
       "                                 Preprocessed Lyrics  \n",
       "0  he said the way my blue eyes shinx put those g...  \n",
       "1  state the obvious i didnt get my perfect fanta...  \n",
       "2  drew looks at me i fake a smile so he wont see...  \n",
       "3  i dont know what i want so dont ask me cause i...  \n",
       "4  you have a way of coming easily to me and when...  "
      ]
     },
     "execution_count": 17,
     "metadata": {},
     "output_type": "execute_result"
    }
   ],
   "source": [
    "ts_lyrics[\"Preprocessed Lyrics\"] = ts_lyrics[\"Preprocessed Lyrics\"].str.lower()\n",
    "ts_lyrics.head()"
   ]
  },
  {
   "cell_type": "markdown",
   "metadata": {},
   "source": [
    "15\\. **List the 20 most frequent terms in this dataframe.**"
   ]
  },
  {
   "cell_type": "code",
   "execution_count": 18,
   "metadata": {},
   "outputs": [
    {
     "name": "stdout",
     "output_type": "stream",
     "text": [
      "[('i', 2377), ('you', 2319), ('the', 1623), ('and', 1403), ('me', 885), ('to', 843), ('a', 787), ('in', 686), ('it', 674), ('my', 642), ('of', 492), ('your', 475), ('we', 441), ('that', 436), ('all', 436), ('but', 428), ('like', 406), ('im', 404), ('this', 394), ('know', 380)]\n"
     ]
    }
   ],
   "source": [
    "from collections import Counter\n",
    "\n",
    "# To get all lyrics in one text, you can concatenate all of them using the \" \".join(list) syntax, \n",
    "# which joins all elements in a list separating them by whitespace.\n",
    "text = \" \".join(lyric for lyric in ts_lyrics[\"Preprocessed Lyrics\"])\n",
    "\n",
    "# split() returns list of all the words in the string\n",
    "split_it = text.split()\n",
    "  \n",
    "# Pass the split_it list to instance of Counter class.\n",
    "Counter = Counter(split_it)\n",
    "  \n",
    "# most_common() produces k frequently encountered input values and their respective counts.\n",
    "most_occur = Counter.most_common(20)\n",
    "  \n",
    "print(most_occur)\n"
   ]
  },
  {
   "cell_type": "markdown",
   "metadata": {},
   "source": [
    "You see that these are mainly the stop words. Before removing them let's plot a worcloud of our data."
   ]
  },
  {
   "cell_type": "markdown",
   "metadata": {},
   "source": [
    "16\\. **Plot a wordcloud with max 50 words using the WordCloud function from the wordcloud package. Use the command _?WordCloud_ to check the help for this function.**"
   ]
  },
  {
   "cell_type": "code",
   "execution_count": 19,
   "metadata": {},
   "outputs": [
    {
     "name": "stdout",
     "output_type": "stream",
     "text": [
      "Requirement already satisfied: wordcloud in c:\\programdata\\miniconda3\\lib\\site-packages (1.8.1)\n",
      "Requirement already satisfied: pillow in c:\\programdata\\miniconda3\\lib\\site-packages (from wordcloud) (7.2.0)\n",
      "Requirement already satisfied: matplotlib in c:\\programdata\\miniconda3\\lib\\site-packages (from wordcloud) (3.1.3)\n",
      "Requirement already satisfied: numpy>=1.6.1 in c:\\programdata\\miniconda3\\lib\\site-packages (from wordcloud) (1.18.1)\n",
      "Requirement already satisfied: kiwisolver>=1.0.1 in c:\\programdata\\miniconda3\\lib\\site-packages (from matplotlib->wordcloud) (1.1.0)\n",
      "Requirement already satisfied: python-dateutil>=2.1 in c:\\programdata\\miniconda3\\lib\\site-packages (from matplotlib->wordcloud) (2.8.1)\n",
      "Requirement already satisfied: cycler>=0.10 in c:\\programdata\\miniconda3\\lib\\site-packages (from matplotlib->wordcloud) (0.10.0)\n",
      "Requirement already satisfied: pyparsing!=2.0.4,!=2.1.2,!=2.1.6,>=2.0.1 in c:\\programdata\\miniconda3\\lib\\site-packages (from matplotlib->wordcloud) (2.4.6)\n",
      "Requirement already satisfied: setuptools in c:\\programdata\\miniconda3\\lib\\site-packages (from kiwisolver>=1.0.1->matplotlib->wordcloud) (41.4.0)\n",
      "Requirement already satisfied: six>=1.5 in c:\\programdata\\miniconda3\\lib\\site-packages (from python-dateutil>=2.1->matplotlib->wordcloud) (1.12.0)\n"
     ]
    }
   ],
   "source": [
    "!pip install wordcloud"
   ]
  },
  {
   "cell_type": "code",
   "execution_count": 20,
   "metadata": {},
   "outputs": [],
   "source": [
    "from wordcloud import WordCloud\n",
    "?WordCloud"
   ]
  },
  {
   "cell_type": "code",
   "execution_count": 21,
   "metadata": {
    "scrolled": true
   },
   "outputs": [
    {
     "data": {
      "image/png": "[encoded data removed]",
      "text/plain": [
       "<Figure size 432x288 with 1 Axes>"
      ]
     },
     "metadata": {
      "needs_background": "light"
     },
     "output_type": "display_data"
    }
   ],
   "source": [
    "import matplotlib.pyplot as plt\n",
    "\n",
    "wordcloud = WordCloud(max_font_size=50, max_words=50, background_color=\"white\").generate(text)\n",
    "plt.figure()\n",
    "plt.imshow(wordcloud, interpolation=\"bilinear\")\n",
    "plt.axis(\"off\")\n",
    "plt.show()"
   ]
  },
  {
   "cell_type": "markdown",
   "metadata": {},
   "source": [
    "17\\. **Use the English stop word list from the nltk package to remove the stop words. Check the stop words and update them with your optional list of words, for example: \"im\", \"youre\", \"id\", \"dont\", \"cant\", \"didnt\", \"ive\", \"ill\", \"hasnt\". Show the 20 most frequent terms and plot the wordcould of 50 words again.**"
   ]
  },
  {
   "cell_type": "code",
   "execution_count": 22,
   "metadata": {
    "scrolled": true
   },
   "outputs": [
    {
     "name": "stdout",
     "output_type": "stream",
     "text": [
      "{'once', 're', 'why', \"hasn't\", 'against', 'this', 'ours', 'so', 'doesn', 'an', 'because', 'isn', 'themselves', 'himself', 'now', 'be', 'only', 'theirs', 'shan', 'ourselves', 'didn', \"shan't\", 'further', 'of', 'are', 'or', 'off', 'its', 'very', 'him', 'if', 'their', 'itself', 'have', 'aren', 'don', 'our', 'll', \"doesn't\", 'your', 'her', 'o', 'again', 'as', 'few', 'will', 'into', 'all', 'had', 'hers', 'we', 'between', 'his', 'both', 'out', 'when', 'y', 'is', 'wasn', \"mustn't\", \"haven't\", 'yours', 'here', 'until', 'ma', 'it', \"it's\", \"aren't\", 'can', 'needn', \"you'll\", \"needn't\", \"should've\", 'about', 'what', 'was', 'down', 've', 'some', 'does', 'yourselves', 'me', 'these', 'hasn', 'he', 'that', 'above', 'a', 'nor', 'just', 's', 'than', \"shouldn't\", 'up', 'and', 'been', 'there', 'other', 'you', \"weren't\", 'myself', 'no', 'own', \"wasn't\", \"couldn't\", \"you'd\", 'doing', 'having', \"don't\", 'has', 'during', 'by', 'd', 'them', 't', 'she', 'who', 'same', 'hadn', 'on', \"you've\", 'from', 'with', 'should', 'won', 'shouldn', 'herself', 'i', 'under', \"hadn't\", 'do', 'ain', 'those', \"wouldn't\", 'am', 'for', 'mightn', \"won't\", \"mightn't\", 'yourself', 'each', 'after', 'mustn', 'how', 'which', 'while', 'below', 'before', 'weren', 'over', 'did', 'haven', 'my', 'wouldn', 'at', 'where', 'in', 'any', 'm', \"isn't\", 'the', 'more', \"that'll\", 'such', \"you're\", 'not', 'then', 'most', 'too', 'through', 'whom', \"didn't\", 'were', 'to', \"she's\", 'being', 'but', 'they', 'couldn'}\n"
     ]
    }
   ],
   "source": [
    "from nltk.corpus import stopwords\n",
    "# run the code nltk.download('stopwords') if needed\n",
    "stop_words = set(stopwords.words('english'))\n",
    "print(stop_words)"
   ]
  },
  {
   "cell_type": "code",
   "execution_count": 23,
   "metadata": {},
   "outputs": [
    {
     "name": "stdout",
     "output_type": "stream",
     "text": [
      "{'once', 're', 'why', \"hasn't\", 'against', 'this', 'ours', 'so', 'doesn', 'an', 'because', 'isn', 'youre', 'themselves', 'himself', 'now', 'be', 'only', 'theirs', 'shan', 'ourselves', 'didn', \"shan't\", 'further', 'of', 'dont', 'are', 'or', 'off', 'its', 'very', 'him', 'if', 'their', 'itself', 'cant', 'have', 'aren', 'don', 'our', 'll', \"doesn't\", 'your', 'her', 'o', 'again', 'as', 'few', 'will', 'into', 'all', 'had', 'hers', 'we', 'hasnt', 'between', 'his', 'both', 'out', 'when', 'y', 'id', 'is', 'wasn', \"mustn't\", \"haven't\", 'im', 'yours', 'here', 'until', 'ma', 'it', \"it's\", \"aren't\", 'can', 'needn', \"you'll\", \"needn't\", \"should've\", 'about', 'what', 'was', 'down', 've', 'some', 'does', 'yourselves', 'me', 'these', 'hasn', 'he', 'that', 'above', 'a', 'nor', 'just', 's', 'than', \"shouldn't\", 'up', 'and', 'been', 'there', 'other', 'you', \"weren't\", 'myself', 'didnt', 'no', 'own', \"wasn't\", \"couldn't\", 'ill', \"you'd\", 'doing', 'having', \"don't\", 'has', 'during', 'by', 'd', 'them', 't', 'she', 'who', 'same', 'hadn', 'on', \"you've\", 'from', 'with', 'should', 'won', 'shouldn', 'herself', 'i', 'under', \"hadn't\", 'do', 'ain', 'those', \"wouldn't\", 'am', 'ive', 'for', 'mightn', \"won't\", \"mightn't\", 'yourself', 'each', 'after', 'mustn', 'how', 'which', 'while', 'below', 'before', 'weren', 'over', 'did', 'haven', 'my', 'wouldn', 'at', 'where', 'in', 'any', 'm', \"isn't\", 'the', 'more', \"that'll\", 'such', \"you're\", 'not', 'then', 'most', 'too', 'through', 'whom', \"didn't\", 'were', 'to', \"she's\", 'being', 'but', 'they', 'couldn'}\n"
     ]
    }
   ],
   "source": [
    "stop_words.update([\"im\", \"youre\", \"id\", \"dont\", \"cant\", \"didnt\", \"ive\", \"ill\", \"hasnt\"])\n",
    "# stop_words.discard('word') # this is when you want to remove a word from the list\n",
    "print(stop_words)"
   ]
  },
  {
   "cell_type": "code",
   "execution_count": 24,
   "metadata": {},
   "outputs": [
    {
     "data": {
      "text/html": [
       "<div>\n",
       "<style scoped>\n",
       "    .dataframe tbody tr th:only-of-type {\n",
       "        vertical-align: middle;\n",
       "    }\n",
       "\n",
       "    .dataframe tbody tr th {\n",
       "        vertical-align: top;\n",
       "    }\n",
       "\n",
       "    .dataframe thead th {\n",
       "        text-align: right;\n",
       "    }\n",
       "</style>\n",
       "<table border=\"1\" class=\"dataframe\">\n",
       "  <thead>\n",
       "    <tr style=\"text-align: right;\">\n",
       "      <th></th>\n",
       "      <th>Artist</th>\n",
       "      <th>Album</th>\n",
       "      <th>Title</th>\n",
       "      <th>Lyrics</th>\n",
       "      <th>Preprocessed Lyrics</th>\n",
       "    </tr>\n",
       "  </thead>\n",
       "  <tbody>\n",
       "    <tr>\n",
       "      <th>0</th>\n",
       "      <td>Taylor Swift</td>\n",
       "      <td>Taylor Swift</td>\n",
       "      <td>Tim McGraw</td>\n",
       "      <td>He said the way my blue eyes shinx\\nPut those ...</td>\n",
       "      <td>said way blue eyes shinx put georgia stars sha...</td>\n",
       "    </tr>\n",
       "    <tr>\n",
       "      <th>1</th>\n",
       "      <td>Taylor Swift</td>\n",
       "      <td>Taylor Swift</td>\n",
       "      <td>Picture to Burn</td>\n",
       "      <td>State the obvious, I didn't get my perfect fan...</td>\n",
       "      <td>state obvious get perfect fantasy realize love...</td>\n",
       "    </tr>\n",
       "    <tr>\n",
       "      <th>2</th>\n",
       "      <td>Taylor Swift</td>\n",
       "      <td>Taylor Swift</td>\n",
       "      <td>Teardrops on my Guitar</td>\n",
       "      <td>Drew looks at me,\\nI fake a smile so he won't ...</td>\n",
       "      <td>drew looks fake smile wont see want need every...</td>\n",
       "    </tr>\n",
       "    <tr>\n",
       "      <th>3</th>\n",
       "      <td>Taylor Swift</td>\n",
       "      <td>Taylor Swift</td>\n",
       "      <td>A Place in This World</td>\n",
       "      <td>I don't know what I want, so don't ask me\\n'Ca...</td>\n",
       "      <td>know want ask cause still trying figure know w...</td>\n",
       "    </tr>\n",
       "    <tr>\n",
       "      <th>4</th>\n",
       "      <td>Taylor Swift</td>\n",
       "      <td>Taylor Swift</td>\n",
       "      <td>Cold As You</td>\n",
       "      <td>You have a way of coming easily to me\\nAnd whe...</td>\n",
       "      <td>way coming easily take take best start fight c...</td>\n",
       "    </tr>\n",
       "  </tbody>\n",
       "</table>\n",
       "</div>"
      ],
      "text/plain": [
       "         Artist           Album                   Title   \\\n",
       "0  Taylor Swift   Taylor Swift                Tim McGraw   \n",
       "1  Taylor Swift   Taylor Swift           Picture to Burn   \n",
       "2  Taylor Swift   Taylor Swift   Teardrops on my Guitar    \n",
       "3  Taylor Swift   Taylor Swift    A Place in This World    \n",
       "4  Taylor Swift   Taylor Swift              Cold As You    \n",
       "\n",
       "                                              Lyrics  \\\n",
       "0  He said the way my blue eyes shinx\\nPut those ...   \n",
       "1  State the obvious, I didn't get my perfect fan...   \n",
       "2  Drew looks at me,\\nI fake a smile so he won't ...   \n",
       "3  I don't know what I want, so don't ask me\\n'Ca...   \n",
       "4  You have a way of coming easily to me\\nAnd whe...   \n",
       "\n",
       "                                 Preprocessed Lyrics  \n",
       "0  said way blue eyes shinx put georgia stars sha...  \n",
       "1  state obvious get perfect fantasy realize love...  \n",
       "2  drew looks fake smile wont see want need every...  \n",
       "3  know want ask cause still trying figure know w...  \n",
       "4  way coming easily take take best start fight c...  "
      ]
     },
     "execution_count": 24,
     "metadata": {},
     "output_type": "execute_result"
    }
   ],
   "source": [
    "def remove_stopwords(text):\n",
    "    \"\"\"custom function to remove the stopwords\"\"\"\n",
    "    return \" \".join([word for word in str(text).split() if word not in stop_words])\n",
    "\n",
    "ts_lyrics[\"Preprocessed Lyrics\"] = ts_lyrics[\"Preprocessed Lyrics\"].apply(lambda text: remove_stopwords(text))\n",
    "ts_lyrics.head()"
   ]
  },
  {
   "cell_type": "code",
   "execution_count": 25,
   "metadata": {},
   "outputs": [
    {
     "name": "stdout",
     "output_type": "stream",
     "text": [
      "[('like', 406), ('know', 380), ('oh', 322), ('never', 294), ('love', 246), ('back', 240), ('time', 224), ('cause', 213), ('one', 177), ('say', 176), ('see', 170), ('got', 159), ('wanna', 158), ('think', 153), ('baby', 153), ('come', 150), ('go', 149), ('want', 142), ('ever', 134), ('could', 133)]\n"
     ]
    }
   ],
   "source": [
    "from collections import Counter\n",
    "\n",
    "# To get all lyrics in one text, you can concatenate all of them using the \" \".join(list) syntax, \n",
    "# which joins all elements in a list separating them by whitespace.\n",
    "text = \" \".join(lyric for lyric in ts_lyrics[\"Preprocessed Lyrics\"])\n",
    "\n",
    "# split() returns list of all the words in the string\n",
    "split_it = text.split()\n",
    "  \n",
    "# Pass the split_it list to instance of Counter class.\n",
    "Counter = Counter(split_it)\n",
    "  \n",
    "# most_common() produces k frequently encountered input values and their respective counts.\n",
    "most_occur = Counter.most_common(20)\n",
    "  \n",
    "print(most_occur)"
   ]
  },
  {
   "cell_type": "code",
   "execution_count": 26,
   "metadata": {},
   "outputs": [
    {
     "data": {
      "image/png": "[encoded data removed]",
      "text/plain": [
       "<Figure size 432x288 with 1 Axes>"
      ]
     },
     "metadata": {
      "needs_background": "light"
     },
     "output_type": "display_data"
    }
   ],
   "source": [
    "wordcloud = WordCloud(max_words=50, background_color=\"white\").generate(text)\n",
    "plt.figure()\n",
    "plt.imshow(wordcloud, interpolation=\"bilinear\")\n",
    "plt.axis(\"off\")\n",
    "plt.show()"
   ]
  },
  {
   "cell_type": "markdown",
   "metadata": {},
   "source": [
    "18\\. **We can apply stemming or lemmatization on our text data. Apply a lemmatizer from nltk and save the results.**"
   ]
  },
  {
   "cell_type": "code",
   "execution_count": 27,
   "metadata": {},
   "outputs": [
    {
     "data": {
      "text/html": [
       "<div>\n",
       "<style scoped>\n",
       "    .dataframe tbody tr th:only-of-type {\n",
       "        vertical-align: middle;\n",
       "    }\n",
       "\n",
       "    .dataframe tbody tr th {\n",
       "        vertical-align: top;\n",
       "    }\n",
       "\n",
       "    .dataframe thead th {\n",
       "        text-align: right;\n",
       "    }\n",
       "</style>\n",
       "<table border=\"1\" class=\"dataframe\">\n",
       "  <thead>\n",
       "    <tr style=\"text-align: right;\">\n",
       "      <th></th>\n",
       "      <th>Artist</th>\n",
       "      <th>Album</th>\n",
       "      <th>Title</th>\n",
       "      <th>Lyrics</th>\n",
       "      <th>Preprocessed Lyrics</th>\n",
       "    </tr>\n",
       "  </thead>\n",
       "  <tbody>\n",
       "    <tr>\n",
       "      <th>0</th>\n",
       "      <td>Taylor Swift</td>\n",
       "      <td>Taylor Swift</td>\n",
       "      <td>Tim McGraw</td>\n",
       "      <td>He said the way my blue eyes shinx\\nPut those ...</td>\n",
       "      <td>said way blue eye shinx put georgia star shame...</td>\n",
       "    </tr>\n",
       "    <tr>\n",
       "      <th>1</th>\n",
       "      <td>Taylor Swift</td>\n",
       "      <td>Taylor Swift</td>\n",
       "      <td>Picture to Burn</td>\n",
       "      <td>State the obvious, I didn't get my perfect fan...</td>\n",
       "      <td>state obvious get perfect fantasy realize love...</td>\n",
       "    </tr>\n",
       "    <tr>\n",
       "      <th>2</th>\n",
       "      <td>Taylor Swift</td>\n",
       "      <td>Taylor Swift</td>\n",
       "      <td>Teardrops on my Guitar</td>\n",
       "      <td>Drew looks at me,\\nI fake a smile so he won't ...</td>\n",
       "      <td>drew look fake smile wont see want need everyt...</td>\n",
       "    </tr>\n",
       "    <tr>\n",
       "      <th>3</th>\n",
       "      <td>Taylor Swift</td>\n",
       "      <td>Taylor Swift</td>\n",
       "      <td>A Place in This World</td>\n",
       "      <td>I don't know what I want, so don't ask me\\n'Ca...</td>\n",
       "      <td>know want ask cause still trying figure know w...</td>\n",
       "    </tr>\n",
       "    <tr>\n",
       "      <th>4</th>\n",
       "      <td>Taylor Swift</td>\n",
       "      <td>Taylor Swift</td>\n",
       "      <td>Cold As You</td>\n",
       "      <td>You have a way of coming easily to me\\nAnd whe...</td>\n",
       "      <td>way coming easily take take best start fight c...</td>\n",
       "    </tr>\n",
       "  </tbody>\n",
       "</table>\n",
       "</div>"
      ],
      "text/plain": [
       "         Artist           Album                   Title   \\\n",
       "0  Taylor Swift   Taylor Swift                Tim McGraw   \n",
       "1  Taylor Swift   Taylor Swift           Picture to Burn   \n",
       "2  Taylor Swift   Taylor Swift   Teardrops on my Guitar    \n",
       "3  Taylor Swift   Taylor Swift    A Place in This World    \n",
       "4  Taylor Swift   Taylor Swift              Cold As You    \n",
       "\n",
       "                                              Lyrics  \\\n",
       "0  He said the way my blue eyes shinx\\nPut those ...   \n",
       "1  State the obvious, I didn't get my perfect fan...   \n",
       "2  Drew looks at me,\\nI fake a smile so he won't ...   \n",
       "3  I don't know what I want, so don't ask me\\n'Ca...   \n",
       "4  You have a way of coming easily to me\\nAnd whe...   \n",
       "\n",
       "                                 Preprocessed Lyrics  \n",
       "0  said way blue eye shinx put georgia star shame...  \n",
       "1  state obvious get perfect fantasy realize love...  \n",
       "2  drew look fake smile wont see want need everyt...  \n",
       "3  know want ask cause still trying figure know w...  \n",
       "4  way coming easily take take best start fight c...  "
      ]
     },
     "execution_count": 27,
     "metadata": {},
     "output_type": "execute_result"
    }
   ],
   "source": [
    "from nltk.stem import WordNetLemmatizer\n",
    "# run the code nltk.download('wordnet') if needed\n",
    "lemmatizer = WordNetLemmatizer()\n",
    "def lemmatize_words(text):\n",
    "    return \" \".join([lemmatizer.lemmatize(word) for word in text.split()])\n",
    "\n",
    "ts_lyrics[\"Preprocessed Lyrics\"] = ts_lyrics[\"Preprocessed Lyrics\"].apply(lambda text: lemmatize_words(text))\n",
    "ts_lyrics.head()"
   ]
  },
  {
   "cell_type": "markdown",
   "metadata": {},
   "source": [
    "And here is the code for stemming:"
   ]
  },
  {
   "cell_type": "code",
   "execution_count": 28,
   "metadata": {},
   "outputs": [],
   "source": [
    "from nltk.stem.porter import PorterStemmer\n",
    "\n",
    "stemmer = PorterStemmer()\n",
    "def stem_words(text):\n",
    "    return \" \".join([stemmer.stem(word) for word in text.split()])\n",
    "\n",
    "# since we applied the lemmatization, we don't apply stemming; though you can try it!\n",
    "# ts_lyrics[\"Preprocessed Lyrics\"] = ts_lyrics[\"Preprocessed Lyrics\"].apply(lambda text: stem_words(text))\n",
    "# ts_lyrics.head()\n"
   ]
  },
  {
   "cell_type": "markdown",
   "metadata": {},
   "source": [
    "The PorterStemmer is for English language. If we are working with other languages, we can use snowball stemmer. The supported languages for snowball stemmer are:"
   ]
  },
  {
   "cell_type": "code",
   "execution_count": 29,
   "metadata": {},
   "outputs": [
    {
     "data": {
      "text/plain": [
       "('arabic',\n",
       " 'danish',\n",
       " 'dutch',\n",
       " 'english',\n",
       " 'finnish',\n",
       " 'french',\n",
       " 'german',\n",
       " 'hungarian',\n",
       " 'italian',\n",
       " 'norwegian',\n",
       " 'porter',\n",
       " 'portuguese',\n",
       " 'romanian',\n",
       " 'russian',\n",
       " 'spanish',\n",
       " 'swedish')"
      ]
     },
     "execution_count": 29,
     "metadata": {},
     "output_type": "execute_result"
    }
   ],
   "source": [
    "from nltk.stem.snowball import SnowballStemmer\n",
    "SnowballStemmer.languages"
   ]
  },
  {
   "cell_type": "markdown",
   "metadata": {},
   "source": [
    "### Vector space and BOW models"
   ]
  },
  {
   "cell_type": "markdown",
   "metadata": {},
   "source": [
    "19\\. **Use the CountVectorizer from the sklearn package and build a bag of words model on _Preprocessed Lyrics_ based on term frequency. Check the shape of the output matrix.**"
   ]
  },
  {
   "cell_type": "code",
   "execution_count": 30,
   "metadata": {},
   "outputs": [
    {
     "name": "stdout",
     "output_type": "stream",
     "text": [
      "(132, 2597)\n"
     ]
    }
   ],
   "source": [
    "from sklearn.feature_extraction.text import CountVectorizer # for bag of words feature extraction\n",
    "\n",
    "# Initialize the \"CountVectorizer\" object, which is scikit-learn's bag of words tool.  \n",
    "vectorizer1 = CountVectorizer(max_features = 3000) \n",
    "\n",
    "# fit_transform() does two functions: First, it fits the model and learns the vocabulary; \n",
    "# second, it transforms our data into feature vectors. \n",
    "# The input to fit_transform should be a list of strings.\n",
    "dtm = vectorizer1.fit_transform(ts_lyrics[\"Preprocessed Lyrics\"])\n",
    "print(dtm.shape)"
   ]
  },
  {
   "cell_type": "code",
   "execution_count": 31,
   "metadata": {},
   "outputs": [
    {
     "data": {
      "text/plain": [
       "<132x2597 sparse matrix of type '<class 'numpy.int64'>'\n",
       "\twith 10530 stored elements in Compressed Sparse Row format>"
      ]
     },
     "execution_count": 31,
     "metadata": {},
     "output_type": "execute_result"
    }
   ],
   "source": [
    "dtm"
   ]
  },
  {
   "cell_type": "code",
   "execution_count": 32,
   "metadata": {},
   "outputs": [
    {
     "data": {
      "text/html": [
       "<div>\n",
       "<style scoped>\n",
       "    .dataframe tbody tr th:only-of-type {\n",
       "        vertical-align: middle;\n",
       "    }\n",
       "\n",
       "    .dataframe tbody tr th {\n",
       "        vertical-align: top;\n",
       "    }\n",
       "\n",
       "    .dataframe thead th {\n",
       "        text-align: right;\n",
       "    }\n",
       "</style>\n",
       "<table border=\"1\" class=\"dataframe\">\n",
       "  <thead>\n",
       "    <tr style=\"text-align: right;\">\n",
       "      <th></th>\n",
       "      <th>0</th>\n",
       "      <th>1</th>\n",
       "      <th>2</th>\n",
       "      <th>3</th>\n",
       "      <th>4</th>\n",
       "      <th>5</th>\n",
       "      <th>6</th>\n",
       "      <th>7</th>\n",
       "      <th>8</th>\n",
       "      <th>9</th>\n",
       "      <th>...</th>\n",
       "      <th>2587</th>\n",
       "      <th>2588</th>\n",
       "      <th>2589</th>\n",
       "      <th>2590</th>\n",
       "      <th>2591</th>\n",
       "      <th>2592</th>\n",
       "      <th>2593</th>\n",
       "      <th>2594</th>\n",
       "      <th>2595</th>\n",
       "      <th>2596</th>\n",
       "    </tr>\n",
       "  </thead>\n",
       "  <tbody>\n",
       "    <tr>\n",
       "      <th>0</th>\n",
       "      <td>0</td>\n",
       "      <td>0</td>\n",
       "      <td>0</td>\n",
       "      <td>0</td>\n",
       "      <td>0</td>\n",
       "      <td>0</td>\n",
       "      <td>0</td>\n",
       "      <td>0</td>\n",
       "      <td>0</td>\n",
       "      <td>0</td>\n",
       "      <td>...</td>\n",
       "      <td>0</td>\n",
       "      <td>0</td>\n",
       "      <td>0</td>\n",
       "      <td>0</td>\n",
       "      <td>0</td>\n",
       "      <td>0</td>\n",
       "      <td>2</td>\n",
       "      <td>0</td>\n",
       "      <td>0</td>\n",
       "      <td>0</td>\n",
       "    </tr>\n",
       "    <tr>\n",
       "      <th>1</th>\n",
       "      <td>0</td>\n",
       "      <td>0</td>\n",
       "      <td>0</td>\n",
       "      <td>0</td>\n",
       "      <td>0</td>\n",
       "      <td>0</td>\n",
       "      <td>0</td>\n",
       "      <td>0</td>\n",
       "      <td>0</td>\n",
       "      <td>0</td>\n",
       "      <td>...</td>\n",
       "      <td>0</td>\n",
       "      <td>0</td>\n",
       "      <td>0</td>\n",
       "      <td>0</td>\n",
       "      <td>0</td>\n",
       "      <td>1</td>\n",
       "      <td>1</td>\n",
       "      <td>0</td>\n",
       "      <td>0</td>\n",
       "      <td>0</td>\n",
       "    </tr>\n",
       "    <tr>\n",
       "      <th>2</th>\n",
       "      <td>0</td>\n",
       "      <td>0</td>\n",
       "      <td>0</td>\n",
       "      <td>0</td>\n",
       "      <td>0</td>\n",
       "      <td>0</td>\n",
       "      <td>0</td>\n",
       "      <td>0</td>\n",
       "      <td>0</td>\n",
       "      <td>0</td>\n",
       "      <td>...</td>\n",
       "      <td>0</td>\n",
       "      <td>0</td>\n",
       "      <td>0</td>\n",
       "      <td>0</td>\n",
       "      <td>0</td>\n",
       "      <td>0</td>\n",
       "      <td>0</td>\n",
       "      <td>0</td>\n",
       "      <td>0</td>\n",
       "      <td>0</td>\n",
       "    </tr>\n",
       "    <tr>\n",
       "      <th>3</th>\n",
       "      <td>0</td>\n",
       "      <td>0</td>\n",
       "      <td>0</td>\n",
       "      <td>0</td>\n",
       "      <td>0</td>\n",
       "      <td>0</td>\n",
       "      <td>0</td>\n",
       "      <td>0</td>\n",
       "      <td>0</td>\n",
       "      <td>0</td>\n",
       "      <td>...</td>\n",
       "      <td>0</td>\n",
       "      <td>0</td>\n",
       "      <td>0</td>\n",
       "      <td>0</td>\n",
       "      <td>0</td>\n",
       "      <td>0</td>\n",
       "      <td>0</td>\n",
       "      <td>0</td>\n",
       "      <td>0</td>\n",
       "      <td>0</td>\n",
       "    </tr>\n",
       "    <tr>\n",
       "      <th>4</th>\n",
       "      <td>0</td>\n",
       "      <td>0</td>\n",
       "      <td>0</td>\n",
       "      <td>0</td>\n",
       "      <td>0</td>\n",
       "      <td>0</td>\n",
       "      <td>0</td>\n",
       "      <td>0</td>\n",
       "      <td>0</td>\n",
       "      <td>0</td>\n",
       "      <td>...</td>\n",
       "      <td>0</td>\n",
       "      <td>0</td>\n",
       "      <td>0</td>\n",
       "      <td>0</td>\n",
       "      <td>0</td>\n",
       "      <td>0</td>\n",
       "      <td>0</td>\n",
       "      <td>0</td>\n",
       "      <td>0</td>\n",
       "      <td>1</td>\n",
       "    </tr>\n",
       "  </tbody>\n",
       "</table>\n",
       "<p>5 rows × 2597 columns</p>\n",
       "</div>"
      ],
      "text/plain": [
       "   0     1     2     3     4     5     6     7     8     9     ...  2587  \\\n",
       "0     0     0     0     0     0     0     0     0     0     0  ...     0   \n",
       "1     0     0     0     0     0     0     0     0     0     0  ...     0   \n",
       "2     0     0     0     0     0     0     0     0     0     0  ...     0   \n",
       "3     0     0     0     0     0     0     0     0     0     0  ...     0   \n",
       "4     0     0     0     0     0     0     0     0     0     0  ...     0   \n",
       "\n",
       "   2588  2589  2590  2591  2592  2593  2594  2595  2596  \n",
       "0     0     0     0     0     0     2     0     0     0  \n",
       "1     0     0     0     0     1     1     0     0     0  \n",
       "2     0     0     0     0     0     0     0     0     0  \n",
       "3     0     0     0     0     0     0     0     0     0  \n",
       "4     0     0     0     0     0     0     0     0     1  \n",
       "\n",
       "[5 rows x 2597 columns]"
      ]
     },
     "execution_count": 32,
     "metadata": {},
     "output_type": "execute_result"
    }
   ],
   "source": [
    "# we can convert it to a dataframe\n",
    "dtm_df = dtm.toarray()\n",
    "dtm_df = pd.DataFrame(dtm_df)\n",
    "dtm_df.head()"
   ]
  },
  {
   "cell_type": "markdown",
   "metadata": {},
   "source": [
    "20\\. **Inspect the first 100 terms in the vocabulary.**"
   ]
  },
  {
   "cell_type": "code",
   "execution_count": 33,
   "metadata": {
    "scrolled": true
   },
   "outputs": [
    {
     "name": "stdout",
     "output_type": "stream",
     "text": [
      "['16', '16th', '45', '4am', 'aah', 'abigail', 'absent', 'absurd', 'accent', 'accident', 'accused', 'ace', 'achilles', 'aching', 'acing', 'across', 'act', 'acted', 'actress', 'actually', 'add', 'adjusting', 'admit', 'adore', 'adventure', 'affair', 'afraid', 'afterglow', 'afternoon', 'age', 'ago', 'ah', 'ahah', 'ahahah', 'ahead', 'ahh', 'aim', 'aint', 'air', 'airplane', 'aisle', 'album', 'aligned', 'alive', 'alls', 'almost', 'alone', 'along', 'alpha', 'already', 'alright', 'altar', 'always', 'ambition', 'amen', 'american', 'americana', 'amnesia', 'amount', 'andi', 'ane', 'angel', 'angry', 'another', 'answer', 'anthem', 'anther', 'anticipation', 'anybody', 'anymore', 'anyone', 'anything', 'anyway', 'anywhere', 'apart', 'apartment', 'apology', 'applause', 'archer', 'architect', 'arent', 'argue', 'arm', 'armor', 'around', 'arrowhead', 'ash', 'aside', 'ask', 'asked', 'asking', 'asleep', 'assume', 'assumption', 'ate', 'ateam', 'attached', 'attack', 'attitude']\n"
     ]
    }
   ],
   "source": [
    "# Take a look at the words in the vocabulary\n",
    "vocab = vectorizer1.get_feature_names()\n",
    "print(vocab[1:100])"
   ]
  },
  {
   "cell_type": "markdown",
   "metadata": {},
   "source": [
    "21\\. **Using TfidfVectorizer, you can create a model based on tfidf. Apply a TfidfVectorizer to your text data. Does the shape of the output matrix differ from dtm?**"
   ]
  },
  {
   "cell_type": "code",
   "execution_count": 34,
   "metadata": {},
   "outputs": [
    {
     "name": "stdout",
     "output_type": "stream",
     "text": [
      "(132, 2597)\n"
     ]
    }
   ],
   "source": [
    "from sklearn.feature_extraction.text import TfidfVectorizer\n",
    "\n",
    "# Create TfidfVectorizer object\n",
    "vectorizer2 = TfidfVectorizer()\n",
    "\n",
    "# Generate matrix of word vectors\n",
    "tfidf_matrix = vectorizer2.fit_transform(ts_lyrics[\"Preprocessed Lyrics\"])\n",
    "\n",
    "# Print the shape of tfidf_matrix\n",
    "print(tfidf_matrix.shape)"
   ]
  },
  {
   "cell_type": "markdown",
   "metadata": {},
   "source": [
    "22\\. **Use the TfidfVectorizer to create an n-gram based model with n = 1 and 2. Use the ngram_range argument to determine the lower and upper boundary of the range of n-values for different n-grams to be extracted. (tip: use ?TfidfVectorizer)**"
   ]
  },
  {
   "cell_type": "code",
   "execution_count": 35,
   "metadata": {},
   "outputs": [
    {
     "name": "stdout",
     "output_type": "stream",
     "text": [
      "(132, 15016)\n"
     ]
    }
   ],
   "source": [
    "# Create TfidfVectorizer object\n",
    "vectorizer3 = TfidfVectorizer(ngram_range=(1, 2))\n",
    "\n",
    "# Generate matrix of word vectors\n",
    "tfidf_matrix3 = vectorizer3.fit_transform(ts_lyrics[\"Preprocessed Lyrics\"])\n",
    "\n",
    "# Print the shape of tfidf_matrix\n",
    "print(tfidf_matrix3.shape)"
   ]
  },
  {
   "cell_type": "markdown",
   "metadata": {},
   "source": [
    "23\\. **We want to compare the lyrics of Friends theme song with the lyrics of Taylor Swift's songs and find the most similar one. Use the string below, first, apply the pre-processing steps and then transform the text into count and tfidf vectors. Do the bag of words models agree on the most similar song to Friends theme song?**"
   ]
  },
  {
   "cell_type": "code",
   "execution_count": 36,
   "metadata": {},
   "outputs": [
    {
     "data": {
      "text/plain": [
       "\"So no one told you life was going to be this way. Your job's a joke, you're broke, you're love life's DOA. It's like you're always stuck in second gear, When it hasn't been your day, your week, your month, or even your year. But, I'll be there for you, when the rain starts to pour. I'll be there for you, like I've been there before. I'll be there for you, cause you're there for me too.\""
      ]
     },
     "execution_count": 36,
     "metadata": {},
     "output_type": "execute_result"
    }
   ],
   "source": [
    "friends_theme_lyrics = \"So no one told you life was going to be this way. Your job's a joke, you're broke, you're love life's DOA. It's like you're always stuck in second gear, When it hasn\\'t been your day, your week, your month, or even your year. But, I\\'ll be there for you, when the rain starts to pour. I\\'ll be there for you, like I\\'ve been there before. I\\'ll be there for you, cause you\\'re there for me too.\"\n",
    "friends_theme_lyrics"
   ]
  },
  {
   "cell_type": "code",
   "execution_count": 37,
   "metadata": {},
   "outputs": [
    {
     "data": {
      "text/plain": [
       "'one told life going way job joke broke love life doa like always stuck second gear day week month even year rain start pour like cause'"
      ]
     },
     "execution_count": 37,
     "metadata": {},
     "output_type": "execute_result"
    }
   ],
   "source": [
    "friends_theme_lyrics = remove_punctuation(friends_theme_lyrics)\n",
    "friends_theme_lyrics = friends_theme_lyrics.lower()\n",
    "friends_theme_lyrics = remove_stopwords(friends_theme_lyrics)\n",
    "friends_theme_lyrics = lemmatize_words(friends_theme_lyrics)\n",
    "friends_theme_lyrics"
   ]
  },
  {
   "cell_type": "code",
   "execution_count": 38,
   "metadata": {},
   "outputs": [
    {
     "data": {
      "text/plain": [
       "(132, 2597)"
      ]
     },
     "execution_count": 38,
     "metadata": {},
     "output_type": "execute_result"
    }
   ],
   "source": [
    "friends_theme_lyrics_tf = vectorizer1.transform([friends_theme_lyrics])\n",
    "friends_theme_lyrics_tf.shape\n",
    "dtm.shape"
   ]
  },
  {
   "cell_type": "code",
   "execution_count": 39,
   "metadata": {},
   "outputs": [
    {
     "name": "stdout",
     "output_type": "stream",
     "text": [
      "[[0.07295675]\n",
      " [0.05749499]\n",
      " [0.05668202]\n",
      " [0.099573  ]\n",
      " [0.09816136]\n",
      " [0.00975761]\n",
      " [0.16365771]\n",
      " [0.11501093]\n",
      " [0.02125256]\n",
      " [0.15038123]\n",
      " [0.07792865]\n",
      " [0.09200874]\n",
      " [0.17766726]\n",
      " [0.0360492 ]\n",
      " [0.0786839 ]\n",
      " [0.1062023 ]\n",
      " [0.23829304]\n",
      " [0.08566568]\n",
      " [0.15519271]\n",
      " [0.1352231 ]\n",
      " [0.03202563]\n",
      " [0.19158319]\n",
      " [0.09043166]\n",
      " [0.19051587]\n",
      " [0.10639904]\n",
      " [0.12562973]\n",
      " [0.13526614]\n",
      " [0.1340465 ]\n",
      " [0.10332549]\n",
      " [0.14529915]\n",
      " [0.08091962]\n",
      " [0.0428993 ]\n",
      " [0.05358677]\n",
      " [0.11510231]\n",
      " [0.03928371]\n",
      " [0.05463417]\n",
      " [0.0946985 ]\n",
      " [0.0745356 ]\n",
      " [0.24685715]\n",
      " [0.07198268]\n",
      " [0.09507654]\n",
      " [0.11511347]\n",
      " [0.11136921]\n",
      " [0.10401235]\n",
      " [0.1946593 ]\n",
      " [0.15567091]\n",
      " [0.21439196]\n",
      " [0.13088543]\n",
      " [0.11021668]\n",
      " [0.09369712]\n",
      " [0.11888042]\n",
      " [0.06581261]\n",
      " [0.00903711]\n",
      " [0.21465394]\n",
      " [0.22794562]\n",
      " [0.04007421]\n",
      " [0.06975801]\n",
      " [0.05602768]\n",
      " [0.01563873]\n",
      " [0.10146346]\n",
      " [0.13488377]\n",
      " [0.1500909 ]\n",
      " [0.0521599 ]\n",
      " [0.16455472]\n",
      " [0.20490974]\n",
      " [0.17563692]\n",
      " [0.13237606]\n",
      " [0.02857238]\n",
      " [0.03055662]\n",
      " [0.17989569]\n",
      " [0.0790393 ]\n",
      " [0.00461099]\n",
      " [0.09170196]\n",
      " [0.02086808]\n",
      " [0.03288424]\n",
      " [0.11242975]\n",
      " [0.044955  ]\n",
      " [0.02726372]\n",
      " [0.18975469]\n",
      " [0.06574775]\n",
      " [0.08736843]\n",
      " [0.07787518]\n",
      " [0.24627294]\n",
      " [0.04908068]\n",
      " [0.13145637]\n",
      " [0.05978084]\n",
      " [0.14187609]\n",
      " [0.15555556]\n",
      " [0.04961695]\n",
      " [0.05384297]\n",
      " [0.09147674]\n",
      " [0.03362627]\n",
      " [0.09035781]\n",
      " [0.05615828]\n",
      " [0.07207214]\n",
      " [0.0340633 ]\n",
      " [0.16397832]\n",
      " [0.05627802]\n",
      " [0.09116057]\n",
      " [0.06624405]\n",
      " [0.07803834]\n",
      " [0.06365683]\n",
      " [0.04996305]\n",
      " [0.09610043]\n",
      " [0.10304734]\n",
      " [0.19756782]\n",
      " [0.01443376]\n",
      " [0.1750503 ]\n",
      " [0.18845876]\n",
      " [0.05396298]\n",
      " [0.17025131]\n",
      " [0.11426298]\n",
      " [0.10506787]\n",
      " [0.22829105]\n",
      " [0.08403295]\n",
      " [0.06714701]\n",
      " [0.05614346]\n",
      " [0.13715477]\n",
      " [0.01830783]\n",
      " [0.13255879]\n",
      " [0.07392213]\n",
      " [0.08475223]\n",
      " [0.20016019]\n",
      " [0.09798273]\n",
      " [0.10425721]\n",
      " [0.07647191]\n",
      " [0.04792568]\n",
      " [0.23490916]\n",
      " [0.0564445 ]\n",
      " [0.11111111]\n",
      " [0.08512565]\n",
      " [0.05363453]]\n"
     ]
    }
   ],
   "source": [
    "from sklearn.metrics.pairwise import cosine_similarity\n",
    "\n",
    "# compute and print the cosine similarity matrix\n",
    "cosine_sim_dtm = cosine_similarity(dtm, friends_theme_lyrics_tf)\n",
    "\n",
    "print(cosine_sim_dtm)"
   ]
  },
  {
   "cell_type": "code",
   "execution_count": 40,
   "metadata": {},
   "outputs": [
    {
     "name": "stdout",
     "output_type": "stream",
     "text": [
      "[[0.24685715]]\n"
     ]
    },
    {
     "data": {
      "text/plain": [
       "array([38], dtype=int64)"
      ]
     },
     "execution_count": 40,
     "metadata": {},
     "output_type": "execute_result"
    }
   ],
   "source": [
    "import numpy as np\n",
    "max_index = np.argmax(cosine_sim_dtm, axis=0)\n",
    "print(cosine_sim_dtm[max_index])\n",
    "max_index"
   ]
  },
  {
   "cell_type": "code",
   "execution_count": 41,
   "metadata": {
    "scrolled": true
   },
   "outputs": [
    {
     "data": {
      "text/html": [
       "<div>\n",
       "<style scoped>\n",
       "    .dataframe tbody tr th:only-of-type {\n",
       "        vertical-align: middle;\n",
       "    }\n",
       "\n",
       "    .dataframe tbody tr th {\n",
       "        vertical-align: top;\n",
       "    }\n",
       "\n",
       "    .dataframe thead th {\n",
       "        text-align: right;\n",
       "    }\n",
       "</style>\n",
       "<table border=\"1\" class=\"dataframe\">\n",
       "  <thead>\n",
       "    <tr style=\"text-align: right;\">\n",
       "      <th></th>\n",
       "      <th>Artist</th>\n",
       "      <th>Album</th>\n",
       "      <th>Title</th>\n",
       "      <th>Lyrics</th>\n",
       "      <th>Preprocessed Lyrics</th>\n",
       "    </tr>\n",
       "  </thead>\n",
       "  <tbody>\n",
       "    <tr>\n",
       "      <th>38</th>\n",
       "      <td>Taylor Swift</td>\n",
       "      <td>Speak Now</td>\n",
       "      <td>The Story of Us</td>\n",
       "      <td>I used to think one day we'd tell the story of...</td>\n",
       "      <td>used think one day wed tell story u met spark ...</td>\n",
       "    </tr>\n",
       "  </tbody>\n",
       "</table>\n",
       "</div>"
      ],
      "text/plain": [
       "          Artist        Album            Title   \\\n",
       "38  Taylor Swift   Speak Now   The Story of Us    \n",
       "\n",
       "                                               Lyrics  \\\n",
       "38  I used to think one day we'd tell the story of...   \n",
       "\n",
       "                                  Preprocessed Lyrics  \n",
       "38  used think one day wed tell story u met spark ...  "
      ]
     },
     "execution_count": 41,
     "metadata": {},
     "output_type": "execute_result"
    }
   ],
   "source": [
    "ts_lyrics.iloc[max_index]"
   ]
  },
  {
   "cell_type": "code",
   "execution_count": 42,
   "metadata": {},
   "outputs": [
    {
     "data": {
      "text/plain": [
       "'used think one day wed tell story u met spark flew instantly people would say theyre lucky one used know place spot next searching room empty seat cause lately even know page oh simple complication miscommunications lead fall many thing wish knew many wall break standing alone crowded room speaking dying know killing like killing yeah know say since twist fate broke story u look lot like tragedy next chapter howd end way see nervously pulling clothes trying look busy best avoid starting think one day tell story u losing mind saw held pride like held oh scared see ending pretending nothing tell miss know never heard silence quite loud standing alone crowded room speaking dying know killing like killing yeah know say since twist fate broke story u look lot like tragedy looking like contest act like care le liked better side battle hand would lay armor youd say youd rather love fight many thing wish knew story u might ending soon standing alone crowded room speaking dying know killing like killing yeah know say since twist fate broke story u look lot like tragedy end'"
      ]
     },
     "execution_count": 42,
     "metadata": {},
     "output_type": "execute_result"
    }
   ],
   "source": [
    "ts_lyrics[\"Preprocessed Lyrics\"].iloc[38]"
   ]
  },
  {
   "cell_type": "code",
   "execution_count": 43,
   "metadata": {},
   "outputs": [
    {
     "name": "stdout",
     "output_type": "stream",
     "text": [
      "(1, 15016)\n",
      "(132, 15016)\n",
      "[[0.02369657]\n",
      " [0.01318075]\n",
      " [0.01128244]\n",
      " [0.03986478]\n",
      " [0.03108815]\n",
      " [0.00181568]\n",
      " [0.02572803]\n",
      " [0.02691028]\n",
      " [0.00512609]\n",
      " [0.04532813]\n",
      " [0.01615807]\n",
      " [0.00787449]\n",
      " [0.03826574]\n",
      " [0.0068687 ]\n",
      " [0.01320367]\n",
      " [0.01245819]\n",
      " [0.09768082]\n",
      " [0.03284433]\n",
      " [0.01891928]\n",
      " [0.05104409]\n",
      " [0.00801751]\n",
      " [0.045455  ]\n",
      " [0.02005361]\n",
      " [0.04590047]\n",
      " [0.0319897 ]\n",
      " [0.01850863]\n",
      " [0.02299573]\n",
      " [0.0238499 ]\n",
      " [0.01617267]\n",
      " [0.03525199]\n",
      " [0.02914826]\n",
      " [0.01417113]\n",
      " [0.01017535]\n",
      " [0.02329621]\n",
      " [0.01165122]\n",
      " [0.00883778]\n",
      " [0.0213434 ]\n",
      " [0.01468301]\n",
      " [0.052752  ]\n",
      " [0.01398688]\n",
      " [0.02316361]\n",
      " [0.02104993]\n",
      " [0.03310764]\n",
      " [0.01013489]\n",
      " [0.04137598]\n",
      " [0.04265813]\n",
      " [0.04249053]\n",
      " [0.03391019]\n",
      " [0.02922056]\n",
      " [0.01882679]\n",
      " [0.01167784]\n",
      " [0.01196412]\n",
      " [0.00448242]\n",
      " [0.03975051]\n",
      " [0.02942139]\n",
      " [0.02500672]\n",
      " [0.0149794 ]\n",
      " [0.01541409]\n",
      " [0.00149821]\n",
      " [0.01839457]\n",
      " [0.03851785]\n",
      " [0.02703587]\n",
      " [0.01044214]\n",
      " [0.01812665]\n",
      " [0.04455981]\n",
      " [0.03015706]\n",
      " [0.03756264]\n",
      " [0.00366365]\n",
      " [0.00325763]\n",
      " [0.0333111 ]\n",
      " [0.01114174]\n",
      " [0.00036564]\n",
      " [0.03036674]\n",
      " [0.00187995]\n",
      " [0.00755594]\n",
      " [0.01588253]\n",
      " [0.01206606]\n",
      " [0.02056343]\n",
      " [0.07499416]\n",
      " [0.01513767]\n",
      " [0.03379185]\n",
      " [0.01961567]\n",
      " [0.04624439]\n",
      " [0.00618851]\n",
      " [0.02567295]\n",
      " [0.01120954]\n",
      " [0.04119311]\n",
      " [0.01641921]\n",
      " [0.00560346]\n",
      " [0.00851409]\n",
      " [0.02050939]\n",
      " [0.0099525 ]\n",
      " [0.01615719]\n",
      " [0.00906767]\n",
      " [0.00936747]\n",
      " [0.01777334]\n",
      " [0.02409146]\n",
      " [0.02385133]\n",
      " [0.03111177]\n",
      " [0.01181365]\n",
      " [0.04510753]\n",
      " [0.0069002 ]\n",
      " [0.0124372 ]\n",
      " [0.00991338]\n",
      " [0.01700991]\n",
      " [0.0369523 ]\n",
      " [0.00665362]\n",
      " [0.02971692]\n",
      " [0.02632021]\n",
      " [0.01001789]\n",
      " [0.02780341]\n",
      " [0.01487108]\n",
      " [0.01907687]\n",
      " [0.03361355]\n",
      " [0.00807426]\n",
      " [0.00985324]\n",
      " [0.01145457]\n",
      " [0.01459391]\n",
      " [0.00972955]\n",
      " [0.03375572]\n",
      " [0.01890663]\n",
      " [0.01118828]\n",
      " [0.02691614]\n",
      " [0.01158261]\n",
      " [0.03914842]\n",
      " [0.01562798]\n",
      " [0.01257735]\n",
      " [0.02771936]\n",
      " [0.0127158 ]\n",
      " [0.03262289]\n",
      " [0.02177201]\n",
      " [0.00782077]]\n"
     ]
    }
   ],
   "source": [
    "friends_theme_lyrics_tfidf = vectorizer3.transform([friends_theme_lyrics])\n",
    "print(friends_theme_lyrics_tfidf.shape)\n",
    "print(tfidf_matrix3.shape)\n",
    "# compute and print the cosine similarity matrix\n",
    "cosine_sim_tfidf = cosine_similarity(tfidf_matrix3, friends_theme_lyrics_tfidf)\n",
    "\n",
    "print(cosine_sim_tfidf)"
   ]
  },
  {
   "cell_type": "code",
   "execution_count": 44,
   "metadata": {},
   "outputs": [
    {
     "name": "stdout",
     "output_type": "stream",
     "text": [
      "[[0.09768082]]\n"
     ]
    },
    {
     "data": {
      "text/plain": [
       "array([16], dtype=int64)"
      ]
     },
     "execution_count": 44,
     "metadata": {},
     "output_type": "execute_result"
    }
   ],
   "source": [
    "max_index = np.argmax(cosine_sim_tfidf, axis=0)\n",
    "print(cosine_sim_tfidf[max_index])\n",
    "max_index"
   ]
  },
  {
   "cell_type": "code",
   "execution_count": 45,
   "metadata": {
    "scrolled": true
   },
   "outputs": [
    {
     "data": {
      "text/html": [
       "<div>\n",
       "<style scoped>\n",
       "    .dataframe tbody tr th:only-of-type {\n",
       "        vertical-align: middle;\n",
       "    }\n",
       "\n",
       "    .dataframe tbody tr th {\n",
       "        vertical-align: top;\n",
       "    }\n",
       "\n",
       "    .dataframe thead th {\n",
       "        text-align: right;\n",
       "    }\n",
       "</style>\n",
       "<table border=\"1\" class=\"dataframe\">\n",
       "  <thead>\n",
       "    <tr style=\"text-align: right;\">\n",
       "      <th></th>\n",
       "      <th>Artist</th>\n",
       "      <th>Album</th>\n",
       "      <th>Title</th>\n",
       "      <th>Lyrics</th>\n",
       "      <th>Preprocessed Lyrics</th>\n",
       "    </tr>\n",
       "  </thead>\n",
       "  <tbody>\n",
       "    <tr>\n",
       "      <th>16</th>\n",
       "      <td>Taylor Swift</td>\n",
       "      <td>Fearless</td>\n",
       "      <td>Forever &amp; Always</td>\n",
       "      <td>Once upon a time, I believe it was a Tuesday w...</td>\n",
       "      <td>upon time believe tuesday caught eye caught on...</td>\n",
       "    </tr>\n",
       "  </tbody>\n",
       "</table>\n",
       "</div>"
      ],
      "text/plain": [
       "          Artist      Album             Title   \\\n",
       "16  Taylor Swift   Fearless  Forever & Always    \n",
       "\n",
       "                                               Lyrics  \\\n",
       "16  Once upon a time, I believe it was a Tuesday w...   \n",
       "\n",
       "                                  Preprocessed Lyrics  \n",
       "16  upon time believe tuesday caught eye caught on...  "
      ]
     },
     "execution_count": 45,
     "metadata": {},
     "output_type": "execute_result"
    }
   ],
   "source": [
    "ts_lyrics.iloc[max_index]"
   ]
  },
  {
   "cell_type": "code",
   "execution_count": 46,
   "metadata": {},
   "outputs": [
    {
     "data": {
      "text/plain": [
       "'upon time believe tuesday caught eye caught onto something hold onto night looked eye told loved kidding cause seems thing breaking almost never speak feel welcome anymore baby happened please tell cause one second perfect halfway door stare phone still called feel low feel nothing flashback said forever always oh rain bedroom everything wrong rain rain gone cause said forever always line say something way honest made run hide like scared little boy looked eye thought knew minute sure here everything coming nothing here silence cut core going thought knew minute anymore stare phone still called feel low feel nothing flashback said forever always oh rain bedroom everything wrong rain rain gone cause said forever always mean baby think oh back baby back forget everything back baby back forget everything cause rain bedroom everything wrong rain rain gone cause said forever always oh stare phone still called feel low feel nothing flashback said forever always rain bedroom everything wrong rain rain gone cause said forever always mean baby said forever always yeah'"
      ]
     },
     "execution_count": 46,
     "metadata": {},
     "output_type": "execute_result"
    }
   ],
   "source": [
    "ts_lyrics[\"Preprocessed Lyrics\"].iloc[16]"
   ]
  }
 ],
 "metadata": {
  "kernelspec": {
   "display_name": "Python 3",
   "language": "python",
   "name": "python3"
  },
  "language_info": {
   "codemirror_mode": {
    "name": "ipython",
    "version": 3
   },
   "file_extension": ".py",
   "mimetype": "text/x-python",
   "name": "python",
   "nbconvert_exporter": "python",
   "pygments_lexer": "ipython3",
   "version": "3.7.4"
  }
 },
 "nbformat": 4,
 "nbformat_minor": 4
}
