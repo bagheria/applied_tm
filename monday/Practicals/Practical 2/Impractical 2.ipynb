{
 "cells": [
  {
   "cell_type": "markdown",
   "metadata": {
    "id": "22p-xE9-7owv"
   },
   "source": [
    "# Impractical 2: Sentiment classification with sklearn\n",
    "#### Berit Janssen\n",
    "<img src=\"img/uu_logo.png\" alt=\"logo\" align=\"right\" title=\"UU\" width=\"50\" height=\"20\" />\n",
    "\n",
    "#### Applied Text Mining - Utrecht Summer School"
   ]
  },
  {
   "cell_type": "markdown",
   "metadata": {
    "id": "yNNqoJYC77Yg"
   },
   "source": [
    "1. Upload the \"book_reviews.csv\" from your machine, following the [Colab documentation](https://colab.research.google.com/notebooks/io.ipynb) This file contains 10000 English language book reviews from Goodreads, with genre, age and star rating labels. Uploading may take a minute or so. Read the "
   ]
  },
  {
   "cell_type": "markdown",
   "metadata": {
    "id": "6nmIG604iAfO"
   },
   "source": [
    "2. Load the .csv file into a [Pandas dataframe](https://pandas.pydata.org/docs/reference/api/pandas.read_csv.html?highlight=read_csv#pandas.read_csv). This makes it easy to acess and filter data."
   ]
  },
  {
   "cell_type": "markdown",
   "metadata": {
    "id": "7GM1bjeQ9GSS"
   },
   "source": [
    "3. Now you can construct the document-term matrix. The [CountVectorizer](https://scikit-learn.org/stable/modules/generated/sklearn.feature_extraction.text.CountVectorizer.html) class counts how often each word occurs in each document. Optionally, you can also pass ngram_range as a parameter, to see if combinations of multiple words are better predictors for ratings. Define the output of the `fit_transform` function on 'tokenised_text' as your feature matrix X, and the star ratings ('rating_no') as the variable y you're trying to predict."
   ]
  },
  {
   "cell_type": "markdown",
   "metadata": {
    "id": "uIibvNSF-mHi"
   },
   "source": [
    "To inspect the words in the document-term matrix, you can call `get_feature_names()` on the vectorizer."
   ]
  },
  {
   "cell_type": "markdown",
   "metadata": {
    "id": "8wLQif1t-0qw"
   },
   "source": [
    "Alternatively, you could also use a [TfidfVectorizer](https://scikit-learn.org/stable/modules/generated/sklearn.feature_extraction.text.TfidfVectorizer.html#sklearn.feature_extraction.text.TfidfVectorizer): this class counts how often a word occurs in a document and weighs it against how often the word occurs in the whole corpus. This is a way to eliminate words that are frequent but not very meaningful. You can play around with different vectorizers to see how they affect your results."
   ]
  },
  {
   "cell_type": "markdown",
   "metadata": {
    "id": "Do9U5e_nAJ6y"
   },
   "source": [
    "4. After defining your document-term matrix, you can split the data into train- and test sets. Note that `random_state` is used so that the split will be the same for everyone in the group, such that different random selections don't cause slightly different results."
   ]
  },
  {
   "cell_type": "markdown",
   "metadata": {
    "id": "AU_7jXDlEOJP"
   },
   "source": [
    "5. Now pick one of the following classifiers:\n",
    "    - [K-Nearest Neighbor classifier](https://scikit-learn.org/stable/modules/generated/sklearn.neighbors.KNeighborsClassifier.html#sklearn.neighbors.KNeighborsClassifier)\n",
    "    - [Multionimal Naive Bayes](https://scikit-learn.org/stable/modules/generated/sklearn.naive_bayes.MultinomialNB.html#sklearn.naive_bayes.MultinomialNB)\n",
    "    - [Support Vector Machine](https://scikit-learn.org/stable/modules/generated/sklearn.svm.SVC.html#sklearn.svm.SVC)\n",
    "    - [Decision Tree Classifier](https://scikit-learn.org/stable/modules/generated/sklearn.tree.DecisionTreeClassifier.html#sklearn.tree.DecisionTreeClassifier)\n",
    "    - [Random Forest Classifier](https://scikit-learn.org/stable/modules/generated/sklearn.ensemble.RandomForestClassifier.html#sklearn.ensemble.RandomForestClassifier)"
   ]
  },
  {
   "cell_type": "markdown",
   "metadata": {
    "id": "2soMKGJzGCHq"
   },
   "source": [
    "6. Find the parameters which lead to best results. You can also automatate this with [GridSearch](https://scikit-learn.org/stable/modules/generated/sklearn.model_selection.GridSearchCV.html), as shown below."
   ]
  },
  {
   "cell_type": "markdown",
   "metadata": {
    "id": "HJsZ7nBwJ4uL"
   },
   "source": [
    "7. Try combining multiple classifiers, for instance with a [Voting Classifier](https://scikit-learn.org/stable/modules/generated/sklearn.ensemble.VotingClassifier.html#sklearn.ensemble.VotingClassifier) Can you get a better result?"
   ]
  },
  {
   "cell_type": "markdown",
   "metadata": {
    "id": "Pcm61s8UOOU5"
   },
   "source": [
    "# Sentiment analysis with transformers library\n",
    "Optional: test sentiment analysis with the [transformers library](https://huggingface.co/transformers/quicktour.html)."
   ]
  },
  {
   "cell_type": "markdown",
   "metadata": {
    "id": "pKvyfkCKOhrZ"
   },
   "source": [
    "a. Install transformers library. This takes a while."
   ]
  },
  {
   "cell_type": "markdown",
   "metadata": {
    "id": "9CrFBJXyOvb6"
   },
   "source": [
    "b. download and use the \"nlptown/bert-base-multilingual-uncased-sentiment\" model from nlptown, apply it to the first 100 rows of the data (this also takes a while)."
   ]
  },
  {
   "cell_type": "markdown",
   "metadata": {
    "id": "-zJbXjtpUcmq"
   },
   "source": [
    "c. Compare the predictions against the star ratings."
   ]
  }
 ],
 "metadata": {
  "colab": {
   "collapsed_sections": [],
   "name": "SentimentClassification.ipynb",
   "provenance": [],
   "toc_visible": true
  },
  "kernelspec": {
   "display_name": "Python 3",
   "language": "python",
   "name": "python3"
  },
  "language_info": {
   "codemirror_mode": {
    "name": "ipython",
    "version": 3
   },
   "file_extension": ".py",
   "mimetype": "text/x-python",
   "name": "python",
   "nbconvert_exporter": "python",
   "pygments_lexer": "ipython3",
   "version": "3.7.4"
  }
 },
 "nbformat": 4,
 "nbformat_minor": 1
}
