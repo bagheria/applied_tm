{
 "cells": [
  {
   "cell_type": "markdown",
   "metadata": {},
   "source": [
    "# Practical 1: Text Pre-processing\n",
    "<img src=\"img/uu_logo.png\" alt=\"logo\" align=\"right\" title=\"UU\" width=\"50\" height=\"20\" />\n",
    "\n",
    "\n",
    "#### Applied Text Mining - Utrecht Summer School"
   ]
  },
  {
   "cell_type": "markdown",
   "metadata": {},
   "source": [
    "In this practical, we are first going to get acquainted with Python in Google Colab, then we will do some text preprocessing! Are you looking for Python documentation to refresh you knowledge of programming? If so, you can check https://docs.python.org/3/reference/"
   ]
  },
  {
   "cell_type": "markdown",
   "metadata": {},
   "source": [
    "Google Colaboratory, or \"Colab\" for short, allows you to write and execute Python in your browser, with:\n",
    "* Zero configuration required\n",
    "* Free access to GPUs\n",
    "* Easy sharing\n",
    "\n",
    "Colab notebooks are Jupyter notebooks that are hosted by Colab. Here you can find links to more detailed introductions to Colab: https://colab.research.google.com/notebooks/intro.ipynb"
   ]
  },
  {
   "cell_type": "markdown",
   "metadata": {},
   "source": [
    "### Let's get started!"
   ]
  },
  {
   "cell_type": "markdown",
   "metadata": {},
   "source": [
    "### Pre-processing simple texts"
   ]
  },
  {
   "cell_type": "markdown",
   "metadata": {},
   "source": [
    "1\\. **Open Colab and create a new empty notebook to work with Python 3!** We are going to work with the Python libraries NLTK, Gensim, and spaCy. "
   ]
  },
  {
   "cell_type": "markdown",
   "metadata": {},
   "source": [
    "Go to https://colab.research.google.com/ and login with your account. Then click on \"File $\\rightarrow$ New notebook\"."
   ]
  },
  {
   "cell_type": "markdown",
   "metadata": {},
   "source": [
    "2\\. **Text is also known as a string variable, or as an array of characters. Create a variable _a_ with the text value of \"Hello @Text Mining World! I'm here to learn everything, right?\", and then print it!**"
   ]
  },
  {
   "cell_type": "code",
   "execution_count": 1,
   "metadata": {},
   "outputs": [
    {
     "data": {
      "text/plain": [
       "\"Hello @Text Mining World! I'm here to learn everything, right?\""
      ]
     },
     "execution_count": 1,
     "metadata": {},
     "output_type": "execute_result"
    }
   ],
   "source": [
    "a = \"Hello @Text Mining World! I'm here to learn everything, right?\"\n",
    "a"
   ]
  },
  {
   "cell_type": "markdown",
   "metadata": {},
   "source": [
    "3\\. **Since this is an array, print the first and last character of your variable.**"
   ]
  },
  {
   "cell_type": "code",
   "execution_count": 57,
   "metadata": {},
   "outputs": [
    {
     "name": "stdout",
     "output_type": "stream",
     "text": [
      "H\n",
      "?\n",
      "Length of your string is:  62\n",
      "?\n"
     ]
    }
   ],
   "source": [
    "print(a[0]) # if you do not use the print function, it will print only the last argumnet in the cell\n",
    "print(a[61])\n",
    "l = len(a)\n",
    "print(\"Length of your string is: \", l)\n",
    "print(a[l-1])"
   ]
  },
  {
   "cell_type": "markdown",
   "metadata": {},
   "source": [
    "4\\. **Use _\"!pip install\"_ command and install the packages: nltk, spacy, gensim, string, numpy.**\n",
    "\n",
    "Generally, you only need to install each package once on your computer and load it again, however, in Colab you may need to reinstall a package once you are reconnecting to the network.\n",
    "\n",
    "NB: nltk comes with many corpora, toy grammars, trained models, etc. A complete list is posted at: http://nltk.org/nltk_data/\n",
    "To install the data, after installing nltk, use nltk’s data downloader as \"nltk.download()\"."
   ]
  },
  {
   "cell_type": "code",
   "execution_count": null,
   "metadata": {},
   "outputs": [],
   "source": [
    "!pip install numpy\n",
    "!pip install string\n",
    "!pip install nltk\n",
    "!pip install gensim\n",
    "!pip install spacy"
   ]
  },
  {
   "cell_type": "markdown",
   "metadata": {},
   "source": [
    "NB: If you want to stop your code in Jupyter and it does not stop from running:\n",
    "- raise SystemExit(\"Stop right there!\")\n",
    "- Or: One simple trick to get rid of this problem, is to press \"ctrl+a\" to select all the code of that particular cell you want to stop the execution of and press \"ctrl+x\" to cut the entire cell code. Now the cell is empty and just the empty cell is executed."
   ]
  },
  {
   "cell_type": "markdown",
   "metadata": {},
   "source": [
    "5\\. **Import (load) the nltk package and use the function _lower_ to convert the characters in string _a_ to their lowercase form and save it into a new variable _b_.**"
   ]
  },
  {
   "cell_type": "code",
   "execution_count": 3,
   "metadata": {
    "scrolled": true
   },
   "outputs": [
    {
     "data": {
      "text/plain": [
       "\"hello @text mining world! i'm here to learn everything, right?\""
      ]
     },
     "execution_count": 3,
     "metadata": {},
     "output_type": "execute_result"
    }
   ],
   "source": [
    "import nltk\n",
    "# nltk.download()\n",
    "b = a.lower()\n",
    "b"
   ]
  },
  {
   "cell_type": "markdown",
   "metadata": {},
   "source": [
    "6\\. **Use the _string_ package to print the list of punctuations.**\n",
    "\n",
    "Punctuations can separate characters, words, phrases, or sentences. In some applications they are very important to the task at hand, in others they are redundant and should be removed!"
   ]
  },
  {
   "cell_type": "code",
   "execution_count": 4,
   "metadata": {},
   "outputs": [
    {
     "name": "stdout",
     "output_type": "stream",
     "text": [
      "!\"#$%&'()*+,-./:;<=>?@[\\]^_`{|}~\n"
     ]
    }
   ],
   "source": [
    "import string\n",
    "print(string.punctuation)"
   ]
  },
  {
   "cell_type": "markdown",
   "metadata": {},
   "source": [
    "7\\. **Use the punctuation list to remove the punctuations from the lowercase form of our example string _a_. Name your variable _c_.**"
   ]
  },
  {
   "cell_type": "code",
   "execution_count": 5,
   "metadata": {},
   "outputs": [
    {
     "name": "stdout",
     "output_type": "stream",
     "text": [
      "hello text mining world im here to learn everything right\n"
     ]
    }
   ],
   "source": [
    "# Remmebr there are many ways to remove punctuations! This is only one of them:\n",
    "c = \"\".join([char for char in b if char not in string.punctuation])\n",
    "print(c)"
   ]
  },
  {
   "cell_type": "markdown",
   "metadata": {},
   "source": [
    "8\\. **Use _word_tokenize_ function from _nltk_ and tokenize string _b_. Compare that with the tokenization of string _c_.**"
   ]
  },
  {
   "cell_type": "code",
   "execution_count": 62,
   "metadata": {},
   "outputs": [
    {
     "name": "stdout",
     "output_type": "stream",
     "text": [
      "['hello', '@', 'text', 'mining', 'world', '!', 'i', \"'m\", 'here', 'to', 'learn', 'everything', ',', 'right', '?']\n",
      "['hello', 'text', 'mining', 'world', 'im', 'here', 'to', 'learn', 'everything', 'right']\n"
     ]
    }
   ],
   "source": [
    "from nltk.tokenize import word_tokenize\n",
    "print(word_tokenize(b))\n",
    "print(word_tokenize(c))\n"
   ]
  },
  {
   "cell_type": "markdown",
   "metadata": {},
   "source": [
    "We see that the main difference is in punctuations, however, we also see that some words are now combined togehter in the tokenization of string c."
   ]
  },
  {
   "cell_type": "markdown",
   "metadata": {},
   "source": [
    "9\\. **Use the function _Regexptokenizer_ from _nltk_ to tokenize string _b_ whilst removing punctuations. This way you will avoid unnecessary concatenations.**"
   ]
  },
  {
   "cell_type": "code",
   "execution_count": 6,
   "metadata": {
    "scrolled": true
   },
   "outputs": [
    {
     "data": {
      "text/plain": [
       "['hello',\n",
       " 'text',\n",
       " 'mining',\n",
       " 'world',\n",
       " 'i',\n",
       " 'm',\n",
       " 'here',\n",
       " 'to',\n",
       " 'learn',\n",
       " 'everything',\n",
       " 'right']"
      ]
     },
     "execution_count": 6,
     "metadata": {},
     "output_type": "execute_result"
    }
   ],
   "source": [
    "from nltk.tokenize import RegexpTokenizer\n",
    "\n",
    "tokenizer = RegexpTokenizer(r'\\w+')\n",
    "tokenizer.tokenize(b)"
   ]
  },
  {
   "cell_type": "markdown",
   "metadata": {},
   "source": [
    "With this tokenizer, you get the same output as with tokenizing the string c."
   ]
  },
  {
   "cell_type": "markdown",
   "metadata": {},
   "source": [
    "10\\. **Use _sent_tokenize_ function from the _nltk_ package and split string _b_ into sentences. Compare that with the sentence tokenization of string _c_.**"
   ]
  },
  {
   "cell_type": "code",
   "execution_count": 64,
   "metadata": {},
   "outputs": [
    {
     "name": "stdout",
     "output_type": "stream",
     "text": [
      "['hello @text mining world!', \"i'm here to learn everything, right?\"]\n",
      "['hello text mining world im here to learn everything right']\n"
     ]
    }
   ],
   "source": [
    "from nltk.tokenize import sent_tokenize\n",
    "print(sent_tokenize(b))\n",
    "print(sent_tokenize(c))"
   ]
  },
  {
   "cell_type": "markdown",
   "metadata": {},
   "source": [
    "An obvious question in your mind would be why sentence tokenization is needed when we have the option of word tokenization. Imagine you need to count average words per sentence, how you will calculate? For accomplishing such a task, you need both NLTK sentence tokenizer as well as NLTK word tokenizer to calculate the ratio. Such output serves as an important feature for machine training as the answer would be numeric."
   ]
  },
  {
   "cell_type": "markdown",
   "metadata": {},
   "source": [
    "### Pre-processing a text corpus (data set)"
   ]
  },
  {
   "cell_type": "markdown",
   "metadata": {},
   "source": [
    "Pre-processing a data set is similar to pre-processing simple text strings. First, we need to get some data. For this, we can use our own data set, or we can scrape data from web or use social media APIs. There are also some websites with publicly available data sets:\n",
    "- CLARIN Resource Families: https://www.clarin.eu/portal\n",
    "- UCI Machine Learning Repository: https://archive.ics.uci.edu/ml/datasets.php?format=&task=&att=&area=&numAtt=&numIns=&type=text&sort=nameUp&view=table\n",
    "- Kaggle: https://www.kaggle.com/"
   ]
  },
  {
   "cell_type": "markdown",
   "metadata": {},
   "source": [
    "Here, we want to analyze and pre-process the Taylor Swift song lyrics data from all her albums. We downloaded this data set from the Kaggle website and put that already in the data folder. Here is the link to the original data set: https://www.kaggle.com/PromptCloudHQ/taylor-swift-song-lyrics-from-all-the-albums"
   ]
  },
  {
   "cell_type": "markdown",
   "metadata": {},
   "source": [
    "11\\. Read the “taylor_swift.csv” data set from the data folder. Check the head and tail functions with your dataframe."
   ]
  },
  {
   "cell_type": "code",
   "execution_count": 10,
   "metadata": {},
   "outputs": [],
   "source": [
    "import pandas as pd \n",
    "ts_lyrics = pd.read_csv(\"data/taylor_swift_lyrics.csv\")"
   ]
  },
  {
   "cell_type": "code",
   "execution_count": 13,
   "metadata": {},
   "outputs": [
    {
     "data": {
      "text/html": [
       "<div>\n",
       "<style scoped>\n",
       "    .dataframe tbody tr th:only-of-type {\n",
       "        vertical-align: middle;\n",
       "    }\n",
       "\n",
       "    .dataframe tbody tr th {\n",
       "        vertical-align: top;\n",
       "    }\n",
       "\n",
       "    .dataframe thead th {\n",
       "        text-align: right;\n",
       "    }\n",
       "</style>\n",
       "<table border=\"1\" class=\"dataframe\">\n",
       "  <thead>\n",
       "    <tr style=\"text-align: right;\">\n",
       "      <th></th>\n",
       "      <th>Artist</th>\n",
       "      <th>Album</th>\n",
       "      <th>Title</th>\n",
       "      <th>Lyrics</th>\n",
       "    </tr>\n",
       "  </thead>\n",
       "  <tbody>\n",
       "    <tr>\n",
       "      <th>0</th>\n",
       "      <td>Taylor Swift</td>\n",
       "      <td>Taylor Swift</td>\n",
       "      <td>Tim McGraw</td>\n",
       "      <td>He said the way my blue eyes shinx\\nPut those ...</td>\n",
       "    </tr>\n",
       "    <tr>\n",
       "      <th>1</th>\n",
       "      <td>Taylor Swift</td>\n",
       "      <td>Taylor Swift</td>\n",
       "      <td>Picture to Burn</td>\n",
       "      <td>State the obvious, I didn't get my perfect fan...</td>\n",
       "    </tr>\n",
       "    <tr>\n",
       "      <th>2</th>\n",
       "      <td>Taylor Swift</td>\n",
       "      <td>Taylor Swift</td>\n",
       "      <td>Teardrops on my Guitar</td>\n",
       "      <td>Drew looks at me,\\nI fake a smile so he won't ...</td>\n",
       "    </tr>\n",
       "    <tr>\n",
       "      <th>3</th>\n",
       "      <td>Taylor Swift</td>\n",
       "      <td>Taylor Swift</td>\n",
       "      <td>A Place in This World</td>\n",
       "      <td>I don't know what I want, so don't ask me\\n'Ca...</td>\n",
       "    </tr>\n",
       "    <tr>\n",
       "      <th>4</th>\n",
       "      <td>Taylor Swift</td>\n",
       "      <td>Taylor Swift</td>\n",
       "      <td>Cold As You</td>\n",
       "      <td>You have a way of coming easily to me\\nAnd whe...</td>\n",
       "    </tr>\n",
       "  </tbody>\n",
       "</table>\n",
       "</div>"
      ],
      "text/plain": [
       "         Artist           Album                   Title   \\\n",
       "0  Taylor Swift   Taylor Swift                Tim McGraw   \n",
       "1  Taylor Swift   Taylor Swift           Picture to Burn   \n",
       "2  Taylor Swift   Taylor Swift   Teardrops on my Guitar    \n",
       "3  Taylor Swift   Taylor Swift    A Place in This World    \n",
       "4  Taylor Swift   Taylor Swift              Cold As You    \n",
       "\n",
       "                                              Lyrics  \n",
       "0  He said the way my blue eyes shinx\\nPut those ...  \n",
       "1  State the obvious, I didn't get my perfect fan...  \n",
       "2  Drew looks at me,\\nI fake a smile so he won't ...  \n",
       "3  I don't know what I want, so don't ask me\\n'Ca...  \n",
       "4  You have a way of coming easily to me\\nAnd whe...  "
      ]
     },
     "execution_count": 13,
     "metadata": {},
     "output_type": "execute_result"
    }
   ],
   "source": [
    "ts_lyrics.head()"
   ]
  },
  {
   "cell_type": "code",
   "execution_count": 14,
   "metadata": {},
   "outputs": [
    {
     "data": {
      "text/html": [
       "<div>\n",
       "<style scoped>\n",
       "    .dataframe tbody tr th:only-of-type {\n",
       "        vertical-align: middle;\n",
       "    }\n",
       "\n",
       "    .dataframe tbody tr th {\n",
       "        vertical-align: top;\n",
       "    }\n",
       "\n",
       "    .dataframe thead th {\n",
       "        text-align: right;\n",
       "    }\n",
       "</style>\n",
       "<table border=\"1\" class=\"dataframe\">\n",
       "  <thead>\n",
       "    <tr style=\"text-align: right;\">\n",
       "      <th></th>\n",
       "      <th>Artist</th>\n",
       "      <th>Album</th>\n",
       "      <th>Title</th>\n",
       "      <th>Lyrics</th>\n",
       "    </tr>\n",
       "  </thead>\n",
       "  <tbody>\n",
       "    <tr>\n",
       "      <th>127</th>\n",
       "      <td>Taylor Swift</td>\n",
       "      <td>folklore</td>\n",
       "      <td>mad woman</td>\n",
       "      <td>What did you think I'd say to that?\\nDoes a sc...</td>\n",
       "    </tr>\n",
       "    <tr>\n",
       "      <th>128</th>\n",
       "      <td>Taylor Swift</td>\n",
       "      <td>folklore</td>\n",
       "      <td>epiphany</td>\n",
       "      <td>Keep your helmet\\nKeep your life, son\\nJust a ...</td>\n",
       "    </tr>\n",
       "    <tr>\n",
       "      <th>129</th>\n",
       "      <td>Taylor Swift</td>\n",
       "      <td>folklore</td>\n",
       "      <td>betty</td>\n",
       "      <td>Betty, I won't make assumptions about why you ...</td>\n",
       "    </tr>\n",
       "    <tr>\n",
       "      <th>130</th>\n",
       "      <td>Taylor Swift</td>\n",
       "      <td>folklore</td>\n",
       "      <td>peace</td>\n",
       "      <td>Our coming of age has come and gone\\nSuddenly ...</td>\n",
       "    </tr>\n",
       "    <tr>\n",
       "      <th>131</th>\n",
       "      <td>Taylor Swift</td>\n",
       "      <td>folklore</td>\n",
       "      <td>hoax</td>\n",
       "      <td>My only one\\nMy smoking gun\\nMy eclipsed sun\\n...</td>\n",
       "    </tr>\n",
       "  </tbody>\n",
       "</table>\n",
       "</div>"
      ],
      "text/plain": [
       "           Artist       Album     Title   \\\n",
       "127  Taylor Swift   folklore   mad woman   \n",
       "128  Taylor Swift   folklore    epiphany   \n",
       "129  Taylor Swift   folklore       betty   \n",
       "130  Taylor Swift   folklore       peace   \n",
       "131  Taylor Swift   folklore        hoax   \n",
       "\n",
       "                                                Lyrics  \n",
       "127  What did you think I'd say to that?\\nDoes a sc...  \n",
       "128  Keep your helmet\\nKeep your life, son\\nJust a ...  \n",
       "129  Betty, I won't make assumptions about why you ...  \n",
       "130  Our coming of age has come and gone\\nSuddenly ...  \n",
       "131  My only one\\nMy smoking gun\\nMy eclipsed sun\\n...  "
      ]
     },
     "execution_count": 14,
     "metadata": {},
     "output_type": "execute_result"
    }
   ],
   "source": [
    "ts_lyrics.tail()"
   ]
  },
  {
   "cell_type": "code",
   "execution_count": 31,
   "metadata": {},
   "outputs": [
    {
     "data": {
      "text/plain": [
       "Artist                                                     Taylor Swift \n",
       "Album                                                      Taylor Swift \n",
       "Title                                                         Tim McGraw\n",
       "Lyrics                 He said the way my blue eyes shinx\\nPut those ...\n",
       "Preprocessed Lyrics    He said the way my blue eyes shinx Put those G...\n",
       "Name: 0, dtype: object"
      ]
     },
     "execution_count": 31,
     "metadata": {},
     "output_type": "execute_result"
    }
   ],
   "source": [
    "ts_lyrics.iloc[0]"
   ]
  },
  {
   "cell_type": "code",
   "execution_count": 32,
   "metadata": {},
   "outputs": [
    {
     "data": {
      "text/html": [
       "<div>\n",
       "<style scoped>\n",
       "    .dataframe tbody tr th:only-of-type {\n",
       "        vertical-align: middle;\n",
       "    }\n",
       "\n",
       "    .dataframe tbody tr th {\n",
       "        vertical-align: top;\n",
       "    }\n",
       "\n",
       "    .dataframe thead th {\n",
       "        text-align: right;\n",
       "    }\n",
       "</style>\n",
       "<table border=\"1\" class=\"dataframe\">\n",
       "  <thead>\n",
       "    <tr style=\"text-align: right;\">\n",
       "      <th></th>\n",
       "      <th>Artist</th>\n",
       "      <th>Album</th>\n",
       "      <th>Title</th>\n",
       "      <th>Lyrics</th>\n",
       "      <th>Preprocessed Lyrics</th>\n",
       "    </tr>\n",
       "  </thead>\n",
       "  <tbody>\n",
       "    <tr>\n",
       "      <th>0</th>\n",
       "      <td>Taylor Swift</td>\n",
       "      <td>Taylor Swift</td>\n",
       "      <td>Tim McGraw</td>\n",
       "      <td>He said the way my blue eyes shinx\\nPut those ...</td>\n",
       "      <td>He said the way my blue eyes shinx Put those G...</td>\n",
       "    </tr>\n",
       "  </tbody>\n",
       "</table>\n",
       "</div>"
      ],
      "text/plain": [
       "         Artist           Album      Title   \\\n",
       "0  Taylor Swift   Taylor Swift   Tim McGraw   \n",
       "\n",
       "                                              Lyrics  \\\n",
       "0  He said the way my blue eyes shinx\\nPut those ...   \n",
       "\n",
       "                                 Preprocessed Lyrics  \n",
       "0  He said the way my blue eyes shinx Put those G...  "
      ]
     },
     "execution_count": 32,
     "metadata": {},
     "output_type": "execute_result"
    }
   ],
   "source": [
    "ts_lyrics.head(1)"
   ]
  },
  {
   "cell_type": "markdown",
   "metadata": {},
   "source": [
    "12\\. Add a new column to the dataframe and name it _Preprocessed_ _Lyrics_ , then fill the column out with the preprocessed text including the steps in this and the following questions. First replace the '\\n' notations with a space character."
   ]
  },
  {
   "cell_type": "code",
   "execution_count": 30,
   "metadata": {},
   "outputs": [
    {
     "data": {
      "text/html": [
       "<div>\n",
       "<style scoped>\n",
       "    .dataframe tbody tr th:only-of-type {\n",
       "        vertical-align: middle;\n",
       "    }\n",
       "\n",
       "    .dataframe tbody tr th {\n",
       "        vertical-align: top;\n",
       "    }\n",
       "\n",
       "    .dataframe thead th {\n",
       "        text-align: right;\n",
       "    }\n",
       "</style>\n",
       "<table border=\"1\" class=\"dataframe\">\n",
       "  <thead>\n",
       "    <tr style=\"text-align: right;\">\n",
       "      <th></th>\n",
       "      <th>Artist</th>\n",
       "      <th>Album</th>\n",
       "      <th>Title</th>\n",
       "      <th>Lyrics</th>\n",
       "      <th>Preprocessed Lyrics</th>\n",
       "    </tr>\n",
       "  </thead>\n",
       "  <tbody>\n",
       "    <tr>\n",
       "      <th>0</th>\n",
       "      <td>Taylor Swift</td>\n",
       "      <td>Taylor Swift</td>\n",
       "      <td>Tim McGraw</td>\n",
       "      <td>He said the way my blue eyes shinx\\nPut those ...</td>\n",
       "      <td>He said the way my blue eyes shinx Put those G...</td>\n",
       "    </tr>\n",
       "    <tr>\n",
       "      <th>1</th>\n",
       "      <td>Taylor Swift</td>\n",
       "      <td>Taylor Swift</td>\n",
       "      <td>Picture to Burn</td>\n",
       "      <td>State the obvious, I didn't get my perfect fan...</td>\n",
       "      <td>State the obvious, I didn't get my perfect fan...</td>\n",
       "    </tr>\n",
       "    <tr>\n",
       "      <th>2</th>\n",
       "      <td>Taylor Swift</td>\n",
       "      <td>Taylor Swift</td>\n",
       "      <td>Teardrops on my Guitar</td>\n",
       "      <td>Drew looks at me,\\nI fake a smile so he won't ...</td>\n",
       "      <td>Drew looks at me, I fake a smile so he won't s...</td>\n",
       "    </tr>\n",
       "    <tr>\n",
       "      <th>3</th>\n",
       "      <td>Taylor Swift</td>\n",
       "      <td>Taylor Swift</td>\n",
       "      <td>A Place in This World</td>\n",
       "      <td>I don't know what I want, so don't ask me\\n'Ca...</td>\n",
       "      <td>I don't know what I want, so don't ask me 'Cau...</td>\n",
       "    </tr>\n",
       "    <tr>\n",
       "      <th>4</th>\n",
       "      <td>Taylor Swift</td>\n",
       "      <td>Taylor Swift</td>\n",
       "      <td>Cold As You</td>\n",
       "      <td>You have a way of coming easily to me\\nAnd whe...</td>\n",
       "      <td>You have a way of coming easily to me And when...</td>\n",
       "    </tr>\n",
       "  </tbody>\n",
       "</table>\n",
       "</div>"
      ],
      "text/plain": [
       "         Artist           Album                   Title   \\\n",
       "0  Taylor Swift   Taylor Swift                Tim McGraw   \n",
       "1  Taylor Swift   Taylor Swift           Picture to Burn   \n",
       "2  Taylor Swift   Taylor Swift   Teardrops on my Guitar    \n",
       "3  Taylor Swift   Taylor Swift    A Place in This World    \n",
       "4  Taylor Swift   Taylor Swift              Cold As You    \n",
       "\n",
       "                                              Lyrics  \\\n",
       "0  He said the way my blue eyes shinx\\nPut those ...   \n",
       "1  State the obvious, I didn't get my perfect fan...   \n",
       "2  Drew looks at me,\\nI fake a smile so he won't ...   \n",
       "3  I don't know what I want, so don't ask me\\n'Ca...   \n",
       "4  You have a way of coming easily to me\\nAnd whe...   \n",
       "\n",
       "                                 Preprocessed Lyrics  \n",
       "0  He said the way my blue eyes shinx Put those G...  \n",
       "1  State the obvious, I didn't get my perfect fan...  \n",
       "2  Drew looks at me, I fake a smile so he won't s...  \n",
       "3  I don't know what I want, so don't ask me 'Cau...  \n",
       "4  You have a way of coming easily to me And when...  "
      ]
     },
     "execution_count": 30,
     "metadata": {},
     "output_type": "execute_result"
    }
   ],
   "source": [
    "import re\n",
    "def remove_linebreaks(text):\n",
    "    \"\"\"custom function to remove the line breaks\"\"\"\n",
    "    return re.sub(r'\\n', ' ', text)\n",
    "\n",
    "ts_lyrics[\"Preprocessed Lyrics\"] = ts_lyrics[\"Lyrics\"].apply(lambda text: remove_linebreaks(text))\n",
    "ts_lyrics.head()"
   ]
  },
  {
   "cell_type": "markdown",
   "metadata": {},
   "source": [
    "13\\. Write another custom function to remove the punctuations. You can use the previous method or make use of the function maketrans from the string package. "
   ]
  },
  {
   "cell_type": "code",
   "execution_count": 34,
   "metadata": {},
   "outputs": [
    {
     "data": {
      "text/html": [
       "<div>\n",
       "<style scoped>\n",
       "    .dataframe tbody tr th:only-of-type {\n",
       "        vertical-align: middle;\n",
       "    }\n",
       "\n",
       "    .dataframe tbody tr th {\n",
       "        vertical-align: top;\n",
       "    }\n",
       "\n",
       "    .dataframe thead th {\n",
       "        text-align: right;\n",
       "    }\n",
       "</style>\n",
       "<table border=\"1\" class=\"dataframe\">\n",
       "  <thead>\n",
       "    <tr style=\"text-align: right;\">\n",
       "      <th></th>\n",
       "      <th>Artist</th>\n",
       "      <th>Album</th>\n",
       "      <th>Title</th>\n",
       "      <th>Lyrics</th>\n",
       "      <th>Preprocessed Lyrics</th>\n",
       "    </tr>\n",
       "  </thead>\n",
       "  <tbody>\n",
       "    <tr>\n",
       "      <th>0</th>\n",
       "      <td>Taylor Swift</td>\n",
       "      <td>Taylor Swift</td>\n",
       "      <td>Tim McGraw</td>\n",
       "      <td>He said the way my blue eyes shinx\\nPut those ...</td>\n",
       "      <td>he said the way my blue eyes shinx put those g...</td>\n",
       "    </tr>\n",
       "    <tr>\n",
       "      <th>1</th>\n",
       "      <td>Taylor Swift</td>\n",
       "      <td>Taylor Swift</td>\n",
       "      <td>Picture to Burn</td>\n",
       "      <td>State the obvious, I didn't get my perfect fan...</td>\n",
       "      <td>state the obvious i didnt get my perfect fanta...</td>\n",
       "    </tr>\n",
       "    <tr>\n",
       "      <th>2</th>\n",
       "      <td>Taylor Swift</td>\n",
       "      <td>Taylor Swift</td>\n",
       "      <td>Teardrops on my Guitar</td>\n",
       "      <td>Drew looks at me,\\nI fake a smile so he won't ...</td>\n",
       "      <td>drew looks at me i fake a smile so he wont see...</td>\n",
       "    </tr>\n",
       "    <tr>\n",
       "      <th>3</th>\n",
       "      <td>Taylor Swift</td>\n",
       "      <td>Taylor Swift</td>\n",
       "      <td>A Place in This World</td>\n",
       "      <td>I don't know what I want, so don't ask me\\n'Ca...</td>\n",
       "      <td>i dont know what i want so dont ask me cause i...</td>\n",
       "    </tr>\n",
       "    <tr>\n",
       "      <th>4</th>\n",
       "      <td>Taylor Swift</td>\n",
       "      <td>Taylor Swift</td>\n",
       "      <td>Cold As You</td>\n",
       "      <td>You have a way of coming easily to me\\nAnd whe...</td>\n",
       "      <td>you have a way of coming easily to me and when...</td>\n",
       "    </tr>\n",
       "  </tbody>\n",
       "</table>\n",
       "</div>"
      ],
      "text/plain": [
       "         Artist           Album                   Title   \\\n",
       "0  Taylor Swift   Taylor Swift                Tim McGraw   \n",
       "1  Taylor Swift   Taylor Swift           Picture to Burn   \n",
       "2  Taylor Swift   Taylor Swift   Teardrops on my Guitar    \n",
       "3  Taylor Swift   Taylor Swift    A Place in This World    \n",
       "4  Taylor Swift   Taylor Swift              Cold As You    \n",
       "\n",
       "                                              Lyrics  \\\n",
       "0  He said the way my blue eyes shinx\\nPut those ...   \n",
       "1  State the obvious, I didn't get my perfect fan...   \n",
       "2  Drew looks at me,\\nI fake a smile so he won't ...   \n",
       "3  I don't know what I want, so don't ask me\\n'Ca...   \n",
       "4  You have a way of coming easily to me\\nAnd whe...   \n",
       "\n",
       "                                 Preprocessed Lyrics  \n",
       "0  he said the way my blue eyes shinx put those g...  \n",
       "1  state the obvious i didnt get my perfect fanta...  \n",
       "2  drew looks at me i fake a smile so he wont see...  \n",
       "3  i dont know what i want so dont ask me cause i...  \n",
       "4  you have a way of coming easily to me and when...  "
      ]
     },
     "execution_count": 34,
     "metadata": {},
     "output_type": "execute_result"
    }
   ],
   "source": [
    "def remove_punctuation(text):\n",
    "    \"\"\"custom function to remove the punctuation\"\"\"\n",
    "    return text.translate(str.maketrans('', '', string.punctuation))\n",
    "\n",
    "ts_lyrics[\"Preprocessed Lyrics\"] = ts_lyrics[\"Preprocessed Lyrics\"].apply(lambda text: remove_punctuation(text))\n",
    "ts_lyrics.head()"
   ]
  },
  {
   "cell_type": "markdown",
   "metadata": {},
   "source": [
    "14\\. Change all the characters to their lower forms. Think about why and when we need this step in our analysis."
   ]
  },
  {
   "cell_type": "code",
   "execution_count": 35,
   "metadata": {},
   "outputs": [
    {
     "data": {
      "text/html": [
       "<div>\n",
       "<style scoped>\n",
       "    .dataframe tbody tr th:only-of-type {\n",
       "        vertical-align: middle;\n",
       "    }\n",
       "\n",
       "    .dataframe tbody tr th {\n",
       "        vertical-align: top;\n",
       "    }\n",
       "\n",
       "    .dataframe thead th {\n",
       "        text-align: right;\n",
       "    }\n",
       "</style>\n",
       "<table border=\"1\" class=\"dataframe\">\n",
       "  <thead>\n",
       "    <tr style=\"text-align: right;\">\n",
       "      <th></th>\n",
       "      <th>Artist</th>\n",
       "      <th>Album</th>\n",
       "      <th>Title</th>\n",
       "      <th>Lyrics</th>\n",
       "      <th>Preprocessed Lyrics</th>\n",
       "    </tr>\n",
       "  </thead>\n",
       "  <tbody>\n",
       "    <tr>\n",
       "      <th>0</th>\n",
       "      <td>Taylor Swift</td>\n",
       "      <td>Taylor Swift</td>\n",
       "      <td>Tim McGraw</td>\n",
       "      <td>He said the way my blue eyes shinx\\nPut those ...</td>\n",
       "      <td>he said the way my blue eyes shinx put those g...</td>\n",
       "    </tr>\n",
       "    <tr>\n",
       "      <th>1</th>\n",
       "      <td>Taylor Swift</td>\n",
       "      <td>Taylor Swift</td>\n",
       "      <td>Picture to Burn</td>\n",
       "      <td>State the obvious, I didn't get my perfect fan...</td>\n",
       "      <td>state the obvious i didnt get my perfect fanta...</td>\n",
       "    </tr>\n",
       "    <tr>\n",
       "      <th>2</th>\n",
       "      <td>Taylor Swift</td>\n",
       "      <td>Taylor Swift</td>\n",
       "      <td>Teardrops on my Guitar</td>\n",
       "      <td>Drew looks at me,\\nI fake a smile so he won't ...</td>\n",
       "      <td>drew looks at me i fake a smile so he wont see...</td>\n",
       "    </tr>\n",
       "    <tr>\n",
       "      <th>3</th>\n",
       "      <td>Taylor Swift</td>\n",
       "      <td>Taylor Swift</td>\n",
       "      <td>A Place in This World</td>\n",
       "      <td>I don't know what I want, so don't ask me\\n'Ca...</td>\n",
       "      <td>i dont know what i want so dont ask me cause i...</td>\n",
       "    </tr>\n",
       "    <tr>\n",
       "      <th>4</th>\n",
       "      <td>Taylor Swift</td>\n",
       "      <td>Taylor Swift</td>\n",
       "      <td>Cold As You</td>\n",
       "      <td>You have a way of coming easily to me\\nAnd whe...</td>\n",
       "      <td>you have a way of coming easily to me and when...</td>\n",
       "    </tr>\n",
       "  </tbody>\n",
       "</table>\n",
       "</div>"
      ],
      "text/plain": [
       "         Artist           Album                   Title   \\\n",
       "0  Taylor Swift   Taylor Swift                Tim McGraw   \n",
       "1  Taylor Swift   Taylor Swift           Picture to Burn   \n",
       "2  Taylor Swift   Taylor Swift   Teardrops on my Guitar    \n",
       "3  Taylor Swift   Taylor Swift    A Place in This World    \n",
       "4  Taylor Swift   Taylor Swift              Cold As You    \n",
       "\n",
       "                                              Lyrics  \\\n",
       "0  He said the way my blue eyes shinx\\nPut those ...   \n",
       "1  State the obvious, I didn't get my perfect fan...   \n",
       "2  Drew looks at me,\\nI fake a smile so he won't ...   \n",
       "3  I don't know what I want, so don't ask me\\n'Ca...   \n",
       "4  You have a way of coming easily to me\\nAnd whe...   \n",
       "\n",
       "                                 Preprocessed Lyrics  \n",
       "0  he said the way my blue eyes shinx put those g...  \n",
       "1  state the obvious i didnt get my perfect fanta...  \n",
       "2  drew looks at me i fake a smile so he wont see...  \n",
       "3  i dont know what i want so dont ask me cause i...  \n",
       "4  you have a way of coming easily to me and when...  "
      ]
     },
     "execution_count": 35,
     "metadata": {},
     "output_type": "execute_result"
    }
   ],
   "source": [
    "ts_lyrics[\"Preprocessed Lyrics\"] = ts_lyrics[\"Preprocessed Lyrics\"].str.lower()\n",
    "ts_lyrics.head()"
   ]
  },
  {
   "cell_type": "markdown",
   "metadata": {},
   "source": [
    "15\\. List the 20 most frequent terms in this dataframe. And plot a wordcloud. "
   ]
  },
  {
   "cell_type": "markdown",
   "metadata": {},
   "source": [
    "12\\. Calculate average word per sentence in the data set. Can you extend this ratio for each document?"
   ]
  },
  {
   "cell_type": "markdown",
   "metadata": {},
   "source": [
    "13\\. Plot wordclounds"
   ]
  },
  {
   "cell_type": "markdown",
   "metadata": {},
   "source": [
    "14\\. Remove stop words and calculate the ratio word per sentence again"
   ]
  },
  {
   "cell_type": "markdown",
   "metadata": {},
   "source": [
    "15\\. Find all the context-related words in your data set and plot . Let's define a word context-related only if it appears in more than 90 percent of documents. First plot a word cloud of these words in your data set."
   ]
  },
  {
   "cell_type": "markdown",
   "metadata": {},
   "source": [
    "16\\. Modify the list of stop words by adding context-related words. Remove the list of modified stop words from your data and analyze the result."
   ]
  },
  {
   "cell_type": "markdown",
   "metadata": {},
   "source": [
    "17\\. What percentage of documents in the data set are not written in English?"
   ]
  },
  {
   "cell_type": "markdown",
   "metadata": {},
   "source": [
    "18\\. Find all the dates and create a dataframe of sentences versus dates if any.\n"
   ]
  },
  {
   "cell_type": "code",
   "execution_count": null,
   "metadata": {},
   "outputs": [],
   "source": [
    "tokenizer.tokenize(b)"
   ]
  }
 ],
 "metadata": {
  "kernelspec": {
   "display_name": "Python 3",
   "language": "python",
   "name": "python3"
  },
  "language_info": {
   "codemirror_mode": {
    "name": "ipython",
    "version": 3
   },
   "file_extension": ".py",
   "mimetype": "text/x-python",
   "name": "python",
   "nbconvert_exporter": "python",
   "pygments_lexer": "ipython3",
   "version": "3.7.4"
  }
 },
 "nbformat": 4,
 "nbformat_minor": 4
}
