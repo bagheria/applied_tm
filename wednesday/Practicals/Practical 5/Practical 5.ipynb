{
 "cells": [
  {
   "cell_type": "markdown",
   "metadata": {
    "id": "dELWpyou789C"
   },
   "source": [
    "# Practical 5: Word Embeddings\n",
    "#### Dong Nguyen\n",
    "<img src=\"img/uu_logo.png\" alt=\"logo\" align=\"right\" title=\"UU\" width=\"50\" height=\"20\" />\n",
    "\n",
    "#### Applied Text Mining - Utrecht Summer School"
   ]
  },
  {
   "cell_type": "markdown",
   "metadata": {},
   "source": [
    "# Installation\n",
    "\n",
    "If you're using Google Colab, then you should be able to run these commands directly. Otherwise, make sure you have `sklearn`, `matplotlib` and `numpy` installed."
   ]
  },
  {
   "cell_type": "code",
   "execution_count": null,
   "metadata": {
    "id": "hX_spMIk9BQF"
   },
   "outputs": [],
   "source": [
    "%matplotlib inline\n",
    "import matplotlib.pyplot as plt\n",
    "import numpy as np    \n",
    "\n",
    "from sklearn.decomposition import PCA\n",
    "from numpy import linalg as LA"
   ]
  },
  {
   "cell_type": "markdown",
   "metadata": {
    "id": "jgw0Ld6kv9Ku"
   },
   "source": [
    "# First install the gensim library"
   ]
  },
  {
   "cell_type": "markdown",
   "metadata": {
    "id": "G0tEUKDfxJ5Y"
   },
   "source": [
    "In this practical session we're going to use the [gensim](https://radimrehurek.com/gensim/) library. This library offers a variety of methods to read\n",
    "in pre-trained word embeddings as well as train your own.\n",
    "\n",
    "The website contains a lot of documentation, for example here: https://radimrehurek.com/gensim/auto_examples/index.html#documentation\n",
    "\n",
    "If gensim isn't installed yet, you can use the following command:\n"
   ]
  },
  {
   "cell_type": "code",
   "execution_count": null,
   "metadata": {
    "id": "jUHdt_DtvrA3"
   },
   "outputs": [],
   "source": [
    "#!pip install gensim"
   ]
  },
  {
   "cell_type": "code",
   "execution_count": null,
   "metadata": {
    "id": "zfk4o1Cebn-J"
   },
   "outputs": [],
   "source": [
    "from gensim.test.utils import datapath"
   ]
  },
  {
   "cell_type": "markdown",
   "metadata": {
    "id": "nKUfWy0nwG0U"
   },
   "source": [
    "# Reading in a pre-trained model"
   ]
  },
  {
   "cell_type": "markdown",
   "metadata": {
    "id": "79Mb6_c9wwvt"
   },
   "source": [
    "First we load in a pre-trained GloVe model. Note: this can take around five minutes.\n",
    "\n",
    "See https://github.com/RaRe-Technologies/gensim-data for an overview of the models you can try. For example\n",
    "\n",
    "*   word2vec-google-news-300: word2vec trained on Google news. 1662 MB.\n",
    "*   glove-twitter-200: trained on Twitter: 758 MB \n",
    "\n",
    "We're going to start with `glove-wiki-gigaword-300` which\n",
    "is 376.1MB to download. These embeddings are trained on \n",
    "Wikipedia (2014) and the Gigaword corpus, a large collection\n",
    "of newswire text."
   ]
  },
  {
   "cell_type": "code",
   "execution_count": null,
   "metadata": {
    "colab": {
     "base_uri": "https://localhost:8080/"
    },
    "id": "xs4LeLkav_xy",
    "outputId": "7d30a1ed-e861-4856-db7e-7642bc911335"
   },
   "outputs": [
    {
     "name": "stdout",
     "output_type": "stream",
     "text": [
      "[==================================================] 100.0% 376.1/376.1MB downloaded\n"
     ]
    }
   ],
   "source": [
    "import gensim.downloader as api\n",
    "wv = api.load('glove-wiki-gigaword-300')"
   ]
  },
  {
   "cell_type": "markdown",
   "metadata": {
    "id": "91pmPOTX4bmE"
   },
   "source": [
    "# Exploring the vocabulary"
   ]
  },
  {
   "cell_type": "markdown",
   "metadata": {
    "id": "luAJI20EZfVM"
   },
   "source": [
    "How many words does the vocabulary contain?"
   ]
  },
  {
   "cell_type": "code",
   "execution_count": null,
   "metadata": {
    "colab": {
     "base_uri": "https://localhost:8080/"
    },
    "id": "MEcQDdt8ZXN4",
    "outputId": "9013dc4b-4586-463c-d9b6-e95aed9a0f45"
   },
   "outputs": [
    {
     "data": {
      "text/plain": [
       "400000"
      ]
     },
     "execution_count": 5,
     "metadata": {
      "tags": []
     },
     "output_type": "execute_result"
    }
   ],
   "source": [
    "len(wv.vocab)"
   ]
  },
  {
   "cell_type": "markdown",
   "metadata": {
    "id": "HCYQx2rzamAe"
   },
   "source": [
    "Is '*utrecht*' in the vocabulary?"
   ]
  },
  {
   "cell_type": "code",
   "execution_count": null,
   "metadata": {
    "colab": {
     "base_uri": "https://localhost:8080/"
    },
    "id": "Fge3MyBvaViM",
    "outputId": "8f3f5897-a3d3-479c-97d9-309eea403d50"
   },
   "outputs": [
    {
     "data": {
      "text/plain": [
       "True"
      ]
     },
     "execution_count": 6,
     "metadata": {
      "tags": []
     },
     "output_type": "execute_result"
    }
   ],
   "source": [
    "'utrecht' in wv.vocab"
   ]
  },
  {
   "cell_type": "markdown",
   "metadata": {
    "id": "qWqjHy7JaCAq"
   },
   "source": [
    "Print a word embedding. "
   ]
  },
  {
   "cell_type": "code",
   "execution_count": null,
   "metadata": {
    "id": "Y7IVbexSZ3oc"
   },
   "outputs": [],
   "source": [
    "wv[\"utrecht\"]"
   ]
  },
  {
   "cell_type": "markdown",
   "metadata": {
    "id": "0hYuk_2KaLO-"
   },
   "source": [
    "How many dimensions does this embedding have?"
   ]
  },
  {
   "cell_type": "code",
   "execution_count": null,
   "metadata": {
    "colab": {
     "base_uri": "https://localhost:8080/"
    },
    "id": "oQ-O3oK_aJZd",
    "outputId": "2d78f7d8-0491-4fdd-9584-64118491dd1d"
   },
   "outputs": [
    {
     "data": {
      "text/plain": [
       "(300,)"
      ]
     },
     "execution_count": 8,
     "metadata": {
      "tags": []
     },
     "output_type": "execute_result"
    }
   ],
   "source": [
    "wv[\"utrecht\"].shape"
   ]
  },
  {
   "cell_type": "markdown",
   "metadata": {
    "id": "02IVqpksawKL"
   },
   "source": [
    "**Question:** Explore the embeddings for a few other words. Can you find words that are *not* in the vocabulary? \n",
    "\n",
    "(For example, think of uncommon words, misspellings, etc.)"
   ]
  },
  {
   "cell_type": "markdown",
   "metadata": {
    "id": "omCh8m2k1kMd"
   },
   "source": [
    "# Vector arithmethics"
   ]
  },
  {
   "cell_type": "markdown",
   "metadata": {
    "id": "OmIVSe-c1pOA"
   },
   "source": [
    "We can calculate the [cosine similarity](https://en.wikipedia.org/wiki/Cosine_similarity) between two words in this way:"
   ]
  },
  {
   "cell_type": "code",
   "execution_count": null,
   "metadata": {
    "colab": {
     "base_uri": "https://localhost:8080/"
    },
    "id": "Z1vVWsuO1m9G",
    "outputId": "0f9aa8cc-03f6-4a51-af48-66dc6eefa4fc"
   },
   "outputs": [
    {
     "data": {
      "text/plain": [
       "0.5970514"
      ]
     },
     "execution_count": 10,
     "metadata": {
      "tags": []
     },
     "output_type": "execute_result"
    }
   ],
   "source": [
    "wv.similarity('university', 'student')"
   ]
  },
  {
   "cell_type": "markdown",
   "metadata": {
    "id": "CB1u026w1y4y"
   },
   "source": [
    "*Optional*: cosine similarity is the same as the dot product between the normalized word embeddings"
   ]
  },
  {
   "cell_type": "code",
   "execution_count": null,
   "metadata": {
    "colab": {
     "base_uri": "https://localhost:8080/"
    },
    "id": "K-UHTcX229Qn",
    "outputId": "3b00d278-f129-4826-a1c0-273a03e6f74c"
   },
   "outputs": [
    {
     "data": {
      "text/plain": [
       "0.5970514"
      ]
     },
     "execution_count": 19,
     "metadata": {
      "tags": []
     },
     "output_type": "execute_result"
    }
   ],
   "source": [
    "wv_university_norm = wv['university']/ LA.norm(wv['university'], 2)\n",
    "wv_student_norm = wv['student'] / LA.norm(wv['student'], 2)\n",
    "\n",
    "wv_university_norm.dot(wv_student_norm)"
   ]
  },
  {
   "cell_type": "markdown",
   "metadata": {
    "id": "cfd3Gy5O30_U"
   },
   "source": [
    "A normalized embedding has a L2 norm (length) of 1"
   ]
  },
  {
   "cell_type": "code",
   "execution_count": null,
   "metadata": {
    "colab": {
     "base_uri": "https://localhost:8080/"
    },
    "id": "6dr0qHc24B5D",
    "outputId": "4cf1d08b-635a-467f-fb61-360b2c1f8ea9"
   },
   "outputs": [
    {
     "data": {
      "text/plain": [
       "1.0"
      ]
     },
     "execution_count": 20,
     "metadata": {
      "tags": []
     },
     "output_type": "execute_result"
    }
   ],
   "source": [
    "LA.norm(wv_student_norm)"
   ]
  },
  {
   "cell_type": "markdown",
   "metadata": {
    "id": "Q2qWG2llbX6Q"
   },
   "source": [
    "# Similarity analysis"
   ]
  },
  {
   "cell_type": "markdown",
   "metadata": {
    "id": "jSFauHoA4xF9"
   },
   "source": [
    "Print the top 5 most similar words to car"
   ]
  },
  {
   "cell_type": "code",
   "execution_count": null,
   "metadata": {
    "colab": {
     "base_uri": "https://localhost:8080/"
    },
    "id": "sXJQg10Z4ZrN",
    "outputId": "ab9ae590-0bd6-46e3-b538-1b5d3d59dc95"
   },
   "outputs": [
    {
     "name": "stdout",
     "output_type": "stream",
     "text": [
      "[('cars', 0.7827162742614746), ('vehicle', 0.7655367851257324), ('truck', 0.7350621819496155), ('driver', 0.7114784121513367), ('driving', 0.6442224979400635)]\n"
     ]
    }
   ],
   "source": [
    "print(wv.most_similar(positive=['car'], topn=5))\n"
   ]
  },
  {
   "cell_type": "markdown",
   "metadata": {
    "id": "YljWEl6W44jN"
   },
   "source": [
    "**Question**: What are the top 5 most similar words to *cat*?  And to *king*? And to *fast*? What kind of words often appear in the top? "
   ]
  },
  {
   "cell_type": "markdown",
   "metadata": {
    "id": "SVBB1MoOczHp"
   },
   "source": [
    "Now calculate the similarities between two words"
   ]
  },
  {
   "cell_type": "code",
   "execution_count": null,
   "metadata": {
    "colab": {
     "base_uri": "https://localhost:8080/"
    },
    "id": "GYdtGXBxcyh-",
    "outputId": "90687581-9f70-4c40-ae62-4884c77c2dd7"
   },
   "outputs": [
    {
     "data": {
      "text/plain": [
       "0.77922326"
      ]
     },
     "execution_count": 11,
     "metadata": {
      "tags": []
     },
     "output_type": "execute_result"
    }
   ],
   "source": [
    "wv.similarity('buy', 'purchase')"
   ]
  },
  {
   "cell_type": "code",
   "execution_count": null,
   "metadata": {
    "colab": {
     "base_uri": "https://localhost:8080/"
    },
    "id": "i5VVQhkbdMo3",
    "outputId": "829ea172-699a-4f2c-a883-af4b5b3e126f"
   },
   "outputs": [
    {
     "data": {
      "text/plain": [
       "0.68167466"
      ]
     },
     "execution_count": 12,
     "metadata": {
      "tags": []
     },
     "output_type": "execute_result"
    }
   ],
   "source": [
    "wv.similarity('cat', 'dog')"
   ]
  },
  {
   "cell_type": "code",
   "execution_count": null,
   "metadata": {
    "colab": {
     "base_uri": "https://localhost:8080/"
    },
    "id": "GHpGmyCwdP_T",
    "outputId": "227f7855-81c6-468a-a2ef-3623f94d365f"
   },
   "outputs": [
    {
     "data": {
      "text/plain": [
       "0.25130013"
      ]
     },
     "execution_count": 13,
     "metadata": {
      "tags": []
     },
     "output_type": "execute_result"
    }
   ],
   "source": [
    "wv.similarity('car', 'green')"
   ]
  },
  {
   "cell_type": "markdown",
   "metadata": {
    "id": "eTy98KEIdn1S"
   },
   "source": [
    "We can calculate the cosine similarity between a list of word pairs and correlate these with human ratings. One such dataset with human ratings is called WordSim353.\n",
    "\n",
    "**Goto** https://github.com/RaRe-Technologies/gensim/blob/develop/gensim/test/test_data/wordsim353.tsv to get a sense of the data. \n",
    "\n",
    "\n",
    "Gensim already implements a method to evaluate a word embedding model using this data. \n",
    "* It calculates the cosine similarity between each word pair\n",
    "* It calculates both the Spearman and Pearson correlation coefficient between the cosine similarities and human judgements\n",
    "\n",
    "See https://radimrehurek.com/gensim/models/keyedvectors.html for a description of the methods."
   ]
  },
  {
   "cell_type": "code",
   "execution_count": null,
   "metadata": {
    "colab": {
     "base_uri": "https://localhost:8080/"
    },
    "id": "nS7w7qmKcUoh",
    "outputId": "b1b9c2e5-3bcf-440b-abb5-5eca4614e4a6"
   },
   "outputs": [
    {
     "data": {
      "text/plain": [
       "((0.6040760940127656, 1.752303459427209e-36),\n",
       " SpearmanrResult(correlation=0.6085349998820805, pvalue=3.879629536780527e-37),\n",
       " 0.0)"
      ]
     },
     "execution_count": 14,
     "metadata": {
      "tags": []
     },
     "output_type": "execute_result"
    }
   ],
   "source": [
    "wv.evaluate_word_pairs(datapath('wordsim353.tsv'))\n"
   ]
  },
  {
   "cell_type": "markdown",
   "metadata": {
    "id": "j3hbA_Pd5m2Y"
   },
   "source": [
    "# Analogies"
   ]
  },
  {
   "cell_type": "markdown",
   "metadata": {
    "id": "_wpOgoulf_mh"
   },
   "source": [
    "Man is to woman as king is to. ..?\n",
    "\n",
    "This can be converted into vector arithmethics:\n",
    "\n",
    "```\n",
    "king - ? = man - woman.\n",
    "\n",
    "king - man + woman = ?\n",
    "```"
   ]
  },
  {
   "cell_type": "code",
   "execution_count": null,
   "metadata": {
    "colab": {
     "base_uri": "https://localhost:8080/"
    },
    "id": "4mt2zVCk5oh8",
    "outputId": "e1aaf472-50a8-415c-fe51-a1982536aec4"
   },
   "outputs": [
    {
     "data": {
      "text/plain": [
       "[('queen', 0.6713277101516724),\n",
       " ('princess', 0.5432624220848083),\n",
       " ('throne', 0.5386104583740234),\n",
       " ('monarch', 0.5347574949264526),\n",
       " ('daughter', 0.498025119304657),\n",
       " ('mother', 0.4956442713737488),\n",
       " ('elizabeth', 0.4832652509212494),\n",
       " ('kingdom', 0.47747087478637695),\n",
       " ('prince', 0.4668239951133728),\n",
       " ('wife', 0.4647327661514282)]"
      ]
     },
     "execution_count": 15,
     "metadata": {
      "tags": []
     },
     "output_type": "execute_result"
    }
   ],
   "source": [
    " wv.most_similar(negative=['man'], positive=['king', 'woman'])"
   ]
  },
  {
   "cell_type": "markdown",
   "metadata": {
    "id": "-QpczXwlgUGW"
   },
   "source": [
    "france - paris + amsterdam = ?"
   ]
  },
  {
   "cell_type": "code",
   "execution_count": null,
   "metadata": {
    "colab": {
     "base_uri": "https://localhost:8080/"
    },
    "id": "lhPaa4tc5tor",
    "outputId": "a9ac75fa-0f67-4421-ddcd-a46781dfdb92"
   },
   "outputs": [
    {
     "data": {
      "text/plain": [
       "[('netherlands', 0.7304362058639526),\n",
       " ('dutch', 0.5829050540924072),\n",
       " ('belgium', 0.5607961416244507),\n",
       " ('holland', 0.5492807626724243),\n",
       " ('denmark', 0.5330449938774109),\n",
       " ('sweden', 0.4875030517578125),\n",
       " ('germany', 0.47103554010391235),\n",
       " ('utrecht', 0.46798405051231384),\n",
       " ('spain', 0.46100154519081116),\n",
       " ('rotterdam', 0.45599010586738586)]"
      ]
     },
     "execution_count": 16,
     "metadata": {
      "tags": []
     },
     "output_type": "execute_result"
    }
   ],
   "source": [
    " wv.most_similar(negative=['paris'], positive=['france', 'amsterdam'])"
   ]
  },
  {
   "cell_type": "markdown",
   "metadata": {
    "id": "V_qTUAGjgbdP"
   },
   "source": [
    "Note that it we would just retrieve the most similar words to '*amsterdam*' we would receive a different result."
   ]
  },
  {
   "cell_type": "code",
   "execution_count": null,
   "metadata": {
    "colab": {
     "base_uri": "https://localhost:8080/"
    },
    "id": "pDr8H4pp51ER",
    "outputId": "3d4dce72-1ca3-44f5-a764-6dd141702e7f"
   },
   "outputs": [
    {
     "name": "stdout",
     "output_type": "stream",
     "text": [
      "[('rotterdam', 0.6485881209373474), ('schiphol', 0.5740087628364563), ('utrecht', 0.5608800053596497), ('netherlands', 0.5472348928451538), ('frankfurt', 0.5457332730293274)]\n"
     ]
    }
   ],
   "source": [
    "print(wv.most_similar(positive=['amsterdam'], topn=5))"
   ]
  },
  {
   "cell_type": "markdown",
   "metadata": {
    "id": "plZLOUP2giIk"
   },
   "source": [
    "cat is to cats as girl is to ?\n",
    "\n",
    "```\n",
    "girl - ? = cat - cats\n",
    "girl - cat + cats = ?\n",
    "```"
   ]
  },
  {
   "cell_type": "code",
   "execution_count": null,
   "metadata": {
    "colab": {
     "base_uri": "https://localhost:8080/"
    },
    "id": "b2maivUF6MjV",
    "outputId": "b1d286cd-30a2-4ee8-eaaa-b798a3c09aba"
   },
   "outputs": [
    {
     "data": {
      "text/plain": [
       "[('girls', 0.6908110976219177),\n",
       " ('boys', 0.6055022478103638),\n",
       " ('boy', 0.5850904583930969),\n",
       " ('teenage', 0.5735770463943481),\n",
       " ('teenagers', 0.5600976943969727),\n",
       " ('teenager', 0.5530085563659668),\n",
       " ('teen', 0.5423318147659302),\n",
       " ('children', 0.5312656164169312),\n",
       " ('woman', 0.5233089327812195),\n",
       " ('babies', 0.516354501247406)]"
      ]
     },
     "execution_count": 18,
     "metadata": {
      "tags": []
     },
     "output_type": "execute_result"
    }
   ],
   "source": [
    "wv.most_similar(negative=['cat'], positive=['cats', 'girl'])"
   ]
  },
  {
   "cell_type": "markdown",
   "metadata": {
    "id": "3fsH7_DEh8Zt"
   },
   "source": [
    "Compare against a baseline. What if we would just have retrieved the most similar words to '*girl*'?"
   ]
  },
  {
   "cell_type": "code",
   "execution_count": null,
   "metadata": {
    "colab": {
     "base_uri": "https://localhost:8080/"
    },
    "id": "jQMkO1UW6cR1",
    "outputId": "f52f9c8c-3499-4ed7-cd6e-0d8c96c084c1"
   },
   "outputs": [
    {
     "name": "stdout",
     "output_type": "stream",
     "text": [
      "[('boy', 0.8272891044616699), ('woman', 0.729641854763031), ('girls', 0.7227291464805603), ('teenager', 0.650977373123169), ('teenage', 0.6492719650268555)]\n"
     ]
    }
   ],
   "source": [
    "print(wv.most_similar(positive=['girl'], topn=5))"
   ]
  },
  {
   "cell_type": "markdown",
   "metadata": {
    "id": "PdTPXa2M8svY"
   },
   "source": [
    "**Question**: Try a few of your own analogies, do you get the expected answer?"
   ]
  },
  {
   "cell_type": "markdown",
   "metadata": {
    "id": "8z_2LyUAiHm8"
   },
   "source": [
    "# Visualization"
   ]
  },
  {
   "cell_type": "markdown",
   "metadata": {
    "id": "gDnfe0x_9izp"
   },
   "source": [
    "We can't visualize embeddings in their raw format, because of their\n",
    "high dimensionality. However, we can use dimensionality reduction\n",
    "techniques such as PCA to project them onto a 2D space."
   ]
  },
  {
   "cell_type": "code",
   "execution_count": null,
   "metadata": {
    "id": "2ikcukvb8r8w"
   },
   "outputs": [],
   "source": [
    "def display_scatterplot(wv, words=None, sample=0):\n",
    "        \n",
    "    # first get the word vectors\n",
    "    word_vectors = np.array([wv[w] for w in words])\n",
    "\n",
    "    # transform the data using PCA\n",
    "    wv_PCA = PCA().fit_transform(word_vectors)[:,:2]\n",
    "    \n",
    "    plt.figure(figsize=(10,10))\n",
    "\n",
    "    plt.scatter(wv_PCA[:,0], wv_PCA[:,1], \n",
    "                edgecolors='k', c='r')\n",
    "    \n",
    "    for word, (x,y) in zip(words, wv_PCA):\n",
    "        plt.text(x+0.05, y+0.05, word)\n",
    "\n"
   ]
  },
  {
   "cell_type": "code",
   "execution_count": null,
   "metadata": {
    "colab": {
     "base_uri": "https://localhost:8080/",
     "height": 592
    },
    "id": "XvtM5ZmS8vGc",
    "outputId": "30359c62-a54b-42c5-a5f0-fbd43324dd3d"
   },
   "outputs": [
    {
     "data": {
      "image/png": "[encoded data removed]",
      "text/plain": [
       "<Figure size 720x720 with 1 Axes>"
      ]
     },
     "metadata": {
      "needs_background": "light",
      "tags": []
     },
     "output_type": "display_data"
    }
   ],
   "source": [
    "display_scatterplot(wv, \n",
    "                        ['dog', 'cat', 'dogs', 'cats', 'horse', 'tiger',\n",
    "                         'university', 'lesson', 'student', 'students',\n",
    "                         'netherlands', 'amsterdam', 'utrecht', 'belgium', 'spain', 'china',\n",
    "                         'coffee', 'tea', 'pizza', 'sushi', 'sandwich',\n",
    "                         'car', 'train', 'bike', 'bicycle', 'trains'])\n"
   ]
  },
  {
   "cell_type": "markdown",
   "metadata": {
    "id": "BOVm0bj8AKtY"
   },
   "source": [
    "**Question**: What do you notice in this plot? Do the distances between the words make sense? Any surprises? Feel free to add your own words!"
   ]
  },
  {
   "cell_type": "markdown",
   "metadata": {
    "id": "viKrIg1LAlnW"
   },
   "source": [
    "# Biases"
   ]
  },
  {
   "cell_type": "code",
   "execution_count": null,
   "metadata": {
    "colab": {
     "base_uri": "https://localhost:8080/",
     "height": 592
    },
    "id": "fnRePDN4C_gW",
    "outputId": "238602bd-fb18-4607-ae27-7719e0e002f7"
   },
   "outputs": [
    {
     "data": {
      "image/png": "[encoded data removed]",
      "text/plain": [
       "<Figure size 720x720 with 1 Axes>"
      ]
     },
     "metadata": {
      "needs_background": "light",
      "tags": []
     },
     "output_type": "display_data"
    }
   ],
   "source": [
    "display_scatterplot(wv, \n",
    "                        ['he', 'she', 'sister', \n",
    "                         'brother', 'man', 'woman',\n",
    "                         'nurse', 'doctor', \n",
    "                         'grandfather', 'grandmother',\n",
    "                         'math', 'arts',\n",
    "                         'daughter', 'son'])"
   ]
  },
  {
   "cell_type": "code",
   "execution_count": null,
   "metadata": {
    "id": "Hj6fxpKrLI_5"
   },
   "outputs": [],
   "source": [
    "def calc_avg_similiarity(wv, attribute_words, target_word):\n",
    "    score = 0\n",
    "\n",
    "    for attribute_word in attribute_words:\n",
    "            score += wv.similarity(attribute_word, target_word)\n",
    "\n",
    "    return score/len(attribute_words)"
   ]
  },
  {
   "cell_type": "code",
   "execution_count": null,
   "metadata": {
    "id": "HjF7BVVmLvG_"
   },
   "outputs": [],
   "source": [
    "# set of attribute words\n",
    "attribute_words_m = ['male', 'man', 'boy', 'brother', 'he', 'him', 'his', 'son']\n",
    "attribute_words_f = ['female', 'woman', 'girl', 'sister', 'she', \n",
    "                     'her', 'hers', 'daughter']"
   ]
  },
  {
   "cell_type": "markdown",
   "metadata": {
    "id": "m02uJ_taNhbk"
   },
   "source": [
    "Is *math* more associated with male or female words?\n",
    "\n",
    "Compute the average cosine similarity between the target word\n",
    "and the set of attribute words."
   ]
  },
  {
   "cell_type": "code",
   "execution_count": null,
   "metadata": {
    "colab": {
     "base_uri": "https://localhost:8080/"
    },
    "id": "uf68iaWsNnSE",
    "outputId": "b4fe5579-9e0a-4125-eec5-41d803fa6be2"
   },
   "outputs": [
    {
     "name": "stdout",
     "output_type": "stream",
     "text": [
      "Avg. similarity with male words: 0.118\n",
      "Avg. similarity with female words: 0.105\n"
     ]
    }
   ],
   "source": [
    "print(\"Avg. similarity with male words: %.3f\" % \n",
    "      calc_avg_similiarity(wv, attribute_words_m, 'math'))\n",
    "print(\"Avg. similarity with female words: %.3f\" % \n",
    "      calc_avg_similiarity(wv, attribute_words_f, 'math'))"
   ]
  },
  {
   "cell_type": "markdown",
   "metadata": {
    "id": "hLBpdjSON1UW"
   },
   "source": [
    "What about *poetry*?"
   ]
  },
  {
   "cell_type": "code",
   "execution_count": null,
   "metadata": {
    "colab": {
     "base_uri": "https://localhost:8080/"
    },
    "id": "IDLboUoKN3Nz",
    "outputId": "431a17dc-2f3d-4703-d133-231749d42bf5"
   },
   "outputs": [
    {
     "name": "stdout",
     "output_type": "stream",
     "text": [
      "Avg. similarity with male words: 0.166\n",
      "Avg. similarity with female words: 0.185\n"
     ]
    }
   ],
   "source": [
    "print(\"Avg. similarity with male words: %.3f\" % \n",
    "      calc_avg_similiarity(wv, attribute_words_m, 'poetry'))\n",
    "print(\"Avg. similarity with female words: %.3f\" % \n",
    "      calc_avg_similiarity(wv, attribute_words_f, 'poetry'))"
   ]
  },
  {
   "cell_type": "markdown",
   "metadata": {
    "id": "Fof7yee6KNz4"
   },
   "source": [
    "#Next"
   ]
  },
  {
   "cell_type": "markdown",
   "metadata": {
    "id": "eYkoAJXvKb4U"
   },
   "source": [
    "Repeat this analysis but now with the GloVe model trained on Twitter data, \n",
    "e.g. `glove-twitter-50`.\n",
    "\n",
    "* Which model obtains better performance on the word similarity task? (WordSim353?)\n",
    "* What other differences do you observe? (e.g. think of the vocabulary, biases, etc.)"
   ]
  },
  {
   "cell_type": "markdown",
   "metadata": {
    "id": "lg5NPxBoOtia"
   },
   "source": [
    "# FastText"
   ]
  },
  {
   "cell_type": "markdown",
   "metadata": {
    "id": "BKg2ssDeRi93"
   },
   "source": [
    "(only if you have time, this can take a while (11 min?))"
   ]
  },
  {
   "cell_type": "markdown",
   "metadata": {
    "id": "wiQ9AbR6RmFc"
   },
   "source": [
    "Load in a fastText model"
   ]
  },
  {
   "cell_type": "code",
   "execution_count": null,
   "metadata": {
    "colab": {
     "base_uri": "https://localhost:8080/"
    },
    "id": "k0OSH3WpOute",
    "outputId": "8a313d0d-4cbb-4cf2-a38b-381280586cca"
   },
   "outputs": [
    {
     "name": "stdout",
     "output_type": "stream",
     "text": [
      "[==================================================] 100.0% 958.5/958.4MB downloaded\n"
     ]
    }
   ],
   "source": [
    "wv_f = api.load('fasttext-wiki-news-subwords-300')"
   ]
  },
  {
   "cell_type": "markdown",
   "metadata": {
    "id": "tL4pC2stRuNE"
   },
   "source": [
    "Usage is very similar to before. For example, we can calulcate the similarity\n",
    "between two words"
   ]
  },
  {
   "cell_type": "code",
   "execution_count": null,
   "metadata": {
    "colab": {
     "base_uri": "https://localhost:8080/"
    },
    "id": "uk9XLUNRO5pE",
    "outputId": "b3d08723-0dd0-4be3-cf36-d89896a03199"
   },
   "outputs": [
    {
     "name": "stdout",
     "output_type": "stream",
     "text": [
      "0.8457405\n"
     ]
    }
   ],
   "source": [
    "print(wv_f.similarity(\"dog\", \"dogs\"))"
   ]
  },
  {
   "cell_type": "markdown",
   "metadata": {
    "id": "vvADpGHIR2GB"
   },
   "source": [
    "**Question** How does this compare to the similarity scores you obtained\n",
    "with the other models you tried?"
   ]
  }
 ],
 "metadata": {
  "colab": {
   "collapsed_sections": [],
   "name": "word_embeddings_summerschool.ipynb",
   "provenance": []
  },
  "kernelspec": {
   "display_name": "Python 3",
   "language": "python",
   "name": "python3"
  },
  "language_info": {
   "codemirror_mode": {
    "name": "ipython",
    "version": 3
   },
   "file_extension": ".py",
   "mimetype": "text/x-python",
   "name": "python",
   "nbconvert_exporter": "python",
   "pygments_lexer": "ipython3",
   "version": "3.7.4"
  }
 },
 "nbformat": 4,
 "nbformat_minor": 1
}
