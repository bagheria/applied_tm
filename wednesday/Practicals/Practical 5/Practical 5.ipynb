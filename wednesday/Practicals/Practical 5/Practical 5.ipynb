{
 "cells": [
  {
   "cell_type": "markdown",
   "metadata": {
    "id": "VDOxt4QgAgv1"
   },
   "source": [
    "# Word Embeddings \n",
    "#### Dong Nguyen\n",
    "<img src=\"img/uu_logo.png\" alt=\"logo\" align=\"right\" title=\"UU\" width=\"50\" height=\"20\" />\n",
    "\n",
    "#### Applied Text Mining 2023 - Utrecht Summer School"
   ]
  },
  {
   "cell_type": "markdown",
   "metadata": {
    "id": "dELWpyou789C"
   },
   "source": [
    "# Installation\n",
    "\n",
    "If you're using Google Colab, then you should be able to run these commands directly. Otherwise, make sure you have `sklearn`, `matplotlib` and `numpy` installed."
   ]
  },
  {
   "cell_type": "code",
   "execution_count": 1,
   "metadata": {
    "id": "hX_spMIk9BQF"
   },
   "outputs": [],
   "source": [
    "%matplotlib inline\n",
    "import matplotlib.pyplot as plt\n",
    "import numpy as np\n",
    "\n",
    "from sklearn.decomposition import PCA\n",
    "from numpy import linalg as LA"
   ]
  },
  {
   "cell_type": "markdown",
   "metadata": {
    "id": "jgw0Ld6kv9Ku"
   },
   "source": [
    "# First install the gensim library"
   ]
  },
  {
   "cell_type": "markdown",
   "metadata": {
    "id": "G0tEUKDfxJ5Y"
   },
   "source": [
    "In this practical session we're going to use the [gensim](https://radimrehurek.com/gensim/) library. This library offers a variety of methods to read\n",
    "in pre-trained word embeddings as well as train your own.\n",
    "\n",
    "The website contains a lot of documentation, for example here: https://radimrehurek.com/gensim/auto_examples/index.html#documentation\n",
    "\n",
    "If gensim isn't installed yet, you can use the following command:\n"
   ]
  },
  {
   "cell_type": "code",
   "execution_count": 2,
   "metadata": {
    "id": "jUHdt_DtvrA3"
   },
   "outputs": [],
   "source": [
    "#!pip install gensim"
   ]
  },
  {
   "cell_type": "code",
   "execution_count": 3,
   "metadata": {
    "id": "zfk4o1Cebn-J"
   },
   "outputs": [],
   "source": [
    "from gensim.test.utils import datapath"
   ]
  },
  {
   "cell_type": "markdown",
   "metadata": {
    "id": "nKUfWy0nwG0U"
   },
   "source": [
    "# Reading in a pre-trained model"
   ]
  },
  {
   "cell_type": "markdown",
   "metadata": {
    "id": "79Mb6_c9wwvt"
   },
   "source": [
    "First we load in a pre-trained GloVe model. Note: this can take around five minutes.\n",
    "\n",
    "See https://github.com/RaRe-Technologies/gensim-data for an overview of the models you can try. For example\n",
    "\n",
    "*   word2vec-google-news-300: word2vec trained on Google news. 1662 MB.\n",
    "*   glove-twitter-200: trained on Twitter: 758 MB\n",
    "\n",
    "We're going to start with `glove-wiki-gigaword-300` (376.1MB).\n",
    "These embeddings are trained on Wikipedia (2014)\n",
    "and the Gigaword corpus, a large collection of newswire text."
   ]
  },
  {
   "cell_type": "code",
   "execution_count": 4,
   "metadata": {
    "colab": {
     "base_uri": "https://localhost:8080/"
    },
    "id": "xs4LeLkav_xy",
    "outputId": "e90260c7-6614-4f6b-e507-03baae0cab05"
   },
   "outputs": [],
   "source": [
    "import gensim.downloader as api\n",
    "wv = api.load('glove-wiki-gigaword-300')"
   ]
  },
  {
   "cell_type": "markdown",
   "metadata": {
    "id": "91pmPOTX4bmE"
   },
   "source": [
    "# Exploring the vocabulary"
   ]
  },
  {
   "cell_type": "markdown",
   "metadata": {
    "id": "luAJI20EZfVM"
   },
   "source": [
    "How many words does the vocabulary contain?"
   ]
  },
  {
   "cell_type": "code",
   "execution_count": 5,
   "metadata": {
    "colab": {
     "base_uri": "https://localhost:8080/"
    },
    "id": "MEcQDdt8ZXN4",
    "outputId": "34e8f671-a322-4248-e65d-4385e8fff801"
   },
   "outputs": [
    {
     "data": {
      "text/plain": [
       "400000"
      ]
     },
     "execution_count": 5,
     "metadata": {},
     "output_type": "execute_result"
    }
   ],
   "source": [
    "len(wv)"
   ]
  },
  {
   "cell_type": "markdown",
   "metadata": {
    "id": "HCYQx2rzamAe"
   },
   "source": [
    "Is '*utrecht*' in the vocabulary?"
   ]
  },
  {
   "cell_type": "code",
   "execution_count": 6,
   "metadata": {
    "colab": {
     "base_uri": "https://localhost:8080/"
    },
    "id": "Fge3MyBvaViM",
    "outputId": "45811039-7108-4cb3-c1a4-770144a03b56"
   },
   "outputs": [
    {
     "data": {
      "text/plain": [
       "True"
      ]
     },
     "execution_count": 6,
     "metadata": {},
     "output_type": "execute_result"
    }
   ],
   "source": [
    "'utrecht' in wv"
   ]
  },
  {
   "cell_type": "markdown",
   "metadata": {
    "id": "qWqjHy7JaCAq"
   },
   "source": [
    "Print a word embedding."
   ]
  },
  {
   "cell_type": "code",
   "execution_count": 7,
   "metadata": {
    "id": "Y7IVbexSZ3oc"
   },
   "outputs": [
    {
     "data": {
      "text/plain": [
       "array([ 1.7246e-01, -9.2534e-02,  1.6428e-01,  5.6065e-01,  2.8004e-01,\n",
       "       -1.5202e-02,  2.7825e-01, -6.5038e-01,  6.6932e-03,  1.0561e-01,\n",
       "        7.0731e-01,  3.0788e-02,  1.6741e-02, -5.1297e-02,  3.9779e-02,\n",
       "        5.6926e-01, -2.2903e-01,  3.7331e-01,  3.4440e-01,  2.1143e-01,\n",
       "        1.9787e-01, -2.5727e-01,  2.0160e-01, -2.5648e-02, -4.7996e-01,\n",
       "       -1.4263e-02, -5.5923e-01,  1.0823e-01, -9.0213e-01,  1.9254e-01,\n",
       "        4.6962e-01, -4.2952e-01,  8.1015e-01,  1.1222e+00,  2.8237e-01,\n",
       "       -6.0666e-01,  2.8948e-01,  3.1003e-01, -4.3745e-01, -1.0235e-01,\n",
       "        3.1119e-01, -3.2637e-02, -5.5157e-01, -5.0208e-01,  4.2994e-01,\n",
       "        3.2319e-01,  4.6997e-01,  7.5685e-02, -3.1806e-02,  3.5623e-01,\n",
       "        5.9764e-02,  2.4482e-01,  1.0263e-03,  4.6040e-01,  1.5376e-01,\n",
       "       -2.7841e-01,  2.6469e-02, -1.0785e-01, -4.5553e-01,  2.3964e-01,\n",
       "       -4.4707e-01,  1.1521e-01,  2.1919e-01,  4.9167e-01,  3.4367e-01,\n",
       "       -1.2389e-01,  3.1069e-01,  3.7095e-01,  3.8991e-04, -4.6645e-01,\n",
       "        8.0286e-02,  1.8450e-01,  1.7059e-01, -4.2067e-01, -4.6711e-01,\n",
       "        6.6363e-01, -1.6728e-01, -1.2503e-01,  1.9912e-01, -8.2380e-02,\n",
       "       -1.6341e-01, -3.6798e-01, -1.2205e-01, -5.8729e-02, -6.8966e-01,\n",
       "       -6.4324e-01,  3.2243e-01,  1.3532e-01, -6.3114e-01,  3.8847e-01,\n",
       "        1.9127e-02, -9.1993e-01, -5.7550e-02, -4.5361e-01,  3.2246e-01,\n",
       "       -2.3290e-01,  3.6797e-01, -5.0768e-01, -6.1523e-01, -2.7449e-02,\n",
       "        9.9997e-02, -8.7165e-01,  7.3179e-01,  2.0256e-01, -9.5692e-02,\n",
       "       -1.4106e-02,  3.4639e-01,  6.0384e-01, -2.1368e-01,  4.5634e-01,\n",
       "        3.0276e-01, -2.1606e-01, -5.1111e-02, -8.0779e-02,  5.8191e-02,\n",
       "       -3.4681e-01,  1.4722e-01, -9.8759e-02, -2.3481e-01, -8.1633e-02,\n",
       "       -5.1594e-01, -2.9282e-01,  1.0665e-01, -3.3598e-02,  3.9112e-02,\n",
       "        6.1789e-02, -2.7619e-03,  1.8009e-01,  1.1321e-01,  1.2848e-01,\n",
       "        5.7384e-01,  2.0626e-01, -1.1215e-02,  5.8909e-01,  8.3938e-01,\n",
       "       -2.5339e-01,  4.7566e-01, -5.3437e-01,  7.6082e-02,  1.8165e-01,\n",
       "        5.7592e-01,  1.6382e-01, -2.9846e-02, -2.5505e-01,  2.9101e-01,\n",
       "       -2.4089e-01,  1.1434e-01,  3.5274e-01, -4.2624e-01,  2.4286e-02,\n",
       "        4.4413e-02, -4.6485e-02,  1.9847e-01,  7.0653e-01, -1.7389e-02,\n",
       "        9.8610e-01, -2.3929e-01,  8.0001e-01, -3.6342e-01,  1.1249e-01,\n",
       "       -3.0034e-01,  9.2404e-02, -2.5635e-01, -1.9328e-01, -1.2457e-01,\n",
       "        2.5057e-01, -4.5034e-01, -1.0178e-01,  2.4003e-01, -2.0324e-01,\n",
       "        3.9938e-02, -1.2958e-01, -3.9431e-01, -2.4845e-01, -4.1129e-03,\n",
       "       -3.4170e-03,  3.8176e-01,  2.1570e-01, -7.4349e-01, -3.9406e-03,\n",
       "       -2.1713e-01, -3.9769e-01, -2.8074e-01, -1.7159e-01,  8.7543e-01,\n",
       "       -4.8529e-01, -7.8966e-01, -1.9181e-01,  1.2654e-02,  2.7394e-01,\n",
       "        4.7824e-01, -1.3372e-01,  6.9161e-01, -2.8090e-01,  1.7082e-01,\n",
       "       -6.2932e-01, -7.0490e-01, -1.6360e-01,  3.1653e-01,  3.1181e-01,\n",
       "       -2.5984e-01, -7.1512e-02, -3.5759e-01, -1.2873e-01, -1.0136e-01,\n",
       "       -8.4309e-01,  1.2680e-01,  2.1268e-01, -2.8869e-01,  9.0773e-02,\n",
       "       -2.5738e-01, -1.8303e-01, -1.2904e-01,  4.4565e-01, -5.8736e-01,\n",
       "        7.2059e-01, -3.3435e-01,  1.5862e-01, -9.1833e-02, -5.7568e-01,\n",
       "        3.3082e-01, -1.8949e-01, -4.1058e-01,  2.8824e-01, -3.7240e-01,\n",
       "       -3.2524e-01, -5.9380e-01, -1.9471e-01, -2.3064e-01,  5.9878e-02,\n",
       "       -4.2104e-03,  1.2105e-01,  4.9247e-01, -1.9579e-01, -1.0380e-01,\n",
       "       -2.4607e-01,  7.2958e-01,  1.6426e-02, -8.1131e-02, -3.9744e-02,\n",
       "       -2.0024e-01, -1.0811e-01,  5.1185e-01,  1.2625e-01, -1.0223e-01,\n",
       "        4.4235e-01, -5.3241e-01, -8.0116e-02,  5.3696e-01, -6.7007e-01,\n",
       "        1.0677e-01, -6.4972e-02,  2.8323e-01, -1.1779e-01, -2.0966e-01,\n",
       "        1.6076e-01,  7.3603e-01, -4.5484e-01, -4.4733e-01, -1.2544e-02,\n",
       "        3.2596e-01,  2.9868e-01,  7.2416e-01,  8.8062e-01,  6.8829e-01,\n",
       "        2.2420e-01, -5.9788e-01, -3.2725e-01,  2.0964e-01, -5.4107e-01,\n",
       "       -4.6910e-01, -7.1801e-01, -1.5257e-01,  1.1137e-01,  4.0723e-01,\n",
       "        3.6233e-01,  3.3883e-01, -6.8084e-01, -1.4319e-01,  8.5794e-01,\n",
       "       -4.4418e-01,  5.6938e-01, -1.9381e-01, -8.5069e-01, -2.1100e-01,\n",
       "        1.1303e-01, -3.8039e-01,  6.2520e-01, -4.8425e-02,  4.5813e-02,\n",
       "       -3.5546e-01,  1.8457e-01,  2.1444e-02, -2.9848e-01,  4.2873e-01,\n",
       "       -1.7749e-01,  5.0280e-01, -1.7376e-01,  4.2369e-01, -1.5048e-03],\n",
       "      dtype=float32)"
      ]
     },
     "execution_count": 7,
     "metadata": {},
     "output_type": "execute_result"
    }
   ],
   "source": [
    "wv[\"utrecht\"]"
   ]
  },
  {
   "cell_type": "markdown",
   "metadata": {
    "id": "0hYuk_2KaLO-"
   },
   "source": [
    "How many dimensions does this embedding have?"
   ]
  },
  {
   "cell_type": "code",
   "execution_count": 8,
   "metadata": {
    "colab": {
     "base_uri": "https://localhost:8080/"
    },
    "id": "oQ-O3oK_aJZd",
    "outputId": "9acb872d-c258-4805-af04-6fb445ca3f77"
   },
   "outputs": [
    {
     "data": {
      "text/plain": [
       "(300,)"
      ]
     },
     "execution_count": 8,
     "metadata": {},
     "output_type": "execute_result"
    }
   ],
   "source": [
    "wv[\"utrecht\"].shape"
   ]
  },
  {
   "cell_type": "markdown",
   "metadata": {
    "id": "02IVqpksawKL"
   },
   "source": [
    "**Question:** Explore the embeddings for a few other words. Can you find words that are *not* in the vocabulary?\n",
    "\n",
    "(For example, think of uncommon words, misspellings, new words, etc.)"
   ]
  },
  {
   "cell_type": "markdown",
   "metadata": {
    "id": "omCh8m2k1kMd"
   },
   "source": [
    "# Vector arithmethics"
   ]
  },
  {
   "cell_type": "markdown",
   "metadata": {
    "id": "OmIVSe-c1pOA"
   },
   "source": [
    "We can calculate the [cosine similarity](https://en.wikipedia.org/wiki/Cosine_similarity) between two words in this way:"
   ]
  },
  {
   "cell_type": "code",
   "execution_count": 9,
   "metadata": {
    "colab": {
     "base_uri": "https://localhost:8080/"
    },
    "id": "Z1vVWsuO1m9G",
    "outputId": "0353dd78-b328-47b8-afbb-8e6024961872"
   },
   "outputs": [
    {
     "data": {
      "text/plain": [
       "0.5970514"
      ]
     },
     "execution_count": 9,
     "metadata": {},
     "output_type": "execute_result"
    }
   ],
   "source": [
    "wv.similarity('university', 'student')"
   ]
  },
  {
   "cell_type": "markdown",
   "metadata": {
    "id": "CB1u026w1y4y"
   },
   "source": [
    "*Optional*: cosine similarity is the same as the dot product between the normalized word embeddings"
   ]
  },
  {
   "cell_type": "code",
   "execution_count": 10,
   "metadata": {
    "colab": {
     "base_uri": "https://localhost:8080/"
    },
    "id": "K-UHTcX229Qn",
    "outputId": "5c3dc2a9-8a5e-432a-a800-e61d382e51f9"
   },
   "outputs": [
    {
     "data": {
      "text/plain": [
       "0.5970514"
      ]
     },
     "execution_count": 10,
     "metadata": {},
     "output_type": "execute_result"
    }
   ],
   "source": [
    "wv_university_norm = wv['university']/ LA.norm(wv['university'], 2)\n",
    "wv_student_norm = wv['student'] / LA.norm(wv['student'], 2)\n",
    "\n",
    "wv_university_norm.dot(wv_student_norm)"
   ]
  },
  {
   "cell_type": "markdown",
   "metadata": {
    "id": "cfd3Gy5O30_U"
   },
   "source": [
    "A normalized embedding has a L2 norm (length) of 1"
   ]
  },
  {
   "cell_type": "code",
   "execution_count": 11,
   "metadata": {
    "colab": {
     "base_uri": "https://localhost:8080/"
    },
    "id": "6dr0qHc24B5D",
    "outputId": "76f96330-1d49-44b4-efa7-b93ada3e9088"
   },
   "outputs": [
    {
     "data": {
      "text/plain": [
       "1.0"
      ]
     },
     "execution_count": 11,
     "metadata": {},
     "output_type": "execute_result"
    }
   ],
   "source": [
    "LA.norm(wv_student_norm)"
   ]
  },
  {
   "cell_type": "markdown",
   "metadata": {
    "id": "Q2qWG2llbX6Q"
   },
   "source": [
    "# Similarity analysis"
   ]
  },
  {
   "cell_type": "markdown",
   "metadata": {
    "id": "jSFauHoA4xF9"
   },
   "source": [
    "Print the top 5 most similar words to car"
   ]
  },
  {
   "cell_type": "code",
   "execution_count": 12,
   "metadata": {
    "colab": {
     "base_uri": "https://localhost:8080/"
    },
    "id": "sXJQg10Z4ZrN",
    "outputId": "2ce2e48b-8cdb-4226-fcb3-28c96aa47eb3"
   },
   "outputs": [
    {
     "name": "stdout",
     "output_type": "stream",
     "text": [
      "[('cars', 0.7827162146568298), ('vehicle', 0.7655367851257324), ('truck', 0.7350621819496155), ('driver', 0.7114784717559814), ('driving', 0.6442225575447083)]\n"
     ]
    }
   ],
   "source": [
    "print(wv.most_similar(positive=['car'], topn=5))\n"
   ]
  },
  {
   "cell_type": "markdown",
   "metadata": {
    "id": "YljWEl6W44jN"
   },
   "source": [
    "**Question**: What are the top 5 most similar words to *cat*?  And to *king*? And to *fast*? What kind of words often appear in the top?"
   ]
  },
  {
   "cell_type": "markdown",
   "metadata": {
    "id": "bdh9RkVBDMMr"
   },
   "source": [
    "**Question**: Try out a few words that have changed in meaning the last few year."
   ]
  },
  {
   "cell_type": "markdown",
   "metadata": {
    "id": "SVBB1MoOczHp"
   },
   "source": [
    "Now calculate the similarities between two words"
   ]
  },
  {
   "cell_type": "code",
   "execution_count": 13,
   "metadata": {
    "colab": {
     "base_uri": "https://localhost:8080/"
    },
    "id": "GYdtGXBxcyh-",
    "outputId": "95e090a3-a016-42ff-df7b-a6492fa8a135"
   },
   "outputs": [
    {
     "data": {
      "text/plain": [
       "0.77922326"
      ]
     },
     "execution_count": 13,
     "metadata": {},
     "output_type": "execute_result"
    }
   ],
   "source": [
    "wv.similarity('buy', 'purchase')"
   ]
  },
  {
   "cell_type": "code",
   "execution_count": 14,
   "metadata": {
    "colab": {
     "base_uri": "https://localhost:8080/"
    },
    "id": "i5VVQhkbdMo3",
    "outputId": "0ef1ec19-42cf-4c7a-a143-51487ffa16e3"
   },
   "outputs": [
    {
     "data": {
      "text/plain": [
       "0.68167466"
      ]
     },
     "execution_count": 14,
     "metadata": {},
     "output_type": "execute_result"
    }
   ],
   "source": [
    "wv.similarity('cat', 'dog')"
   ]
  },
  {
   "cell_type": "code",
   "execution_count": 15,
   "metadata": {
    "colab": {
     "base_uri": "https://localhost:8080/"
    },
    "id": "GHpGmyCwdP_T",
    "outputId": "227f7855-81c6-468a-a2ef-3623f94d365f"
   },
   "outputs": [
    {
     "data": {
      "text/plain": [
       "0.25130013"
      ]
     },
     "execution_count": 15,
     "metadata": {},
     "output_type": "execute_result"
    }
   ],
   "source": [
    "wv.similarity('car', 'green')"
   ]
  },
  {
   "cell_type": "markdown",
   "metadata": {
    "id": "eTy98KEIdn1S"
   },
   "source": [
    "We can calculate the cosine similarity between a list of word pairs and correlate these with human ratings. One such dataset with human ratings is called WordSim353.\n",
    "\n",
    "**Goto** https://github.com/RaRe-Technologies/gensim/blob/develop/gensim/test/test_data/wordsim353.tsv to get a sense of the data.\n",
    "\n",
    "\n",
    "Gensim already implements a method to evaluate a word embedding model using this data.\n",
    "* It calculates the cosine similarity between each word pair\n",
    "* It calculates both the Spearman and Pearson correlation coefficient between the cosine similarities and human judgements\n",
    "\n",
    "See https://radimrehurek.com/gensim/models/keyedvectors.html for a description of the methods."
   ]
  },
  {
   "cell_type": "code",
   "execution_count": 16,
   "metadata": {
    "colab": {
     "base_uri": "https://localhost:8080/"
    },
    "id": "nS7w7qmKcUoh",
    "outputId": "c05e077f-1543-4d5c-eec0-15c0891926aa"
   },
   "outputs": [
    {
     "data": {
      "text/plain": [
       "((0.6040760940127656, 1.752303459427209e-36),\n",
       " SpearmanrResult(correlation=0.6085349998820805, pvalue=3.879629536780527e-37),\n",
       " 0.0)"
      ]
     },
     "execution_count": 16,
     "metadata": {},
     "output_type": "execute_result"
    }
   ],
   "source": [
    "wv.evaluate_word_pairs(datapath('wordsim353.tsv'))\n"
   ]
  },
  {
   "cell_type": "markdown",
   "metadata": {
    "id": "j3hbA_Pd5m2Y"
   },
   "source": [
    "# Analogies"
   ]
  },
  {
   "cell_type": "markdown",
   "metadata": {
    "id": "_wpOgoulf_mh"
   },
   "source": [
    "Man is to woman as king is to. ..?\n",
    "\n",
    "This can be converted into vector arithmethics:\n",
    "\n",
    "```\n",
    "king - ? = man - woman.\n",
    "\n",
    "king - man + woman = ?\n",
    "```"
   ]
  },
  {
   "cell_type": "code",
   "execution_count": 17,
   "metadata": {
    "colab": {
     "base_uri": "https://localhost:8080/"
    },
    "id": "4mt2zVCk5oh8",
    "outputId": "a2968fbd-c9bc-4dee-c5a4-c02ab4a02d46"
   },
   "outputs": [
    {
     "data": {
      "text/plain": [
       "[('queen', 0.6713277101516724),\n",
       " ('princess', 0.5432624816894531),\n",
       " ('throne', 0.5386103987693787),\n",
       " ('monarch', 0.5347574949264526),\n",
       " ('daughter', 0.49802514910697937),\n",
       " ('mother', 0.49564430117607117),\n",
       " ('elizabeth', 0.4832652509212494),\n",
       " ('kingdom', 0.47747090458869934),\n",
       " ('prince', 0.4668239951133728),\n",
       " ('wife', 0.46473270654678345)]"
      ]
     },
     "execution_count": 17,
     "metadata": {},
     "output_type": "execute_result"
    }
   ],
   "source": [
    " wv.most_similar(negative=['man'], positive=['king', 'woman'])"
   ]
  },
  {
   "cell_type": "markdown",
   "metadata": {
    "id": "-QpczXwlgUGW"
   },
   "source": [
    "france - paris + amsterdam = ?"
   ]
  },
  {
   "cell_type": "code",
   "execution_count": 18,
   "metadata": {
    "colab": {
     "base_uri": "https://localhost:8080/"
    },
    "id": "lhPaa4tc5tor",
    "outputId": "fe7447a7-62c2-4121-cd8f-799f1fa7fc6e"
   },
   "outputs": [
    {
     "data": {
      "text/plain": [
       "[('netherlands', 0.7304360866546631),\n",
       " ('dutch', 0.5829049944877625),\n",
       " ('belgium', 0.5607961416244507),\n",
       " ('holland', 0.5492807626724243),\n",
       " ('denmark', 0.5330449938774109),\n",
       " ('sweden', 0.4875030517578125),\n",
       " ('germany', 0.4710354804992676),\n",
       " ('utrecht', 0.46798408031463623),\n",
       " ('spain', 0.46100151538848877),\n",
       " ('rotterdam', 0.45599010586738586)]"
      ]
     },
     "execution_count": 18,
     "metadata": {},
     "output_type": "execute_result"
    }
   ],
   "source": [
    " wv.most_similar(negative=['paris'], positive=['france', 'amsterdam'])"
   ]
  },
  {
   "cell_type": "markdown",
   "metadata": {
    "id": "V_qTUAGjgbdP"
   },
   "source": [
    "Note that it we would just retrieve the most similar words to '*amsterdam*' we would receive a different result."
   ]
  },
  {
   "cell_type": "code",
   "execution_count": 19,
   "metadata": {
    "colab": {
     "base_uri": "https://localhost:8080/"
    },
    "id": "pDr8H4pp51ER",
    "outputId": "c6f8b58a-7576-44fb-e37f-de64e550d4a8"
   },
   "outputs": [
    {
     "name": "stdout",
     "output_type": "stream",
     "text": [
      "[('rotterdam', 0.6485881209373474), ('schiphol', 0.5740087032318115), ('utrecht', 0.5608800053596497), ('netherlands', 0.5472348928451538), ('frankfurt', 0.5457332730293274)]\n"
     ]
    }
   ],
   "source": [
    "print(wv.most_similar(positive=['amsterdam'], topn=5))"
   ]
  },
  {
   "cell_type": "markdown",
   "metadata": {
    "id": "plZLOUP2giIk"
   },
   "source": [
    "cat is to cats as girl is to ?\n",
    "\n",
    "```\n",
    "girl - ? = cat - cats\n",
    "girl - cat + cats = ?\n",
    "```"
   ]
  },
  {
   "cell_type": "code",
   "execution_count": 20,
   "metadata": {
    "colab": {
     "base_uri": "https://localhost:8080/"
    },
    "id": "b2maivUF6MjV",
    "outputId": "3017f8a1-8ced-4bb2-e1a5-133ae0a8ee26"
   },
   "outputs": [
    {
     "data": {
      "text/plain": [
       "[('girls', 0.6908110976219177),\n",
       " ('boys', 0.6055023074150085),\n",
       " ('boy', 0.5850904583930969),\n",
       " ('teenage', 0.5735769867897034),\n",
       " ('teenagers', 0.5600976943969727),\n",
       " ('teenager', 0.5530085563659668),\n",
       " ('teen', 0.5423317551612854),\n",
       " ('children', 0.5312655568122864),\n",
       " ('woman', 0.5233089327812195),\n",
       " ('babies', 0.5163544416427612)]"
      ]
     },
     "execution_count": 20,
     "metadata": {},
     "output_type": "execute_result"
    }
   ],
   "source": [
    "wv.most_similar(negative=['cat'], positive=['cats', 'girl'])"
   ]
  },
  {
   "cell_type": "markdown",
   "metadata": {
    "id": "3fsH7_DEh8Zt"
   },
   "source": [
    "Compare against a baseline. What if we would just have retrieved the most similar words to '*girl*'?"
   ]
  },
  {
   "cell_type": "code",
   "execution_count": 21,
   "metadata": {
    "colab": {
     "base_uri": "https://localhost:8080/"
    },
    "id": "jQMkO1UW6cR1",
    "outputId": "1e8dd064-a327-481c-b592-2b563dd2107e"
   },
   "outputs": [
    {
     "name": "stdout",
     "output_type": "stream",
     "text": [
      "[('boy', 0.8272891044616699), ('woman', 0.729641854763031), ('girls', 0.7227292060852051), ('teenager', 0.6509774327278137), ('teenage', 0.6492719054222107)]\n"
     ]
    }
   ],
   "source": [
    "print(wv.most_similar(positive=['girl'], topn=5))"
   ]
  },
  {
   "cell_type": "markdown",
   "metadata": {
    "id": "PdTPXa2M8svY"
   },
   "source": [
    "**Question**: Try a few of your own analogies, do you get the expected answer?"
   ]
  },
  {
   "cell_type": "markdown",
   "metadata": {
    "id": "8z_2LyUAiHm8"
   },
   "source": [
    "# Visualization"
   ]
  },
  {
   "cell_type": "markdown",
   "metadata": {
    "id": "gDnfe0x_9izp"
   },
   "source": [
    "We can't visualize embeddings in their raw format, because of their\n",
    "high dimensionality. However, we can use dimensionality reduction\n",
    "techniques such as PCA to project them onto a 2D space."
   ]
  },
  {
   "cell_type": "code",
   "execution_count": 22,
   "metadata": {
    "id": "2ikcukvb8r8w"
   },
   "outputs": [],
   "source": [
    "def display_scatterplot(wv, words=None, sample=0):\n",
    "\n",
    "    # first get the word vectors\n",
    "    word_vectors = np.array([wv[w] for w in words])\n",
    "\n",
    "    # transform the data using PCA\n",
    "    wv_PCA = PCA().fit_transform(word_vectors)[:,:2]\n",
    "\n",
    "    plt.figure(figsize=(10,10))\n",
    "\n",
    "    plt.scatter(wv_PCA[:,0], wv_PCA[:,1],\n",
    "                edgecolors='k', c='r')\n",
    "\n",
    "    for word, (x,y) in zip(words, wv_PCA):\n",
    "        plt.text(x+0.05, y+0.05, word)\n",
    "\n"
   ]
  },
  {
   "cell_type": "code",
   "execution_count": 23,
   "metadata": {
    "colab": {
     "base_uri": "https://localhost:8080/",
     "height": 830
    },
    "id": "XvtM5ZmS8vGc",
    "outputId": "7112f11a-7a02-4100-caa5-8ff9fdbf9aa4"
   },
   "outputs": [
    {
     "data": {
      "image/png": "[encoded data removed]",
      "text/plain": [
       "<Figure size 720x720 with 1 Axes>"
      ]
     },
     "metadata": {
      "needs_background": "light"
     },
     "output_type": "display_data"
    }
   ],
   "source": [
    "display_scatterplot(wv,\n",
    "                        ['dog', 'cat', 'dogs', 'cats', 'horse', 'tiger',\n",
    "                         'university', 'lesson', 'student', 'students',\n",
    "                         'netherlands', 'amsterdam', 'utrecht', 'belgium', 'spain', 'china',\n",
    "                         'coffee', 'tea', 'pizza', 'sushi', 'sandwich',\n",
    "                         'car', 'train', 'bike', 'bicycle', 'trains'])\n"
   ]
  },
  {
   "cell_type": "markdown",
   "metadata": {
    "id": "BOVm0bj8AKtY"
   },
   "source": [
    "**Question**: What do you notice in this plot? Do the distances between the words make sense? Any surprises? Feel free to add your own words!"
   ]
  },
  {
   "cell_type": "markdown",
   "metadata": {
    "id": "viKrIg1LAlnW"
   },
   "source": [
    "# Biases"
   ]
  },
  {
   "cell_type": "code",
   "execution_count": 24,
   "metadata": {
    "colab": {
     "base_uri": "https://localhost:8080/",
     "height": 830
    },
    "id": "fnRePDN4C_gW",
    "outputId": "cc60eaef-f9cb-4e5c-ee75-04b39d55d244"
   },
   "outputs": [
    {
     "data": {
      "image/png": "[encoded data removed]",
      "text/plain": [
       "<Figure size 720x720 with 1 Axes>"
      ]
     },
     "metadata": {
      "needs_background": "light"
     },
     "output_type": "display_data"
    }
   ],
   "source": [
    "display_scatterplot(wv,\n",
    "                        ['he', 'she', 'sister',\n",
    "                         'brother', 'man', 'woman',\n",
    "                         'nurse', 'doctor',\n",
    "                         'grandfather', 'grandmother',\n",
    "                         'math', 'arts',\n",
    "                         'daughter', 'son'])"
   ]
  },
  {
   "cell_type": "code",
   "execution_count": 25,
   "metadata": {
    "id": "Hj6fxpKrLI_5"
   },
   "outputs": [],
   "source": [
    "def calc_avg_similiarity(wv, attribute_words, target_word):\n",
    "    score = 0\n",
    "\n",
    "    for attribute_word in attribute_words:\n",
    "            score += wv.similarity(attribute_word, target_word)\n",
    "\n",
    "    return score/len(attribute_words)"
   ]
  },
  {
   "cell_type": "code",
   "execution_count": 26,
   "metadata": {
    "id": "HjF7BVVmLvG_"
   },
   "outputs": [],
   "source": [
    "# set of attribute words\n",
    "attribute_words_m = ['male', 'man', 'boy', 'brother', 'he', 'him', 'his', 'son']\n",
    "attribute_words_f = ['female', 'woman', 'girl', 'sister', 'she',\n",
    "                     'her', 'hers', 'daughter']"
   ]
  },
  {
   "cell_type": "markdown",
   "metadata": {
    "id": "m02uJ_taNhbk"
   },
   "source": [
    "Is *math* more associated with male or female words?\n",
    "\n",
    "Compute the average cosine similarity between the target word\n",
    "and the set of attribute words."
   ]
  },
  {
   "cell_type": "code",
   "execution_count": 27,
   "metadata": {
    "colab": {
     "base_uri": "https://localhost:8080/"
    },
    "id": "uf68iaWsNnSE",
    "outputId": "4657e82b-a0f3-42ed-84fd-be3ded032fa9"
   },
   "outputs": [
    {
     "name": "stdout",
     "output_type": "stream",
     "text": [
      "Avg. similarity with male words: 0.118\n",
      "Avg. similarity with female words: 0.105\n"
     ]
    }
   ],
   "source": [
    "print(\"Avg. similarity with male words: %.3f\" %\n",
    "      calc_avg_similiarity(wv, attribute_words_m, 'math'))\n",
    "print(\"Avg. similarity with female words: %.3f\" %\n",
    "      calc_avg_similiarity(wv, attribute_words_f, 'math'))"
   ]
  },
  {
   "cell_type": "markdown",
   "metadata": {
    "id": "hLBpdjSON1UW"
   },
   "source": [
    "What about *poetry*?"
   ]
  },
  {
   "cell_type": "code",
   "execution_count": 28,
   "metadata": {
    "colab": {
     "base_uri": "https://localhost:8080/"
    },
    "id": "IDLboUoKN3Nz",
    "outputId": "c606fa66-e9d7-4e12-adef-851cfa84c844"
   },
   "outputs": [
    {
     "name": "stdout",
     "output_type": "stream",
     "text": [
      "Avg. similarity with male words: 0.166\n",
      "Avg. similarity with female words: 0.185\n"
     ]
    }
   ],
   "source": [
    "print(\"Avg. similarity with male words: %.3f\" %\n",
    "      calc_avg_similiarity(wv, attribute_words_m, 'poetry'))\n",
    "print(\"Avg. similarity with female words: %.3f\" %\n",
    "      calc_avg_similiarity(wv, attribute_words_f, 'poetry'))"
   ]
  },
  {
   "cell_type": "markdown",
   "metadata": {
    "id": "Fof7yee6KNz4"
   },
   "source": [
    "#Next"
   ]
  },
  {
   "cell_type": "markdown",
   "metadata": {
    "id": "eYkoAJXvKb4U"
   },
   "source": [
    "Repeat this analysis but now with the GloVe model trained on Twitter data,\n",
    "e.g. `glove-twitter-50`.\n",
    "\n",
    "* Which model obtains better performance on the word similarity task? (WordSim353?)\n",
    "* What other differences do you observe? (e.g. think of the vocabulary, biases, etc.)"
   ]
  },
  {
   "cell_type": "markdown",
   "metadata": {
    "id": "lg5NPxBoOtia"
   },
   "source": [
    "# FastText"
   ]
  },
  {
   "cell_type": "markdown",
   "metadata": {
    "id": "BKg2ssDeRi93"
   },
   "source": [
    "(only if you have time, this can take a while (11 min?))"
   ]
  },
  {
   "cell_type": "markdown",
   "metadata": {
    "id": "wiQ9AbR6RmFc"
   },
   "source": [
    "Load in a fastText model"
   ]
  },
  {
   "cell_type": "code",
   "execution_count": 29,
   "metadata": {
    "colab": {
     "base_uri": "https://localhost:8080/"
    },
    "id": "k0OSH3WpOute",
    "outputId": "8a313d0d-4cbb-4cf2-a38b-381280586cca"
   },
   "outputs": [],
   "source": [
    "wv_f = api.load('fasttext-wiki-news-subwords-300')"
   ]
  },
  {
   "cell_type": "markdown",
   "metadata": {
    "id": "tL4pC2stRuNE"
   },
   "source": [
    "Usage is very similar to before. For example, we can calulcate the similarity\n",
    "between two words"
   ]
  },
  {
   "cell_type": "code",
   "execution_count": 30,
   "metadata": {
    "colab": {
     "base_uri": "https://localhost:8080/"
    },
    "id": "uk9XLUNRO5pE",
    "outputId": "b3d08723-0dd0-4be3-cf36-d89896a03199"
   },
   "outputs": [
    {
     "name": "stdout",
     "output_type": "stream",
     "text": [
      "0.8457405\n"
     ]
    }
   ],
   "source": [
    "print(wv_f.similarity(\"dog\", \"dogs\"))"
   ]
  },
  {
   "cell_type": "markdown",
   "metadata": {
    "id": "vvADpGHIR2GB"
   },
   "source": [
    "**Question** How does this compare to the similarity scores you obtained\n",
    "with the other models you tried?"
   ]
  }
 ],
 "metadata": {
  "colab": {
   "provenance": []
  },
  "kernelspec": {
   "display_name": "Python 3 (ipykernel)",
   "language": "python",
   "name": "python3"
  },
  "language_info": {
   "codemirror_mode": {
    "name": "ipython",
    "version": 3
   },
   "file_extension": ".py",
   "mimetype": "text/x-python",
   "name": "python",
   "nbconvert_exporter": "python",
   "pygments_lexer": "ipython3",
   "version": "3.9.10"
  }
 },
 "nbformat": 4,
 "nbformat_minor": 1
}
