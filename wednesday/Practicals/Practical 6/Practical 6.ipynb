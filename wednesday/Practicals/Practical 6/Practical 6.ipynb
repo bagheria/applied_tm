{
  "cells": [
    {
      "cell_type": "markdown",
      "metadata": {
        "id": "qw-nOs7K7BtQ"
      },
      "source": [
        "# Practical 6: Deep Learning for Multiclass Text Classification\n",
        "#### Ayoub Bagheri\n",
        "<img src=\"img/uu_logo.png\" alt=\"logo\" align=\"right\" title=\"UU\" width=\"50\" height=\"20\" />\n",
        "\n",
        "#### Applied Text Mining - Utrecht Summer School"
      ]
    },
    {
      "cell_type": "markdown",
      "metadata": {
        "id": "mdGWs-9Z7BtT"
      },
      "source": [
        "In this practical, we will apply various deep learning models for multiclass text classification. We will work with the famous 20 Newsgroups dataset from the `sklearn` library and apply deep learning models using the `keras` library.\n",
        "\n",
        "The 20 Newsgroups data set is a collection of approximately 20,000 newsgroup documents, partitioned (nearly) evenly across 20 different newsgroups. It was originally collected by Ken Lang, and it has become a popular data set for experiments in text applications of machine learning techniques.\n",
        "\n",
        "Also, we will use the `keras` library, which is a deep learning and neural networks API by François Chollet's team capable of running on top of Tensorflow (Google), Theano or CNTK (Microsoft)."
      ]
    },
    {
      "cell_type": "markdown",
      "metadata": {
        "id": "ZnM7UAKh7BtT"
      },
      "source": [
        "Today we will use the following libraries. Take care to have them installed!"
      ]
    },
    {
      "cell_type": "code",
      "execution_count": null,
      "metadata": {
        "id": "MZr3d7EM7BtU"
      },
      "outputs": [],
      "source": [
        "from sklearn.feature_extraction.text import TfidfVectorizer\n",
        "from sklearn.model_selection import RandomizedSearchCV\n",
        "from sklearn.datasets import fetch_20newsgroups\n",
        "from sklearn.preprocessing import LabelEncoder\n",
        "\n",
        "from keras.wrappers.scikit_learn import KerasClassifier\n",
        "from keras.utils import pad_sequences\n",
        "from keras.preprocessing.text import Tokenizer\n",
        "from keras.models import Sequential\n",
        "from keras import layers, utils\n",
        "\n",
        "import matplotlib.pyplot as plt\n",
        "import pandas as pd\n",
        "import numpy as np"
      ]
    },
    {
      "cell_type": "markdown",
      "metadata": {
        "id": "yL-8UbJ97BtU"
      },
      "source": [
        "### Let's get started!"
      ]
    },
    {
      "attachments": {},
      "cell_type": "markdown",
      "metadata": {
        "id": "Ng1HxqXS7BtU"
      },
      "source": [
        "1\\. **Load the train and test subsets of the 20 Newsgroups data set from `sklearn` datasets. Remove the headers, footers and qoutes from the news article when loading data sets. Use number 321 for `random_state`.**\n",
        "\n",
        "**In order to get faster execution times for this practical we will work on a partial data set with only 5 categories out of the 20 available in the data set: `'rec.sport.hockey'`, `'talk.politics.mideast'`, `'soc.religion.christian'`, `'comp.graphics'`, and `'sci.med'`.**"
      ]
    },
    {
      "cell_type": "code",
      "execution_count": null,
      "metadata": {
        "id": "p4I4Ufo37BtU"
      },
      "outputs": [],
      "source": [
        "categories = ['rec.sport.hockey', 'talk.politics.mideast', 'soc.religion.christian', 'comp.graphics', 'sci.med']"
      ]
    },
    {
      "cell_type": "code",
      "execution_count": null,
      "metadata": {
        "id": "g7t-DPkz7BtU",
        "scrolled": true
      },
      "outputs": [],
      "source": [
        "twenty_train = fetch_20newsgroups(subset='train', remove=('headers', 'footers', 'quotes'),\n",
        "                                  categories=categories, shuffle=True, random_state=321)\n",
        "# type(twenty_train)"
      ]
    },
    {
      "cell_type": "code",
      "execution_count": null,
      "metadata": {
        "id": "GpnS8if-7BtV"
      },
      "outputs": [],
      "source": [
        "twenty_test = fetch_20newsgroups(subset='test', remove=('headers', 'footers', 'quotes'),\n",
        "                                 categories=categories, shuffle=True, random_state=321)"
      ]
    },
    {
      "cell_type": "markdown",
      "metadata": {
        "id": "U-oBGDEK7BtV"
      },
      "source": [
        "2\\. **Find out about the number of news articles in the train and test sets.**"
      ]
    },
    {
      "cell_type": "code",
      "execution_count": null,
      "metadata": {
        "colab": {
          "base_uri": "https://localhost:8080/"
        },
        "id": "YH7BsTGI7BtW",
        "outputId": "d750fb6b-d82f-413c-df37-0de4de6ae8e8"
      },
      "outputs": [
        {
          "data": {
            "text/plain": [
              "['comp.graphics',\n",
              " 'rec.sport.hockey',\n",
              " 'sci.med',\n",
              " 'soc.religion.christian',\n",
              " 'talk.politics.mideast']"
            ]
          },
          "execution_count": 6,
          "metadata": {},
          "output_type": "execute_result"
        }
      ],
      "source": [
        "twenty_train.target_names"
      ]
    },
    {
      "cell_type": "code",
      "execution_count": null,
      "metadata": {
        "colab": {
          "base_uri": "https://localhost:8080/"
        },
        "id": "SRHTEjpk7BtX",
        "outputId": "ed0d04f2-50a0-48d2-e322-241f0524a12d"
      },
      "outputs": [
        {
          "data": {
            "text/plain": [
              "(2941,)"
            ]
          },
          "execution_count": 7,
          "metadata": {},
          "output_type": "execute_result"
        }
      ],
      "source": [
        "twenty_train.filenames.shape"
      ]
    },
    {
      "cell_type": "code",
      "execution_count": null,
      "metadata": {
        "colab": {
          "base_uri": "https://localhost:8080/"
        },
        "id": "wnGJcnab7BtX",
        "outputId": "b45d9334-4005-4505-e575-8d42999911cf"
      },
      "outputs": [
        {
          "data": {
            "text/plain": [
              "(1958,)"
            ]
          },
          "execution_count": 8,
          "metadata": {},
          "output_type": "execute_result"
        }
      ],
      "source": [
        "twenty_test.filenames.shape"
      ]
    },
    {
      "cell_type": "markdown",
      "metadata": {
        "id": "K8HjyJbL7BtY"
      },
      "source": [
        "3\\. **Covert the train and test to dataframes.**"
      ]
    },
    {
      "cell_type": "code",
      "execution_count": null,
      "metadata": {
        "colab": {
          "base_uri": "https://localhost:8080/",
          "height": 221
        },
        "id": "hCxk9GB67BtY",
        "outputId": "ecfc0136-50c5-43e7-eade-09af88a771a0"
      },
      "outputs": [
        {
          "data": {
            "text/html": [
              "\n",
              "\n",
              "  <div id=\"df-258aa0cd-a8de-4762-b2d3-cec7cbd62ef3\">\n",
              "    <div class=\"colab-df-container\">\n",
              "      <div>\n",
              "<style scoped>\n",
              "    .dataframe tbody tr th:only-of-type {\n",
              "        vertical-align: middle;\n",
              "    }\n",
              "\n",
              "    .dataframe tbody tr th {\n",
              "        vertical-align: top;\n",
              "    }\n",
              "\n",
              "    .dataframe thead th {\n",
              "        text-align: right;\n",
              "    }\n",
              "</style>\n",
              "<table border=\"1\" class=\"dataframe\">\n",
              "  <thead>\n",
              "    <tr style=\"text-align: right;\">\n",
              "      <th></th>\n",
              "      <th>text</th>\n",
              "      <th>label</th>\n",
              "    </tr>\n",
              "  </thead>\n",
              "  <tbody>\n",
              "    <tr>\n",
              "      <th>0</th>\n",
              "      <td>\\nDr. cheghadr bA namakand!  They just wait un...</td>\n",
              "      <td>4</td>\n",
              "    </tr>\n",
              "    <tr>\n",
              "      <th>1</th>\n",
              "      <td>\\n\\n\\n\\n\\n:) No...I was one of the lucky ones....</td>\n",
              "      <td>2</td>\n",
              "    </tr>\n",
              "    <tr>\n",
              "      <th>2</th>\n",
              "      <td>\\n\\n[After a small refresh Hasan got on the tr...</td>\n",
              "      <td>4</td>\n",
              "    </tr>\n",
              "    <tr>\n",
              "      <th>3</th>\n",
              "      <td>Before getting excited and implying that I am ...</td>\n",
              "      <td>4</td>\n",
              "    </tr>\n",
              "    <tr>\n",
              "      <th>4</th>\n",
              "      <td>I have posted disp135.zip to alt.binaries.pict...</td>\n",
              "      <td>0</td>\n",
              "    </tr>\n",
              "  </tbody>\n",
              "</table>\n",
              "</div>\n",
              "      <button class=\"colab-df-convert\" onclick=\"convertToInteractive('df-258aa0cd-a8de-4762-b2d3-cec7cbd62ef3')\"\n",
              "              title=\"Convert this dataframe to an interactive table.\"\n",
              "              style=\"display:none;\">\n",
              "\n",
              "  <svg xmlns=\"http://www.w3.org/2000/svg\" height=\"24px\"viewBox=\"0 0 24 24\"\n",
              "       width=\"24px\">\n",
              "    <path d=\"M0 0h24v24H0V0z\" fill=\"none\"/>\n",
              "    <path d=\"M18.56 5.44l.94 2.06.94-2.06 2.06-.94-2.06-.94-.94-2.06-.94 2.06-2.06.94zm-11 1L8.5 8.5l.94-2.06 2.06-.94-2.06-.94L8.5 2.5l-.94 2.06-2.06.94zm10 10l.94 2.06.94-2.06 2.06-.94-2.06-.94-.94-2.06-.94 2.06-2.06.94z\"/><path d=\"M17.41 7.96l-1.37-1.37c-.4-.4-.92-.59-1.43-.59-.52 0-1.04.2-1.43.59L10.3 9.45l-7.72 7.72c-.78.78-.78 2.05 0 2.83L4 21.41c.39.39.9.59 1.41.59.51 0 1.02-.2 1.41-.59l7.78-7.78 2.81-2.81c.8-.78.8-2.07 0-2.86zM5.41 20L4 18.59l7.72-7.72 1.47 1.35L5.41 20z\"/>\n",
              "  </svg>\n",
              "      </button>\n",
              "\n",
              "\n",
              "\n",
              "    <div id=\"df-079dd462-572d-4613-bc97-227f41bb8362\">\n",
              "      <button class=\"colab-df-quickchart\" onclick=\"quickchart('df-079dd462-572d-4613-bc97-227f41bb8362')\"\n",
              "              title=\"Suggest charts.\"\n",
              "              style=\"display:none;\">\n",
              "\n",
              "<svg xmlns=\"http://www.w3.org/2000/svg\" height=\"24px\"viewBox=\"0 0 24 24\"\n",
              "     width=\"24px\">\n",
              "    <g>\n",
              "        <path d=\"M19 3H5c-1.1 0-2 .9-2 2v14c0 1.1.9 2 2 2h14c1.1 0 2-.9 2-2V5c0-1.1-.9-2-2-2zM9 17H7v-7h2v7zm4 0h-2V7h2v10zm4 0h-2v-4h2v4z\"/>\n",
              "    </g>\n",
              "</svg>\n",
              "      </button>\n",
              "    </div>\n",
              "\n",
              "<style>\n",
              "  .colab-df-quickchart {\n",
              "    background-color: #E8F0FE;\n",
              "    border: none;\n",
              "    border-radius: 50%;\n",
              "    cursor: pointer;\n",
              "    display: none;\n",
              "    fill: #1967D2;\n",
              "    height: 32px;\n",
              "    padding: 0 0 0 0;\n",
              "    width: 32px;\n",
              "  }\n",
              "\n",
              "  .colab-df-quickchart:hover {\n",
              "    background-color: #E2EBFA;\n",
              "    box-shadow: 0px 1px 2px rgba(60, 64, 67, 0.3), 0px 1px 3px 1px rgba(60, 64, 67, 0.15);\n",
              "    fill: #174EA6;\n",
              "  }\n",
              "\n",
              "  [theme=dark] .colab-df-quickchart {\n",
              "    background-color: #3B4455;\n",
              "    fill: #D2E3FC;\n",
              "  }\n",
              "\n",
              "  [theme=dark] .colab-df-quickchart:hover {\n",
              "    background-color: #434B5C;\n",
              "    box-shadow: 0px 1px 3px 1px rgba(0, 0, 0, 0.15);\n",
              "    filter: drop-shadow(0px 1px 2px rgba(0, 0, 0, 0.3));\n",
              "    fill: #FFFFFF;\n",
              "  }\n",
              "</style>\n",
              "\n",
              "    <script>\n",
              "      async function quickchart(key) {\n",
              "        const containerElement = document.querySelector('#' + key);\n",
              "        const charts = await google.colab.kernel.invokeFunction(\n",
              "            'suggestCharts', [key], {});\n",
              "      }\n",
              "    </script>\n",
              "\n",
              "      <script>\n",
              "\n",
              "function displayQuickchartButton(domScope) {\n",
              "  let quickchartButtonEl =\n",
              "    domScope.querySelector('#df-079dd462-572d-4613-bc97-227f41bb8362 button.colab-df-quickchart');\n",
              "  quickchartButtonEl.style.display =\n",
              "    google.colab.kernel.accessAllowed ? 'block' : 'none';\n",
              "}\n",
              "\n",
              "        displayQuickchartButton(document);\n",
              "      </script>\n",
              "      <style>\n",
              "    .colab-df-container {\n",
              "      display:flex;\n",
              "      flex-wrap:wrap;\n",
              "      gap: 12px;\n",
              "    }\n",
              "\n",
              "    .colab-df-convert {\n",
              "      background-color: #E8F0FE;\n",
              "      border: none;\n",
              "      border-radius: 50%;\n",
              "      cursor: pointer;\n",
              "      display: none;\n",
              "      fill: #1967D2;\n",
              "      height: 32px;\n",
              "      padding: 0 0 0 0;\n",
              "      width: 32px;\n",
              "    }\n",
              "\n",
              "    .colab-df-convert:hover {\n",
              "      background-color: #E2EBFA;\n",
              "      box-shadow: 0px 1px 2px rgba(60, 64, 67, 0.3), 0px 1px 3px 1px rgba(60, 64, 67, 0.15);\n",
              "      fill: #174EA6;\n",
              "    }\n",
              "\n",
              "    [theme=dark] .colab-df-convert {\n",
              "      background-color: #3B4455;\n",
              "      fill: #D2E3FC;\n",
              "    }\n",
              "\n",
              "    [theme=dark] .colab-df-convert:hover {\n",
              "      background-color: #434B5C;\n",
              "      box-shadow: 0px 1px 3px 1px rgba(0, 0, 0, 0.15);\n",
              "      filter: drop-shadow(0px 1px 2px rgba(0, 0, 0, 0.3));\n",
              "      fill: #FFFFFF;\n",
              "    }\n",
              "  </style>\n",
              "\n",
              "      <script>\n",
              "        const buttonEl =\n",
              "          document.querySelector('#df-258aa0cd-a8de-4762-b2d3-cec7cbd62ef3 button.colab-df-convert');\n",
              "        buttonEl.style.display =\n",
              "          google.colab.kernel.accessAllowed ? 'block' : 'none';\n",
              "\n",
              "        async function convertToInteractive(key) {\n",
              "          const element = document.querySelector('#df-258aa0cd-a8de-4762-b2d3-cec7cbd62ef3');\n",
              "          const dataTable =\n",
              "            await google.colab.kernel.invokeFunction('convertToInteractive',\n",
              "                                                     [key], {});\n",
              "          if (!dataTable) return;\n",
              "\n",
              "          const docLinkHtml = 'Like what you see? Visit the ' +\n",
              "            '<a target=\"_blank\" href=https://colab.research.google.com/notebooks/data_table.ipynb>data table notebook</a>'\n",
              "            + ' to learn more about interactive tables.';\n",
              "          element.innerHTML = '';\n",
              "          dataTable['output_type'] = 'display_data';\n",
              "          await google.colab.output.renderOutput(dataTable, element);\n",
              "          const docLink = document.createElement('div');\n",
              "          docLink.innerHTML = docLinkHtml;\n",
              "          element.appendChild(docLink);\n",
              "        }\n",
              "      </script>\n",
              "    </div>\n",
              "  </div>\n"
            ],
            "text/plain": [
              "                                                text  label\n",
              "0  \\nDr. cheghadr bA namakand!  They just wait un...      4\n",
              "1  \\n\\n\\n\\n\\n:) No...I was one of the lucky ones....      2\n",
              "2  \\n\\n[After a small refresh Hasan got on the tr...      4\n",
              "3  Before getting excited and implying that I am ...      4\n",
              "4  I have posted disp135.zip to alt.binaries.pict...      0"
            ]
          },
          "execution_count": 9,
          "metadata": {},
          "output_type": "execute_result"
        }
      ],
      "source": [
        "df_train = pd.DataFrame(list(zip(twenty_train.data, twenty_train.target)), columns=['text', 'label'])\n",
        "df_train.head()"
      ]
    },
    {
      "cell_type": "code",
      "execution_count": null,
      "metadata": {
        "colab": {
          "base_uri": "https://localhost:8080/",
          "height": 221
        },
        "id": "Sk-Fhjzo7BtY",
        "outputId": "21e89fa1-7c98-4258-caab-59fb81e71646"
      },
      "outputs": [
        {
          "data": {
            "text/html": [
              "\n",
              "\n",
              "  <div id=\"df-36b7e973-55be-4ec4-b283-98b697bd6dff\">\n",
              "    <div class=\"colab-df-container\">\n",
              "      <div>\n",
              "<style scoped>\n",
              "    .dataframe tbody tr th:only-of-type {\n",
              "        vertical-align: middle;\n",
              "    }\n",
              "\n",
              "    .dataframe tbody tr th {\n",
              "        vertical-align: top;\n",
              "    }\n",
              "\n",
              "    .dataframe thead th {\n",
              "        text-align: right;\n",
              "    }\n",
              "</style>\n",
              "<table border=\"1\" class=\"dataframe\">\n",
              "  <thead>\n",
              "    <tr style=\"text-align: right;\">\n",
              "      <th></th>\n",
              "      <th>text</th>\n",
              "      <th>label</th>\n",
              "    </tr>\n",
              "  </thead>\n",
              "  <tbody>\n",
              "    <tr>\n",
              "      <th>0</th>\n",
              "      <td>hi all, Ive applied for the class of 93 at qui...</td>\n",
              "      <td>2</td>\n",
              "    </tr>\n",
              "    <tr>\n",
              "      <th>1</th>\n",
              "      <td>:In article &lt;enea1-270493135255@enea.apple.com...</td>\n",
              "      <td>2</td>\n",
              "    </tr>\n",
              "    <tr>\n",
              "      <th>2</th>\n",
              "      <td>\\nI don't know the answer the to this one, alt...</td>\n",
              "      <td>0</td>\n",
              "    </tr>\n",
              "    <tr>\n",
              "      <th>3</th>\n",
              "      <td>\\n\\nWe here at IBM have the same problem with ...</td>\n",
              "      <td>0</td>\n",
              "    </tr>\n",
              "    <tr>\n",
              "      <th>4</th>\n",
              "      <td>\\nI was at an Adobe seminar/conference/propaga...</td>\n",
              "      <td>0</td>\n",
              "    </tr>\n",
              "  </tbody>\n",
              "</table>\n",
              "</div>\n",
              "      <button class=\"colab-df-convert\" onclick=\"convertToInteractive('df-36b7e973-55be-4ec4-b283-98b697bd6dff')\"\n",
              "              title=\"Convert this dataframe to an interactive table.\"\n",
              "              style=\"display:none;\">\n",
              "\n",
              "  <svg xmlns=\"http://www.w3.org/2000/svg\" height=\"24px\"viewBox=\"0 0 24 24\"\n",
              "       width=\"24px\">\n",
              "    <path d=\"M0 0h24v24H0V0z\" fill=\"none\"/>\n",
              "    <path d=\"M18.56 5.44l.94 2.06.94-2.06 2.06-.94-2.06-.94-.94-2.06-.94 2.06-2.06.94zm-11 1L8.5 8.5l.94-2.06 2.06-.94-2.06-.94L8.5 2.5l-.94 2.06-2.06.94zm10 10l.94 2.06.94-2.06 2.06-.94-2.06-.94-.94-2.06-.94 2.06-2.06.94z\"/><path d=\"M17.41 7.96l-1.37-1.37c-.4-.4-.92-.59-1.43-.59-.52 0-1.04.2-1.43.59L10.3 9.45l-7.72 7.72c-.78.78-.78 2.05 0 2.83L4 21.41c.39.39.9.59 1.41.59.51 0 1.02-.2 1.41-.59l7.78-7.78 2.81-2.81c.8-.78.8-2.07 0-2.86zM5.41 20L4 18.59l7.72-7.72 1.47 1.35L5.41 20z\"/>\n",
              "  </svg>\n",
              "      </button>\n",
              "\n",
              "\n",
              "\n",
              "    <div id=\"df-5fb49d02-c19e-4a8b-ab12-f0cd884270b6\">\n",
              "      <button class=\"colab-df-quickchart\" onclick=\"quickchart('df-5fb49d02-c19e-4a8b-ab12-f0cd884270b6')\"\n",
              "              title=\"Suggest charts.\"\n",
              "              style=\"display:none;\">\n",
              "\n",
              "<svg xmlns=\"http://www.w3.org/2000/svg\" height=\"24px\"viewBox=\"0 0 24 24\"\n",
              "     width=\"24px\">\n",
              "    <g>\n",
              "        <path d=\"M19 3H5c-1.1 0-2 .9-2 2v14c0 1.1.9 2 2 2h14c1.1 0 2-.9 2-2V5c0-1.1-.9-2-2-2zM9 17H7v-7h2v7zm4 0h-2V7h2v10zm4 0h-2v-4h2v4z\"/>\n",
              "    </g>\n",
              "</svg>\n",
              "      </button>\n",
              "    </div>\n",
              "\n",
              "<style>\n",
              "  .colab-df-quickchart {\n",
              "    background-color: #E8F0FE;\n",
              "    border: none;\n",
              "    border-radius: 50%;\n",
              "    cursor: pointer;\n",
              "    display: none;\n",
              "    fill: #1967D2;\n",
              "    height: 32px;\n",
              "    padding: 0 0 0 0;\n",
              "    width: 32px;\n",
              "  }\n",
              "\n",
              "  .colab-df-quickchart:hover {\n",
              "    background-color: #E2EBFA;\n",
              "    box-shadow: 0px 1px 2px rgba(60, 64, 67, 0.3), 0px 1px 3px 1px rgba(60, 64, 67, 0.15);\n",
              "    fill: #174EA6;\n",
              "  }\n",
              "\n",
              "  [theme=dark] .colab-df-quickchart {\n",
              "    background-color: #3B4455;\n",
              "    fill: #D2E3FC;\n",
              "  }\n",
              "\n",
              "  [theme=dark] .colab-df-quickchart:hover {\n",
              "    background-color: #434B5C;\n",
              "    box-shadow: 0px 1px 3px 1px rgba(0, 0, 0, 0.15);\n",
              "    filter: drop-shadow(0px 1px 2px rgba(0, 0, 0, 0.3));\n",
              "    fill: #FFFFFF;\n",
              "  }\n",
              "</style>\n",
              "\n",
              "    <script>\n",
              "      async function quickchart(key) {\n",
              "        const containerElement = document.querySelector('#' + key);\n",
              "        const charts = await google.colab.kernel.invokeFunction(\n",
              "            'suggestCharts', [key], {});\n",
              "      }\n",
              "    </script>\n",
              "\n",
              "      <script>\n",
              "\n",
              "function displayQuickchartButton(domScope) {\n",
              "  let quickchartButtonEl =\n",
              "    domScope.querySelector('#df-5fb49d02-c19e-4a8b-ab12-f0cd884270b6 button.colab-df-quickchart');\n",
              "  quickchartButtonEl.style.display =\n",
              "    google.colab.kernel.accessAllowed ? 'block' : 'none';\n",
              "}\n",
              "\n",
              "        displayQuickchartButton(document);\n",
              "      </script>\n",
              "      <style>\n",
              "    .colab-df-container {\n",
              "      display:flex;\n",
              "      flex-wrap:wrap;\n",
              "      gap: 12px;\n",
              "    }\n",
              "\n",
              "    .colab-df-convert {\n",
              "      background-color: #E8F0FE;\n",
              "      border: none;\n",
              "      border-radius: 50%;\n",
              "      cursor: pointer;\n",
              "      display: none;\n",
              "      fill: #1967D2;\n",
              "      height: 32px;\n",
              "      padding: 0 0 0 0;\n",
              "      width: 32px;\n",
              "    }\n",
              "\n",
              "    .colab-df-convert:hover {\n",
              "      background-color: #E2EBFA;\n",
              "      box-shadow: 0px 1px 2px rgba(60, 64, 67, 0.3), 0px 1px 3px 1px rgba(60, 64, 67, 0.15);\n",
              "      fill: #174EA6;\n",
              "    }\n",
              "\n",
              "    [theme=dark] .colab-df-convert {\n",
              "      background-color: #3B4455;\n",
              "      fill: #D2E3FC;\n",
              "    }\n",
              "\n",
              "    [theme=dark] .colab-df-convert:hover {\n",
              "      background-color: #434B5C;\n",
              "      box-shadow: 0px 1px 3px 1px rgba(0, 0, 0, 0.15);\n",
              "      filter: drop-shadow(0px 1px 2px rgba(0, 0, 0, 0.3));\n",
              "      fill: #FFFFFF;\n",
              "    }\n",
              "  </style>\n",
              "\n",
              "      <script>\n",
              "        const buttonEl =\n",
              "          document.querySelector('#df-36b7e973-55be-4ec4-b283-98b697bd6dff button.colab-df-convert');\n",
              "        buttonEl.style.display =\n",
              "          google.colab.kernel.accessAllowed ? 'block' : 'none';\n",
              "\n",
              "        async function convertToInteractive(key) {\n",
              "          const element = document.querySelector('#df-36b7e973-55be-4ec4-b283-98b697bd6dff');\n",
              "          const dataTable =\n",
              "            await google.colab.kernel.invokeFunction('convertToInteractive',\n",
              "                                                     [key], {});\n",
              "          if (!dataTable) return;\n",
              "\n",
              "          const docLinkHtml = 'Like what you see? Visit the ' +\n",
              "            '<a target=\"_blank\" href=https://colab.research.google.com/notebooks/data_table.ipynb>data table notebook</a>'\n",
              "            + ' to learn more about interactive tables.';\n",
              "          element.innerHTML = '';\n",
              "          dataTable['output_type'] = 'display_data';\n",
              "          await google.colab.output.renderOutput(dataTable, element);\n",
              "          const docLink = document.createElement('div');\n",
              "          docLink.innerHTML = docLinkHtml;\n",
              "          element.appendChild(docLink);\n",
              "        }\n",
              "      </script>\n",
              "    </div>\n",
              "  </div>\n"
            ],
            "text/plain": [
              "                                                text  label\n",
              "0  hi all, Ive applied for the class of 93 at qui...      2\n",
              "1  :In article <enea1-270493135255@enea.apple.com...      2\n",
              "2  \\nI don't know the answer the to this one, alt...      0\n",
              "3  \\n\\nWe here at IBM have the same problem with ...      0\n",
              "4  \\nI was at an Adobe seminar/conference/propaga...      0"
            ]
          },
          "execution_count": 10,
          "metadata": {},
          "output_type": "execute_result"
        }
      ],
      "source": [
        "df_test = pd.DataFrame(list(zip(twenty_test.data, twenty_test.target)), columns=['text', 'label'])\n",
        "df_test.head()"
      ]
    },
    {
      "cell_type": "markdown",
      "metadata": {
        "id": "R4cJ2eNL7BtZ"
      },
      "source": [
        "### Train a neural network a with document-term matrix"
      ]
    },
    {
      "cell_type": "markdown",
      "metadata": {
        "id": "hH99Eyqk7BtZ"
      },
      "source": [
        "4\\. **In order to feed predictive deep learning models with text data, first you need to turn the text into vectors of numerical values suitable for statistical analysis. Use the binary representation with `TfidfVectorizer` and create document-term matrices for test and train (name them `X_train` and `X_test`).**"
      ]
    },
    {
      "cell_type": "code",
      "execution_count": null,
      "metadata": {
        "id": "DnGwKX7p7BtZ"
      },
      "outputs": [],
      "source": [
        "# A function for transforming train or test into tfidf features\n",
        "def tfidf_features(txt, flag):\n",
        "    if flag == \"train\":\n",
        "        x = tfidf.fit_transform(txt)\n",
        "    else:\n",
        "        x = tfidf.transform(txt)\n",
        "    x = x.astype('float16')\n",
        "    return x\n",
        "\n",
        "tfidf = TfidfVectorizer(binary=True)\n",
        "X_train = tfidf_features(df_train.text.values, flag=\"train\")\n",
        "X_test = tfidf_features(df_test.text.values, flag=\"test\")\n",
        "\n",
        "# With CountVectorizer and without the function\n",
        "# from sklearn.feature_extraction.text import CountVectorizer\n",
        "# count_vect = CountVectorizer()\n",
        "# X_train = count_vect.fit_transform(df_train.text.values)\n",
        "# X_test = count_vect.transform(df_test.text.values)"
      ]
    },
    {
      "cell_type": "code",
      "execution_count": null,
      "metadata": {
        "colab": {
          "base_uri": "https://localhost:8080/"
        },
        "id": "qF1zoUBk7Bta",
        "outputId": "16ad5871-87c4-4ee3-bc03-4ad69a9efec1"
      },
      "outputs": [
        {
          "data": {
            "text/plain": [
              "111.5678340700442"
            ]
          },
          "execution_count": 12,
          "metadata": {},
          "output_type": "execute_result"
        }
      ],
      "source": [
        "X_train.nnz / float(X_train.shape[0])"
      ]
    },
    {
      "cell_type": "markdown",
      "metadata": {
        "id": "FaP_UA8n7Bta"
      },
      "source": [
        "The extracted vectors are very sparse, with an average of 111 non-zero components by sample in a more than 37000-dimensional space (less than 0.3% non-zero features)"
      ]
    },
    {
      "cell_type": "code",
      "execution_count": null,
      "metadata": {
        "colab": {
          "base_uri": "https://localhost:8080/"
        },
        "id": "AQmzxWRR7Bta",
        "outputId": "2cf12113-f711-4193-bfd6-b40055ab9706"
      },
      "outputs": [
        {
          "data": {
            "text/plain": [
              "75.78748724923496"
            ]
          },
          "execution_count": 13,
          "metadata": {},
          "output_type": "execute_result"
        }
      ],
      "source": [
        "X_test.nnz / float(X_train.shape[0])"
      ]
    },
    {
      "cell_type": "code",
      "execution_count": null,
      "metadata": {
        "id": "7WTQP-W_7Bta"
      },
      "outputs": [],
      "source": [
        "# tfidf.vocabulary_"
      ]
    },
    {
      "cell_type": "markdown",
      "metadata": {
        "id": "pIgRkX-S7Bta"
      },
      "source": [
        "5\\. **Use the `LabelEncoder` to create `y_train` and `y_test` from `df_train.label.values` and `df_test.label.values`, respectively.**"
      ]
    },
    {
      "cell_type": "code",
      "execution_count": null,
      "metadata": {
        "id": "1E2tRDfC7Btb"
      },
      "outputs": [],
      "source": [
        "# Converting the list of strings to the matrix of vectors (to be fed neural network models)\n",
        "# Encode the list of newsgroups into categorical integer values\n",
        "lb = LabelEncoder()\n",
        "y = lb.fit_transform(df_train.label.values)\n",
        "y_train = utils.np_utils.to_categorical(y)"
      ]
    },
    {
      "cell_type": "code",
      "execution_count": null,
      "metadata": {
        "colab": {
          "base_uri": "https://localhost:8080/"
        },
        "id": "7fNC-TQs7Btb",
        "outputId": "a3828ac8-76ee-41df-a7a7-d2f501c44532"
      },
      "outputs": [
        {
          "data": {
            "text/plain": [
              "array([[0., 0., 0., 0., 1.],\n",
              "       [0., 0., 1., 0., 0.],\n",
              "       [0., 0., 0., 0., 1.],\n",
              "       ...,\n",
              "       [1., 0., 0., 0., 0.],\n",
              "       [0., 0., 0., 0., 1.],\n",
              "       [0., 0., 0., 0., 1.]], dtype=float32)"
            ]
          },
          "execution_count": 15,
          "metadata": {},
          "output_type": "execute_result"
        }
      ],
      "source": [
        "y_train"
      ]
    },
    {
      "cell_type": "code",
      "execution_count": null,
      "metadata": {
        "colab": {
          "base_uri": "https://localhost:8080/"
        },
        "id": "NlykVoFv7Btb",
        "outputId": "582be7a9-c1ca-4a41-ac8f-7de7206ab759"
      },
      "outputs": [
        {
          "data": {
            "text/plain": [
              "(2941, 5)"
            ]
          },
          "execution_count": 16,
          "metadata": {},
          "output_type": "execute_result"
        }
      ],
      "source": [
        "y_train.shape"
      ]
    },
    {
      "cell_type": "code",
      "execution_count": null,
      "metadata": {
        "id": "CZYQ6GxZ7Btb"
      },
      "outputs": [],
      "source": [
        "y = lb.transform(df_test.label.values)\n",
        "y_test = utils.np_utils.to_categorical(y)"
      ]
    },
    {
      "cell_type": "markdown",
      "metadata": {
        "id": "ODTSpeUx7Btb"
      },
      "source": [
        "6\\. **Use the sequential API in `keras` and create a one-hidden-layer neural network. So, the first layer will be the input layer with the number of features in your X_train, followed by a single hidden layer, and an output layer. Set the number of neurons in the hidden layer to 5, and activation function as `relu`. For the output layer you can use a `softmax` activation function.**"
      ]
    },
    {
      "cell_type": "markdown",
      "metadata": {
        "id": "YqbWpEjR7Btb"
      },
      "source": [
        "The sequential API (https://www.tensorflow.org/guide/keras/sequential_model) allows you to create models layer by layer. It is limited in that it does not allow to create models that share layers or have multiple inputs or outputs.\n",
        "\n",
        "The functional API (https://www.tensorflow.org/guide/keras/functional) allows you to create models that have a lot more flexibility as you can define models where layers connect to more than just the previous and next layers. In this way, you can connect layers to (literally) any other layer. As a result, creating complex networks such as Siamese neural networks and residual neural networks become possible."
      ]
    },
    {
      "cell_type": "code",
      "execution_count": null,
      "metadata": {
        "id": "jkARbYgS7Btc"
      },
      "outputs": [],
      "source": [
        "model = Sequential()\n",
        "input_dim = X_train.shape[1]  # Number of features\n",
        "model.add(layers.Dense(10, input_dim=input_dim, activation='relu'))\n",
        "model.add(layers.Dense(5, activation='softmax'))"
      ]
    },
    {
      "cell_type": "markdown",
      "metadata": {
        "id": "wVOswMnx7Btc"
      },
      "source": [
        "7\\. **The `compile` function defines the `loss` function, the `optimizer` and the evaluation `metrics`. Call this function for your neural network model with `loss='binary_crossentropy'`, `optimizer='adam'`, `metrics=['accuracy']`. Check the summary of the model.**"
      ]
    },
    {
      "cell_type": "markdown",
      "metadata": {
        "id": "4J4RDUKg7Btc"
      },
      "source": [
        "| Task           | Output type                       | Last-layer activation | Loss function            | Metric(s) |\n",
        "| ---            | ---                               | ---                   | ---                      | ---       |\n",
        "| Regression     | Numerical                         | Linear                | meanSquaredError (MSE),<br> meanAbsoluteError (MAE) | Same as loss |\n",
        "| Classification | Binary                            | Sigmoid               | binary_crossentropy      | Accuracy, precision, recall, sensitivity, <br> TPR, FPR, ROC, AUC |\n",
        "| Classification | Single label, Multiple classes    | Softmax               | categorical_crossentropy | Accuracy, confusion matrix |\n",
        "| Classification | Multiple labels, Multiple classes | Sigmoid               | binary_crossentropy      | Accuracy, precision, recall, sensitivity, <br> TPR, FPR, ROC, AUC |"
      ]
    },
    {
      "cell_type": "code",
      "execution_count": null,
      "metadata": {
        "colab": {
          "base_uri": "https://localhost:8080/"
        },
        "id": "Tg_SoRpf7Btc",
        "outputId": "01ed72d3-24bc-40fb-f980-d25e9660bb60"
      },
      "outputs": [
        {
          "name": "stdout",
          "output_type": "stream",
          "text": [
            "Model: \"sequential\"\n",
            "_________________________________________________________________\n",
            " Layer (type)                Output Shape              Param #   \n",
            "=================================================================\n",
            " dense (Dense)               (None, 10)                371490    \n",
            "                                                                 \n",
            " dense_1 (Dense)             (None, 5)                 55        \n",
            "                                                                 \n",
            "=================================================================\n",
            "Total params: 371,545\n",
            "Trainable params: 371,545\n",
            "Non-trainable params: 0\n",
            "_________________________________________________________________\n"
          ]
        }
      ],
      "source": [
        "model.compile(loss='binary_crossentropy',\n",
        "              optimizer='adam',\n",
        "              metrics=['accuracy'])\n",
        "model.summary()"
      ]
    },
    {
      "cell_type": "markdown",
      "metadata": {
        "id": "dzZthw6z7Btc"
      },
      "source": [
        "8\\. **Time to train your model! Train your model in 20 iterations. What does `batch_size` represent?**"
      ]
    },
    {
      "cell_type": "code",
      "execution_count": null,
      "metadata": {
        "colab": {
          "base_uri": "https://localhost:8080/"
        },
        "id": "RVAgu5FT7Btc",
        "outputId": "37a7ceea-5a18-40f9-c4cf-fffff1799929"
      },
      "outputs": [
        {
          "name": "stdout",
          "output_type": "stream",
          "text": [
            "Epoch 1/20\n",
            "6/6 [==============================] - 1s 25ms/step - loss: 0.6860 - accuracy: 0.2207\n",
            "Epoch 2/20\n",
            "6/6 [==============================] - 0s 20ms/step - loss: 0.6661 - accuracy: 0.2370\n",
            "Epoch 3/20\n",
            "6/6 [==============================] - 0s 22ms/step - loss: 0.6463 - accuracy: 0.2333\n",
            "Epoch 4/20\n",
            "6/6 [==============================] - 0s 23ms/step - loss: 0.6269 - accuracy: 0.2380\n",
            "Epoch 5/20\n",
            "6/6 [==============================] - 0s 22ms/step - loss: 0.6084 - accuracy: 0.2543\n",
            "Epoch 6/20\n",
            "6/6 [==============================] - 0s 22ms/step - loss: 0.5908 - accuracy: 0.2649\n",
            "Epoch 7/20\n",
            "6/6 [==============================] - 0s 23ms/step - loss: 0.5743 - accuracy: 0.2809\n",
            "Epoch 8/20\n",
            "6/6 [==============================] - 0s 21ms/step - loss: 0.5589 - accuracy: 0.3002\n",
            "Epoch 9/20\n",
            "6/6 [==============================] - 0s 20ms/step - loss: 0.5440 - accuracy: 0.3142\n",
            "Epoch 10/20\n",
            "6/6 [==============================] - 0s 22ms/step - loss: 0.5297 - accuracy: 0.3332\n",
            "Epoch 11/20\n",
            "6/6 [==============================] - 0s 22ms/step - loss: 0.5161 - accuracy: 0.3502\n",
            "Epoch 12/20\n",
            "6/6 [==============================] - 0s 21ms/step - loss: 0.5031 - accuracy: 0.3699\n",
            "Epoch 13/20\n",
            "6/6 [==============================] - 0s 19ms/step - loss: 0.4908 - accuracy: 0.4349\n",
            "Epoch 14/20\n",
            "6/6 [==============================] - 0s 21ms/step - loss: 0.4790 - accuracy: 0.5236\n",
            "Epoch 15/20\n",
            "6/6 [==============================] - 0s 24ms/step - loss: 0.4677 - accuracy: 0.5971\n",
            "Epoch 16/20\n",
            "6/6 [==============================] - 0s 21ms/step - loss: 0.4568 - accuracy: 0.6593\n",
            "Epoch 17/20\n",
            "6/6 [==============================] - 0s 19ms/step - loss: 0.4464 - accuracy: 0.7198\n",
            "Epoch 18/20\n",
            "6/6 [==============================] - 0s 21ms/step - loss: 0.4363 - accuracy: 0.7766\n",
            "Epoch 19/20\n",
            "6/6 [==============================] - 0s 26ms/step - loss: 0.4266 - accuracy: 0.8208\n",
            "Epoch 20/20\n",
            "6/6 [==============================] - 0s 31ms/step - loss: 0.4171 - accuracy: 0.8592\n"
          ]
        }
      ],
      "source": [
        "history = model.fit(X_train, y_train, epochs=20, batch_size=512)\n",
        "# model.save_weights(\"model.h5\")\n",
        "# print(\"Saved model to disk\")"
      ]
    },
    {
      "cell_type": "markdown",
      "metadata": {
        "id": "pMvt-_yq7Btd"
      },
      "source": [
        "Note that if you rerun the `fit()` method, you will start off with the computed weights from the previous training. Make sure to call `clear_session()` before you start training the model again:\n",
        "\n",
        "<br>\n",
        "\n",
        "**`from keras.backend import clear_session` <br>\n",
        "`clear_session()`**\n",
        "\n",
        "<br>\n"
      ]
    },
    {
      "cell_type": "markdown",
      "metadata": {
        "id": "G2Db0lQN7Btd"
      },
      "source": [
        "9\\. **Plot the accuracy and loss of your trained model.**"
      ]
    },
    {
      "cell_type": "code",
      "execution_count": null,
      "metadata": {
        "colab": {
          "base_uri": "https://localhost:8080/",
          "height": 948
        },
        "id": "PlnxuHQC7Btd",
        "outputId": "4af1c83c-c606-442e-bb18-2f900f344bdc"
      },
      "outputs": [
        {
          "name": "stdout",
          "output_type": "stream",
          "text": [
            "dict_keys(['loss', 'accuracy'])\n"
          ]
        },
        {
          "data": {
            "image/png": "[encoded data removed]",
            "text/plain": [
              "<Figure size 640x480 with 1 Axes>"
            ]
          },
          "metadata": {},
          "output_type": "display_data"
        },
        {
          "data": {
            "image/png": "[encoded data removed]",
            "text/plain": [
              "<Figure size 640x480 with 1 Axes>"
            ]
          },
          "metadata": {},
          "output_type": "display_data"
        }
      ],
      "source": [
        "print(history.history.keys())\n",
        "plt.plot(history.history['accuracy'])\n",
        "#plt.plot(history.history['val_acc'])\n",
        "plt.title('model accuracy')\n",
        "plt.ylabel('accuracy')\n",
        "plt.xlabel('epoch')\n",
        "plt.legend(['train', 'test'], loc='upper left')\n",
        "plt.show()\n",
        "\n",
        "# summarize history for loss\n",
        "plt.plot(history.history['loss'])\n",
        "# plt.plot(history.history['val_loss'])\n",
        "plt.title('model loss')\n",
        "plt.ylabel('loss')\n",
        "plt.xlabel('epoch')\n",
        "plt.legend(['train', 'test'], loc='upper left')\n",
        "plt.show()"
      ]
    },
    {
      "cell_type": "code",
      "execution_count": null,
      "metadata": {
        "id": "WNUzdyYt7Bte"
      },
      "outputs": [],
      "source": [
        "# Here we converted the code to a function so we can use it later as well\n",
        "plt.style.use('ggplot')\n",
        "\n",
        "def plot_history(history, val=0):\n",
        "    acc = history.history['accuracy']\n",
        "    if val == 1:\n",
        "        val_acc = history.history['val_accuracy'] # we can add a validation set in our fit function with nn\n",
        "    loss = history.history['loss']\n",
        "    if val == 1:\n",
        "        val_loss = history.history['val_loss']\n",
        "    x = range(1, len(acc) + 1)\n",
        "\n",
        "    plt.figure(figsize=(12, 5))\n",
        "    plt.subplot(1, 2, 1)\n",
        "    plt.plot(x, acc, 'b', label='Training accuracy')\n",
        "    if val == 1:\n",
        "        plt.plot(x, val_acc, 'r', label='Validation accuracy')\n",
        "    plt.ylabel('accuracy')\n",
        "    plt.xlabel('epoch')\n",
        "    plt.title('Accuracy')\n",
        "    plt.legend()\n",
        "    plt.subplot(1, 2, 2)\n",
        "    plt.plot(x, loss, 'b', label='Training loss')\n",
        "    if val == 1:\n",
        "        plt.plot(x, val_loss, 'r', label='Validation loss')\n",
        "    plt.ylabel('loss')\n",
        "    plt.xlabel('epoch')\n",
        "    plt.title('Loss')\n",
        "    plt.legend()"
      ]
    },
    {
      "cell_type": "code",
      "execution_count": null,
      "metadata": {
        "id": "teg_LE_G7Bte",
        "outputId": "6b524fdf-ed5a-433c-cbfa-1d09108d2d04"
      },
      "outputs": [
        {
          "data": {
            "image/png": "[encoded data removed]",
            "text/plain": [
              "<Figure size 864x360 with 2 Axes>"
            ]
          },
          "metadata": {},
          "output_type": "display_data"
        }
      ],
      "source": [
        "plot_history(history)"
      ]
    },
    {
      "cell_type": "markdown",
      "metadata": {
        "id": "__SQlBJn7Bte"
      },
      "source": [
        "10\\. **Evaluate the accuracy of your trained model on the test set. Compare that with the accuracy on train.**"
      ]
    },
    {
      "cell_type": "code",
      "execution_count": null,
      "metadata": {
        "colab": {
          "base_uri": "https://localhost:8080/"
        },
        "id": "RWHwxxdg7Bte",
        "outputId": "38ddfebc-6ed0-4350-cb31-4197c8a97c3c"
      },
      "outputs": [
        {
          "name": "stdout",
          "output_type": "stream",
          "text": [
            "62/62 [==============================] - 0s 2ms/step - loss: 0.4427 - accuracy: 0.6977\n",
            "Test set\n",
            "  Loss: 0.443\n",
            "  Accuracy: 0.698\n"
          ]
        }
      ],
      "source": [
        "loss, accuracy = model.evaluate(X_test,y_test)\n",
        "print('Test set\\n  Loss: {:0.3f}\\n  Accuracy: {:0.3f}'.format(loss,accuracy))"
      ]
    },
    {
      "cell_type": "markdown",
      "metadata": {
        "id": "oDbKvDhA7Bte"
      },
      "source": [
        "You can already see that the model was overfitting since it reached over 70% accuracy for the training set. When training a model, you can use a separate testing and validation set. What you would usually do is take the model with the highest validation accuracy and then test the model with the testing set."
      ]
    },
    {
      "cell_type": "markdown",
      "metadata": {
        "id": "PkYntDUZ7Bte"
      },
      "source": [
        "# The embedding layer"
      ]
    },
    {
      "cell_type": "markdown",
      "metadata": {
        "id": "HMhWJsU07Bte"
      },
      "source": [
        "Here we want to create a sequential model with an embedding layer as the input layer followed by dense layers. To do this first we need to apply the `Tokenizer` from `keras` and convert the text data into sequences which can be passed into the embedding layer."
      ]
    },
    {
      "cell_type": "markdown",
      "metadata": {
        "id": "7SvzxqH37Btf"
      },
      "source": [
        "11\\. **Use the tokenizer from Keras with 20,000 words and create `X-train` and `X_test` sequences.**"
      ]
    },
    {
      "cell_type": "code",
      "execution_count": null,
      "metadata": {
        "id": "EgAftmpp7Btf"
      },
      "outputs": [],
      "source": [
        "tokenizer = Tokenizer(num_words=20000)\n",
        "tokenizer.fit_on_texts(df_train.text.values)"
      ]
    },
    {
      "cell_type": "code",
      "execution_count": null,
      "metadata": {
        "id": "hIrV5pJi7Btf"
      },
      "outputs": [],
      "source": [
        "X_train = tokenizer.texts_to_sequences(df_train.text.values)\n",
        "X_test = tokenizer.texts_to_sequences(df_test.text.values)"
      ]
    },
    {
      "cell_type": "code",
      "execution_count": null,
      "metadata": {
        "colab": {
          "base_uri": "https://localhost:8080/"
        },
        "id": "iUoYoKGW7Btf",
        "outputId": "95e082d2-cd64-4942-8112-2421bca26941"
      },
      "outputs": [
        {
          "data": {
            "text/plain": [
              "38111"
            ]
          },
          "execution_count": 26,
          "metadata": {},
          "output_type": "execute_result"
        }
      ],
      "source": [
        "vocab_size = len(tokenizer.word_index) + 1  # Adding 1 because of reserved 0 index for sequence padding\n",
        "vocab_size"
      ]
    },
    {
      "cell_type": "markdown",
      "metadata": {
        "id": "bVhRL4j37Btg"
      },
      "source": [
        "Note that the a document-term matrix uses vectors of word counts, and each vector has the same length (the size of the total corpus vocabulary). With `keras` tokenizer, the resulting vectors equal the length of each text, and the numbers don’t denote counts, but rather correspond to the word values from the dictionary `tokenizer.word_index`."
      ]
    },
    {
      "cell_type": "code",
      "execution_count": null,
      "metadata": {
        "colab": {
          "base_uri": "https://localhost:8080/"
        },
        "id": "a0phglMA7Btg",
        "outputId": "ae2adfb2-cd65-48f7-9abf-159c15dff1ec"
      },
      "outputs": [
        {
          "name": "stdout",
          "output_type": "stream",
          "text": [
            "the: 1\n",
            "all: 35\n",
            "happy: 1043\n",
            "sad: 3422\n"
          ]
        }
      ],
      "source": [
        "for word in ['the', 'all', 'happy', 'sad']:\n",
        "    print('{}: {}'.format(word, tokenizer.word_index[word]))"
      ]
    },
    {
      "cell_type": "markdown",
      "metadata": {
        "id": "nyv-P1FY7Btg"
      },
      "source": [
        "12\\. **Use the `pad_sequence()` function to pad each text sequence with zeros, so that each vector has the same length of 100 words.**"
      ]
    },
    {
      "cell_type": "code",
      "execution_count": null,
      "metadata": {
        "id": "S7HwX8l67Btg"
      },
      "outputs": [],
      "source": [
        "maxlen = 100\n",
        "X_train = pad_sequences(X_train, padding='post', maxlen=maxlen)\n",
        "X_test = pad_sequences(X_test, padding='post', maxlen=maxlen)"
      ]
    },
    {
      "cell_type": "code",
      "execution_count": null,
      "metadata": {
        "id": "2KbUYbz37Btg",
        "outputId": "26185bbb-be63-494e-c065-ec8f6362bac1"
      },
      "outputs": [
        {
          "name": "stdout",
          "output_type": "stream",
          "text": [
            "[  555 12221    23    75  1507   379    23    16 15253     3   621    63\n",
            "  5371 10293    73  2745     5   246   686     2 10294     2  2340     4\n",
            "  3927     6   332  4110  1290     3 12222   131    37     2     1    72\n",
            "  7235    34   177    21     7  3928     4    33    16    35    86 12223\n",
            "  3226     4    23   241   753     3 12222     3    47    38  7953    42\n",
            "     4    93    17   364     0     0     0     0     0     0     0     0\n",
            "     0     0     0     0     0     0     0     0     0     0     0     0\n",
            "     0     0     0     0     0     0     0     0     0     0     0     0\n",
            "     0     0     0     0]\n"
          ]
        }
      ],
      "source": [
        "print(X_train[0, :])"
      ]
    },
    {
      "cell_type": "markdown",
      "metadata": {
        "id": "SB51hsaZ7Btg"
      },
      "source": [
        "Typically it does not matter whether you prepend or append zeros. The first values represent the index in the vocabulary, and the rest are zeros from sequence padding, since you have a short document."
      ]
    },
    {
      "cell_type": "markdown",
      "metadata": {
        "id": "mDFK8yUO7Bth"
      },
      "source": [
        "13\\. **Now it is time to create a neural network model using an embedding layer as input. Take the output of the embedding layer (`embedding_dim = 50`) and plug it into a Dense layer with 10 neurons, and the `relu` activation function. In order to do this, you have to add a Flatten layer in between that prepares the sequential input for the Dense layer. Note that in the Embedding layer, `input_dim` is the size of the vocabulary, `output_dim` is the size of the embedding vector, and `input_length` is the length of the text sequence.**"
      ]
    },
    {
      "cell_type": "code",
      "execution_count": null,
      "metadata": {
        "colab": {
          "base_uri": "https://localhost:8080/"
        },
        "id": "GM_KSXSo7Bth",
        "outputId": "7ee2e0e5-2baa-4597-e36f-c987c2f740a6"
      },
      "outputs": [
        {
          "name": "stdout",
          "output_type": "stream",
          "text": [
            "Model: \"sequential_1\"\n",
            "_________________________________________________________________\n",
            " Layer (type)                Output Shape              Param #   \n",
            "=================================================================\n",
            " embedding (Embedding)       (None, 100, 50)           1905550   \n",
            "                                                                 \n",
            " flatten (Flatten)           (None, 5000)              0         \n",
            "                                                                 \n",
            " dense_2 (Dense)             (None, 10)                50010     \n",
            "                                                                 \n",
            " dense_3 (Dense)             (None, 5)                 55        \n",
            "                                                                 \n",
            "=================================================================\n",
            "Total params: 1,955,615\n",
            "Trainable params: 1,955,615\n",
            "Non-trainable params: 0\n",
            "_________________________________________________________________\n"
          ]
        }
      ],
      "source": [
        "embedding_dim = 50\n",
        "\n",
        "model = Sequential()\n",
        "model.add(layers.Embedding(input_dim=vocab_size,\n",
        "                           output_dim=embedding_dim,\n",
        "                           input_length=maxlen))\n",
        "model.add(layers.Flatten())\n",
        "model.add(layers.Dense(10, activation='relu'))\n",
        "model.add(layers.Dense(5, activation='sigmoid'))\n",
        "model.compile(optimizer='adam',\n",
        "              loss='binary_crossentropy',\n",
        "              metrics=['accuracy'])\n",
        "model.summary()"
      ]
    },
    {
      "cell_type": "markdown",
      "metadata": {
        "id": "kjFASi0J7Bth"
      },
      "source": [
        "You can now see that we have 1,905,550 new parameters to train. This number comes from vocab_size (38,111) times the embedding_dim (50). These weights of the embedding layer are randomly initialized and then are adjusted through backpropagation during training. This model takes the words as they come in the order of the sentences as input vectors."
      ]
    },
    {
      "cell_type": "code",
      "execution_count": null,
      "metadata": {
        "id": "O65b_nrJ7Bth"
      },
      "outputs": [],
      "source": [
        "history = model.fit(X_train, y_train,\n",
        "                    epochs=10,\n",
        "                    verbose=False,\n",
        "                    validation_data=(X_test, y_test),\n",
        "                    batch_size=64)"
      ]
    },
    {
      "cell_type": "code",
      "execution_count": null,
      "metadata": {
        "colab": {
          "base_uri": "https://localhost:8080/"
        },
        "id": "rbfCEnYs7Bth",
        "outputId": "1b713f5a-37a2-4fb4-fff9-f8ccd027e217"
      },
      "outputs": [
        {
          "name": "stdout",
          "output_type": "stream",
          "text": [
            "Training Accuracy: 0.9772\n",
            "Testing Accuracy:  0.7594\n"
          ]
        }
      ],
      "source": [
        "loss, accuracy = model.evaluate(X_train, y_train, verbose=False)\n",
        "print(\"Training Accuracy: {:.4f}\".format(accuracy))\n",
        "loss, accuracy = model.evaluate(X_test, y_test, verbose=False)\n",
        "print(\"Testing Accuracy:  {:.4f}\".format(accuracy))"
      ]
    },
    {
      "cell_type": "code",
      "execution_count": null,
      "metadata": {
        "id": "IUhvRgiJ7Bth",
        "outputId": "f5bc64da-600a-4b63-cd62-daa0dc0afd77"
      },
      "outputs": [
        {
          "data": {
            "image/png": "[encoded data removed]",
            "text/plain": [
              "<Figure size 864x360 with 2 Axes>"
            ]
          },
          "metadata": {},
          "output_type": "display_data"
        }
      ],
      "source": [
        "plot_history(history, val=1)"
      ]
    },
    {
      "cell_type": "markdown",
      "metadata": {
        "id": "jRhP8Qt17Bti"
      },
      "source": [
        "# Pretrained word embeddings"
      ]
    },
    {
      "cell_type": "markdown",
      "metadata": {
        "id": "TmE_ubpj7Bti"
      },
      "source": [
        "14\\. **Pretrained word embeddings are the embeddings learned in one task that are used for solving another similar task. These embeddings are trained on large data sets, saved, and then used for solving other tasks. Here, we are going to use the GloVe embeddings which are precomputed word embeddings simply trained on a large corpus of text. For this purpose, we wrote the following fuction to apply on the pretrained word embeddings and use the corresponding word vectors for words in our vocabulary. Download one of the GloVe embeddings (e.g. `glove.6B.50d.txt`) and create the embedding matrix using the provided function. (Link to download: https://nlp.stanford.edu/projects/glove/)**"
      ]
    },
    {
      "cell_type": "code",
      "execution_count": 36,
      "metadata": {
        "id": "Oq7_iEVw7Bti"
      },
      "outputs": [],
      "source": [
        "def create_embedding_matrix(filepath, word_index, embedding_dim):\n",
        "    vocab_size = len(word_index) + 1  # Adding again 1 because of reserved 0 index\n",
        "    embedding_matrix = np.zeros((vocab_size, embedding_dim))\n",
        "\n",
        "    with open(filepath, encoding=\"utf8\") as f:\n",
        "        for line in f:\n",
        "            word, *vector = line.split()\n",
        "            if word in word_index:\n",
        "                idx = word_index[word]\n",
        "                embedding_matrix[idx] = np.array(\n",
        "                    vector, dtype=np.float32)[:embedding_dim]\n",
        "\n",
        "    return embedding_matrix"
      ]
    },
    {
      "cell_type": "code",
      "execution_count": 40,
      "metadata": {
        "id": "hY9K-cWh7Bti"
      },
      "outputs": [],
      "source": [
        "embedding_matrix = create_embedding_matrix('glove.6B.50d.txt',\n",
        "                                           tokenizer.word_index, embedding_dim = 50)"
      ]
    },
    {
      "cell_type": "code",
      "execution_count": 41,
      "metadata": {
        "colab": {
          "base_uri": "https://localhost:8080/"
        },
        "id": "S1XO_4V37Bti",
        "outputId": "2a6b12d9-8511-4b9c-e866-be9b0b9b002b"
      },
      "outputs": [
        {
          "data": {
            "text/plain": [
              "0.7059641573299048"
            ]
          },
          "execution_count": 41,
          "metadata": {},
          "output_type": "execute_result"
        }
      ],
      "source": [
        "nonzero_elements = np.count_nonzero(np.count_nonzero(embedding_matrix, axis=1))\n",
        "nonzero_elements / vocab_size"
      ]
    },
    {
      "cell_type": "markdown",
      "metadata": {
        "id": "1U5qhCIE7Bti"
      },
      "source": [
        "15\\. **Build your previous neural network model again, but this time with the initial weights from the pretrained word embeddings. Set the `trainable` argument `False` so that your embedding layer does not learn the word vectors anymore, and then again back to `True`. How does the performances change?**"
      ]
    },
    {
      "cell_type": "code",
      "execution_count": 42,
      "metadata": {
        "colab": {
          "base_uri": "https://localhost:8080/"
        },
        "id": "d3BuBmqx7Bti",
        "outputId": "155179b1-2306-4b00-a1b3-9e40f3c5b959"
      },
      "outputs": [
        {
          "name": "stdout",
          "output_type": "stream",
          "text": [
            "Model: \"sequential_2\"\n",
            "_________________________________________________________________\n",
            " Layer (type)                Output Shape              Param #   \n",
            "=================================================================\n",
            " embedding_1 (Embedding)     (None, 100, 50)           1905550   \n",
            "                                                                 \n",
            " global_max_pooling1d (Globa  (None, 50)               0         \n",
            " lMaxPooling1D)                                                  \n",
            "                                                                 \n",
            " dense_4 (Dense)             (None, 10)                510       \n",
            "                                                                 \n",
            " dense_5 (Dense)             (None, 5)                 55        \n",
            "                                                                 \n",
            "=================================================================\n",
            "Total params: 1,906,115\n",
            "Trainable params: 565\n",
            "Non-trainable params: 1,905,550\n",
            "_________________________________________________________________\n"
          ]
        }
      ],
      "source": [
        "model = Sequential()\n",
        "model.add(layers.Embedding(vocab_size, embedding_dim,\n",
        "                           weights=[embedding_matrix],\n",
        "                           input_length=maxlen,\n",
        "                           trainable=False))\n",
        "model.add(layers.GlobalMaxPool1D())\n",
        "model.add(layers.Dense(10, activation='relu'))\n",
        "model.add(layers.Dense(5, activation='sigmoid'))\n",
        "model.compile(optimizer='adam',\n",
        "              loss='binary_crossentropy',\n",
        "              metrics=['accuracy'])\n",
        "model.summary()"
      ]
    },
    {
      "cell_type": "code",
      "execution_count": 43,
      "metadata": {
        "colab": {
          "base_uri": "https://localhost:8080/",
          "height": 534
        },
        "id": "FDbl7UIK7Btj",
        "outputId": "2c63e7c9-dda4-4a8b-f019-e37f784c50c7"
      },
      "outputs": [
        {
          "name": "stdout",
          "output_type": "stream",
          "text": [
            "Training Accuracy: 0.7926\n",
            "Testing Accuracy:  0.7829\n"
          ]
        },
        {
          "data": {
            "image/png": "[encoded data removed]",
            "text/plain": [
              "<Figure size 1200x500 with 2 Axes>"
            ]
          },
          "metadata": {},
          "output_type": "display_data"
        }
      ],
      "source": [
        "history = model.fit(X_train, y_train,\n",
        "                    epochs=20,\n",
        "                    verbose=False,\n",
        "                    validation_data=(X_test, y_test),\n",
        "                    batch_size=10)\n",
        "loss, accuracy = model.evaluate(X_train, y_train, verbose=False)\n",
        "print(\"Training Accuracy: {:.4f}\".format(accuracy))\n",
        "loss, accuracy = model.evaluate(X_test, y_test, verbose=False)\n",
        "print(\"Testing Accuracy:  {:.4f}\".format(accuracy))\n",
        "plot_history(history, val=1)"
      ]
    },
    {
      "cell_type": "markdown",
      "metadata": {
        "id": "JryhZXVH7Btj"
      },
      "source": [
        "Since the word embeddings are not additionally trained, it is expected to be lower. But let’s now see how this performs if we allow the embedding to be trained by using `trainable=True`:"
      ]
    },
    {
      "cell_type": "code",
      "execution_count": 44,
      "metadata": {
        "colab": {
          "base_uri": "https://localhost:8080/"
        },
        "id": "sU70j5kN7Btj",
        "outputId": "630a426e-9f5d-4f77-b8ea-e724ba71138b"
      },
      "outputs": [
        {
          "name": "stdout",
          "output_type": "stream",
          "text": [
            "Model: \"sequential_3\"\n",
            "_________________________________________________________________\n",
            " Layer (type)                Output Shape              Param #   \n",
            "=================================================================\n",
            " embedding_2 (Embedding)     (None, 100, 50)           1905550   \n",
            "                                                                 \n",
            " global_max_pooling1d_1 (Glo  (None, 50)               0         \n",
            " balMaxPooling1D)                                                \n",
            "                                                                 \n",
            " dense_6 (Dense)             (None, 10)                510       \n",
            "                                                                 \n",
            " dense_7 (Dense)             (None, 5)                 55        \n",
            "                                                                 \n",
            "=================================================================\n",
            "Total params: 1,906,115\n",
            "Trainable params: 1,906,115\n",
            "Non-trainable params: 0\n",
            "_________________________________________________________________\n"
          ]
        }
      ],
      "source": [
        "model = Sequential()\n",
        "model.add(layers.Embedding(vocab_size, embedding_dim,\n",
        "                           weights=[embedding_matrix],\n",
        "                           input_length=maxlen,\n",
        "                           trainable=True))\n",
        "model.add(layers.GlobalMaxPool1D())\n",
        "model.add(layers.Dense(10, activation='relu'))\n",
        "model.add(layers.Dense(5, activation='sigmoid'))\n",
        "model.compile(optimizer='adam',\n",
        "              loss='categorical_crossentropy',\n",
        "              metrics=['accuracy'])\n",
        "model.summary()"
      ]
    },
    {
      "cell_type": "markdown",
      "metadata": {
        "id": "ee0vDUft7Btj"
      },
      "source": [
        "Because it is a multiclass classification problem, log loss is used as the loss function (`categorical_crossentropy` in `keras`). The efficient ADAM optimization algorithm is used. The model is fit for 20 epochs. A large batch size of 64 reviews is used to space out weight updates."
      ]
    },
    {
      "cell_type": "code",
      "execution_count": 45,
      "metadata": {
        "colab": {
          "base_uri": "https://localhost:8080/",
          "height": 534
        },
        "id": "XniNCI6M7Btj",
        "outputId": "f909e105-cec0-4b18-c4ca-638705c350a9"
      },
      "outputs": [
        {
          "name": "stdout",
          "output_type": "stream",
          "text": [
            "Training Accuracy: 0.9796\n",
            "Testing Accuracy:  0.8386\n"
          ]
        },
        {
          "data": {
            "image/png": "[encoded data removed]",
            "text/plain": [
              "<Figure size 1200x500 with 2 Axes>"
            ]
          },
          "metadata": {},
          "output_type": "display_data"
        }
      ],
      "source": [
        "history = model.fit(X_train, y_train,\n",
        "                    epochs=20,\n",
        "                    verbose=False,\n",
        "                    validation_data=(X_test, y_test),\n",
        "                    batch_size=10)\n",
        "loss, accuracy = model.evaluate(X_train, y_train, verbose=False)\n",
        "print(\"Training Accuracy: {:.4f}\".format(accuracy))\n",
        "loss, accuracy = model.evaluate(X_test, y_test, verbose=False)\n",
        "print(\"Testing Accuracy:  {:.4f}\".format(accuracy))\n",
        "plot_history(history, val=1)"
      ]
    }
  ],
  "metadata": {
    "colab": {
      "provenance": []
    },
    "kernelspec": {
      "display_name": "Python 3 (ipykernel)",
      "language": "python",
      "name": "python3"
    },
    "language_info": {
      "codemirror_mode": {
        "name": "ipython",
        "version": 3
      },
      "file_extension": ".py",
      "mimetype": "text/x-python",
      "name": "python",
      "nbconvert_exporter": "python",
      "pygments_lexer": "ipython3",
      "version": "3.9.10"
    }
  },
  "nbformat": 4,
  "nbformat_minor": 0
}
