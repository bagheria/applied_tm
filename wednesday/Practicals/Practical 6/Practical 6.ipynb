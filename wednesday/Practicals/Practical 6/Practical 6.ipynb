{
 "cells": [
  {
   "cell_type": "markdown",
   "metadata": {},
   "source": [
    "# Practical 6: Deep Learning for Multiclass Text Classification\n",
    "#### Ayoub Bagheri\n",
    "<img src=\"img/uu_logo.png\" alt=\"logo\" align=\"right\" title=\"UU\" width=\"50\" height=\"20\" />\n",
    "\n",
    "#### Applied Text Mining - Utrecht Summer School"
   ]
  },
  {
   "cell_type": "markdown",
   "metadata": {},
   "source": [
    "Welcome to the sixth practical of the course “Applied Text Mining”. In this practical, we will apply various deep learning models for multiclass text classification. We will work with the famous 20 Newsgroups data set from the sklearn library and will apply deep learning models on that using the Keras library. \n",
    "\n",
    "The 20 Newsgroups data set is a collection of approximately 20,000 newsgroup documents, partitioned (nearly) evenly across 20 different newsgroups. It was originally collected by Ken Lang, and it has become a popular data set for experiments in text applications of machine learning techniques.\n",
    "\n",
    "On the other hand, today we will use the Keras library, which is a deep learning and neural networks API by François Chollet's team which is capable of running on top of Tensorflow (Google), Theano or CNTK (Microsoft)."
   ]
  },
  {
   "cell_type": "markdown",
   "metadata": {},
   "source": [
    "Today we will use the following libraries. Take care to have them installed!"
   ]
  },
  {
   "cell_type": "code",
   "execution_count": 1,
   "metadata": {},
   "outputs": [],
   "source": [
    "from sklearn.feature_extraction.text import TfidfVectorizer\n",
    "from sklearn.model_selection import RandomizedSearchCV\n",
    "from sklearn.datasets import fetch_20newsgroups\n",
    "from sklearn.preprocessing import LabelEncoder\n",
    "\n",
    "from keras.wrappers.scikit_learn import KerasClassifier\n",
    "from keras.preprocessing.sequence import pad_sequences\n",
    "from keras.preprocessing.text import Tokenizer\n",
    "from keras.models import Sequential\n",
    "from keras import layers, utils\n",
    "\n",
    "import matplotlib.pyplot as plt\n",
    "import pandas as pd\n",
    "import numpy as np"
   ]
  },
  {
   "cell_type": "markdown",
   "metadata": {},
   "source": [
    "### Let's get started!"
   ]
  },
  {
   "cell_type": "markdown",
   "metadata": {},
   "source": [
    "1\\. **Load the tarin and test subsets of the 20 Newsgroups data set from sklearn datasets. Remove the headers, footers and qoutes from the news article when loading data sets. Use number 321 for random_state. In order to get faster execution times for this practical we will work on a partial data set with only 5 categories out of the 20 available in the data set: ('rec.sport.hockey', 'talk.politics.mideast', 'soc.religion.christian', 'comp.graphics', 'sci.med').**"
   ]
  },
  {
   "cell_type": "code",
   "execution_count": 2,
   "metadata": {},
   "outputs": [],
   "source": [
    "categories = ['rec.sport.hockey', 'talk.politics.mideast', 'soc.religion.christian', 'comp.graphics', 'sci.med']"
   ]
  },
  {
   "cell_type": "code",
   "execution_count": 3,
   "metadata": {
    "scrolled": true
   },
   "outputs": [],
   "source": [
    "twenty_train = fetch_20newsgroups(subset='train', remove=('headers', 'footers', 'quotes'), \n",
    "                                  categories=categories, shuffle=True, random_state=321)\n",
    "# type(twenty_train)"
   ]
  },
  {
   "cell_type": "code",
   "execution_count": 4,
   "metadata": {},
   "outputs": [],
   "source": [
    "twenty_test = fetch_20newsgroups(subset='test', remove=('headers', 'footers', 'quotes'), \n",
    "                                 categories=categories, shuffle=True, random_state=321)"
   ]
  },
  {
   "cell_type": "markdown",
   "metadata": {},
   "source": [
    "2\\. **Find out about the number of news articles in train and test sets.**"
   ]
  },
  {
   "cell_type": "code",
   "execution_count": 5,
   "metadata": {},
   "outputs": [
    {
     "data": {
      "text/plain": [
       "['comp.graphics',\n",
       " 'rec.sport.hockey',\n",
       " 'sci.med',\n",
       " 'soc.religion.christian',\n",
       " 'talk.politics.mideast']"
      ]
     },
     "execution_count": 5,
     "metadata": {},
     "output_type": "execute_result"
    }
   ],
   "source": [
    "twenty_train.target_names"
   ]
  },
  {
   "cell_type": "code",
   "execution_count": 6,
   "metadata": {},
   "outputs": [
    {
     "data": {
      "text/plain": [
       "(2941,)"
      ]
     },
     "execution_count": 6,
     "metadata": {},
     "output_type": "execute_result"
    }
   ],
   "source": [
    "twenty_train.filenames.shape"
   ]
  },
  {
   "cell_type": "code",
   "execution_count": 7,
   "metadata": {},
   "outputs": [
    {
     "data": {
      "text/plain": [
       "(1958,)"
      ]
     },
     "execution_count": 7,
     "metadata": {},
     "output_type": "execute_result"
    }
   ],
   "source": [
    "twenty_test.filenames.shape"
   ]
  },
  {
   "cell_type": "markdown",
   "metadata": {},
   "source": [
    "3\\. **Covert the train and test to dataframes.**"
   ]
  },
  {
   "cell_type": "code",
   "execution_count": 8,
   "metadata": {},
   "outputs": [
    {
     "data": {
      "text/html": [
       "<div>\n",
       "<style scoped>\n",
       "    .dataframe tbody tr th:only-of-type {\n",
       "        vertical-align: middle;\n",
       "    }\n",
       "\n",
       "    .dataframe tbody tr th {\n",
       "        vertical-align: top;\n",
       "    }\n",
       "\n",
       "    .dataframe thead th {\n",
       "        text-align: right;\n",
       "    }\n",
       "</style>\n",
       "<table border=\"1\" class=\"dataframe\">\n",
       "  <thead>\n",
       "    <tr style=\"text-align: right;\">\n",
       "      <th></th>\n",
       "      <th>text</th>\n",
       "      <th>label</th>\n",
       "    </tr>\n",
       "  </thead>\n",
       "  <tbody>\n",
       "    <tr>\n",
       "      <th>0</th>\n",
       "      <td>\\nDr. cheghadr bA namakand!  They just wait un...</td>\n",
       "      <td>4</td>\n",
       "    </tr>\n",
       "    <tr>\n",
       "      <th>1</th>\n",
       "      <td>\\n\\n\\n\\n\\n:) No...I was one of the lucky ones....</td>\n",
       "      <td>2</td>\n",
       "    </tr>\n",
       "    <tr>\n",
       "      <th>2</th>\n",
       "      <td>\\n\\n[After a small refresh Hasan got on the tr...</td>\n",
       "      <td>4</td>\n",
       "    </tr>\n",
       "    <tr>\n",
       "      <th>3</th>\n",
       "      <td>Before getting excited and implying that I am ...</td>\n",
       "      <td>4</td>\n",
       "    </tr>\n",
       "    <tr>\n",
       "      <th>4</th>\n",
       "      <td>I have posted disp135.zip to alt.binaries.pict...</td>\n",
       "      <td>0</td>\n",
       "    </tr>\n",
       "  </tbody>\n",
       "</table>\n",
       "</div>"
      ],
      "text/plain": [
       "                                                text  label\n",
       "0  \\nDr. cheghadr bA namakand!  They just wait un...      4\n",
       "1  \\n\\n\\n\\n\\n:) No...I was one of the lucky ones....      2\n",
       "2  \\n\\n[After a small refresh Hasan got on the tr...      4\n",
       "3  Before getting excited and implying that I am ...      4\n",
       "4  I have posted disp135.zip to alt.binaries.pict...      0"
      ]
     },
     "execution_count": 8,
     "metadata": {},
     "output_type": "execute_result"
    }
   ],
   "source": [
    "df_train = pd.DataFrame(list(zip(twenty_train.data, twenty_train.target)), columns=['text', 'label'])\n",
    "df_train.head()"
   ]
  },
  {
   "cell_type": "code",
   "execution_count": 9,
   "metadata": {},
   "outputs": [
    {
     "data": {
      "text/html": [
       "<div>\n",
       "<style scoped>\n",
       "    .dataframe tbody tr th:only-of-type {\n",
       "        vertical-align: middle;\n",
       "    }\n",
       "\n",
       "    .dataframe tbody tr th {\n",
       "        vertical-align: top;\n",
       "    }\n",
       "\n",
       "    .dataframe thead th {\n",
       "        text-align: right;\n",
       "    }\n",
       "</style>\n",
       "<table border=\"1\" class=\"dataframe\">\n",
       "  <thead>\n",
       "    <tr style=\"text-align: right;\">\n",
       "      <th></th>\n",
       "      <th>text</th>\n",
       "      <th>label</th>\n",
       "    </tr>\n",
       "  </thead>\n",
       "  <tbody>\n",
       "    <tr>\n",
       "      <th>0</th>\n",
       "      <td>hi all, Ive applied for the class of 93 at qui...</td>\n",
       "      <td>2</td>\n",
       "    </tr>\n",
       "    <tr>\n",
       "      <th>1</th>\n",
       "      <td>:In article &lt;enea1-270493135255@enea.apple.com...</td>\n",
       "      <td>2</td>\n",
       "    </tr>\n",
       "    <tr>\n",
       "      <th>2</th>\n",
       "      <td>\\nI don't know the answer the to this one, alt...</td>\n",
       "      <td>0</td>\n",
       "    </tr>\n",
       "    <tr>\n",
       "      <th>3</th>\n",
       "      <td>\\n\\nWe here at IBM have the same problem with ...</td>\n",
       "      <td>0</td>\n",
       "    </tr>\n",
       "    <tr>\n",
       "      <th>4</th>\n",
       "      <td>\\nI was at an Adobe seminar/conference/propaga...</td>\n",
       "      <td>0</td>\n",
       "    </tr>\n",
       "  </tbody>\n",
       "</table>\n",
       "</div>"
      ],
      "text/plain": [
       "                                                text  label\n",
       "0  hi all, Ive applied for the class of 93 at qui...      2\n",
       "1  :In article <enea1-270493135255@enea.apple.com...      2\n",
       "2  \\nI don't know the answer the to this one, alt...      0\n",
       "3  \\n\\nWe here at IBM have the same problem with ...      0\n",
       "4  \\nI was at an Adobe seminar/conference/propaga...      0"
      ]
     },
     "execution_count": 9,
     "metadata": {},
     "output_type": "execute_result"
    }
   ],
   "source": [
    "df_test = pd.DataFrame(list(zip(twenty_test.data, twenty_test.target)), columns=['text', 'label'])\n",
    "df_test.head()"
   ]
  },
  {
   "cell_type": "markdown",
   "metadata": {},
   "source": [
    "### Train a neural network with document-term matrix"
   ]
  },
  {
   "cell_type": "markdown",
   "metadata": {},
   "source": [
    "4\\. **In order to feed predictive deep learning models with text data, first you need to turn the text into vectors of numerical values suitable for statistical analysis. Use the binary representation with TfidfVectorizer and create document-term matrices for test and train (name them X_train and X_test).**"
   ]
  },
  {
   "cell_type": "code",
   "execution_count": 10,
   "metadata": {},
   "outputs": [],
   "source": [
    "# A function for transforming train or test into tfidf features\n",
    "def tfidf_features(txt, flag):\n",
    "    if flag == \"train\":\n",
    "        x = tfidf.fit_transform(txt)\n",
    "    else:\n",
    "        x = tfidf.transform(txt)\n",
    "    x = x.astype('float16')\n",
    "    return x \n",
    "\n",
    "tfidf = TfidfVectorizer(binary=True)\n",
    "X_train = tfidf_features(df_train.text.values, flag=\"train\")\n",
    "X_test = tfidf_features(df_test.text.values, flag=\"test\")\n",
    "\n",
    "# With CountVectorizer and without the function\n",
    "# from sklearn.feature_extraction.text import CountVectorizer\n",
    "# count_vect = CountVectorizer()\n",
    "# X_train = count_vect.fit_transform(df_train.text.values)\n",
    "# X_test = count_vect.transform(df_test.text.values)"
   ]
  },
  {
   "cell_type": "code",
   "execution_count": 11,
   "metadata": {},
   "outputs": [
    {
     "data": {
      "text/plain": [
       "111.5678340700442"
      ]
     },
     "execution_count": 11,
     "metadata": {},
     "output_type": "execute_result"
    }
   ],
   "source": [
    "X_train.nnz / float(X_train.shape[0])"
   ]
  },
  {
   "cell_type": "markdown",
   "metadata": {},
   "source": [
    "The extracted vectors are very sparse, with an average of 111 non-zero components by sample in a more than 37000-dimensional space (less than 0.3% non-zero features)"
   ]
  },
  {
   "cell_type": "code",
   "execution_count": 12,
   "metadata": {},
   "outputs": [
    {
     "data": {
      "text/plain": [
       "75.78748724923496"
      ]
     },
     "execution_count": 12,
     "metadata": {},
     "output_type": "execute_result"
    }
   ],
   "source": [
    "X_test.nnz / float(X_train.shape[0])"
   ]
  },
  {
   "cell_type": "code",
   "execution_count": 13,
   "metadata": {},
   "outputs": [
    {
     "data": {
      "text/plain": [
       "{'dr': 11831,\n",
       " 'cheghadr': 7790,\n",
       " 'ba': 5229,\n",
       " 'namakand': 23053,\n",
       " 'they': 33351,\n",
       " 'just': 19216,\n",
       " 'wait': 35850,\n",
       " 'until': 34946,\n",
       " 'are': 4507,\n",
       " 'teenagers': 33019,\n",
       " 'to': 33637,\n",
       " 'kill': 19570,\n",
       " 'them': 33280,\n",
       " 'huh': 17121,\n",
       " 'yup': 36995,\n",
       " 'iri': 18569,\n",
       " 'also': 3839,\n",
       " 'granted': 15615,\n",
       " 'great': 15673,\n",
       " 'deal': 10311,\n",
       " 'of': 24102,\n",
       " 'reconstruction': 27894,\n",
       " 'houses': 17031,\n",
       " 'and': 4048,\n",
       " 'buildings': 6819,\n",
       " 'in': 17695,\n",
       " 'war': 35900,\n",
       " 'torn': 33751,\n",
       " 'areas': 4509,\n",
       " 'malaysia': 21218,\n",
       " 'khak': 19512,\n",
       " 'too': 33713,\n",
       " 'sareshoon': 29498,\n",
       " 'one': 24265,\n",
       " 'the': 33264,\n",
       " 'only': 24281,\n",
       " 'industries': 17864,\n",
       " 'we': 36023,\n",
       " 'really': 27764,\n",
       " 'have': 16323,\n",
       " 'is': 18615,\n",
       " 'construction': 9123,\n",
       " 'there': 33323,\n",
       " 'all': 3748,\n",
       " 'these': 33341,\n",
       " 'unemployed': 34686,\n",
       " 'youth': 36969,\n",
       " 'give': 15292,\n",
       " 'money': 22531,\n",
       " 'do': 11634,\n",
       " 'what': 36180,\n",
       " 'iranians': 18556,\n",
       " 'can': 7145,\n",
       " 'should': 30510,\n",
       " 'be': 5586,\n",
       " 'doing': 11683,\n",
       " 'no': 23621,\n",
       " 'was': 35945,\n",
       " 'lucky': 20918,\n",
       " 'ones': 24270,\n",
       " 'very': 35472,\n",
       " 'little': 20671,\n",
       " 'acne': 3130,\n",
       " 'as': 4694,\n",
       " 'teenager': 33018,\n",
       " 'didn': 11078,\n",
       " 'any': 4271,\n",
       " 'luck': 20916,\n",
       " 'with': 36408,\n",
       " 'clearasil': 8185,\n",
       " 'even': 13206,\n",
       " 'though': 33413,\n",
       " 'my': 22975,\n",
       " 'skin': 30846,\n",
       " 'gets': 15199,\n",
       " 'oily': 24162,\n",
       " 'it': 18719,\n",
       " 'miserable': 22296,\n",
       " 'pimples': 25835,\n",
       " 'when': 36195,\n",
       " 'dry': 11937,\n",
       " 'frequent': 14687,\n",
       " 'lukewarm': 20933,\n",
       " 'water': 35972,\n",
       " 'rinses': 28860,\n",
       " 'on': 24257,\n",
       " 'face': 13628,\n",
       " 'might': 22103,\n",
       " 'help': 16502,\n",
       " 'getting': 15201,\n",
       " 'scalp': 29605,\n",
       " 'thing': 33371,\n",
       " 'under': 34596,\n",
       " 'control': 9253,\n",
       " 'that': 33260,\n",
       " 'could': 9488,\n",
       " 'simple': 30690,\n",
       " 'submerging': 32180,\n",
       " 'bathwater': 5534,\n",
       " 'till': 33546,\n",
       " 'softened': 31132,\n",
       " 'washing': 35952,\n",
       " 'out': 24603,\n",
       " 'taking': 32819,\n",
       " 'day': 10266,\n",
       " 'vitamin': 35674,\n",
       " 'mineral': 22206,\n",
       " 've': 35351,\n",
       " 'heard': 16400,\n",
       " 'iodine': 18521,\n",
       " 'causes': 7431,\n",
       " 'trouble': 34140,\n",
       " 'used': 35080,\n",
       " 'fast': 13805,\n",
       " 'food': 14393,\n",
       " 'restaurants': 28550,\n",
       " 'sterilize': 31837,\n",
       " 'equipment': 12926,\n",
       " 'which': 36213,\n",
       " 'where': 36198,\n",
       " 'belief': 5741,\n",
       " 'greasy': 15672,\n",
       " 'foods': 14395,\n",
       " 'cause': 7429,\n",
       " 'came': 7121,\n",
       " 'from': 14727,\n",
       " 'notice': 23770,\n",
       " 'grease': 15671,\n",
       " 'not': 23752,\n",
       " 'immediately': 17553,\n",
       " 'removed': 28255,\n",
       " 'will': 36313,\n",
       " 'eating': 12165,\n",
       " 'meat': 21706,\n",
       " 'keeping': 19412,\n",
       " 'hair': 16014,\n",
       " 'rinse': 28859,\n",
       " 'mousse': 22731,\n",
       " 'dip': 11193,\n",
       " 'spray': 31549,\n",
       " 'off': 24103,\n",
       " 'warm': 35913,\n",
       " 'bath': 5527,\n",
       " 'soaks': 31084,\n",
       " 'or': 24400,\n",
       " 'cloths': 8275,\n",
       " 'soften': 31131,\n",
       " 'oil': 24159,\n",
       " 'pores': 26243,\n",
       " 'prevent': 26657,\n",
       " 'blackheads': 6106,\n",
       " 'body': 6281,\n",
       " 'hydrophilic': 17236,\n",
       " 'loves': 20872,\n",
       " 'softens': 31134,\n",
       " 'washes': 35951,\n",
       " 'has': 16267,\n",
       " 'chance': 7656,\n",
       " 'why': 36262,\n",
       " 'goes': 15439,\n",
       " 'limp': 20555,\n",
       " 'oilyness': 24163,\n",
       " 'becoming': 5632,\n",
       " 'convinced': 9305,\n",
       " 'best': 5881,\n",
       " 'whitehead': 36229,\n",
       " 'leave': 20230,\n",
       " 'alone': 3815,\n",
       " 'save': 29569,\n",
       " 'him': 16697,\n",
       " 'days': 10275,\n",
       " 'pimple': 25834,\n",
       " 'misery': 22298,\n",
       " 'prying': 27056,\n",
       " 'black': 6101,\n",
       " 'whiteheads': 36230,\n",
       " 'infections': 17913,\n",
       " 'red': 27932,\n",
       " 'spots': 31538,\n",
       " 'usually': 35104,\n",
       " 'break': 6555,\n",
       " 'naturally': 23140,\n",
       " 'won': 36476,\n",
       " 'an': 3984,\n",
       " 'infection': 17912,\n",
       " 'afterwards': 3454,\n",
       " 'tell': 33066,\n",
       " 'normal': 23716,\n",
       " 'some': 31196,\n",
       " 'but': 6940,\n",
       " 'cosmetic': 9458,\n",
       " 'industry': 17867,\n",
       " 'makes': 21202,\n",
       " 'selling': 30030,\n",
       " 'people': 25393,\n",
       " 'idea': 17352,\n",
       " 'incredible': 17779,\n",
       " 'defect': 10476,\n",
       " 'hidden': 16650,\n",
       " 'at': 4867,\n",
       " 'cost': 9470,\n",
       " 'causing': 7433,\n",
       " 'more': 22615,\n",
       " 'after': 3445,\n",
       " 'small': 30976,\n",
       " 'refresh': 28026,\n",
       " 'hasan': 16268,\n",
       " 'got': 15519,\n",
       " 'track': 33836,\n",
       " 'again': 3464,\n",
       " 'get': 15196,\n",
       " 'impression': 17670,\n",
       " 'realized': 27760,\n",
       " 'he': 16365,\n",
       " 'goofed': 15492,\n",
       " 'now': 23802,\n",
       " 'trying': 34184,\n",
       " 'drop': 11914,\n",
       " 'thread': 33425,\n",
       " 'let': 20361,\n",
       " 'miniscule': 22226,\n",
       " 'portion': 26254,\n",
       " 'his': 16742,\n",
       " 'sorry': 31250,\n",
       " 'since': 30721,\n",
       " 'am': 3883,\n",
       " 'logical': 20766,\n",
       " 'person': 25515,\n",
       " 'who': 36241,\n",
       " 'likes': 20529,\n",
       " 'furthering': 14854,\n",
       " 'himself': 16701,\n",
       " 'name': 23055,\n",
       " 'calling': 7091,\n",
       " 'started': 31721,\n",
       " 'trashing': 33980,\n",
       " 'article': 4665,\n",
       " 'contains': 9164,\n",
       " 'such': 32276,\n",
       " 'abuses': 2970,\n",
       " 'without': 36425,\n",
       " 'responding': 28536,\n",
       " 'sometimes': 31211,\n",
       " 'reading': 27733,\n",
       " 'articles': 4666,\n",
       " 'written': 36618,\n",
       " 'by': 6982,\n",
       " 'those': 33411,\n",
       " 'acquired': 3138,\n",
       " 'bad': 5288,\n",
       " 'habits': 15975,\n",
       " 'company': 8665,\n",
       " 'ah': 3531,\n",
       " 'followup': 14381,\n",
       " 'subject': 32169,\n",
       " 'you': 36949,\n",
       " 'way': 35998,\n",
       " 'never': 23405,\n",
       " 'bothered': 6428,\n",
       " 'hence': 16532,\n",
       " 'assumption': 4826,\n",
       " 'feel': 13915,\n",
       " 'up': 34984,\n",
       " 'so': 31080,\n",
       " 'answer': 4194,\n",
       " 'your': 36958,\n",
       " 'memory': 21841,\n",
       " 'does': 11670,\n",
       " 'human': 17129,\n",
       " 'right': 28825,\n",
       " 'issue': 18703,\n",
       " 'area': 4508,\n",
       " 'apply': 4370,\n",
       " 'palestinians': 24913,\n",
       " 'claim': 8103,\n",
       " 'forfeiting': 14472,\n",
       " 'if': 17397,\n",
       " 'possible': 26298,\n",
       " 'then': 33287,\n",
       " 'explain': 13470,\n",
       " 'rest': 28547,\n",
       " 'us': 35068,\n",
       " 'how': 17042,\n",
       " 'exist': 13396,\n",
       " 'use': 35078,\n",
       " 'logic': 20764,\n",
       " 'convince': 9304,\n",
       " 'this': 33388,\n",
       " 'golden': 15451,\n",
       " 'jonas': 19054,\n",
       " 'flygare': 14330,\n",
       " 'well': 36118,\n",
       " 'ok': 24170,\n",
       " 'see': 29960,\n",
       " 'master': 21495,\n",
       " 'wisdom': 36389,\n",
       " 'mr': 22771,\n",
       " 'wrote': 36627,\n",
       " 'wisdomely': 36390,\n",
       " 'responded': 28533,\n",
       " 'names': 23061,\n",
       " 'giving': 15297,\n",
       " 'me': 21674,\n",
       " 'title': 33611,\n",
       " 'first': 14153,\n",
       " 'read': 27725,\n",
       " 'paragraph': 25001,\n",
       " 'above': 2917,\n",
       " 'accept': 2999,\n",
       " 'order': 24420,\n",
       " 'into': 18413,\n",
       " 'um': 34482,\n",
       " 'debate': 10334,\n",
       " 'flax': 14237,\n",
       " 'case': 7360,\n",
       " 'didnot': 11079,\n",
       " 'know': 19704,\n",
       " 'palestineans': 24910,\n",
       " 'were': 36134,\n",
       " 'for': 14418,\n",
       " '18': 736,\n",
       " 'months': 22582,\n",
       " 'coming': 8562,\n",
       " 'back': 5252,\n",
       " 'agree': 3518,\n",
       " 'their': 33273,\n",
       " 'rights': 28833,\n",
       " 'afterall': 3446,\n",
       " 'arenot': 4515,\n",
       " 'negotiable': 23265,\n",
       " 'correct': 9414,\n",
       " 'wrong': 36621,\n",
       " 'isn': 18662,\n",
       " 'life': 20489,\n",
       " '_also_': 2595,\n",
       " 'everybody': 13226,\n",
       " 'however': 17047,\n",
       " 'killer': 19574,\n",
       " 'kills': 19581,\n",
       " 'willingly': 36323,\n",
       " 'unwillingly': 34972,\n",
       " 'society': 31108,\n",
       " 'represented': 28378,\n",
       " 'goverment': 15532,\n",
       " 'would': 36574,\n",
       " 'exercise': 13372,\n",
       " 'its': 18746,\n",
       " 'duty': 12058,\n",
       " 'depriving': 10752,\n",
       " 'israel': 18685,\n",
       " 'israelis': 18689,\n",
       " 'old': 24190,\n",
       " 'eye': 13581,\n",
       " 'thinking': 33377,\n",
       " 'funny': 14840,\n",
       " 'thought': 33414,\n",
       " 'modern': 22453,\n",
       " 'legal': 20269,\n",
       " 'systems': 32749,\n",
       " 'made': 21095,\n",
       " 'counter': 9502,\n",
       " 'exactly': 13271,\n",
       " 'expect': 13429,\n",
       " 'wsidom': 36637,\n",
       " 'insist': 18146,\n",
       " 'titles': 33614,\n",
       " 'did': 11075,\n",
       " 'ask': 4728,\n",
       " 'least': 20226,\n",
       " 'spell': 31429,\n",
       " 'correctly': 9419,\n",
       " 'sigh': 30621,\n",
       " 'intentionally': 18271,\n",
       " 'neglecting': 23258,\n",
       " 'most': 22679,\n",
       " 'important': 17653,\n",
       " 'fact': 13647,\n",
       " 'whole': 36245,\n",
       " 'israeli': 18686,\n",
       " 'presence': 26584,\n",
       " 'occupied': 24039,\n",
       " 'territories': 33177,\n",
       " 'illegitimate': 17469,\n",
       " 'actions': 3155,\n",
       " 'courts': 9542,\n",
       " 'laws': 20159,\n",
       " 'ground': 15777,\n",
       " '_not_': 2733,\n",
       " 'merely': 21902,\n",
       " 'asking': 4737,\n",
       " 'whether': 36208,\n",
       " 'existance': 13397,\n",
       " 'citicens': 8078,\n",
       " 'wb': 36007,\n",
       " 'gaza': 15031,\n",
       " 'invalidates': 18466,\n",
       " 'individuals': 17845,\n",
       " 'live': 20685,\n",
       " 'eloquently': 12467,\n",
       " 'put': 27240,\n",
       " 'question': 27364,\n",
       " 'law': 20153,\n",
       " 'later': 20102,\n",
       " 'adressed': 3317,\n",
       " 'point': 26095,\n",
       " 'post': 26300,\n",
       " 'occupying': 24044,\n",
       " 'automatically': 5074,\n",
       " 'itself': 18747,\n",
       " 'similar': 30680,\n",
       " 'automatic': 5073,\n",
       " 'deprivation': 10749,\n",
       " 'state': 31736,\n",
       " 'deprive': 10750,\n",
       " 'citizens': 8084,\n",
       " '_any_': 2600,\n",
       " 'living': 20695,\n",
       " 'today': 33649,\n",
       " 'conjugtion': 9006,\n",
       " 'group': 15783,\n",
       " 'occupies': 24042,\n",
       " 'others': 24567,\n",
       " 'rule': 29208,\n",
       " 'force': 14429,\n",
       " 'deprived': 10751,\n",
       " 'nice': 23494,\n",
       " 'swedish': 32611,\n",
       " 'government': 15539,\n",
       " 'consider': 9066,\n",
       " 'yourself': 36963,\n",
       " 'posed': 26267,\n",
       " 'worthy': 36570,\n",
       " 'here': 16564,\n",
       " 'applying': 4371,\n",
       " 'related': 28137,\n",
       " 'problem': 26761,\n",
       " 'assume': 4822,\n",
       " 'admit': 3292,\n",
       " 'wouldn': 36575,\n",
       " 'hold': 16839,\n",
       " 'kind': 19592,\n",
       " 'much': 22807,\n",
       " 'another': 4189,\n",
       " 'found': 14562,\n",
       " 'certain': 7576,\n",
       " 'system': 32745,\n",
       " 'international': 18342,\n",
       " 'convenient': 9271,\n",
       " 'start': 31720,\n",
       " 'using': 35095,\n",
       " 'prove': 27016,\n",
       " 'excuse': 13347,\n",
       " 'while': 36215,\n",
       " 'throw': 33458,\n",
       " 'throwing': 33460,\n",
       " 'stay': 31770,\n",
       " 'away': 5157,\n",
       " 'screen': 29814,\n",
       " 'oh': 24151,\n",
       " 'watch': 35964,\n",
       " 'comedy': 8549,\n",
       " 'pipe': 25854,\n",
       " 'through': 33455,\n",
       " 'telephone': 33050,\n",
       " 'll': 20704,\n",
       " 'secret': 29926,\n",
       " 'real': 27742,\n",
       " 'take': 32812,\n",
       " 'word': 36504,\n",
       " 'seems': 29975,\n",
       " 'dept': 10753,\n",
       " 'looking': 20799,\n",
       " 'other': 24563,\n",
       " 'around': 4617,\n",
       " 'violence': 35609,\n",
       " 'occurs': 24054,\n",
       " 'anyway': 4281,\n",
       " 'hamas': 16073,\n",
       " 'obviously': 24022,\n",
       " 'turned': 34283,\n",
       " 'islamic': 18647,\n",
       " 'propose': 26954,\n",
       " 'solve': 31185,\n",
       " 'because': 5625,\n",
       " 'minister': 22228,\n",
       " 'sharon': 30341,\n",
       " 'says': 29586,\n",
       " 'kick': 19550,\n",
       " 'palestine': 24908,\n",
       " 'asked': 4732,\n",
       " 'preserve': 26595,\n",
       " 'involved': 18511,\n",
       " 'assumed': 4823,\n",
       " 'obvious': 24021,\n",
       " 'repeat': 28312,\n",
       " 'mistake': 22344,\n",
       " 'straightened': 31982,\n",
       " 'eagerly': 12111,\n",
       " 'awaiting': 5146,\n",
       " 'reply': 28353,\n",
       " 'joseph': 19072,\n",
       " 'weitz': 36109,\n",
       " 'administrator': 3282,\n",
       " 'responsible': 28544,\n",
       " 'jewish': 18949,\n",
       " 'colonization': 8486,\n",
       " 'said': 29373,\n",
       " 'writing': 36615,\n",
       " 'diary': 11046,\n",
       " '1940': 824,\n",
       " 'between': 5902,\n",
       " 'ourselves': 24599,\n",
       " 'must': 22940,\n",
       " 'clear': 8183,\n",
       " 'room': 29058,\n",
       " 'both': 6425,\n",
       " 'peoples': 25394,\n",
       " 'together': 33658,\n",
       " 'country': 9517,\n",
       " 'shall': 30300,\n",
       " 'achieve': 3097,\n",
       " 'our': 24595,\n",
       " 'goal': 15403,\n",
       " 'being': 5716,\n",
       " 'independent': 17802,\n",
       " 'arabs': 4446,\n",
       " 'solution': 31182,\n",
       " 'western': 36151,\n",
       " 'west': 36146,\n",
       " 'jordan': 19062,\n",
       " 'river': 28900,\n",
       " 'than': 33251,\n",
       " 'transfer': 33909,\n",
       " 'neighbouring': 23285,\n",
       " 'countries': 9516,\n",
       " 'village': 35580,\n",
       " 'tribe': 34060,\n",
       " 'left': 20261,\n",
       " 'able': 2896,\n",
       " 'absorb': 2946,\n",
       " 'millions': 22177,\n",
       " 'own': 24768,\n",
       " 'brethren': 6600,\n",
       " 'davar': 10237,\n",
       " '29': 1203,\n",
       " 'september': 30129,\n",
       " '1967': 854,\n",
       " 'courtesy': 9538,\n",
       " 'marc': 21346,\n",
       " 'afifi': 3430,\n",
       " 'disregard': 11456,\n",
       " 'rather': 27627,\n",
       " 'references': 27993,\n",
       " 'plo': 26017,\n",
       " 'covenant': 9547,\n",
       " 'charter': 7730,\n",
       " 'english': 12724,\n",
       " 'translations': 33943,\n",
       " 'information': 17971,\n",
       " 'interested': 18305,\n",
       " 'translate': 33937,\n",
       " 'credence': 9655,\n",
       " '_private_': 2753,\n",
       " 'paper': 24973,\n",
       " 'older': 24193,\n",
       " 'going': 15442,\n",
       " 'fairly': 13689,\n",
       " 'parties': 25095,\n",
       " 'conflict': 8961,\n",
       " 'share': 30331,\n",
       " 'fanatics': 13749,\n",
       " 'guess': 15862,\n",
       " 'make': 21196,\n",
       " 'lasting': 20095,\n",
       " 'peace': 25288,\n",
       " 'region': 28064,\n",
       " 'ever': 13217,\n",
       " 'willing': 36322,\n",
       " 'tabula': 32777,\n",
       " 'rasa': 27601,\n",
       " 'over': 24667,\n",
       " 'something': 31207,\n",
       " 'either': 12356,\n",
       " 'refers': 28000,\n",
       " 'zionists': 37100,\n",
       " 'jews': 18952,\n",
       " 'donot': 11738,\n",
       " 'suggest': 32315,\n",
       " 'imperialist': 17620,\n",
       " 'solving': 31189,\n",
       " 'think': 33373,\n",
       " 'fair': 13684,\n",
       " 'enough': 12757,\n",
       " 'provided': 27025,\n",
       " 'contradiction': 9228,\n",
       " 'takes': 32818,\n",
       " 'land': 20011,\n",
       " 'greatest': 15675,\n",
       " 'zionism': 37097,\n",
       " 'arab': 4440,\n",
       " 'children': 7863,\n",
       " 'rabbi': 27425,\n",
       " 'shoham': 30470,\n",
       " 'add': 3212,\n",
       " 'cute': 9979,\n",
       " 'quotes': 27408,\n",
       " 'end': 12652,\n",
       " 'bummer': 6855,\n",
       " 'try': 34183,\n",
       " 'posts': 26323,\n",
       " 'credit': 9659,\n",
       " 'before': 5672,\n",
       " 'excited': 13327,\n",
       " 'implying': 17649,\n",
       " 'posting': 26315,\n",
       " 'fabrications': 13625,\n",
       " 'readers': 27729,\n",
       " 'consult': 9135,\n",
       " 'newspaper': 23443,\n",
       " 'tahnks': 32800,\n",
       " 'posted': 26309,\n",
       " 'disp135': 11405,\n",
       " 'zip': 37101,\n",
       " 'alt': 3840,\n",
       " 'binaries': 5994,\n",
       " 'pictures': 25781,\n",
       " 'utilities': 35120,\n",
       " 'may': 21577,\n",
       " 'distribute': 11524,\n",
       " 'program': 26835,\n",
       " 'freely': 14666,\n",
       " 'non': 23660,\n",
       " 'commercial': 8601,\n",
       " 'fee': 13907,\n",
       " 'gained': 14892,\n",
       " 'warranty': 35929,\n",
       " 'author': 5048,\n",
       " 'damage': 10096,\n",
       " 'caused': 7430,\n",
       " 'changes': 7666,\n",
       " 'version': 35455,\n",
       " '30': 1242,\n",
       " 'fix': 14178,\n",
       " 'bugs': 6813,\n",
       " 'file': 14061,\n",
       " 'management': 21262,\n",
       " 'displaying': 11432,\n",
       " 'improve': 17680,\n",
       " 'user': 35089,\n",
       " 'friendly': 14709,\n",
       " 'bug': 6807,\n",
       " 'xpm': 36743,\n",
       " 'targa': 32894,\n",
       " 'writng': 36617,\n",
       " 'gem': 15072,\n",
       " 'img': 17534,\n",
       " 'support': 32459,\n",
       " 'pcx': 25275,\n",
       " 'auto': 5062,\n",
       " 'skip': 30852,\n",
       " 'macbinary': 21031,\n",
       " 'header': 16373,\n",
       " 'introduction': 18444,\n",
       " 'write': 36610,\n",
       " 'display': 11429,\n",
       " 'images': 17512,\n",
       " 'different': 11104,\n",
       " 'formats': 14505,\n",
       " 'special': 31370,\n",
       " 'effects': 12297,\n",
       " 'rotation': 29099,\n",
       " 'dithering': 11547,\n",
       " 'image': 17501,\n",
       " 'main': 21167,\n",
       " 'purpose': 27222,\n",
       " 'convert': 9286,\n",
       " 'among': 3960,\n",
       " 'formts': 14514,\n",
       " 'include': 17739,\n",
       " 'slide': 30921,\n",
       " 'show': 30524,\n",
       " 'limit': 20547,\n",
       " 'size': 30800,\n",
       " 'currently': 9943,\n",
       " 'supports': 32467,\n",
       " '15': 624,\n",
       " '16': 678,\n",
       " '24': 1069,\n",
       " 'bits': 6085,\n",
       " 'want': 35895,\n",
       " 'hicolor': 16647,\n",
       " 'truecolor': 34157,\n",
       " 'vesa': 35473,\n",
       " 'driver': 11906,\n",
       " 'modify': 22466,\n",
       " 'video': 35533,\n",
       " 'please': 25997,\n",
       " 'section': 29937,\n",
       " 'hardware': 16217,\n",
       " 'requirement': 28422,\n",
       " 'pc': 25262,\n",
       " '386': 1426,\n",
       " 'better': 5898,\n",
       " 'msdos': 22784,\n",
       " 'higher': 16666,\n",
       " 'min': 22190,\n",
       " 'amount': 3964,\n",
       " 'ram': 27533,\n",
       " '4m': 1642,\n",
       " 'bytes': 6995,\n",
       " 'maybe': 21578,\n",
       " 'less': 20353,\n",
       " 'work': 36517,\n",
       " 'recommend': 27873,\n",
       " '8m': 2329,\n",
       " 'performance': 25429,\n",
       " 'hard': 16195,\n",
       " 'disk': 11369,\n",
       " 'swapping': 32598,\n",
       " 'virtual': 35621,\n",
       " 'following': 14378,\n",
       " 'description': 10810,\n",
       " 'borrowed': 6404,\n",
       " 'djgpp': 11595,\n",
       " 'supported': 32461,\n",
       " 'wares': 35909,\n",
       " '128m': 482,\n",
       " 'extended': 13529,\n",
       " 'expanded': 13419,\n",
       " 'vcpi': 35345,\n",
       " 'space': 31307,\n",
       " 'supervga': 32436,\n",
       " '256': 1119,\n",
       " 'color': 8491,\n",
       " 'mode': 22428,\n",
       " '1024x768': 193,\n",
       " '80387': 2174,\n",
       " 'xms': 36739,\n",
       " 'vdisk': 35350,\n",
       " 'allocation': 3792,\n",
       " 'strategies': 32004,\n",
       " 'programs': 26846,\n",
       " 'qemm': 27278,\n",
       " 'desqview': 10865,\n",
       " '386max': 1429,\n",
       " 'unsupported': 34936,\n",
       " 'dpmi': 11827,\n",
       " 'microsoft': 22074,\n",
       " 'windows': 36345,\n",
       " 'features': 13888,\n",
       " 'emulator': 12609,\n",
       " '32': 1290,\n",
       " 'bit': 6067,\n",
       " 'unix': 34809,\n",
       " 'ish': 18632,\n",
       " 'environment': 12832,\n",
       " 'flat': 14218,\n",
       " 'model': 22429,\n",
       " 'svga': 32580,\n",
       " 'graphics': 15630,\n",
       " 'installation': 18178,\n",
       " 'drivers': 11907,\n",
       " 'emu387': 12605,\n",
       " 'go32': 15402,\n",
       " 'exe': 13350,\n",
       " 'digital': 11128,\n",
       " 'vga': 35496,\n",
       " 'chips': 7887,\n",
       " 'readme': 27735,\n",
       " 'wd': 36019,\n",
       " 'modified': 22464,\n",
       " 'completely': 8747,\n",
       " 'compatible': 8706,\n",
       " 'original': 24478,\n",
       " 'report': 28358,\n",
       " 'encounter': 12637,\n",
       " 'don': 11716,\n",
       " 'within': 36424,\n",
       " 'search': 29891,\n",
       " 'path': 25178,\n",
       " 'runme': 29230,\n",
       " 'bat': 5522,\n",
       " 'run': 29226,\n",
       " 'choose': 7913,\n",
       " 'xxxxx': 36791,\n",
       " 'grn': 15761,\n",
       " 'nc': 23172,\n",
       " 'example': 13286,\n",
       " '80x87': 2185,\n",
       " 'emu': 12604,\n",
       " 'grd': 15670,\n",
       " 'notes': 23763,\n",
       " 'test': 33199,\n",
       " 'tr8900': 33826,\n",
       " 'et4000': 13105,\n",
       " 'tested': 33203,\n",
       " 'need': 23229,\n",
       " 'doesn': 11671,\n",
       " 'except': 13300,\n",
       " 'users': 35092,\n",
       " 'find': 14096,\n",
       " 'bios': 6037,\n",
       " 'wuarchive': 36648,\n",
       " 'wustl': 36652,\n",
       " 'edu': 12263,\n",
       " 'mirrors': 22277,\n",
       " 'godzilla': 15434,\n",
       " 'cgl': 7608,\n",
       " 'rmit': 28920,\n",
       " 'oz': 24793,\n",
       " 'au': 4989,\n",
       " 'kjb': 19650,\n",
       " 'mgl': 22016,\n",
       " 'command': 8567,\n",
       " 'line': 20573,\n",
       " 'switch': 32647,\n",
       " 'usage': 35072,\n",
       " 'initial_display_type': 18040,\n",
       " 'sort': 31251,\n",
       " 'sort_method': 31252,\n",
       " 'type': 34349,\n",
       " 'default': 10471,\n",
       " 'method': 21986,\n",
       " 'ext': 13525,\n",
       " 'function': 14807,\n",
       " 'key': 19486,\n",
       " 'f2': 13610,\n",
       " 'change': 7661,\n",
       " 'drive': 11902,\n",
       " 'ctrl': 9863,\n",
       " 'f3': 13612,\n",
       " 'filename': 14063,\n",
       " 'mask': 21468,\n",
       " 'match': 21507,\n",
       " 'doc': 11641,\n",
       " 'f4': 13613,\n",
       " 'parameters': 25013,\n",
       " 'f5': 13614,\n",
       " 'picture': 25780,\n",
       " 'eg': 12307,\n",
       " 'flip': 14265,\n",
       " 'rotate': 29095,\n",
       " 'f7': 13616,\n",
       " 'directory': 11220,\n",
       " 'tag': 32793,\n",
       " 'files': 14064,\n",
       " 'untag': 34943,\n",
       " 'ins': 18120,\n",
       " 'menu': 21879,\n",
       " 'f6': 13615,\n",
       " 'move': 22742,\n",
       " 'f8': 13617,\n",
       " 'delete': 10578,\n",
       " 'rename': 28261,\n",
       " 'copy': 9360,\n",
       " '10': 147,\n",
       " 'ascii': 4704,\n",
       " 'hex': 16624,\n",
       " 'dec': 10355,\n",
       " 'modes': 22458,\n",
       " 'free': 14659,\n",
       " 'page': 24864,\n",
       " 'down': 11806,\n",
       " 'tab': 32762,\n",
       " 'processing': 26780,\n",
       " 'target': 32896,\n",
       " 'arrow': 4647,\n",
       " 'keys': 19497,\n",
       " 'home': 16874,\n",
       " 'scroll': 29839,\n",
       " 'top': 33722,\n",
       " 'bottom': 6438,\n",
       " 'effect': 12291,\n",
       " 'escape': 13033,\n",
       " 'terminate': 33149,\n",
       " 'quit': 27393,\n",
       " 'prompting': 26899,\n",
       " 'reread': 28428,\n",
       " 'abort': 2911,\n",
       " 'return': 28647,\n",
       " 'format': 14503,\n",
       " 'gif': 15233,\n",
       " 'japan': 18840,\n",
       " 'mag': 21105,\n",
       " 'pic': 25757,\n",
       " 'sun': 32380,\n",
       " 'raster': 27612,\n",
       " 'ras': 27600,\n",
       " 'jpeg': 19103,\n",
       " 'jpg': 19114,\n",
       " 'xbm': 36690,\n",
       " 'utah': 35113,\n",
       " 'rle': 28914,\n",
       " 'pbm': 25258,\n",
       " 'pgm': 25607,\n",
       " 'ppm': 26388,\n",
       " 'pm': 26052,\n",
       " 'mki': 22393,\n",
       " 'tiff': 33524,\n",
       " 'tif': 33523,\n",
       " 'tga': 33240,\n",
       " 'mac': 21027,\n",
       " 'paint': 24880,\n",
       " 'iff': 17398,\n",
       " 'ilbm': 17452,\n",
       " 'lbm': 20182,\n",
       " 'window': 36342,\n",
       " 'bmp': 6245,\n",
       " 'qrt': 27285,\n",
       " 'ray': 27670,\n",
       " 'tracing': 33835,\n",
       " 'pict': 25776,\n",
       " 'pct': 25273,\n",
       " 'vis': 35631,\n",
       " 'pds': 25284,\n",
       " 'viking': 35572,\n",
       " 'vik': 35571,\n",
       " 'vicar': 35515,\n",
       " 'vic': 35514,\n",
       " 'fits': 14172,\n",
       " 'fit': 14167,\n",
       " 'usenix': 35087,\n",
       " 'fac': 13626,\n",
       " 'extensions': 13535,\n",
       " 'standard': 31678,\n",
       " 'laser': 20086,\n",
       " 'jet': 18944,\n",
       " 'full': 14794,\n",
       " 'grey': 15716,\n",
       " 'scale': 29598,\n",
       " 'dither': 11545,\n",
       " 'allowed': 3798,\n",
       " 'detail': 10890,\n",
       " 'initialization': 18042,\n",
       " 'set': 30200,\n",
       " 'highest': 16667,\n",
       " 'allowable': 3796,\n",
       " 'resolution': 28501,\n",
       " 'enter': 12785,\n",
       " 'whthin': 36260,\n",
       " 'press': 26608,\n",
       " 'like': 20520,\n",
       " 'allow': 3795,\n",
       " 'includes': 17741,\n",
       " 'xx': 36783,\n",
       " 'number': 23855,\n",
       " 'tagged': 32795,\n",
       " 'pressing': 26612,\n",
       " 'select': 30009,\n",
       " 'current': 9942,\n",
       " 'determine': 10911,\n",
       " 'procedure': 26769,\n",
       " 'check': 7767,\n",
       " 'magic': 21115,\n",
       " 'fail': 13673,\n",
       " 'extension': 13534,\n",
       " 'still': 31886,\n",
       " 'error': 12995,\n",
       " 'delay': 10570,\n",
       " 'time': 33555,\n",
       " 'hit': 16765,\n",
       " 'beep': 5657,\n",
       " 'once': 24260,\n",
       " 'successfully': 32262,\n",
       " 'turn': 34281,\n",
       " 'graphic': 15627,\n",
       " 'text': 33224,\n",
       " 'allows': 3800,\n",
       " 'white': 36228,\n",
       " 'true': 34155,\n",
       " 'questions': 27372,\n",
       " 'dependent': 10721,\n",
       " 'finally': 14087,\n",
       " 'prompt': 26897,\n",
       " 'write2': 36611,\n",
       " 'selected': 30011,\n",
       " 'bar': 5402,\n",
       " 'greedy': 15681,\n",
       " 'poor': 26217,\n",
       " 'lzw': 21014,\n",
       " 'lossless': 20840,\n",
       " '24bits': 1098,\n",
       " 'storing': 31962,\n",
       " 'subroutines': 32191,\n",
       " 'fully': 14799,\n",
       " 'document': 11655,\n",
       " 'suggestion': 32318,\n",
       " 'comment': 8590,\n",
       " 'about': 2916,\n",
       " 'send': 30070,\n",
       " 'u7711501': 34387,\n",
       " 'bicmos': 5948,\n",
       " 'ee': 12276,\n",
       " 'nctu': 23186,\n",
       " 'tw': 34307,\n",
       " '140': 563,\n",
       " '113': 318,\n",
       " '11': 285,\n",
       " '13': 493,\n",
       " 'anonymous': 4186,\n",
       " ...}"
      ]
     },
     "execution_count": 13,
     "metadata": {},
     "output_type": "execute_result"
    }
   ],
   "source": [
    "tfidf.vocabulary_"
   ]
  },
  {
   "cell_type": "markdown",
   "metadata": {},
   "source": [
    "5\\. **Use the LabelEncoder to create y_train and y_test from df_train.label.values and df_test.label.values respectively.**"
   ]
  },
  {
   "cell_type": "code",
   "execution_count": 14,
   "metadata": {},
   "outputs": [],
   "source": [
    "# Converting the list of strings to the matrix of vectors (to be fed neural network models)\n",
    "# Encode the list of newsgroups into categorical integer values\n",
    "\n",
    "from keras.utils import np_utils\n",
    "\n",
    "lb = LabelEncoder()\n",
    "y = lb.fit_transform(df_train.label.values)\n",
    "y_train = utils.np_utils.to_categorical(y)"
   ]
  },
  {
   "cell_type": "code",
   "execution_count": 15,
   "metadata": {},
   "outputs": [
    {
     "data": {
      "text/plain": [
       "(2941, 5)"
      ]
     },
     "execution_count": 15,
     "metadata": {},
     "output_type": "execute_result"
    }
   ],
   "source": [
    "y_train.shape"
   ]
  },
  {
   "cell_type": "code",
   "execution_count": 16,
   "metadata": {},
   "outputs": [],
   "source": [
    "y = lb.transform(df_test.label.values)\n",
    "y_test = utils.np_utils.to_categorical(y)"
   ]
  },
  {
   "cell_type": "markdown",
   "metadata": {},
   "source": [
    "6\\. **Use the sequential API in Keras and create a one-hidden-layer neural network. So, the first layer will be input layer with the number of features in your X_train, then one hidden layer, then one output layer. Set the number of neurons 5 in the hidden layer and activation function as relu. For the output layer you can use a softmax activation function.**"
   ]
  },
  {
   "cell_type": "markdown",
   "metadata": {},
   "source": [
    "The sequential API (https://www.tensorflow.org/guide/keras/sequential_model) allows you to create models layer by layer. It is limited in that it does not allow to create models that share layers or have multiple inputs or outputs.\n",
    "\n",
    "The functional API (https://www.tensorflow.org/guide/keras/functional) allows you to create models that have a lot more flexibility as you can define models where layers connect to more than just the previous and next layers. In this way, you can connect layers to (literally) any other layer. As a result, creating complex networks such as Siamese neural networks and residual neural networks become possible."
   ]
  },
  {
   "cell_type": "code",
   "execution_count": 17,
   "metadata": {},
   "outputs": [],
   "source": [
    "model = Sequential()\n",
    "input_dim = X_train.shape[1]  # Number of features\n",
    "model.add(layers.Dense(10, input_dim=input_dim, activation='relu'))\n",
    "model.add(layers.Dense(5, activation='softmax'))"
   ]
  },
  {
   "cell_type": "markdown",
   "metadata": {},
   "source": [
    "7\\. **The compile function defines the loss function, the optimizer and the metrics. Call this function for your neural network model with loss='binary_crossentropy', optimizer='adam', metrics=['accuracy']. Check the summary of the model.**"
   ]
  },
  {
   "cell_type": "markdown",
   "metadata": {},
   "source": [
    "| Task           | Output type                       | Last-layer activation | Loss function            | Metric(s) |\n",
    "| ---            | ---                               | ---                   | ---                      | ---       |\n",
    "| Regression     | Numerical                         | Linear                | meanSquaredError (MSE),<br> meanAbsoluteError (MAE) | Same as loss |\n",
    "| Classification | Binary                            | Sigmoid               | binary_crossentropy      | Accuracy, precision, recall, sensitivity, <br> TPR, FPR, ROC, AUC |\n",
    "| Classification | Single label, Multiple classes    | Softmax               | categorical_crossentropy | Accuracy, confusion matrix |\n",
    "| Classification | Multiple labels, Multiple classes | Sigmoid               | binary_crossentropy      | Accuracy, precision, recall, sensitivity, <br> TPR, FPR, ROC, AUC |"
   ]
  },
  {
   "cell_type": "code",
   "execution_count": 18,
   "metadata": {},
   "outputs": [
    {
     "name": "stdout",
     "output_type": "stream",
     "text": [
      "Model: \"sequential\"\n",
      "_________________________________________________________________\n",
      "Layer (type)                 Output Shape              Param #   \n",
      "=================================================================\n",
      "dense (Dense)                (None, 10)                371490    \n",
      "_________________________________________________________________\n",
      "dense_1 (Dense)              (None, 5)                 55        \n",
      "=================================================================\n",
      "Total params: 371,545\n",
      "Trainable params: 371,545\n",
      "Non-trainable params: 0\n",
      "_________________________________________________________________\n"
     ]
    }
   ],
   "source": [
    "model.compile(loss='binary_crossentropy', \n",
    "              optimizer='adam', \n",
    "              metrics=['accuracy'])\n",
    "model.summary()"
   ]
  },
  {
   "cell_type": "markdown",
   "metadata": {},
   "source": [
    "8\\. **Time to train your model! Train your model in 20 iterations. What does batch_size represent?**"
   ]
  },
  {
   "cell_type": "code",
   "execution_count": 19,
   "metadata": {},
   "outputs": [
    {
     "name": "stdout",
     "output_type": "stream",
     "text": [
      "Epoch 1/20\n",
      "6/6 [==============================] - 0s 5ms/step - loss: 0.4990 - accuracy: 0.4145\n",
      "Epoch 2/20\n",
      "6/6 [==============================] - 0s 5ms/step - loss: 0.4911 - accuracy: 0.7232\n",
      "Epoch 3/20\n",
      "6/6 [==============================] - 0s 5ms/step - loss: 0.4819 - accuracy: 0.7678\n",
      "Epoch 4/20\n",
      "6/6 [==============================] - 0s 5ms/step - loss: 0.4721 - accuracy: 0.8004\n",
      "Epoch 5/20\n",
      "6/6 [==============================] - 0s 5ms/step - loss: 0.4620 - accuracy: 0.8239\n",
      "Epoch 6/20\n",
      "6/6 [==============================] - 0s 5ms/step - loss: 0.4515 - accuracy: 0.8399\n",
      "Epoch 7/20\n",
      "6/6 [==============================] - 0s 5ms/step - loss: 0.4405 - accuracy: 0.8596\n",
      "Epoch 8/20\n",
      "6/6 [==============================] - 0s 5ms/step - loss: 0.4292 - accuracy: 0.8749\n",
      "Epoch 9/20\n",
      "6/6 [==============================] - 0s 5ms/step - loss: 0.4176 - accuracy: 0.8854\n",
      "Epoch 10/20\n",
      "6/6 [==============================] - 0s 4ms/step - loss: 0.4056 - accuracy: 0.8949\n",
      "Epoch 11/20\n",
      "6/6 [==============================] - 0s 5ms/step - loss: 0.3934 - accuracy: 0.9024\n",
      "Epoch 12/20\n",
      "6/6 [==============================] - 0s 5ms/step - loss: 0.3810 - accuracy: 0.9082\n",
      "Epoch 13/20\n",
      "6/6 [==============================] - 0s 5ms/step - loss: 0.3683 - accuracy: 0.9167\n",
      "Epoch 14/20\n",
      "6/6 [==============================] - 0s 5ms/step - loss: 0.3556 - accuracy: 0.9266\n",
      "Epoch 15/20\n",
      "6/6 [==============================] - ETA: 0s - loss: 0.3504 - accuracy: 0.93 - 0s 5ms/step - loss: 0.3429 - accuracy: 0.9337\n",
      "Epoch 16/20\n",
      "6/6 [==============================] - 0s 4ms/step - loss: 0.3301 - accuracy: 0.9381\n",
      "Epoch 17/20\n",
      "6/6 [==============================] - 0s 5ms/step - loss: 0.3174 - accuracy: 0.9442\n",
      "Epoch 18/20\n",
      "6/6 [==============================] - 0s 5ms/step - loss: 0.3048 - accuracy: 0.9476\n",
      "Epoch 19/20\n",
      "6/6 [==============================] - ETA: 0s - loss: 0.2989 - accuracy: 0.94 - 0s 5ms/step - loss: 0.2924 - accuracy: 0.9507\n",
      "Epoch 20/20\n",
      "6/6 [==============================] - 0s 5ms/step - loss: 0.2802 - accuracy: 0.9538\n"
     ]
    }
   ],
   "source": [
    "history = model.fit(X_train, y_train, epochs=20, batch_size=512)\n",
    "# model.save_weights(\"model.h5\")\n",
    "# print(\"Saved model to disk\")"
   ]
  },
  {
   "cell_type": "markdown",
   "metadata": {},
   "source": [
    "Note that if you rerun the fit() method, you will start off with the computed weights from the previous training. Make sure to call clear_session() before you start training the model again:\n",
    "\n",
    "**from keras.backend import clear_session <br>\n",
    "clear_session()**"
   ]
  },
  {
   "cell_type": "markdown",
   "metadata": {},
   "source": [
    "9\\. **Plot the accuracy and loss of your trained model.**"
   ]
  },
  {
   "cell_type": "code",
   "execution_count": 20,
   "metadata": {},
   "outputs": [
    {
     "name": "stdout",
     "output_type": "stream",
     "text": [
      "dict_keys(['loss', 'accuracy'])\n"
     ]
    },
    {
     "data": {
      "image/png": "[encoded data removed]",
      "text/plain": [
       "<Figure size 432x288 with 1 Axes>"
      ]
     },
     "metadata": {
      "needs_background": "light"
     },
     "output_type": "display_data"
    },
    {
     "data": {
      "image/png": "[encoded data removed]",
      "text/plain": [
       "<Figure size 432x288 with 1 Axes>"
      ]
     },
     "metadata": {
      "needs_background": "light"
     },
     "output_type": "display_data"
    }
   ],
   "source": [
    "print(history.history.keys())\n",
    "plt.plot(history.history['accuracy'])\n",
    "#plt.plot(history.history['val_acc'])\n",
    "plt.title('model accuracy')\n",
    "plt.ylabel('accuracy')\n",
    "plt.xlabel('epoch')\n",
    "plt.legend(['train', 'test'], loc='upper left')\n",
    "plt.show()\n",
    "\n",
    "# summarize history for loss\n",
    "plt.plot(history.history['loss'])\n",
    "# plt.plot(history.history['val_loss'])\n",
    "plt.title('model loss')\n",
    "plt.ylabel('loss')\n",
    "plt.xlabel('epoch')\n",
    "plt.legend(['train', 'test'], loc='upper left')\n",
    "plt.show()"
   ]
  },
  {
   "cell_type": "code",
   "execution_count": 21,
   "metadata": {},
   "outputs": [],
   "source": [
    "# Here we converted the code to a function so we can use it later as well\n",
    "plt.style.use('ggplot')\n",
    "\n",
    "def plot_history(history, val=0):\n",
    "    acc = history.history['accuracy']\n",
    "    if val == 1:\n",
    "        val_acc = history.history['val_accuracy'] # we can add a validation set in our fit function with nn\n",
    "    loss = history.history['loss']\n",
    "    if val == 1:\n",
    "        val_loss = history.history['val_loss']\n",
    "    x = range(1, len(acc) + 1)\n",
    "\n",
    "    plt.figure(figsize=(12, 5))\n",
    "    plt.subplot(1, 2, 1)\n",
    "    plt.plot(x, acc, 'b', label='Training accuracy')\n",
    "    if val == 1:\n",
    "        plt.plot(x, val_acc, 'r', label='Validation accuracy')\n",
    "    plt.ylabel('accuracy')\n",
    "    plt.xlabel('epoch')\n",
    "    plt.title('Accuracy')\n",
    "    plt.legend()\n",
    "    plt.subplot(1, 2, 2)\n",
    "    plt.plot(x, loss, 'b', label='Training loss')\n",
    "    if val == 1:\n",
    "        plt.plot(x, val_loss, 'r', label='Validation loss')\n",
    "    plt.ylabel('loss')\n",
    "    plt.xlabel('epoch')\n",
    "    plt.title('Loss')\n",
    "    plt.legend()"
   ]
  },
  {
   "cell_type": "code",
   "execution_count": 22,
   "metadata": {},
   "outputs": [
    {
     "data": {
      "image/png": "[encoded data removed]",
      "text/plain": [
       "<Figure size 864x360 with 2 Axes>"
      ]
     },
     "metadata": {},
     "output_type": "display_data"
    }
   ],
   "source": [
    "plot_history(history)"
   ]
  },
  {
   "cell_type": "markdown",
   "metadata": {},
   "source": [
    "10\\. **Evaluate the accuracy of your trained model on the test set. Compare that with the accuarcy of train.**"
   ]
  },
  {
   "cell_type": "code",
   "execution_count": 23,
   "metadata": {},
   "outputs": [
    {
     "name": "stdout",
     "output_type": "stream",
     "text": [
      "62/62 [==============================] - 0s 943us/step - loss: 0.3396 - accuracy: 0.8381\n",
      "Test set\n",
      "  Loss: 0.340\n",
      "  Accuracy: 0.838\n"
     ]
    }
   ],
   "source": [
    "loss, accuracy = model.evaluate(X_test,y_test)\n",
    "print('Test set\\n  Loss: {:0.3f}\\n  Accuracy: {:0.3f}'.format(loss,accuracy))"
   ]
  },
  {
   "cell_type": "markdown",
   "metadata": {},
   "source": [
    "You can already see that the model was overfitting since it reached over 95% accuracy for the training set. When training a model, you can use a separate testing and validation set. What you would usually do is take the model with the highest validation accuracy and then test the model with the testing set."
   ]
  },
  {
   "cell_type": "markdown",
   "metadata": {},
   "source": [
    "# The embedding layer"
   ]
  },
  {
   "cell_type": "markdown",
   "metadata": {},
   "source": [
    "Here we want to create a sequentional model with an embedding layer as the input layer and dense layer as the next layers. To do this first we need to apply the tokenizer from Keras and convert text data into sequences to be ready for the embedding layer."
   ]
  },
  {
   "cell_type": "markdown",
   "metadata": {},
   "source": [
    "11\\. **Use the tokenizer from Keras with 20000 words and create X-train and X_test sequences.**"
   ]
  },
  {
   "cell_type": "code",
   "execution_count": 24,
   "metadata": {},
   "outputs": [],
   "source": [
    "tokenizer = Tokenizer(num_words=20000)\n",
    "tokenizer.fit_on_texts(df_train.text.values)"
   ]
  },
  {
   "cell_type": "code",
   "execution_count": 25,
   "metadata": {},
   "outputs": [],
   "source": [
    "X_train = tokenizer.texts_to_sequences(df_train.text.values)\n",
    "X_test = tokenizer.texts_to_sequences(df_test.text.values)"
   ]
  },
  {
   "cell_type": "code",
   "execution_count": 26,
   "metadata": {},
   "outputs": [
    {
     "data": {
      "text/plain": [
       "38111"
      ]
     },
     "execution_count": 26,
     "metadata": {},
     "output_type": "execute_result"
    }
   ],
   "source": [
    "vocab_size = len(tokenizer.word_index) + 1  # Adding 1 because of reserved 0 index for sequence padding\n",
    "vocab_size"
   ]
  },
  {
   "cell_type": "markdown",
   "metadata": {},
   "source": [
    "Note that the a document-term matrix uses vectors of word counts, and each vector has the same length (the size of the total corpus vocabulary). With Keras Tokenizer, the resulting vectors equal the length of each text, and the numbers don’t denote counts, but rather correspond to the word values from the dictionary tokenizer.word_index."
   ]
  },
  {
   "cell_type": "code",
   "execution_count": 27,
   "metadata": {},
   "outputs": [
    {
     "name": "stdout",
     "output_type": "stream",
     "text": [
      "the: 1\n",
      "all: 35\n",
      "happy: 1043\n",
      "sad: 3422\n"
     ]
    }
   ],
   "source": [
    "for word in ['the', 'all', 'happy', 'sad']:\n",
    "    print('{}: {}'.format(word, tokenizer.word_index[word]))"
   ]
  },
  {
   "cell_type": "markdown",
   "metadata": {},
   "source": [
    "12\\. **Use the pad_sequence() function to pad each text sequence with zeros, so that each vector has the same length of 100 words.**"
   ]
  },
  {
   "cell_type": "code",
   "execution_count": 28,
   "metadata": {},
   "outputs": [],
   "source": [
    "maxlen = 100\n",
    "X_train = pad_sequences(X_train, padding='post', maxlen=maxlen)\n",
    "X_test = pad_sequences(X_test, padding='post', maxlen=maxlen)"
   ]
  },
  {
   "cell_type": "code",
   "execution_count": 29,
   "metadata": {},
   "outputs": [
    {
     "name": "stdout",
     "output_type": "stream",
     "text": [
      "[  555 12221    23    75  1507   379    23    16 15253     3   621    63\n",
      "  5371 10293    73  2745     5   246   686     2 10294     2  2340     4\n",
      "  3927     6   332  4110  1290     3 12222   131    37     2     1    72\n",
      "  7235    34   177    21     7  3928     4    33    16    35    86 12223\n",
      "  3226     4    23   241   753     3 12222     3    47    38  7953    42\n",
      "     4    93    17   364     0     0     0     0     0     0     0     0\n",
      "     0     0     0     0     0     0     0     0     0     0     0     0\n",
      "     0     0     0     0     0     0     0     0     0     0     0     0\n",
      "     0     0     0     0]\n"
     ]
    }
   ],
   "source": [
    "print(X_train[0, :])"
   ]
  },
  {
   "cell_type": "markdown",
   "metadata": {},
   "source": [
    "Typically it does not matter whether you prepend or append zeros. The first values represent the index in the vocabulary, and the rest are zeros from sequence padding, since you have a short document."
   ]
  },
  {
   "cell_type": "markdown",
   "metadata": {},
   "source": [
    "13\\. **Now it is time to create a neural network model using an embedding layer as input. Take the output of the embedding layer (embedding_dim = 50) and plug it into a Dense layer with 10 neurons, and the relu activation function. In order to do this, you have to add a Flatten layer in between that prepares the sequential input for the Dense layer. Note that in the Embedding layer, input_dim is the size of the vocabulary, output_dim is the size of the embedding vector, and input_length is the length of the text sequence.**"
   ]
  },
  {
   "cell_type": "code",
   "execution_count": 30,
   "metadata": {},
   "outputs": [
    {
     "name": "stdout",
     "output_type": "stream",
     "text": [
      "Model: \"sequential_1\"\n",
      "_________________________________________________________________\n",
      "Layer (type)                 Output Shape              Param #   \n",
      "=================================================================\n",
      "embedding (Embedding)        (None, 100, 50)           1905550   \n",
      "_________________________________________________________________\n",
      "flatten (Flatten)            (None, 5000)              0         \n",
      "_________________________________________________________________\n",
      "dense_2 (Dense)              (None, 10)                50010     \n",
      "_________________________________________________________________\n",
      "dense_3 (Dense)              (None, 5)                 55        \n",
      "=================================================================\n",
      "Total params: 1,955,615\n",
      "Trainable params: 1,955,615\n",
      "Non-trainable params: 0\n",
      "_________________________________________________________________\n"
     ]
    }
   ],
   "source": [
    "embedding_dim = 50\n",
    "\n",
    "model = Sequential()\n",
    "model.add(layers.Embedding(input_dim=vocab_size, \n",
    "                           output_dim=embedding_dim, \n",
    "                           input_length=maxlen))\n",
    "model.add(layers.Flatten())\n",
    "model.add(layers.Dense(10, activation='relu'))\n",
    "model.add(layers.Dense(5, activation='sigmoid'))\n",
    "model.compile(optimizer='adam',\n",
    "              loss='binary_crossentropy',\n",
    "              metrics=['accuracy'])\n",
    "model.summary()"
   ]
  },
  {
   "cell_type": "markdown",
   "metadata": {},
   "source": [
    "You can now see that we have 1905550 new parameters to train. This number comes from vocab_size (38111) times the embedding_dim (50). These weights of the embedding layer are randomly initialized and then are adjusted through backpropagation during training. This model takes the words as they come in the order of the sentences as input vectors. "
   ]
  },
  {
   "cell_type": "code",
   "execution_count": 31,
   "metadata": {},
   "outputs": [],
   "source": [
    "history = model.fit(X_train, y_train,\n",
    "                    epochs=10,\n",
    "                    verbose=False,\n",
    "                    validation_data=(X_test, y_test),\n",
    "                    batch_size=64)"
   ]
  },
  {
   "cell_type": "code",
   "execution_count": 32,
   "metadata": {},
   "outputs": [
    {
     "name": "stdout",
     "output_type": "stream",
     "text": [
      "Training Accuracy: 0.9782\n",
      "Testing Accuracy:  0.8034\n"
     ]
    }
   ],
   "source": [
    "loss, accuracy = model.evaluate(X_train, y_train, verbose=False)\n",
    "print(\"Training Accuracy: {:.4f}\".format(accuracy))\n",
    "loss, accuracy = model.evaluate(X_test, y_test, verbose=False)\n",
    "print(\"Testing Accuracy:  {:.4f}\".format(accuracy))\n"
   ]
  },
  {
   "cell_type": "code",
   "execution_count": 33,
   "metadata": {},
   "outputs": [
    {
     "data": {
      "image/png": "[encoded data removed]",
      "text/plain": [
       "<Figure size 864x360 with 2 Axes>"
      ]
     },
     "metadata": {},
     "output_type": "display_data"
    }
   ],
   "source": [
    "plot_history(history, val=1)"
   ]
  },
  {
   "cell_type": "markdown",
   "metadata": {},
   "source": [
    "14\\. **Another way to work with embeddings is by using a MaxPooling1D/AveragePooling1D or a GlobalMaxPooling1D/GlobalAveragePooling1D layer after the embedding. You can think of the pooling layers as a way to downsample (a way to reduce the size of) the incoming feature vectors. Use a GlobalMaxPool1D layer after the embedding layer and create a new model. Does the performance change?**"
   ]
  },
  {
   "cell_type": "code",
   "execution_count": 34,
   "metadata": {},
   "outputs": [
    {
     "name": "stdout",
     "output_type": "stream",
     "text": [
      "Model: \"sequential_2\"\n",
      "_________________________________________________________________\n",
      "Layer (type)                 Output Shape              Param #   \n",
      "=================================================================\n",
      "embedding_1 (Embedding)      (None, 100, 50)           1905550   \n",
      "_________________________________________________________________\n",
      "global_max_pooling1d (Global (None, 50)                0         \n",
      "_________________________________________________________________\n",
      "dense_4 (Dense)              (None, 10)                510       \n",
      "_________________________________________________________________\n",
      "dense_5 (Dense)              (None, 5)                 55        \n",
      "=================================================================\n",
      "Total params: 1,906,115\n",
      "Trainable params: 1,906,115\n",
      "Non-trainable params: 0\n",
      "_________________________________________________________________\n"
     ]
    }
   ],
   "source": [
    "embedding_dim = 50\n",
    "\n",
    "model = Sequential()\n",
    "model.add(layers.Embedding(input_dim=vocab_size, \n",
    "                           output_dim=embedding_dim, \n",
    "                           input_length=maxlen))\n",
    "model.add(layers.GlobalMaxPool1D())\n",
    "model.add(layers.Dense(10, activation='relu'))\n",
    "model.add(layers.Dense(5, activation='sigmoid'))\n",
    "model.compile(optimizer='adam',\n",
    "              loss='binary_crossentropy',\n",
    "              metrics=['accuracy'])\n",
    "model.summary()"
   ]
  },
  {
   "cell_type": "code",
   "execution_count": 35,
   "metadata": {},
   "outputs": [
    {
     "name": "stdout",
     "output_type": "stream",
     "text": [
      "Training Accuracy: 0.9351\n",
      "Testing Accuracy:  0.8039\n"
     ]
    },
    {
     "data": {
      "image/png": "[encoded data removed]",
      "text/plain": [
       "<Figure size 864x360 with 2 Axes>"
      ]
     },
     "metadata": {},
     "output_type": "display_data"
    }
   ],
   "source": [
    "history = model.fit(X_train, y_train,\n",
    "                    epochs=10,\n",
    "                    verbose=False,\n",
    "                    validation_data=(X_test, y_test),\n",
    "                    batch_size=64)\n",
    "loss, accuracy = model.evaluate(X_train, y_train, verbose=False)\n",
    "print(\"Training Accuracy: {:.4f}\".format(accuracy))\n",
    "loss, accuracy = model.evaluate(X_test, y_test, verbose=False)\n",
    "print(\"Testing Accuracy:  {:.4f}\".format(accuracy))\n",
    "plot_history(history, val=1)"
   ]
  },
  {
   "cell_type": "markdown",
   "metadata": {},
   "source": [
    "# Pretrained word embeddings"
   ]
  },
  {
   "cell_type": "markdown",
   "metadata": {},
   "source": [
    "15\\. **Pretrained word embeddings are the embeddings learned in one task that are used for solving another similar task. These embeddings are trained on large data sets, saved, and then used for solving other tasks. Here, we are going to use the GloVe embeddings which are precomputed word embeddings simply trained on a large corpus of text. For this purpose, we wrote the following fuction to apply on the pretrained word embeddings and use the corresponding word vectors for words in our vocabulary. Download one of the GloVe embeddings (e.g. glove.6B.50d.txt) and create the embedding matrix using the provided function. (Link to download: https://nlp.stanford.edu/projects/glove/)**"
   ]
  },
  {
   "cell_type": "code",
   "execution_count": 36,
   "metadata": {},
   "outputs": [],
   "source": [
    "def create_embedding_matrix(filepath, word_index, embedding_dim):\n",
    "    vocab_size = len(word_index) + 1  # Adding again 1 because of reserved 0 index\n",
    "    embedding_matrix = np.zeros((vocab_size, embedding_dim))\n",
    "\n",
    "    with open(filepath, encoding=\"utf8\") as f:\n",
    "        for line in f:\n",
    "            word, *vector = line.split()\n",
    "            if word in word_index:\n",
    "                idx = word_index[word] \n",
    "                embedding_matrix[idx] = np.array(\n",
    "                    vector, dtype=np.float32)[:embedding_dim]\n",
    "\n",
    "    return embedding_matrix"
   ]
  },
  {
   "cell_type": "code",
   "execution_count": 37,
   "metadata": {},
   "outputs": [],
   "source": [
    "embedding_dim = 50\n",
    "embedding_matrix = create_embedding_matrix('data/glove_word_embeddings/glove.6B.50d.txt',\n",
    "                                           tokenizer.word_index, embedding_dim)"
   ]
  },
  {
   "cell_type": "code",
   "execution_count": 38,
   "metadata": {},
   "outputs": [
    {
     "data": {
      "text/plain": [
       "0.7771771929364225"
      ]
     },
     "execution_count": 38,
     "metadata": {},
     "output_type": "execute_result"
    }
   ],
   "source": [
    "nonzero_elements = np.count_nonzero(np.count_nonzero(embedding_matrix, axis=1))\n",
    "nonzero_elements / vocab_size"
   ]
  },
  {
   "cell_type": "markdown",
   "metadata": {},
   "source": [
    "16\\. **Build your previous previous neural network model again, but this time with the initial weights from the pretrained word embeddings. Set the trainable argument False so that your embedding layer does not learn the word vectors anymore, and then again back to True. How does the performances change?**"
   ]
  },
  {
   "cell_type": "code",
   "execution_count": 39,
   "metadata": {},
   "outputs": [
    {
     "name": "stdout",
     "output_type": "stream",
     "text": [
      "Model: \"sequential_3\"\n",
      "_________________________________________________________________\n",
      "Layer (type)                 Output Shape              Param #   \n",
      "=================================================================\n",
      "embedding_2 (Embedding)      (None, 100, 50)           1905550   \n",
      "_________________________________________________________________\n",
      "global_max_pooling1d_1 (Glob (None, 50)                0         \n",
      "_________________________________________________________________\n",
      "dense_6 (Dense)              (None, 10)                510       \n",
      "_________________________________________________________________\n",
      "dense_7 (Dense)              (None, 5)                 55        \n",
      "=================================================================\n",
      "Total params: 1,906,115\n",
      "Trainable params: 565\n",
      "Non-trainable params: 1,905,550\n",
      "_________________________________________________________________\n"
     ]
    }
   ],
   "source": [
    "model = Sequential()\n",
    "model.add(layers.Embedding(vocab_size, embedding_dim, \n",
    "                           weights=[embedding_matrix], \n",
    "                           input_length=maxlen, \n",
    "                           trainable=False))\n",
    "model.add(layers.GlobalMaxPool1D())\n",
    "model.add(layers.Dense(10, activation='relu'))\n",
    "model.add(layers.Dense(5, activation='sigmoid'))\n",
    "model.compile(optimizer='adam',\n",
    "              loss='binary_crossentropy',\n",
    "              metrics=['accuracy'])\n",
    "model.summary()"
   ]
  },
  {
   "cell_type": "code",
   "execution_count": 40,
   "metadata": {},
   "outputs": [
    {
     "name": "stdout",
     "output_type": "stream",
     "text": [
      "Training Accuracy: 0.8184\n",
      "Testing Accuracy:  0.7932\n"
     ]
    },
    {
     "data": {
      "image/png": "[encoded data removed]",
      "text/plain": [
       "<Figure size 864x360 with 2 Axes>"
      ]
     },
     "metadata": {},
     "output_type": "display_data"
    }
   ],
   "source": [
    "history = model.fit(X_train, y_train,\n",
    "                    epochs=50,\n",
    "                    verbose=False,\n",
    "                    validation_data=(X_test, y_test),\n",
    "                    batch_size=10)\n",
    "loss, accuracy = model.evaluate(X_train, y_train, verbose=False)\n",
    "print(\"Training Accuracy: {:.4f}\".format(accuracy))\n",
    "loss, accuracy = model.evaluate(X_test, y_test, verbose=False)\n",
    "print(\"Testing Accuracy:  {:.4f}\".format(accuracy))\n",
    "plot_history(history, val=1)"
   ]
  },
  {
   "cell_type": "markdown",
   "metadata": {},
   "source": [
    "Since the word embeddings are not additionally trained, it is expected to be lower. But let’s now see how this performs if we allow the embedding to be trained by using trainable=True:"
   ]
  },
  {
   "cell_type": "code",
   "execution_count": 41,
   "metadata": {},
   "outputs": [
    {
     "name": "stdout",
     "output_type": "stream",
     "text": [
      "Model: \"sequential_4\"\n",
      "_________________________________________________________________\n",
      "Layer (type)                 Output Shape              Param #   \n",
      "=================================================================\n",
      "embedding_3 (Embedding)      (None, 100, 50)           1905550   \n",
      "_________________________________________________________________\n",
      "global_max_pooling1d_2 (Glob (None, 50)                0         \n",
      "_________________________________________________________________\n",
      "dense_8 (Dense)              (None, 10)                510       \n",
      "_________________________________________________________________\n",
      "dense_9 (Dense)              (None, 5)                 55        \n",
      "=================================================================\n",
      "Total params: 1,906,115\n",
      "Trainable params: 1,906,115\n",
      "Non-trainable params: 0\n",
      "_________________________________________________________________\n"
     ]
    }
   ],
   "source": [
    "model = Sequential()\n",
    "model.add(layers.Embedding(vocab_size, embedding_dim, \n",
    "                           weights=[embedding_matrix], \n",
    "                           input_length=maxlen, \n",
    "                           trainable=True))\n",
    "model.add(layers.GlobalMaxPool1D())\n",
    "model.add(layers.Dense(10, activation='relu'))\n",
    "model.add(layers.Dense(5, activation='sigmoid'))\n",
    "model.compile(optimizer='adam',\n",
    "              loss='categorical_crossentropy',\n",
    "              metrics=['accuracy'])\n",
    "model.summary()"
   ]
  },
  {
   "cell_type": "markdown",
   "metadata": {},
   "source": [
    "Because it is a multiclass classification problem, log loss is used as the loss function (categorical_crossentropy in Keras). The efficient ADAM optimization algorithm is used. The model is fit for 50 epochs. A large batch size of 64 reviews is used to space out weight updates."
   ]
  },
  {
   "cell_type": "code",
   "execution_count": 42,
   "metadata": {},
   "outputs": [
    {
     "name": "stdout",
     "output_type": "stream",
     "text": [
      "Training Accuracy: 0.9803\n",
      "Testing Accuracy:  0.8432\n"
     ]
    },
    {
     "data": {
      "image/png": "[encoded data removed]",
      "text/plain": [
       "<Figure size 864x360 with 2 Axes>"
      ]
     },
     "metadata": {},
     "output_type": "display_data"
    }
   ],
   "source": [
    "history = model.fit(X_train, y_train,\n",
    "                    epochs=50,\n",
    "                    verbose=False,\n",
    "                    validation_data=(X_test, y_test),\n",
    "                    batch_size=10)\n",
    "loss, accuracy = model.evaluate(X_train, y_train, verbose=False)\n",
    "print(\"Training Accuracy: {:.4f}\".format(accuracy))\n",
    "loss, accuracy = model.evaluate(X_test, y_test, verbose=False)\n",
    "print(\"Testing Accuracy:  {:.4f}\".format(accuracy))\n",
    "plot_history(history, val=1)"
   ]
  },
  {
   "cell_type": "markdown",
   "metadata": {},
   "source": [
    "End of practical."
   ]
  }
 ],
 "metadata": {
  "kernelspec": {
   "display_name": "Python 3 (ipykernel)",
   "language": "python",
   "name": "python3"
  },
  "language_info": {
   "codemirror_mode": {
    "name": "ipython",
    "version": 3
   },
   "file_extension": ".py",
   "mimetype": "text/x-python",
   "name": "python",
   "nbconvert_exporter": "python",
   "pygments_lexer": "ipython3",
   "version": "3.9.12"
  }
 },
 "nbformat": 4,
 "nbformat_minor": 4
}
